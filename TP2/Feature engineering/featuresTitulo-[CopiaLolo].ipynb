{
 "cells": [
  {
   "cell_type": "markdown",
   "metadata": {},
   "source": [
    "### FE: Analisis de Descripciones + titulo"
   ]
  },
  {
   "cell_type": "code",
   "execution_count": 1,
   "metadata": {
    "scrolled": true
   },
   "outputs": [],
   "source": [
    "import pandas as pd\n",
    "df = pd.read_csv(\"./train.csv\")"
   ]
  },
  {
   "cell_type": "markdown",
   "metadata": {},
   "source": [
    "#### Vemos que hay nulos pero son muy pocos en comparacion a todos los anuncios que hay"
   ]
  },
  {
   "cell_type": "code",
   "execution_count": 2,
   "metadata": {},
   "outputs": [
    {
     "name": "stdout",
     "output_type": "stream",
     "text": [
      "Porcentaje de Nulidad: 2.2445833333333334%\n"
     ]
    }
   ],
   "source": [
    "x = df['titulo'].isna().sum() / df['titulo'].size * 100\n",
    "print(\"Porcentaje de Nulidad: \"+ str(x) + \"%\")"
   ]
  },
  {
   "cell_type": "markdown",
   "metadata": {},
   "source": [
    "#### Entonces nos atrevemos a encontrar posibles valores repetidos en el titulo que puedan ser features escondidas, éstas son las funciones a utilizar"
   ]
  },
  {
   "cell_type": "markdown",
   "metadata": {},
   "source": [
    "### OPTIMIZACION DE LAS FUNCIONES EMPLEADAS"
   ]
  },
  {
   "cell_type": "code",
   "execution_count": 3,
   "metadata": {},
   "outputs": [],
   "source": [
    "def contar_palabras(titulo, palabras):\n",
    "    \n",
    "    contadas = 0\n",
    "    \n",
    "    for palabra in palabras:\n",
    "        spliteado = titulo.split()\n",
    "        contadas += spliteado.count(palabra)\n",
    "        \n",
    "    return contadas"
   ]
  },
  {
   "cell_type": "code",
   "execution_count": 4,
   "metadata": {},
   "outputs": [],
   "source": [
    "def normalizar_descripciones(descripcion):\n",
    "    \n",
    "    descripcion = descripcion.replace(',', ' ')\n",
    "    descripcion = descripcion.replace('.', ' ')\n",
    "    descripcion = descripcion.replace('<', ' ')\n",
    "    descripcion = descripcion.replace('>', ' ')\n",
    "    descripcion = descripcion.replace('\\n', ' ')\n",
    "    descripcion = descripcion.replace('\\strong', ' ')\n",
    "    descripcion = descripcion.replace('\\bold', ' ')\n",
    "    descripcion = descripcion.lower()\n",
    "    \n",
    "    return descripcion"
   ]
  },
  {
   "cell_type": "markdown",
   "metadata": {},
   "source": [
    "#### Hay que remover los nulos y aplicar la normalizacion primero"
   ]
  },
  {
   "cell_type": "code",
   "execution_count": 5,
   "metadata": {},
   "outputs": [],
   "source": [
    "df['titulo'] = df['titulo'].fillna(value = \".\")\n",
    "df['titulo'] = df['titulo'].apply(normalizar_descripciones)\n",
    "df['descripcion'] = df['descripcion'].fillna(value = \".\")\n",
    "df['descripcion'] = df['descripcion'].apply(normalizar_descripciones)"
   ]
  },
  {
   "cell_type": "markdown",
   "metadata": {},
   "source": [
    "### - COMIENZA ANALISIS -"
   ]
  },
  {
   "cell_type": "code",
   "execution_count": 6,
   "metadata": {},
   "outputs": [
    {
     "data": {
      "text/plain": [
       "0    222721\n",
       "1     14962\n",
       "2      1964\n",
       "3       288\n",
       "4        44\n",
       "5        20\n",
       "6         1\n",
       "Name: calefaccion, dtype: int64"
      ]
     },
     "execution_count": 6,
     "metadata": {},
     "output_type": "execute_result"
    }
   ],
   "source": [
    "df['calefaccion'] = df['titulo'].apply(contar_palabras, palabras=[\"calefaccion\", \"calefacción\", \"calefaccionado\", \"aireacondicinado\",\n",
    "                    \"acondicionado\", \"estufa\",\"chimenea\"]) +df['descripcion'].apply(contar_palabras, palabras=[\"calefaccion\", \n",
    "                    \"calefacción\", \"calefaccionado\", \"aireacondicinado\", \"acondicionado\", \"estufa\",\"chimenea\"])\n",
    "\n",
    "df.calefaccion.value_counts()"
   ]
  },
  {
   "cell_type": "code",
   "execution_count": 7,
   "metadata": {},
   "outputs": [
    {
     "data": {
      "text/plain": [
       "0    239511\n",
       "1       387\n",
       "2        80\n",
       "3        18\n",
       "5         2\n",
       "4         2\n",
       "Name: suite, dtype: int64"
      ]
     },
     "execution_count": 7,
     "metadata": {},
     "output_type": "execute_result"
    }
   ],
   "source": [
    "df['suite'] = df['titulo'].apply(contar_palabras, palabras=[\"suite\"])+df['descripcion'].apply(contar_palabras, palabras=[\"suite\"])\n",
    "df['suite'].value_counts()"
   ]
  },
  {
   "cell_type": "code",
   "execution_count": 8,
   "metadata": {},
   "outputs": [
    {
     "data": {
      "text/plain": [
       "0     213324\n",
       "1      21084\n",
       "2       4459\n",
       "3        785\n",
       "4        228\n",
       "5         66\n",
       "6         36\n",
       "8          7\n",
       "7          4\n",
       "11         2\n",
       "10         2\n",
       "9          2\n",
       "23         1\n",
       "Name: avenida, dtype: int64"
      ]
     },
     "execution_count": 8,
     "metadata": {},
     "output_type": "execute_result"
    }
   ],
   "source": [
    "df['avenida'] = df['titulo'].apply(contar_palabras, palabras=[\"avenida\", \"av\", \"avenidas\", \"bulevar\", \n",
    "               \"boulevard\", \"paseo\", \"vía\"])+df['descripcion'].apply(contar_palabras, palabras=[\"avenida\", \"av\", \n",
    "                \"avenidas\", \"bulevar\",\"boulevard\", \"paseo\", \"vía\"])\n",
    "\n",
    "df.avenida.value_counts()"
   ]
  },
  {
   "cell_type": "code",
   "execution_count": 9,
   "metadata": {},
   "outputs": [
    {
     "data": {
      "text/plain": [
       "0    223555\n",
       "1     13619\n",
       "2      2301\n",
       "3       430\n",
       "4        81\n",
       "5        12\n",
       "6         2\n",
       "Name: gim, dtype: int64"
      ]
     },
     "execution_count": 9,
     "metadata": {},
     "output_type": "execute_result"
    }
   ],
   "source": [
    "df['gim'] = df['titulo'].apply(contar_palabras, palabras=[\"gimnasio\", \"gimnásio\", \"entrenamiento\", \"gim\", \"gym\", \"fit\",\n",
    "            \"ejercicio\", \"gimnasia\",\"atletismo\", \"cancha\"])+df['descripcion'].apply(contar_palabras, palabras=[\"gimnasio\",\n",
    "            \"gimnásio\", \"entrenamiento\", \"gim\", \"gym\", \"fit\",\"ejercicio\", \"gimnasia\",\"atletismo\", \"cancha\"])\n",
    "df.gim.value_counts()"
   ]
  },
  {
   "cell_type": "code",
   "execution_count": 10,
   "metadata": {},
   "outputs": [
    {
     "data": {
      "text/plain": [
       "0.0    225006\n",
       "1.0     14994\n",
       "Name: gimnasio, dtype: int64"
      ]
     },
     "execution_count": 10,
     "metadata": {},
     "output_type": "execute_result"
    }
   ],
   "source": [
    "#Original\n",
    "df['gimnasio'].value_counts()"
   ]
  },
  {
   "cell_type": "code",
   "execution_count": 11,
   "metadata": {},
   "outputs": [
    {
     "data": {
      "text/plain": [
       "0     180535\n",
       "1      56273\n",
       "2       2910\n",
       "3        232\n",
       "4         39\n",
       "6          7\n",
       "5          3\n",
       "12         1\n",
       "Name: cochera, dtype: int64"
      ]
     },
     "execution_count": 11,
     "metadata": {},
     "output_type": "execute_result"
    }
   ],
   "source": [
    "df['cochera'] = df['titulo'].apply(contar_palabras, palabras=[\"cochera\", \"cocheras\", \"garage\", \n",
    "                \"garages\", \"garaje\", \"garajes\"])+df['descripcion'].apply(contar_palabras, palabras=[\"cochera\", \n",
    "                \"cocheras\", \"garage\",\"garages\", \"garaje\", \"garajes\"])\n",
    "\n",
    "df.cochera.value_counts()"
   ]
  },
  {
   "cell_type": "code",
   "execution_count": 12,
   "metadata": {},
   "outputs": [
    {
     "data": {
      "text/plain": [
       "2.0    94167\n",
       "1.0    59464\n",
       "0.0    26926\n",
       "3.0    21678\n",
       "Name: garages, dtype: int64"
      ]
     },
     "execution_count": 12,
     "metadata": {},
     "output_type": "execute_result"
    }
   ],
   "source": [
    "#Original\n",
    "df.garages.value_counts()"
   ]
  },
  {
   "cell_type": "code",
   "execution_count": 13,
   "metadata": {},
   "outputs": [
    {
     "data": {
      "text/plain": [
       "0     160432\n",
       "1      62015\n",
       "2      14002\n",
       "3       2764\n",
       "4        601\n",
       "5        133\n",
       "6         29\n",
       "7         11\n",
       "8          8\n",
       "10         4\n",
       "13         1\n",
       "Name: ubicacion, dtype: int64"
      ]
     },
     "execution_count": 13,
     "metadata": {},
     "output_type": "execute_result"
    }
   ],
   "source": [
    "df['ubicacion'] = df['titulo'].apply(contar_palabras, palabras=[\"ubicacion\", \"ubicación\", \"locacion\", \n",
    "                \"locación\", \"localizacion\", \"localización\",\"ubicado\", \"ubicada\", \"centro\", \"centrico\",\n",
    "                \"centrica\", \"céntrico\", \"céntrica\",\"central\"])+df['descripcion'].apply(contar_palabras, palabras=[\"ubicacion\", \"ubicación\", \"locacion\", \n",
    "                \"locación\", \"localizacion\", \"localización\",\"ubicado\", \"ubicada\", \"centro\", \"centrico\",\n",
    "                \"centrica\", \"céntrico\", \"céntrica\",\"central\"])\n",
    "\n",
    "df.ubicacion.value_counts()"
   ]
  },
  {
   "cell_type": "code",
   "execution_count": 14,
   "metadata": {},
   "outputs": [
    {
     "data": {
      "text/plain": [
       "0     188223\n",
       "1      41437\n",
       "2       8167\n",
       "3       1590\n",
       "4        372\n",
       "5        141\n",
       "6         43\n",
       "7          9\n",
       "8          7\n",
       "9          5\n",
       "10         3\n",
       "18         1\n",
       "13         1\n",
       "12         1\n",
       "Name: balcon, dtype: int64"
      ]
     },
     "execution_count": 14,
     "metadata": {},
     "output_type": "execute_result"
    }
   ],
   "source": [
    "df['balcon'] = df['titulo'].apply(contar_palabras, palabras=[\"balcon\", \"balcón\", \"terraza\", \"palco\", \"mirador\", \n",
    "            \"balconcillo\",\"azotea\", \"solana\"])+df['descripcion'].apply(contar_palabras, palabras=[\"balcon\", \"balcón\", \n",
    "            \"terraza\", \"palco\", \"mirador\", \"balconcillo\",\"azotea\", \"solana\"])\n",
    "\n",
    "df.balcon.value_counts()"
   ]
  },
  {
   "cell_type": "code",
   "execution_count": 15,
   "metadata": {},
   "outputs": [
    {
     "data": {
      "text/plain": [
       "0    219632\n",
       "1     17766\n",
       "2      2224\n",
       "3       299\n",
       "4        51\n",
       "5        26\n",
       "6         2\n",
       "Name: camaraseg, dtype: int64"
      ]
     },
     "execution_count": 15,
     "metadata": {},
     "output_type": "execute_result"
    }
   ],
   "source": [
    "df['camaraseg'] = df['titulo'].apply(contar_palabras, palabras=[\"camara\", \"cámara\", \"cámaras\", \"camaras\",\"seguridad\",\n",
    "                \"guardia\",\"seguro\",\"protegido\"]) + df['descripcion'].apply(contar_palabras, palabras=[\"camara\", \"cámara\",\n",
    "                \"cámaras\", \"camaras\",\"seguridad\",\"guardia\",\"seguro\",\"protegido\"])\n",
    "\n",
    "df.camaraseg.value_counts()"
   ]
  },
  {
   "cell_type": "code",
   "execution_count": 16,
   "metadata": {},
   "outputs": [
    {
     "data": {
      "text/plain": [
       "0     134614\n",
       "1      74816\n",
       "2      23018\n",
       "3       5584\n",
       "4       1402\n",
       "5        387\n",
       "6        109\n",
       "7         35\n",
       "8         19\n",
       "9          5\n",
       "10         4\n",
       "11         3\n",
       "12         2\n",
       "14         1\n",
       "13         1\n",
       "Name: parque, dtype: int64"
      ]
     },
     "execution_count": 16,
     "metadata": {},
     "output_type": "execute_result"
    }
   ],
   "source": [
    "df['parque'] = df['titulo'].apply(contar_palabras, palabras=[\"parque\", \"plaza\", \"plazoleta\", \"glorieta\",\"jardin\",\n",
    "            \"jardín\",\"patio\"])+df['descripcion'].apply(contar_palabras, palabras=[\"parque\", \"plaza\", \"plazoleta\", \n",
    "            \"glorieta\",\"jardin\",\"jardín\",\"patio\"])\n",
    "\n",
    "df.parque.value_counts()"
   ]
  },
  {
   "cell_type": "code",
   "execution_count": 17,
   "metadata": {},
   "outputs": [
    {
     "data": {
      "text/plain": [
       "0     231733\n",
       "1       7506\n",
       "2        632\n",
       "3         99\n",
       "4         12\n",
       "5          9\n",
       "6          7\n",
       "11         1\n",
       "9          1\n",
       "Name: amoblado, dtype: int64"
      ]
     },
     "execution_count": 17,
     "metadata": {},
     "output_type": "execute_result"
    }
   ],
   "source": [
    "df['amoblado'] = df['titulo'].apply(contar_palabras, palabras=[\"muebles\", \"amoblado\", \"mueble\",\"decorado\",\n",
    "                \"listo\"]) + df['descripcion'].apply(contar_palabras, palabras=[\"muebles\", \"amoblado\", \"mueble\",\n",
    "                \"decorado\",\"listo\"])\n",
    "\n",
    "df.amoblado.value_counts()"
   ]
  },
  {
   "cell_type": "code",
   "execution_count": 18,
   "metadata": {},
   "outputs": [
    {
     "data": {
      "text/plain": [
       "0    225895\n",
       "1     11484\n",
       "2      2408\n",
       "3       153\n",
       "4        52\n",
       "5         5\n",
       "6         3\n",
       "Name: bañera, dtype: int64"
      ]
     },
     "execution_count": 18,
     "metadata": {},
     "output_type": "execute_result"
    }
   ],
   "source": [
    "df['bañera'] = df['titulo'].apply(contar_palabras, palabras=[\"bañera\", \"hidromasaje\", \"hidro\", \"tina\",\n",
    "            \"jacuzzi\",\"jacuzi\",\"yacuzi\"]) + df['descripcion'].apply(contar_palabras, palabras=[\"bañera\", \"hidromasaje\", \n",
    "            \"hidro\", \"tina\",\"jacuzzi\",\"jacuzi\",\"yacuzi\"])\n",
    "\n",
    "df.bañera.value_counts()"
   ]
  },
  {
   "cell_type": "code",
   "execution_count": 19,
   "metadata": {},
   "outputs": [
    {
     "data": {
      "text/plain": [
       "0    212177\n",
       "1     21346\n",
       "2      5628\n",
       "3       688\n",
       "4       125\n",
       "5        23\n",
       "6         9\n",
       "9         2\n",
       "8         2\n",
       "Name: estreno, dtype: int64"
      ]
     },
     "execution_count": 19,
     "metadata": {},
     "output_type": "execute_result"
    }
   ],
   "source": [
    "df['estreno'] = df['titulo'].apply(contar_palabras, palabras=[\"nuevo\", \"nueva\", \"estrenar\",\"estreno\",\n",
    "            \"innovador\"]) + df['descripcion'].apply(contar_palabras, palabras=[\"nuevo\", \"nueva\", \"estrenar\",\"estreno\",\n",
    "            \"innovador\"])\n",
    "\n",
    "df.estreno.value_counts()"
   ]
  },
  {
   "cell_type": "code",
   "execution_count": 20,
   "metadata": {},
   "outputs": [
    {
     "data": {
      "text/plain": [
       "0    231626\n",
       "1      6117\n",
       "2      1811\n",
       "3       334\n",
       "4        87\n",
       "5        18\n",
       "6         7\n",
       "Name: transporte, dtype: int64"
      ]
     },
     "execution_count": 20,
     "metadata": {},
     "output_type": "execute_result"
    }
   ],
   "source": [
    "df['transporte'] = df['titulo'].apply(contar_palabras, palabras=[\"subte\", \"subterraneo\", \"subterráneo\",\"metro\", \n",
    "                \"estacion\", \"estación\", \"tren\",\"subestacion\", \"subestación\", \"ferrocarril\",\"metrobús\", \"metrobus\", \n",
    "                \"trolebus\",\"trolebús\", \"bus\", \"bús\"]) + df['descripcion'].apply(contar_palabras, palabras=[\"subte\", \n",
    "                \"subterraneo\", \"subterráneo\",\"metro\", \"estacion\", \"estación\", \"tren\",\"subestacion\", \"subestación\", \n",
    "                \"ferrocarril\",\"metrobús\", \"metrobus\", \"trolebus\",\"trolebús\", \"bus\", \"bús\"])\n",
    "\n",
    "df.transporte.value_counts()"
   ]
  },
  {
   "cell_type": "code",
   "execution_count": 21,
   "metadata": {},
   "outputs": [
    {
     "data": {
      "text/plain": [
       "0.0    219028\n",
       "1.0     20972\n",
       "Name: piscina, dtype: int64"
      ]
     },
     "execution_count": 21,
     "metadata": {},
     "output_type": "execute_result"
    }
   ],
   "source": [
    "df['pileta'] = df['titulo'].apply(contar_palabras, palabras=[\"piscina\", \"pileta\", \"nado\"])+ df['descripcion'].apply(contar_palabras, palabras=[\"piscina\", \"pileta\", \"nado\"])\n",
    "                                       \n",
    "df.piscina.value_counts()"
   ]
  },
  {
   "cell_type": "code",
   "execution_count": 22,
   "metadata": {},
   "outputs": [
    {
     "data": {
      "text/plain": [
       "0    221551\n",
       "1     14852\n",
       "2      2908\n",
       "3       498\n",
       "4       140\n",
       "5        34\n",
       "6        10\n",
       "7         5\n",
       "9         1\n",
       "8         1\n",
       "Name: lujo, dtype: int64"
      ]
     },
     "execution_count": 22,
     "metadata": {},
     "output_type": "execute_result"
    }
   ],
   "source": [
    "df['lujo'] = df['titulo'].apply(contar_palabras, palabras=[\"lujo\", \"delujo\", \"deluxe\", \"delúxe\", \"lujosa\", \"lujoso\", \n",
    "            \"lujosas\", \"lujosos\",\"exclusivo\",\"vip\"]) + df['descripcion'].apply(contar_palabras, palabras=[\"lujo\", \n",
    "            \"delujo\",\"deluxe\", \"delúxe\", \"lujosa\", \"lujoso\", \"lujosas\", \"lujosos\",\"exclusivo\",\"vip\"])\n",
    "df['lujo'].value_counts()"
   ]
  },
  {
   "cell_type": "code",
   "execution_count": 23,
   "metadata": {},
   "outputs": [
    {
     "data": {
      "text/plain": [
       "0    221083\n",
       "1     16374\n",
       "2      2101\n",
       "3       345\n",
       "4        74\n",
       "5        16\n",
       "6         6\n",
       "7         1\n",
       "Name: humilde, dtype: int64"
      ]
     },
     "execution_count": 23,
     "metadata": {},
     "output_type": "execute_result"
    }
   ],
   "source": [
    "df['humilde'] = df['titulo'].apply(contar_palabras, palabras=[\"humilde\", \"economico\", \"economica\", \n",
    "            \"económico\", \"económica\", \"barata\", \"barato\", \"accesible\", \"baratillo\",\n",
    "            \"baratilla\", \"rebajado\", \"ganga\", \"asequible\", \"módico\", \"módica\",\"credito\",\"crédito\",\"oferta\",\"oferton\",\n",
    "            \"imperdible\"]) + df['descripcion'].apply(contar_palabras, palabras=[\"humilde\", \"economico\", \"economica\", \n",
    "            \"económico\", \"económica\", \"barata\", \"barato\", \"accesible\", \"baratillo\",\n",
    "            \"baratilla\", \"rebajado\", \"ganga\", \"asequible\", \"módico\", \"módica\",\n",
    "            \"credito\",\"crédito\",\"oferta\",\"oferton\",\"imperdible\"]) \n",
    "\n",
    "df['humilde'].value_counts()"
   ]
  },
  {
   "cell_type": "code",
   "execution_count": 24,
   "metadata": {},
   "outputs": [
    {
     "data": {
      "text/plain": [
       "0     203157\n",
       "1      28487\n",
       "2       6163\n",
       "3       1450\n",
       "4        432\n",
       "5        157\n",
       "6         77\n",
       "7         37\n",
       "8         22\n",
       "9         10\n",
       "15         4\n",
       "10         3\n",
       "12         1\n",
       "Name: ventana, dtype: int64"
      ]
     },
     "execution_count": 24,
     "metadata": {},
     "output_type": "execute_result"
    }
   ],
   "source": [
    "df['ventana'] = df['titulo'].apply(contar_palabras, palabras=[\"ventana\", \"ventanas\", \n",
    "            \"vista\", \"ventanal\",\"vistas\",\"cristal\"]) + df['descripcion'].apply(contar_palabras, palabras=[\"ventana\",\n",
    "            \"ventanas\", \"vista\", \"ventanal\",\"vistas\",\"cristal\"])\n",
    "\n",
    "df['ventana'].value_counts()"
   ]
  },
  {
   "cell_type": "code",
   "execution_count": 25,
   "metadata": {},
   "outputs": [
    {
     "data": {
      "text/plain": [
       "0     204985\n",
       "1      26102\n",
       "2       7413\n",
       "3       1100\n",
       "4        297\n",
       "5         64\n",
       "6         17\n",
       "7         10\n",
       "8          6\n",
       "9          3\n",
       "15         1\n",
       "11         1\n",
       "10         1\n",
       "Name: nuevo, dtype: int64"
      ]
     },
     "execution_count": 25,
     "metadata": {},
     "output_type": "execute_result"
    }
   ],
   "source": [
    "df['nuevo'] = df['titulo'].apply(contar_palabras, palabras=[\"reciente\", \"recien\", \"recién\", \"nueva\", \"nuevo\", \"nuevas\", \n",
    "            \"nuevos\", \"estrenar\"]) + df['descripcion'].apply(contar_palabras, palabras=[\"reciente\", \"recien\", \"recién\", \n",
    "            \"nueva\", \"nuevo\", \"nuevas\", \"nuevos\", \"estrenar\"])\n",
    "\n",
    "df['nuevo'].value_counts()"
   ]
  },
  {
   "cell_type": "code",
   "execution_count": 26,
   "metadata": {},
   "outputs": [
    {
     "data": {
      "text/plain": [
       "0    223666\n",
       "1     15024\n",
       "2      1090\n",
       "3       177\n",
       "4        28\n",
       "5         9\n",
       "6         6\n",
       "Name: luz, dtype: int64"
      ]
     },
     "execution_count": 26,
     "metadata": {},
     "output_type": "execute_result"
    }
   ],
   "source": [
    "df['luz'] = df['titulo'].apply(contar_palabras, palabras=[\"luz\", \"luminoso\", \"luminosa\",\"claridad\", \"luminiscencia\", \n",
    "        \"luminosidad\", \"iluminación\",\"iluminacion\"]) + df['descripcion'].apply(contar_palabras, palabras=[\"luz\", \n",
    "        \"luminoso\", \"luminosa\",\"claridad\", \"luminiscencia\",\"luminosidad\", \"iluminación\",\"iluminacion\"])\n",
    "\n",
    "df['luz'].value_counts()"
   ]
  },
  {
   "cell_type": "code",
   "execution_count": 27,
   "metadata": {},
   "outputs": [
    {
     "data": {
      "text/plain": [
       "0    151183\n",
       "1     66130\n",
       "2     18295\n",
       "3      3573\n",
       "4       664\n",
       "5       115\n",
       "6        31\n",
       "7         8\n",
       "9         1\n",
       "Name: bueno, dtype: int64"
      ]
     },
     "execution_count": 27,
     "metadata": {},
     "output_type": "execute_result"
    }
   ],
   "source": [
    "df['bueno'] = df['titulo'].apply(contar_palabras, palabras=[\"bueno\", \"buena\", \"buenas\", \"buenos\",\"excelente\", \n",
    "            \"excelentes\",\"increible\",\"espectacular\"]) + df['descripcion'].apply(contar_palabras, palabras=[\"bueno\", \n",
    "            \"buena\", \"buenas\", \"buenos\",\"excelente\", \"excelentes\",\"increible\",\"espectacular\"])\n",
    "\n",
    "df['bueno'].value_counts()"
   ]
  },
  {
   "cell_type": "code",
   "execution_count": 28,
   "metadata": {},
   "outputs": [],
   "source": [
    "#df['malo'] = df['titulo'].apply(contar_palabras, palabras=[\"malo\", \"mala\", \"feo\", \"fea\"])\n",
    "\n",
    "#df['malo'].value_counts()"
   ]
  },
  {
   "cell_type": "code",
   "execution_count": 29,
   "metadata": {},
   "outputs": [
    {
     "data": {
      "text/plain": [
       "0     218357\n",
       "1      18553\n",
       "2       2534\n",
       "3        410\n",
       "4        103\n",
       "5         20\n",
       "6         10\n",
       "10         3\n",
       "8          3\n",
       "26         1\n",
       "16         1\n",
       "14         1\n",
       "12         1\n",
       "11         1\n",
       "9          1\n",
       "7          1\n",
       "Name: contable, dtype: int64"
      ]
     },
     "execution_count": 29,
     "metadata": {},
     "output_type": "execute_result"
    }
   ],
   "source": [
    "df['contable'] = df['titulo'].apply(contar_palabras, palabras=[\"precio\"]) + df['descripcion'].apply(contar_palabras, palabras=[\"precio\"])\n",
    "\n",
    "df['contable'].value_counts()"
   ]
  },
  {
   "cell_type": "code",
   "execution_count": 30,
   "metadata": {},
   "outputs": [],
   "source": [
    "import matplotlib.pyplot as plt\n",
    "from sklearn.feature_selection import SelectKBest\n",
    "from sklearn.feature_selection import f_regression\n",
    "import numpy as np\n",
    "from sklearn.metrics import mean_absolute_error\n",
    "from sklearn.model_selection import train_test_split"
   ]
  },
  {
   "cell_type": "code",
   "execution_count": 31,
   "metadata": {},
   "outputs": [],
   "source": [
    "def mi_split (df):\n",
    "\n",
    "    X = df.drop(['precio'], axis = 1)\n",
    "    Y = df['precio']\n",
    "    x_train, x_test, y_train, y_test = train_test_split(X,Y,test_size=0.35)\n",
    "    return x_train, x_test, y_train, y_test\n",
    "\n",
    "from scipy.stats import uniform, randint\n",
    "from sklearn.metrics import auc, accuracy_score, confusion_matrix, mean_squared_error\n",
    "from sklearn.model_selection import cross_val_score, GridSearchCV, KFold\n",
    "from sklearn.model_selection import RandomizedSearchCV\n",
    "import xgboost as xgb\n",
    "from sklearn import preprocessing\n",
    "\n",
    "def minmax(serie):\n",
    "    \n",
    "    return (serie-serie.min())/(serie.max()-serie.min())\n",
    "\n",
    "def mean_target_encoding(train, nombrefeat, nombretarget):\n",
    "    \n",
    "    temp = train.groupby(nombrefeat)[nombretarget].transform(np.mean)\n",
    "    train[nombrefeat + \"_mean\"]=(temp-temp.min())/(temp.max()-temp.min())\n",
    "    \n",
    "    return train\n",
    "\n",
    "def mean_target_decoding(x_test, nombrefeat, x_train):\n",
    "    \n",
    "    nombrefeatmean = nombrefeat + \"_mean\"\n",
    "    \n",
    "    temp = x_train.loc[:,[nombrefeat,nombrefeatmean]]\n",
    "    temp = temp.set_index(nombrefeat)\n",
    "    temp = temp.drop_duplicates()\n",
    "    temp = temp.T.squeeze()\n",
    "    values = x_test[nombrefeat].map(temp)\n",
    "    x_test[nombrefeatmean] = values \n",
    "\n",
    "    return x_test\n",
    "\n",
    "def armar_set_2(train):\n",
    "    \n",
    "    #Puedo resolver de forma general las que son iguales para train y test\n",
    "    #es decir, aquellas que no filtran informacion a los de validacion\n",
    "    \n",
    "    train = train.drop(['descripcion', 'titulo', 'direccion', 'fecha', 'id'], axis = 1)\n",
    "    \n",
    "    #Adiciono servicios\n",
    "    train['servicios'] = train['piscina'] + train['gimnasio'] + train['usosmultiples']\n",
    "    \n",
    "    #\"Normalizo\" la antiguedad\n",
    "    #train['antiguedad'] = minmax(train['antiguedad'])\n",
    "    \n",
    "    #Elimino los residuos\n",
    "    train = train.drop(['piscina', 'gimnasio','usosmultiples','escuelascercanas', \n",
    "                        'centroscomercialescercanos'], axis = 1)\n",
    "    \n",
    "    #Hago el split                    \n",
    "    x_train, x_test, y_train, y_test = mi_split(train)\n",
    "        \n",
    "    x_train[\"precio\"] = y_train\n",
    "\n",
    "    \n",
    "    #Calculo los mean target\n",
    "    x_train_mean = mean_target_encoding(x_train, \"provincia\", \"precio\")\n",
    "    x_train_mean['precio'] = y_train\n",
    "    x_train_mean = mean_target_encoding(x_train_mean, \"tipodepropiedad\", \"precio\")\n",
    "    x_train_mean = mean_target_encoding(x_train_mean, \"ciudad\", \"precio\")\n",
    "    \n",
    "    #Se los asigno a los test (NO LOS CALCULO CON ELLOS!!!!!!)\n",
    "    x_test = mean_target_decoding(x_test, \"provincia\", x_train_mean)\n",
    "    x_test = mean_target_decoding(x_test, \"tipodepropiedad\", x_train_mean)\n",
    "    x_test = mean_target_decoding(x_test, \"ciudad\", x_train_mean)\n",
    "\n",
    "    backup = x_train_mean\n",
    "    \n",
    "    x_train = x_train_mean.drop([\"precio\",\"provincia\",\"tipodepropiedad\",\"ciudad\"], axis=1)\n",
    "    x_test.drop([\"provincia\",\"tipodepropiedad\", \"ciudad\"], axis=1, inplace = True)\n",
    "\n",
    "    \n",
    "    return x_train, x_test, y_train, y_test, backup"
   ]
  },
  {
   "cell_type": "code",
   "execution_count": 259,
   "metadata": {},
   "outputs": [],
   "source": [
    "dfreducido = df.dropna()\n",
    "x_train, x_test, y_train, y_test, backup = armar_set_2(dfreducido)\n",
    "\n",
    "X,y = x_train, y_train\n",
    "selector = SelectKBest(k='all').fit(X,y)\n",
    "x_new = selector.transform(X)\n",
    "scores = selector.scores_\n",
    "columnas = x_train.columns"
   ]
  },
  {
   "cell_type": "code",
   "execution_count": 260,
   "metadata": {
    "collapsed": true,
    "jupyter": {
     "outputs_hidden": true,
     "source_hidden": true
    }
   },
   "outputs": [
    {
     "data": {
      "text/plain": [
       "Text(0, 0.5, 'Score')"
      ]
     },
     "execution_count": 260,
     "metadata": {},
     "output_type": "execute_result"
    },
    {
     "data": {
      "image/png": "[encoded data removed]",
      "text/plain": [
       "<Figure size 1152x648 with 1 Axes>"
      ]
     },
     "metadata": {
      "needs_background": "light"
     },
     "output_type": "display_data"
    }
   ],
   "source": [
    "k_utilizado = np.arange(columnas.size)+1\n",
    "\n",
    "\n",
    "plt.grid()\n",
    "plt.bar(k_utilizado, scores, color = 'blue', align='center', alpha=0.9, zorder =3)\n",
    "plt.xticks(k_utilizado, columnas, rotation=90)\n",
    "fig = plt.gcf()\n",
    "fig.set_size_inches(16, 9)\n",
    "plt.hlines(1, xmin=0, xmax = 34,colors='red', linestyles='solid', label='')\n",
    "plt.title(\"Scores de las Features\")\n",
    "plt.xlabel(\"Columnas\")\n",
    "plt.ylabel(\"Score\")"
   ]
  },
  {
   "cell_type": "code",
   "execution_count": 32,
   "metadata": {},
   "outputs": [],
   "source": [
    "from sklearn.model_selection import GridSearchCV, train_test_split\n",
    "from xgboost import XGBRegressor\n",
    "from sklearn.metrics import r2_score\n",
    "\n",
    "x_train, x_test, y_train, y_test, backup = armar_set_2(df)"
   ]
  },
  {
   "cell_type": "code",
   "execution_count": 33,
   "metadata": {},
   "outputs": [
    {
     "name": "stderr",
     "output_type": "stream",
     "text": [
      "/home/lorenzo/anaconda3/lib/python3.7/site-packages/xgboost/core.py:587: FutureWarning: Series.base is deprecated and will be removed in a future version\n",
      "  if getattr(data, 'base', None) is not None and \\\n"
     ]
    },
    {
     "name": "stdout",
     "output_type": "stream",
     "text": [
      "[19:53:00] WARNING: /home/conda/feedstock_root/build_artifacts/xgboost_1572314959925/work/src/objective/regression_obj.cu:152: reg:linear is now deprecated in favor of reg:squarederror.\n"
     ]
    }
   ],
   "source": [
    "#Armo modelo\n",
    "\n",
    "xgb_model = XGBRegressor(base_score=0.5, booster='gbtree', colsample_bylevel=1,\n",
    "             colsample_bynode=1, colsample_bytree=0.6, eval_metric='mae',\n",
    "             gamma=0.015, importance_type='gain', learning_rate=0.026,\n",
    "             max_delta_step=0, max_depth=11, min_child_weight=1, missing=None,\n",
    "             n_estimators=1700, n_jobs=1, nthread=-1, objective='reg:linear',\n",
    "             random_state=0, reg_alpha=0, reg_lambda=1, scale_pos_weight=1,\n",
    "             seed=None, silent=None, subsample=0.733, verbosity=1)\n",
    "\n",
    "\n",
    "#Fitteo\n",
    "xgb_model.fit(x_train, y_train)\n",
    "prediccion = xgb_model.predict(x_test)\n",
    "#prediccion_anido = (prediccion + prediccion)/2"
   ]
  },
  {
   "cell_type": "code",
   "execution_count": 34,
   "metadata": {},
   "outputs": [
    {
     "name": "stdout",
     "output_type": "stream",
     "text": [
      "537881.4975730097\n"
     ]
    }
   ],
   "source": [
    "#Estimo MAE\n",
    "print(mean_absolute_error(y_test, prediccion))"
   ]
  },
  {
   "cell_type": "markdown",
   "metadata": {},
   "source": [
    "### Armo el test"
   ]
  },
  {
   "cell_type": "code",
   "execution_count": 35,
   "metadata": {},
   "outputs": [],
   "source": [
    "x_test = pd.read_csv(\"test.csv\")"
   ]
  },
  {
   "cell_type": "code",
   "execution_count": 36,
   "metadata": {},
   "outputs": [],
   "source": [
    "df = x_test"
   ]
  },
  {
   "cell_type": "markdown",
   "metadata": {},
   "source": [
    "#### Hay que remover los nulos y aplicar la normalizacion primero"
   ]
  },
  {
   "cell_type": "code",
   "execution_count": 37,
   "metadata": {},
   "outputs": [],
   "source": [
    "df['titulo'] = df['titulo'].fillna(value = \".\")\n",
    "df['titulo'] = df['titulo'].apply(normalizar_descripciones)\n",
    "df['descripcion'] = df['descripcion'].fillna(value = \".\")\n",
    "df['descripcion'] = df['descripcion'].apply(normalizar_descripciones)"
   ]
  },
  {
   "cell_type": "markdown",
   "metadata": {},
   "source": [
    "### - COMIENZA ANALISIS -"
   ]
  },
  {
   "cell_type": "code",
   "execution_count": 38,
   "metadata": {},
   "outputs": [
    {
     "data": {
      "text/plain": [
       "0    55621\n",
       "1     3825\n",
       "2      469\n",
       "3       61\n",
       "4       17\n",
       "5        5\n",
       "6        2\n",
       "Name: calefaccion, dtype: int64"
      ]
     },
     "execution_count": 38,
     "metadata": {},
     "output_type": "execute_result"
    }
   ],
   "source": [
    "df['calefaccion'] = df['titulo'].apply(contar_palabras, palabras=[\"calefaccion\", \"calefacción\", \"calefaccionado\", \"aireacondicinado\",\n",
    "                    \"acondicionado\", \"estufa\",\"chimenea\"]) +df['descripcion'].apply(contar_palabras, palabras=[\"calefaccion\", \n",
    "                    \"calefacción\", \"calefaccionado\", \"aireacondicinado\", \"acondicionado\", \"estufa\",\"chimenea\"])\n",
    "\n",
    "df.calefaccion.value_counts()"
   ]
  },
  {
   "cell_type": "code",
   "execution_count": 39,
   "metadata": {},
   "outputs": [
    {
     "data": {
      "text/plain": [
       "0    59985\n",
       "1       15\n",
       "Name: suite, dtype: int64"
      ]
     },
     "execution_count": 39,
     "metadata": {},
     "output_type": "execute_result"
    }
   ],
   "source": [
    "df['suite'] = df['titulo'].apply(contar_palabras, palabras=[\"suite\"])\n",
    "df['suite'].value_counts()"
   ]
  },
  {
   "cell_type": "code",
   "execution_count": 40,
   "metadata": {},
   "outputs": [
    {
     "data": {
      "text/plain": [
       "0     53384\n",
       "1      5203\n",
       "2      1111\n",
       "3       220\n",
       "4        48\n",
       "5        18\n",
       "6         7\n",
       "7         5\n",
       "8         2\n",
       "10        1\n",
       "9         1\n",
       "Name: avenida, dtype: int64"
      ]
     },
     "execution_count": 40,
     "metadata": {},
     "output_type": "execute_result"
    }
   ],
   "source": [
    "df['avenida'] = df['titulo'].apply(contar_palabras, palabras=[\"avenida\", \"av\", \"avenidas\", \"bulevar\", \n",
    "               \"boulevard\", \"paseo\", \"vía\"])+df['descripcion'].apply(contar_palabras, palabras=[\"avenida\", \"av\", \n",
    "                \"avenidas\", \"bulevar\",\"boulevard\", \"paseo\", \"vía\"])\n",
    "\n",
    "df.avenida.value_counts()"
   ]
  },
  {
   "cell_type": "code",
   "execution_count": 41,
   "metadata": {},
   "outputs": [
    {
     "data": {
      "text/plain": [
       "0    55877\n",
       "1     3394\n",
       "2      589\n",
       "3      111\n",
       "4       22\n",
       "5        7\n",
       "Name: gim, dtype: int64"
      ]
     },
     "execution_count": 41,
     "metadata": {},
     "output_type": "execute_result"
    }
   ],
   "source": [
    "df['gim'] = df['titulo'].apply(contar_palabras, palabras=[\"gimnasio\", \"gimnásio\", \"entrenamiento\", \"gim\", \"gym\", \"fit\",\n",
    "            \"ejercicio\", \"gimnasia\",\"atletismo\", \"cancha\"])+df['descripcion'].apply(contar_palabras, palabras=[\"gimnasio\",\n",
    "            \"gimnásio\", \"entrenamiento\", \"gim\", \"gym\", \"fit\",\"ejercicio\", \"gimnasia\",\"atletismo\", \"cancha\"])\n",
    "df.gim.value_counts()"
   ]
  },
  {
   "cell_type": "code",
   "execution_count": 42,
   "metadata": {},
   "outputs": [
    {
     "data": {
      "text/plain": [
       "0    45221\n",
       "1    14028\n",
       "2      683\n",
       "3       56\n",
       "4       10\n",
       "6        1\n",
       "5        1\n",
       "Name: cochera, dtype: int64"
      ]
     },
     "execution_count": 42,
     "metadata": {},
     "output_type": "execute_result"
    }
   ],
   "source": [
    "df['cochera'] = df['titulo'].apply(contar_palabras, palabras=[\"cochera\", \"cocheras\", \"garage\", \n",
    "                \"garages\", \"garaje\", \"garajes\"])+df['descripcion'].apply(contar_palabras, palabras=[\"cochera\", \n",
    "                \"cocheras\", \"garage\",\"garages\", \"garaje\", \"garajes\"])\n",
    "\n",
    "df.cochera.value_counts()"
   ]
  },
  {
   "cell_type": "code",
   "execution_count": 43,
   "metadata": {},
   "outputs": [
    {
     "data": {
      "text/plain": [
       "0    40089\n",
       "1    15556\n",
       "2     3476\n",
       "3      657\n",
       "4      180\n",
       "5       28\n",
       "6        8\n",
       "8        3\n",
       "7        2\n",
       "9        1\n",
       "Name: ubicacion, dtype: int64"
      ]
     },
     "execution_count": 43,
     "metadata": {},
     "output_type": "execute_result"
    }
   ],
   "source": [
    "df['ubicacion'] = df['titulo'].apply(contar_palabras, palabras=[\"ubicacion\", \"ubicación\", \"locacion\", \n",
    "                \"locación\", \"localizacion\", \"localización\",\"ubicado\", \"ubicada\", \"centro\", \"centrico\",\n",
    "                \"centrica\", \"céntrico\", \"céntrica\",\"central\"])+df['descripcion'].apply(contar_palabras, palabras=[\"ubicacion\", \"ubicación\", \"locacion\", \n",
    "                \"locación\", \"localizacion\", \"localización\",\"ubicado\", \"ubicada\", \"centro\", \"centrico\",\n",
    "                \"centrica\", \"céntrico\", \"céntrica\",\"central\"])\n",
    "\n",
    "df.ubicacion.value_counts()"
   ]
  },
  {
   "cell_type": "code",
   "execution_count": 44,
   "metadata": {},
   "outputs": [
    {
     "data": {
      "text/plain": [
       "0     47163\n",
       "1     10224\n",
       "2      2032\n",
       "3       419\n",
       "4       108\n",
       "5        35\n",
       "6        10\n",
       "8         4\n",
       "10        2\n",
       "7         2\n",
       "12        1\n",
       "Name: balcon, dtype: int64"
      ]
     },
     "execution_count": 44,
     "metadata": {},
     "output_type": "execute_result"
    }
   ],
   "source": [
    "df['balcon'] = df['titulo'].apply(contar_palabras, palabras=[\"balcon\", \"balcón\", \"terraza\", \"palco\", \"mirador\", \n",
    "            \"balconcillo\",\"azotea\", \"solana\"])+df['descripcion'].apply(contar_palabras, palabras=[\"balcon\", \"balcón\", \n",
    "            \"terraza\", \"palco\", \"mirador\", \"balconcillo\",\"azotea\", \"solana\"])\n",
    "\n",
    "df.balcon.value_counts()"
   ]
  },
  {
   "cell_type": "code",
   "execution_count": 45,
   "metadata": {},
   "outputs": [
    {
     "data": {
      "text/plain": [
       "0    54879\n",
       "1     4450\n",
       "2      555\n",
       "3       88\n",
       "4       18\n",
       "5        9\n",
       "8        1\n",
       "Name: camaraseg, dtype: int64"
      ]
     },
     "execution_count": 45,
     "metadata": {},
     "output_type": "execute_result"
    }
   ],
   "source": [
    "df['camaraseg'] = df['titulo'].apply(contar_palabras, palabras=[\"camara\", \"cámara\", \"cámaras\", \"camaras\",\"seguridad\",\n",
    "                \"guardia\",\"seguro\",\"protegido\"]) + df['descripcion'].apply(contar_palabras, palabras=[\"camara\", \"cámara\",\n",
    "                \"cámaras\", \"camaras\",\"seguridad\",\"guardia\",\"seguro\",\"protegido\"])\n",
    "\n",
    "df.camaraseg.value_counts()"
   ]
  },
  {
   "cell_type": "code",
   "execution_count": 46,
   "metadata": {},
   "outputs": [
    {
     "data": {
      "text/plain": [
       "0     33457\n",
       "1     18895\n",
       "2      5775\n",
       "3      1403\n",
       "4       327\n",
       "5        89\n",
       "6        37\n",
       "7         7\n",
       "8         4\n",
       "9         3\n",
       "18        1\n",
       "11        1\n",
       "10        1\n",
       "Name: parque, dtype: int64"
      ]
     },
     "execution_count": 46,
     "metadata": {},
     "output_type": "execute_result"
    }
   ],
   "source": [
    "df['parque'] = df['titulo'].apply(contar_palabras, palabras=[\"parque\", \"plaza\", \"plazoleta\", \"glorieta\",\"jardin\",\n",
    "            \"jardín\",\"patio\"])+df['descripcion'].apply(contar_palabras, palabras=[\"parque\", \"plaza\", \"plazoleta\", \n",
    "            \"glorieta\",\"jardin\",\"jardín\",\"patio\"])\n",
    "\n",
    "df.parque.value_counts()"
   ]
  },
  {
   "cell_type": "code",
   "execution_count": 47,
   "metadata": {},
   "outputs": [
    {
     "data": {
      "text/plain": [
       "0    58002\n",
       "1     1803\n",
       "2      155\n",
       "3       26\n",
       "4        7\n",
       "5        6\n",
       "6        1\n",
       "Name: amoblado, dtype: int64"
      ]
     },
     "execution_count": 47,
     "metadata": {},
     "output_type": "execute_result"
    }
   ],
   "source": [
    "df['amoblado'] = df['titulo'].apply(contar_palabras, palabras=[\"muebles\", \"amoblado\", \"mueble\",\"decorado\",\n",
    "                \"listo\"]) + df['descripcion'].apply(contar_palabras, palabras=[\"muebles\", \"amoblado\", \"mueble\",\n",
    "                \"decorado\",\"listo\"])\n",
    "\n",
    "df.amoblado.value_counts()"
   ]
  },
  {
   "cell_type": "code",
   "execution_count": 48,
   "metadata": {},
   "outputs": [
    {
     "data": {
      "text/plain": [
       "0    56553\n",
       "1     2808\n",
       "2      579\n",
       "3       45\n",
       "4       12\n",
       "5        2\n",
       "6        1\n",
       "Name: bañera, dtype: int64"
      ]
     },
     "execution_count": 48,
     "metadata": {},
     "output_type": "execute_result"
    }
   ],
   "source": [
    "df['bañera'] = df['titulo'].apply(contar_palabras, palabras=[\"bañera\", \"hidromasaje\", \"hidro\", \"tina\",\n",
    "            \"jacuzzi\",\"jacuzi\",\"yacuzi\"]) + df['descripcion'].apply(contar_palabras, palabras=[\"bañera\", \"hidromasaje\", \n",
    "            \"hidro\", \"tina\",\"jacuzzi\",\"jacuzi\",\"yacuzi\"])\n",
    "\n",
    "df.bañera.value_counts()"
   ]
  },
  {
   "cell_type": "code",
   "execution_count": 49,
   "metadata": {},
   "outputs": [
    {
     "data": {
      "text/plain": [
       "0    53134\n",
       "1     5322\n",
       "2     1320\n",
       "3      187\n",
       "4       32\n",
       "5        5\n",
       "Name: estreno, dtype: int64"
      ]
     },
     "execution_count": 49,
     "metadata": {},
     "output_type": "execute_result"
    }
   ],
   "source": [
    "df['estreno'] = df['titulo'].apply(contar_palabras, palabras=[\"nuevo\", \"nueva\", \"estrenar\",\"estreno\",\n",
    "            \"innovador\"]) + df['descripcion'].apply(contar_palabras, palabras=[\"nuevo\", \"nueva\", \"estrenar\",\"estreno\",\n",
    "            \"innovador\"])\n",
    "\n",
    "df.estreno.value_counts()"
   ]
  },
  {
   "cell_type": "code",
   "execution_count": 50,
   "metadata": {},
   "outputs": [
    {
     "data": {
      "text/plain": [
       "0    57826\n",
       "1     1596\n",
       "2      466\n",
       "3       86\n",
       "4       18\n",
       "5        4\n",
       "7        2\n",
       "9        1\n",
       "6        1\n",
       "Name: transporte, dtype: int64"
      ]
     },
     "execution_count": 50,
     "metadata": {},
     "output_type": "execute_result"
    }
   ],
   "source": [
    "df['transporte'] = df['titulo'].apply(contar_palabras, palabras=[\"subte\", \"subterraneo\", \"subterráneo\",\"metro\", \n",
    "                \"estacion\", \"estación\", \"tren\",\"subestacion\", \"subestación\", \"ferrocarril\",\"metrobús\", \"metrobus\", \n",
    "                \"trolebus\",\"trolebús\", \"bus\", \"bús\"]) + df['descripcion'].apply(contar_palabras, palabras=[\"subte\", \n",
    "                \"subterraneo\", \"subterráneo\",\"metro\", \"estacion\", \"estación\", \"tren\",\"subestacion\", \"subestación\", \n",
    "                \"ferrocarril\",\"metrobús\", \"metrobus\", \"trolebus\",\"trolebús\", \"bus\", \"bús\"])\n",
    "\n",
    "df.transporte.value_counts()"
   ]
  },
  {
   "cell_type": "code",
   "execution_count": 51,
   "metadata": {},
   "outputs": [
    {
     "data": {
      "text/plain": [
       "0.0    54704\n",
       "1.0     5296\n",
       "Name: piscina, dtype: int64"
      ]
     },
     "execution_count": 51,
     "metadata": {},
     "output_type": "execute_result"
    }
   ],
   "source": [
    "df['pileta'] = df['titulo'].apply(contar_palabras, palabras=[\"piscina\", \"pileta\", \"nado\"])+ df['descripcion'].apply(contar_palabras, palabras=[\"piscina\", \"pileta\", \"nado\"])\n",
    "                                       \n",
    "df.piscina.value_counts()"
   ]
  },
  {
   "cell_type": "code",
   "execution_count": 52,
   "metadata": {},
   "outputs": [
    {
     "data": {
      "text/plain": [
       "0    55308\n",
       "1     3738\n",
       "2      791\n",
       "3      125\n",
       "4       30\n",
       "5        6\n",
       "8        2\n",
       "Name: lujo, dtype: int64"
      ]
     },
     "execution_count": 52,
     "metadata": {},
     "output_type": "execute_result"
    }
   ],
   "source": [
    "df['lujo'] = df['titulo'].apply(contar_palabras, palabras=[\"lujo\", \"delujo\", \"deluxe\", \"delúxe\", \"lujosa\", \"lujoso\", \n",
    "            \"lujosas\", \"lujosos\",\"exclusivo\",\"vip\"]) + df['descripcion'].apply(contar_palabras, palabras=[\"lujo\", \n",
    "            \"delujo\",\"deluxe\", \"delúxe\", \"lujosa\", \"lujoso\", \"lujosas\", \"lujosos\",\"exclusivo\",\"vip\"])\n",
    "df['lujo'].value_counts()"
   ]
  },
  {
   "cell_type": "code",
   "execution_count": 53,
   "metadata": {},
   "outputs": [
    {
     "data": {
      "text/plain": [
       "0    55358\n",
       "1     4006\n",
       "2      517\n",
       "3       98\n",
       "4       19\n",
       "5        2\n",
       "Name: humilde, dtype: int64"
      ]
     },
     "execution_count": 53,
     "metadata": {},
     "output_type": "execute_result"
    }
   ],
   "source": [
    "df['humilde'] = df['titulo'].apply(contar_palabras, palabras=[\"humilde\", \"economico\", \"economica\", \n",
    "            \"económico\", \"económica\", \"barata\", \"barato\", \"accesible\", \"baratillo\",\n",
    "            \"baratilla\", \"rebajado\", \"ganga\", \"asequible\", \"módico\", \"módica\",\"credito\",\"crédito\",\"oferta\",\"oferton\",\n",
    "            \"imperdible\"]) + df['descripcion'].apply(contar_palabras, palabras=[\"humilde\", \"economico\", \"economica\", \n",
    "            \"económico\", \"económica\", \"barata\", \"barato\", \"accesible\", \"baratillo\",\n",
    "            \"baratilla\", \"rebajado\", \"ganga\", \"asequible\", \"módico\", \"módica\",\n",
    "            \"credito\",\"crédito\",\"oferta\",\"oferton\",\"imperdible\"]) \n",
    "\n",
    "df['humilde'].value_counts()"
   ]
  },
  {
   "cell_type": "code",
   "execution_count": 54,
   "metadata": {},
   "outputs": [
    {
     "data": {
      "text/plain": [
       "0     50706\n",
       "1      7180\n",
       "2      1582\n",
       "3       340\n",
       "4       111\n",
       "5        41\n",
       "6        20\n",
       "7        13\n",
       "8         4\n",
       "22        1\n",
       "17        1\n",
       "14        1\n",
       "Name: ventana, dtype: int64"
      ]
     },
     "execution_count": 54,
     "metadata": {},
     "output_type": "execute_result"
    }
   ],
   "source": [
    "df['ventana'] = df['titulo'].apply(contar_palabras, palabras=[\"ventana\", \"ventanas\", \n",
    "            \"vista\", \"ventanal\",\"vistas\",\"cristal\"]) + df['descripcion'].apply(contar_palabras, palabras=[\"ventana\",\n",
    "            \"ventanas\", \"vista\", \"ventanal\",\"vistas\",\"cristal\"])\n",
    "\n",
    "df['ventana'].value_counts()"
   ]
  },
  {
   "cell_type": "code",
   "execution_count": 55,
   "metadata": {},
   "outputs": [
    {
     "data": {
      "text/plain": [
       "0     51316\n",
       "1      6521\n",
       "2      1786\n",
       "3       282\n",
       "4        61\n",
       "5        24\n",
       "6         4\n",
       "7         3\n",
       "10        2\n",
       "8         1\n",
       "Name: nuevo, dtype: int64"
      ]
     },
     "execution_count": 55,
     "metadata": {},
     "output_type": "execute_result"
    }
   ],
   "source": [
    "df['nuevo'] = df['titulo'].apply(contar_palabras, palabras=[\"reciente\", \"recien\", \"recién\", \"nueva\", \"nuevo\", \"nuevas\", \n",
    "            \"nuevos\", \"estrenar\"]) + df['descripcion'].apply(contar_palabras, palabras=[\"reciente\", \"recien\", \"recién\", \n",
    "            \"nueva\", \"nuevo\", \"nuevas\", \"nuevos\", \"estrenar\"])\n",
    "\n",
    "df['nuevo'].value_counts()"
   ]
  },
  {
   "cell_type": "code",
   "execution_count": 56,
   "metadata": {},
   "outputs": [
    {
     "data": {
      "text/plain": [
       "0    55893\n",
       "1     3762\n",
       "2      287\n",
       "3       42\n",
       "4       11\n",
       "5        5\n",
       "Name: luz, dtype: int64"
      ]
     },
     "execution_count": 56,
     "metadata": {},
     "output_type": "execute_result"
    }
   ],
   "source": [
    "df['luz'] = df['titulo'].apply(contar_palabras, palabras=[\"luz\", \"luminoso\", \"luminosa\",\"claridad\", \"luminiscencia\", \n",
    "        \"luminosidad\", \"iluminación\",\"iluminacion\"]) + df['descripcion'].apply(contar_palabras, palabras=[\"luz\", \n",
    "        \"luminoso\", \"luminosa\",\"claridad\", \"luminiscencia\",\"luminosidad\", \"iluminación\",\"iluminacion\"])\n",
    "\n",
    "df['luz'].value_counts()"
   ]
  },
  {
   "cell_type": "code",
   "execution_count": 57,
   "metadata": {},
   "outputs": [
    {
     "data": {
      "text/plain": [
       "0    37631\n",
       "1    16646\n",
       "2     4607\n",
       "3      918\n",
       "4      159\n",
       "5       27\n",
       "6        8\n",
       "7        2\n",
       "9        1\n",
       "8        1\n",
       "Name: bueno, dtype: int64"
      ]
     },
     "execution_count": 57,
     "metadata": {},
     "output_type": "execute_result"
    }
   ],
   "source": [
    "df['bueno'] = df['titulo'].apply(contar_palabras, palabras=[\"bueno\", \"buena\", \"buenas\", \"buenos\",\"excelente\", \n",
    "            \"excelentes\",\"increible\",\"espectacular\"]) + df['descripcion'].apply(contar_palabras, palabras=[\"bueno\", \n",
    "            \"buena\", \"buenas\", \"buenos\",\"excelente\", \"excelentes\",\"increible\",\"espectacular\"])\n",
    "\n",
    "df['bueno'].value_counts()"
   ]
  },
  {
   "cell_type": "code",
   "execution_count": 58,
   "metadata": {},
   "outputs": [
    {
     "data": {
      "text/plain": [
       "0     54650\n",
       "1      4595\n",
       "2       631\n",
       "3        98\n",
       "4        15\n",
       "5         4\n",
       "6         3\n",
       "17        1\n",
       "15        1\n",
       "12        1\n",
       "7         1\n",
       "Name: contable, dtype: int64"
      ]
     },
     "execution_count": 58,
     "metadata": {},
     "output_type": "execute_result"
    }
   ],
   "source": [
    "df['contable'] = df['titulo'].apply(contar_palabras, palabras=[\"precio\"]) + df['descripcion'].apply(contar_palabras, palabras=[\"precio\"])\n",
    "\n",
    "df['contable'].value_counts()"
   ]
  },
  {
   "cell_type": "code",
   "execution_count": 59,
   "metadata": {},
   "outputs": [],
   "source": [
    "x_test = df"
   ]
  },
  {
   "cell_type": "code",
   "execution_count": 60,
   "metadata": {},
   "outputs": [],
   "source": [
    "#Adiciono servicios\n",
    "x_test['servicios'] = x_test['piscina'] + x_test['gimnasio'] + x_test['usosmultiples']\n",
    "\n",
    "#\"Normalizo\" la antiguedad\n",
    "#x_train['antiguedad'] = minmax(x_train['antiguedad'])\n",
    "\n",
    "#Se los asigno a los test (NO LOS CALCULO CON ELLOS!!!!!!)\n",
    "x_test = mean_target_decoding(x_test, \"provincia\", backup)\n",
    "x_test = mean_target_decoding(x_test, \"tipodepropiedad\", backup)\n",
    "x_test = mean_target_decoding(x_test, \"ciudad\", backup)\n",
    "\n",
    "#Elimino los residuos\n",
    "x_test = x_test.drop(['piscina', 'gimnasio','usosmultiples','escuelascercanas', 'fecha',\n",
    "                  'centroscomercialescercanos', 'titulo', 'direccion', 'descripcion',\n",
    "                  'id'], axis = 1)\n",
    "\n",
    "########### LIMPIO LOS QUE HICE MEAN ################\n",
    "\n",
    "x_test.drop([\"provincia\", \"tipodepropiedad\",\"ciudad\"], axis=1, inplace = True)"
   ]
  },
  {
   "cell_type": "code",
   "execution_count": 61,
   "metadata": {},
   "outputs": [],
   "source": [
    "prediccion = xgb_model.predict(x_test)"
   ]
  },
  {
   "cell_type": "code",
   "execution_count": 62,
   "metadata": {},
   "outputs": [],
   "source": [
    "test_original = pd.read_csv(\"test.csv\")\n",
    "predicciones = test_original.loc[:, ['id','ciudad']]\n",
    "predicciones.rename(columns = {'ciudad' : 'target'}, inplace = True)\n",
    "predicciones['target'] = prediccion\n",
    "predicciones = predicciones.set_index('id')"
   ]
  },
  {
   "cell_type": "code",
   "execution_count": 63,
   "metadata": {},
   "outputs": [],
   "source": [
    "predicciones.to_csv(r'prediccionXGBFEmix_opt.csv')"
   ]
  },
  {
   "cell_type": "code",
   "execution_count": null,
   "metadata": {},
   "outputs": [],
   "source": []
  }
 ],
 "metadata": {
  "kernelspec": {
   "display_name": "Python 3",
   "language": "python",
   "name": "python3"
  },
  "language_info": {
   "codemirror_mode": {
    "name": "ipython",
    "version": 3
   },
   "file_extension": ".py",
   "mimetype": "text/x-python",
   "name": "python",
   "nbconvert_exporter": "python",
   "pygments_lexer": "ipython3",
   "version": "3.7.3"
  }
 },
 "nbformat": 4,
 "nbformat_minor": 4
}

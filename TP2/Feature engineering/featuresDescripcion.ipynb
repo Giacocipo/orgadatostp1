{
 "cells": [
  {
   "cell_type": "markdown",
   "metadata": {},
   "source": [
    "### FE: Analisis de Descripciones"
   ]
  },
  {
   "cell_type": "code",
   "execution_count": 136,
   "metadata": {},
   "outputs": [],
   "source": [
    "import pandas as pd\n",
    "df = pd.read_csv(\"./train.csv\")"
   ]
  },
  {
   "cell_type": "markdown",
   "metadata": {},
   "source": [
    "#### Vemos que hay nulos pero son muy pocos en comparacion a todos los anuncios que hay"
   ]
  },
  {
   "cell_type": "code",
   "execution_count": 137,
   "metadata": {},
   "outputs": [
    {
     "name": "stdout",
     "output_type": "stream",
     "text": [
      "Porcentaje de Nulidad: 0.6745833333333334%\n"
     ]
    }
   ],
   "source": [
    "x = df['descripcion'].isna().sum() / df['descripcion'].size * 100\n",
    "print(\"Porcentaje de Nulidad: \"+ str(x) + \"%\")"
   ]
  },
  {
   "cell_type": "markdown",
   "metadata": {},
   "source": [
    "#### Entonces nos atrevemos a encontrar posibles valores repetidos en las descripciones que puedan ser features escondidas, ésta es la funcion a utilizar"
   ]
  },
  {
   "cell_type": "code",
   "execution_count": 138,
   "metadata": {},
   "outputs": [],
   "source": [
    "def contar_palabra(descripcion, palabra):\n",
    "    descripcion2 = descripcion.replace(',', '')\n",
    "    descripcion2 = descripcion2.replace('.', '')\n",
    "    return descripcion2.split().count(palabra)"
   ]
  },
  {
   "cell_type": "code",
   "execution_count": 139,
   "metadata": {},
   "outputs": [
    {
     "data": {
      "text/plain": [
       "2"
      ]
     },
     "execution_count": 139,
     "metadata": {},
     "output_type": "execute_result"
    }
   ],
   "source": [
    "#Ejemplo simple\n",
    "contar_palabra(\"hola, hola, amor\", \"hola\")"
   ]
  },
  {
   "cell_type": "markdown",
   "metadata": {},
   "source": [
    "#### Hay que remover los nulos"
   ]
  },
  {
   "cell_type": "code",
   "execution_count": 140,
   "metadata": {},
   "outputs": [
    {
     "data": {
      "text/plain": [
       "0    depto. interior de 80.15m2, consta de sala com...\n",
       "1    <p>entre sonora y guerrero, atr&aacute;s del h...\n",
       "2    descripcion \\nla mejor ubicacion residencial e...\n",
       "3    casa en privada con caseta de vigilancia casas...\n",
       "4    bonito departamento en excelentes condiciones ...\n",
       "Name: descripcion, dtype: object"
      ]
     },
     "execution_count": 140,
     "metadata": {},
     "output_type": "execute_result"
    }
   ],
   "source": [
    "df = df.dropna(subset = [\"descripcion\"])\n",
    "df['descripcion'].head()"
   ]
  },
  {
   "cell_type": "code",
   "execution_count": 141,
   "metadata": {},
   "outputs": [
    {
     "data": {
      "text/plain": [
       "0    235983\n",
       "1      1882\n",
       "2       345\n",
       "3       139\n",
       "4        26\n",
       "6         4\n",
       "5         2\n",
       "Name: piscina, dtype: int64"
      ]
     },
     "execution_count": 141,
     "metadata": {},
     "output_type": "execute_result"
    }
   ],
   "source": [
    "df['piscina'] = df['descripcion'].apply(contar_palabra, palabra=\"piscina\")\n",
    "df.piscina.value_counts()"
   ]
  },
  {
   "cell_type": "code",
   "execution_count": 142,
   "metadata": {},
   "outputs": [
    {
     "data": {
      "text/plain": [
       "0    236725\n",
       "1      1630\n",
       "2        24\n",
       "3         2\n",
       "Name: camaraseg, dtype: int64"
      ]
     },
     "execution_count": 142,
     "metadata": {},
     "output_type": "execute_result"
    }
   ],
   "source": [
    "df['camara'] = df['descripcion'].apply(contar_palabra, palabra=\"camara\")\n",
    "df['camara2'] = df['descripcion'].apply(contar_palabra, palabra=\"cámara\")\n",
    "df['camara3'] = df['descripcion'].apply(contar_palabra, palabra=\"cámaras\")\n",
    "df['camara4'] = df['descripcion'].apply(contar_palabra, palabra=\"camaras\")\n",
    "\n",
    "df['camaraseg'] = df['camara'] + df['camara2'] + df['camara3'] + df['camara4']\n",
    "\n",
    "df.camaraseg.value_counts()"
   ]
  },
  {
   "cell_type": "code",
   "execution_count": 143,
   "metadata": {},
   "outputs": [
    {
     "data": {
      "text/plain": [
       "0     222177\n",
       "1      13759\n",
       "2       1964\n",
       "3        321\n",
       "4        101\n",
       "5         33\n",
       "6         19\n",
       "7          3\n",
       "8          2\n",
       "21         1\n",
       "9          1\n",
       "Name: avenida, dtype: int64"
      ]
     },
     "execution_count": 143,
     "metadata": {},
     "output_type": "execute_result"
    }
   ],
   "source": [
    "df['avenida'] = df['descripcion'].apply(contar_palabra, palabra=\"avenida\")\n",
    "df['avenida2'] = df['descripcion'].apply(contar_palabra, palabra=\"av\")\n",
    "df['avenida3'] = df['descripcion'].apply(contar_palabra, palabra=\"Avenida\")\n",
    "df['avenida4'] = df['descripcion'].apply(contar_palabra, palabra=\"Av\")\n",
    "df['avenida5'] = df['descripcion'].apply(contar_palabra, palabra=\"Av.\")\n",
    "df['avenida6'] = df['descripcion'].apply(contar_palabra, palabra=\"av.\")\n",
    "\n",
    "\n",
    "df['avenida'] = df['avenida'] + df['avenida2'] + df['avenida3'] + df['avenida4']\\\n",
    "                + df['avenida5'] + df['avenida6']\n",
    "\n",
    "df.avenida.value_counts()"
   ]
  },
  {
   "cell_type": "code",
   "execution_count": 144,
   "metadata": {},
   "outputs": [
    {
     "data": {
      "text/plain": [
       "0    228867\n",
       "1      8781\n",
       "2       647\n",
       "3        64\n",
       "4        16\n",
       "5         6\n",
       "Name: parque, dtype: int64"
      ]
     },
     "execution_count": 144,
     "metadata": {},
     "output_type": "execute_result"
    }
   ],
   "source": [
    "df['parque'] = df['descripcion'].apply(contar_palabra, palabra=\"parque\")\n",
    "df['parque2'] = df['descripcion'].apply(contar_palabra, palabra=\"Parque\")\n",
    "\n",
    "\n",
    "df['parque'] = df['parque'] + df['parque2']\n",
    "\n",
    "df.parque.value_counts()"
   ]
  },
  {
   "cell_type": "code",
   "execution_count": 145,
   "metadata": {},
   "outputs": [
    {
     "data": {
      "text/plain": [
       "0     234154\n",
       "1       3921\n",
       "2        265\n",
       "3         34\n",
       "4          3\n",
       "5          2\n",
       "11         1\n",
       "7          1\n",
       "Name: amoblado, dtype: int64"
      ]
     },
     "execution_count": 145,
     "metadata": {},
     "output_type": "execute_result"
    }
   ],
   "source": [
    "df['amoblado'] = df['descripcion'].apply(contar_palabra, palabra=\"amoblado\")\n",
    "df['amoblado2'] = df['descripcion'].apply(contar_palabra, palabra=\"muebles\")\n",
    "\n",
    "\n",
    "df['amoblado'] = df['amoblado'] + df['amoblado2']\n",
    "\n",
    "df.amoblado.value_counts()"
   ]
  },
  {
   "cell_type": "code",
   "execution_count": 146,
   "metadata": {},
   "outputs": [
    {
     "data": {
      "text/plain": [
       "0    230622\n",
       "1      5955\n",
       "2      1472\n",
       "3       255\n",
       "4        58\n",
       "5        14\n",
       "6         5\n",
       "Name: transporte, dtype: int64"
      ]
     },
     "execution_count": 146,
     "metadata": {},
     "output_type": "execute_result"
    }
   ],
   "source": [
    "df['subte'] = df['descripcion'].apply(contar_palabra, palabra=\"subte\")\n",
    "df['subte2'] = df['descripcion'].apply(contar_palabra, palabra=\"subterraneo\")\n",
    "df['subte3'] = df['descripcion'].apply(contar_palabra, palabra=\"subterráneo\")\n",
    "df['subte4'] = df['descripcion'].apply(contar_palabra, palabra=\"metro\")\n",
    "df['estacion'] = df['descripcion'].apply(contar_palabra, palabra=\"estacion\")\n",
    "df['estación'] = df['descripcion'].apply(contar_palabra, palabra=\"estación\")\n",
    "df['tren'] = df['descripcion'].apply(contar_palabra, palabra=\"tren\")\n",
    "df['tren2'] = df['descripcion'].apply(contar_palabra, palabra=\"ferrocarril\")\n",
    "df['metro'] = df['descripcion'].apply(contar_palabra, palabra=\"metrobús\")\n",
    "df['metro2'] = df['descripcion'].apply(contar_palabra, palabra=\"metrobus\")\n",
    "df['metro3'] = df['descripcion'].apply(contar_palabra, palabra=\"trolebús\")\n",
    "df['metro4'] = df['descripcion'].apply(contar_palabra, palabra=\"trolebus\")\n",
    "df['metro5'] = df['descripcion'].apply(contar_palabra, palabra=\"bus\")\n",
    "\n",
    "df['transporte'] = df['subte'] + df['subte2'] + df['subte3'] + df['subte4'] + df['estacion'] \\\n",
    "                 + df['estación'] + df['tren'] + df['tren2'] + df['metro'] + df['metro2'] \\\n",
    "                 + df['metro3'] + + df['metro4'] + + df['metro5'] \n",
    "\n",
    "df.transporte.value_counts()"
   ]
  },
  {
   "cell_type": "code",
   "execution_count": 147,
   "metadata": {},
   "outputs": [
    {
     "data": {
      "text/plain": [
       "0     193962\n",
       "1      36679\n",
       "2       6219\n",
       "3       1114\n",
       "4        246\n",
       "5        109\n",
       "6         37\n",
       "9          4\n",
       "8          4\n",
       "7          3\n",
       "10         2\n",
       "14         1\n",
       "13         1\n",
       "Name: balcon, dtype: int64"
      ]
     },
     "execution_count": 147,
     "metadata": {},
     "output_type": "execute_result"
    }
   ],
   "source": [
    "df['balcon'] = df['descripcion'].apply(contar_palabra, palabra=\"balcon\")\n",
    "df['balcon2'] = df['descripcion'].apply(contar_palabra, palabra=\"balcón\")\n",
    "df['balcon3'] = df['descripcion'].apply(contar_palabra, palabra=\"terraza\")\n",
    "\n",
    "df['balcon'] = df['balcon'] + df['balcon2'] + df['balcon3']\n",
    "\n",
    "df.balcon.value_counts()"
   ]
  },
  {
   "cell_type": "code",
   "execution_count": 148,
   "metadata": {},
   "outputs": [
    {
     "data": {
      "text/plain": [
       "0    228485\n",
       "1      9097\n",
       "2       717\n",
       "3        65\n",
       "4        10\n",
       "5         5\n",
       "6         2\n",
       "Name: nuevo, dtype: int64"
      ]
     },
     "execution_count": 148,
     "metadata": {},
     "output_type": "execute_result"
    }
   ],
   "source": [
    "df['nuevo'] = df['descripcion'].apply(contar_palabra, palabra=\"nuevo\")\n",
    "df['nuevo2'] = df['descripcion'].apply(contar_palabra, palabra=\"estrenar\")\n",
    "\n",
    "df['nuevo'] = df['nuevo'] + df['nuevo2']\n",
    "\n",
    "df.nuevo.value_counts()"
   ]
  },
  {
   "cell_type": "code",
   "execution_count": 149,
   "metadata": {},
   "outputs": [
    {
     "data": {
      "text/plain": [
       "0     168393\n",
       "1      59016\n",
       "2       9412\n",
       "3       1253\n",
       "4        229\n",
       "5         46\n",
       "6         18\n",
       "7          7\n",
       "8          3\n",
       "9          2\n",
       "13         1\n",
       "10         1\n",
       "Name: ubicacion, dtype: int64"
      ]
     },
     "execution_count": 149,
     "metadata": {},
     "output_type": "execute_result"
    }
   ],
   "source": [
    "df['ubicacion'] = df['descripcion'].apply(contar_palabra, palabra=\"ubicacion\")\n",
    "df['ubicacion2'] = df['descripcion'].apply(contar_palabra, palabra=\"ubicación\")\n",
    "df['ubicacion3'] = df['descripcion'].apply(contar_palabra, palabra=\"locación\")\n",
    "df['ubicacion4'] = df['descripcion'].apply(contar_palabra, palabra=\"locacion\")\n",
    "df['ubicacion5'] = df['descripcion'].apply(contar_palabra, palabra=\"localización\")\n",
    "df['ubicacion6'] = df['descripcion'].apply(contar_palabra, palabra=\"localizacion\")\n",
    "df['ubicacion7'] = df['descripcion'].apply(contar_palabra, palabra=\"ubicado\")\n",
    "df['ubicacion8'] = df['descripcion'].apply(contar_palabra, palabra=\"ubicada\")\n",
    "df['ubicacion9'] = df['descripcion'].apply(contar_palabra, palabra=\"centro\")\n",
    "df['ubicacion10'] = df['descripcion'].apply(contar_palabra, palabra=\"centrico\")\n",
    "df['ubicacion11'] = df['descripcion'].apply(contar_palabra, palabra=\"céntrico\")\n",
    "df['ubicacion12'] = df['descripcion'].apply(contar_palabra, palabra=\"centrica\")\n",
    "df['ubicacion13'] = df['descripcion'].apply(contar_palabra, palabra=\"céntrica\")\n",
    "\n",
    "\n",
    "df['ubicacion'] = df['ubicacion'] + df['ubicacion2'] + df['ubicacion3'] + df['ubicacion4'] \\\n",
    "                + df['ubicacion5'] + df['ubicacion6'] + df['ubicacion7'] + df['ubicacion8'] \\\n",
    "                + df['ubicacion9'] + df['ubicacion10'] + df['ubicacion11'] + df['ubicacion12'] \\\n",
    "                + df['ubicacion13']\n",
    "\n",
    "df.ubicacion.value_counts()"
   ]
  },
  {
   "cell_type": "code",
   "execution_count": 150,
   "metadata": {},
   "outputs": [
    {
     "data": {
      "text/plain": [
       "0    233583\n",
       "1      3159\n",
       "2      1549\n",
       "3        52\n",
       "4        35\n",
       "6         2\n",
       "5         1\n",
       "Name: bañera, dtype: int64"
      ]
     },
     "execution_count": 150,
     "metadata": {},
     "output_type": "execute_result"
    }
   ],
   "source": [
    "df['bañera'] = df['descripcion'].apply(contar_palabra, palabra=\"bañera\")\n",
    "df['bañera2'] = df['descripcion'].apply(contar_palabra, palabra=\"hidromasaje\")\n",
    "df['bañera3'] = df['descripcion'].apply(contar_palabra, palabra=\"tina\")\n",
    "\n",
    "df['bañera'] = df['bañera'] + df['bañera2'] + df['bañera3']\n",
    "\n",
    "df.bañera.value_counts()"
   ]
  },
  {
   "cell_type": "code",
   "execution_count": 151,
   "metadata": {},
   "outputs": [
    {
     "data": {
      "text/plain": [
       "0     182720\n",
       "1      53102\n",
       "2       2354\n",
       "3        165\n",
       "4         30\n",
       "6          7\n",
       "5          2\n",
       "12         1\n",
       "Name: cochera, dtype: int64"
      ]
     },
     "execution_count": 151,
     "metadata": {},
     "output_type": "execute_result"
    }
   ],
   "source": [
    "df['cochera'] = df['descripcion'].apply(contar_palabra, palabra=\"cochera\")\n",
    "df['cochera2'] = df['descripcion'].apply(contar_palabra, palabra=\"cocheras\")\n",
    "df['cochera3'] = df['descripcion'].apply(contar_palabra, palabra=\"garage\")\n",
    "df['cochera4'] = df['descripcion'].apply(contar_palabra, palabra=\"garages\")\n",
    "df['cochera5'] = df['descripcion'].apply(contar_palabra, palabra=\"garaje\")\n",
    "df['cochera6'] = df['descripcion'].apply(contar_palabra, palabra=\"garajes\")\n",
    "\n",
    "df['cochera'] = df['cochera'] + df['cochera2'] + df['cochera3'] + df['cochera4'] \\\n",
    "                + df['cochera5'] + df['cochera6']\n",
    "\n",
    "\n",
    "df.cochera.value_counts()"
   ]
  },
  {
   "cell_type": "code",
   "execution_count": 152,
   "metadata": {},
   "outputs": [
    {
     "data": {
      "text/plain": [
       "2.0    93576\n",
       "1.0    58995\n",
       "0.0    26748\n",
       "3.0    21539\n",
       "Name: garages, dtype: int64"
      ]
     },
     "execution_count": 152,
     "metadata": {},
     "output_type": "execute_result"
    }
   ],
   "source": [
    "#Original\n",
    "df.garages.value_counts()"
   ]
  },
  {
   "cell_type": "code",
   "execution_count": 153,
   "metadata": {},
   "outputs": [
    {
     "data": {
      "text/plain": [
       "0    238369\n",
       "1        12\n",
       "Name: encargado, dtype: int64"
      ]
     },
     "execution_count": 153,
     "metadata": {},
     "output_type": "execute_result"
    }
   ],
   "source": [
    "df['encargado'] = df['descripcion'].apply(contar_palabra, palabra=\"encargado\")\n",
    "\n",
    "df.encargado.value_counts()"
   ]
  },
  {
   "cell_type": "code",
   "execution_count": 154,
   "metadata": {},
   "outputs": [
    {
     "data": {
      "text/plain": [
       "0    224629\n",
       "1     13392\n",
       "2       351\n",
       "3         8\n",
       "4         1\n",
       "Name: gim, dtype: int64"
      ]
     },
     "execution_count": 154,
     "metadata": {},
     "output_type": "execute_result"
    }
   ],
   "source": [
    "df['gim'] = df['descripcion'].apply(contar_palabra, palabra=\"gimnasio\")\n",
    "df['gim2'] = df['descripcion'].apply(contar_palabra, palabra=\"gimnásio\")\n",
    "df['gim3'] = df['descripcion'].apply(contar_palabra, palabra=\"Gimnasio\")\n",
    "df['gim4'] = df['descripcion'].apply(contar_palabra, palabra=\"Gimnásio\")\n",
    "df['gim5'] = df['descripcion'].apply(contar_palabra, palabra=\"gimnasios\")\n",
    "df['gim6'] = df['descripcion'].apply(contar_palabra, palabra=\"entrenamiento\")\n",
    "df['gim7'] = df['descripcion'].apply(contar_palabra, palabra=\"gim\")\n",
    "df['gim8'] = df['descripcion'].apply(contar_palabra, palabra=\"gym\")\n",
    "\n",
    "df['gim'] = df['gim'] + df['gim2'] + df['gim3'] + df['gim4'] \\\n",
    "                + df['gim5'] + df['gim6'] + df['gim7'] + df['gim8']\n",
    "\n",
    "df.gim.value_counts()"
   ]
  },
  {
   "cell_type": "code",
   "execution_count": 155,
   "metadata": {},
   "outputs": [
    {
     "data": {
      "text/plain": [
       "0.0    223438\n",
       "1.0     14943\n",
       "Name: gimnasio, dtype: int64"
      ]
     },
     "execution_count": 155,
     "metadata": {},
     "output_type": "execute_result"
    }
   ],
   "source": [
    "#Original\n",
    "df['gimnasio'].value_counts()"
   ]
  },
  {
   "cell_type": "code",
   "execution_count": 156,
   "metadata": {},
   "outputs": [
    {
     "data": {
      "text/plain": [
       "0    237939\n",
       "1       379\n",
       "2        53\n",
       "3         8\n",
       "5         1\n",
       "4         1\n",
       "Name: suite, dtype: int64"
      ]
     },
     "execution_count": 156,
     "metadata": {},
     "output_type": "execute_result"
    }
   ],
   "source": [
    "df['suite'] = df['descripcion'].apply(contar_palabra, palabra=\"suite\")\n",
    "df['suite2'] = df['descripcion'].apply(contar_palabra, palabra=\"Suite\")\n",
    "\n",
    "df['suite'] = df['suite'] + df['suite2'] \n",
    "\n",
    "df.suite.value_counts()"
   ]
  },
  {
   "cell_type": "code",
   "execution_count": 158,
   "metadata": {},
   "outputs": [
    {
     "data": {
      "text/plain": [
       "0    238377\n",
       "1         4\n",
       "Name: sum, dtype: int64"
      ]
     },
     "execution_count": 158,
     "metadata": {},
     "output_type": "execute_result"
    }
   ],
   "source": [
    "df['sum'] = df['descripcion'].apply(contar_palabra, palabra=\"sum\")\n",
    "df['sum2'] = df['descripcion'].apply(contar_palabra, palabra=\"SUM\")\n",
    "df['sum3'] = df['descripcion'].apply(contar_palabra, palabra=\"s.u.m.\")\n",
    "df['sum4'] = df['descripcion'].apply(contar_palabra, palabra=\"S.U.M.\")\n",
    "df['sum5'] = df['descripcion'].apply(contar_palabra, palabra=\"Sum\")\n",
    "\n",
    "df['sum'] = df['sum'] + df['sum2'] + df['sum4'] + df['sum4'] + df['sum5'] \n",
    "\n",
    "df['sum'].value_counts()"
   ]
  },
  {
   "cell_type": "code",
   "execution_count": null,
   "metadata": {},
   "outputs": [],
   "source": []
  },
  {
   "cell_type": "code",
   "execution_count": null,
   "metadata": {},
   "outputs": [],
   "source": []
  }
 ],
 "metadata": {
  "kernelspec": {
   "display_name": "Python 3",
   "language": "python",
   "name": "python3"
  },
  "language_info": {
   "codemirror_mode": {
    "name": "ipython",
    "version": 3
   },
   "file_extension": ".py",
   "mimetype": "text/x-python",
   "name": "python",
   "nbconvert_exporter": "python",
   "pygments_lexer": "ipython3",
   "version": "3.7.3"
  }
 },
 "nbformat": 4,
 "nbformat_minor": 4
}

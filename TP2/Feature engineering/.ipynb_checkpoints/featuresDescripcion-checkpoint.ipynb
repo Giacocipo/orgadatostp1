{
 "cells": [
  {
   "cell_type": "markdown",
   "metadata": {},
   "source": [
    "### FE: Analisis de Descripciones"
   ]
  },
  {
   "cell_type": "code",
   "execution_count": 62,
   "metadata": {},
   "outputs": [],
   "source": [
    "import pandas as pd\n",
    "df = pd.read_csv(\"./train.csv\")"
   ]
  },
  {
   "cell_type": "markdown",
   "metadata": {},
   "source": [
    "#### Vemos que hay nulos pero son muy pocos en comparacion a todos los anuncios que hay"
   ]
  },
  {
   "cell_type": "code",
   "execution_count": 63,
   "metadata": {},
   "outputs": [
    {
     "name": "stdout",
     "output_type": "stream",
     "text": [
      "Porcentaje de Nulidad: 0.6745833333333334%\n"
     ]
    }
   ],
   "source": [
    "x = df['descripcion'].isna().sum() / df['descripcion'].size * 100\n",
    "print(\"Porcentaje de Nulidad: \"+ str(x) + \"%\")"
   ]
  },
  {
   "cell_type": "markdown",
   "metadata": {},
   "source": [
    "#### Entonces nos atrevemos a encontrar posibles valores repetidos en las descripciones que puedan ser features escondidas, éstas son las funciones a utilizar"
   ]
  },
  {
   "cell_type": "markdown",
   "metadata": {},
   "source": [
    "### OPTIMIZACION DE LAS FUNCIONES EMPLEADAS"
   ]
  },
  {
   "cell_type": "code",
   "execution_count": 64,
   "metadata": {},
   "outputs": [],
   "source": [
    "def contar_palabras(descripcion, palabras):\n",
    "    \n",
    "    contadas = 0\n",
    "    \n",
    "    for palabra in palabras:\n",
    "        spliteado = descripcion.split()\n",
    "        contadas += spliteado.count(palabra)\n",
    "        \n",
    "    return contadas"
   ]
  },
  {
   "cell_type": "code",
   "execution_count": 65,
   "metadata": {},
   "outputs": [],
   "source": [
    "def normalizar_descripciones(descripcion):\n",
    "    \n",
    "    descripcion = descripcion.replace(',', ' ')\n",
    "    descripcion = descripcion.replace('.', ' ')\n",
    "    descripcion = descripcion.replace('<', ' ')\n",
    "    descripcion = descripcion.replace('>', ' ')\n",
    "    descripcion = descripcion.replace('\\n', ' ')\n",
    "    descripcion = descripcion.replace('\\strong', ' ')\n",
    "    descripcion = descripcion.replace('\\bold', ' ')\n",
    "    descripcion = descripcion.lower()\n",
    "    \n",
    "    return descripcion"
   ]
  },
  {
   "cell_type": "markdown",
   "metadata": {},
   "source": [
    "#### Hay que remover los nulos y aplicar la normalizacion primero"
   ]
  },
  {
   "cell_type": "code",
   "execution_count": 66,
   "metadata": {},
   "outputs": [],
   "source": [
    "df = df.dropna(subset = [\"descripcion\"])\n",
    "df['descripcion'] = df['descripcion'].apply(normalizar_descripciones)"
   ]
  },
  {
   "cell_type": "markdown",
   "metadata": {},
   "source": [
    "### - COMIENZA ANALISIS -"
   ]
  },
  {
   "cell_type": "code",
   "execution_count": 67,
   "metadata": {},
   "outputs": [
    {
     "data": {
      "text/plain": [
       "0    237920\n",
       "1       395\n",
       "2        54\n",
       "3         8\n",
       "5         2\n",
       "4         2\n",
       "Name: suite, dtype: int64"
      ]
     },
     "execution_count": 67,
     "metadata": {},
     "output_type": "execute_result"
    }
   ],
   "source": [
    "df['suite'] = df['descripcion'].apply(contar_palabras, palabras=[\"suite\"])\n",
    "df['suite'].value_counts()"
   ]
  },
  {
   "cell_type": "code",
   "execution_count": 68,
   "metadata": {},
   "outputs": [
    {
     "data": {
      "text/plain": [
       "0     221847\n",
       "1      14000\n",
       "2       2031\n",
       "3        340\n",
       "4        103\n",
       "5         34\n",
       "6         18\n",
       "7          4\n",
       "8          2\n",
       "21         1\n",
       "9          1\n",
       "Name: avenida, dtype: int64"
      ]
     },
     "execution_count": 68,
     "metadata": {},
     "output_type": "execute_result"
    }
   ],
   "source": [
    "df['avenida'] = df['descripcion'].apply(contar_palabras, palabras=[\"avenida\", \"av\"])\n",
    "\n",
    "df.avenida.value_counts()"
   ]
  },
  {
   "cell_type": "code",
   "execution_count": 44,
   "metadata": {},
   "outputs": [
    {
     "data": {
      "text/plain": [
       "0    224959\n",
       "1     13084\n",
       "2       325\n",
       "3        11\n",
       "4         2\n",
       "Name: gim, dtype: int64"
      ]
     },
     "execution_count": 44,
     "metadata": {},
     "output_type": "execute_result"
    }
   ],
   "source": [
    "df['gim'] = df['descripcion'].apply(contar_palabras, palabras=[\"gimnasio\", \"gimnásio\", \"entrenamiento\", \n",
    "                                                                    \"gim\", \"gym\"])\n",
    "df.gim.value_counts()"
   ]
  },
  {
   "cell_type": "code",
   "execution_count": 155,
   "metadata": {},
   "outputs": [
    {
     "data": {
      "text/plain": [
       "0.0    223438\n",
       "1.0     14943\n",
       "Name: gimnasio, dtype: int64"
      ]
     },
     "execution_count": 155,
     "metadata": {},
     "output_type": "execute_result"
    }
   ],
   "source": [
    "#Original\n",
    "df['gimnasio'].value_counts()"
   ]
  },
  {
   "cell_type": "code",
   "execution_count": 46,
   "metadata": {},
   "outputs": [
    {
     "data": {
      "text/plain": [
       "0     178984\n",
       "1      56457\n",
       "2       2688\n",
       "3        205\n",
       "4         36\n",
       "6          7\n",
       "5          3\n",
       "12         1\n",
       "Name: cochera, dtype: int64"
      ]
     },
     "execution_count": 46,
     "metadata": {},
     "output_type": "execute_result"
    }
   ],
   "source": [
    "df['cochera'] = df['descripcion'].apply(contar_palabras, palabras=[\"cochera\", \"cocheras\", \"garage\", \n",
    "                                                                   \"garages\", \"garaje\", \"garajes\"])\n",
    "\n",
    "df.cochera.value_counts()"
   ]
  },
  {
   "cell_type": "code",
   "execution_count": 152,
   "metadata": {},
   "outputs": [
    {
     "data": {
      "text/plain": [
       "2.0    93576\n",
       "1.0    58995\n",
       "0.0    26748\n",
       "3.0    21539\n",
       "Name: garages, dtype: int64"
      ]
     },
     "execution_count": 152,
     "metadata": {},
     "output_type": "execute_result"
    }
   ],
   "source": [
    "#Original\n",
    "df.garages.value_counts()"
   ]
  },
  {
   "cell_type": "code",
   "execution_count": 47,
   "metadata": {},
   "outputs": [
    {
     "data": {
      "text/plain": [
       "0     166276\n",
       "1      60602\n",
       "2       9849\n",
       "3       1325\n",
       "4        247\n",
       "5         49\n",
       "6         19\n",
       "7          6\n",
       "8          4\n",
       "9          2\n",
       "13         1\n",
       "10         1\n",
       "Name: ubicacion, dtype: int64"
      ]
     },
     "execution_count": 47,
     "metadata": {},
     "output_type": "execute_result"
    }
   ],
   "source": [
    "df['ubicacion'] = df['descripcion'].apply(contar_palabras, palabras=[\"ubicacion\", \"ubicación\", \"locacion\", \n",
    "                                                                   \"locación\", \"localizacion\", \"localización\",\n",
    "                                                                    \"ubicado\", \"ubicada\", \"centro\", \"centrico\",\n",
    "                                                                     \"centrica\", \"céntrico\", \"céntrica\"])\n",
    "\n",
    "df.ubicacion.value_counts()"
   ]
  },
  {
   "cell_type": "code",
   "execution_count": 49,
   "metadata": {},
   "outputs": [
    {
     "data": {
      "text/plain": [
       "0     187319\n",
       "1      41476\n",
       "2       7646\n",
       "3       1403\n",
       "4        342\n",
       "5        127\n",
       "6         42\n",
       "7          8\n",
       "8          7\n",
       "9          5\n",
       "10         3\n",
       "18         1\n",
       "13         1\n",
       "12         1\n",
       "Name: balcon, dtype: int64"
      ]
     },
     "execution_count": 49,
     "metadata": {},
     "output_type": "execute_result"
    }
   ],
   "source": [
    "df['balcon'] = df['descripcion'].apply(contar_palabras, palabras=[\"balcon\", \"balcón\", \"terraza\", \n",
    "                                                                  \"palco\", \"mirador\", \"balconcillo\",\n",
    "                                                                  \"azotea\", \"solana\"])\n",
    "\n",
    "df.balcon.value_counts()"
   ]
  },
  {
   "cell_type": "code",
   "execution_count": 50,
   "metadata": {},
   "outputs": [
    {
     "data": {
      "text/plain": [
       "0    236666\n",
       "1      1687\n",
       "2        26\n",
       "3         2\n",
       "Name: camaraseg, dtype: int64"
      ]
     },
     "execution_count": 50,
     "metadata": {},
     "output_type": "execute_result"
    }
   ],
   "source": [
    "df['camaraseg'] = df['descripcion'].apply(contar_palabras, palabras=[\"camara\", \"cámara\", \"cámaras\", \"camaras\"])\n",
    "\n",
    "df.camaraseg.value_counts()"
   ]
  },
  {
   "cell_type": "code",
   "execution_count": 51,
   "metadata": {},
   "outputs": [
    {
     "data": {
      "text/plain": [
       "0    219547\n",
       "1     16006\n",
       "2      2344\n",
       "3       357\n",
       "4        91\n",
       "5        22\n",
       "6         6\n",
       "8         3\n",
       "7         3\n",
       "9         2\n",
       "Name: parque, dtype: int64"
      ]
     },
     "execution_count": 51,
     "metadata": {},
     "output_type": "execute_result"
    }
   ],
   "source": [
    "df['parque'] = df['descripcion'].apply(contar_palabras, palabras=[\"parque\", \"plaza\", \"plazoleta\", \"glorieta\"])\n",
    "\n",
    "df.parque.value_counts()"
   ]
  },
  {
   "cell_type": "code",
   "execution_count": 52,
   "metadata": {},
   "outputs": [
    {
     "data": {
      "text/plain": [
       "0     232983\n",
       "1       4859\n",
       "2        445\n",
       "3         68\n",
       "4         13\n",
       "6          6\n",
       "5          5\n",
       "11         1\n",
       "8          1\n",
       "Name: amoblado, dtype: int64"
      ]
     },
     "execution_count": 52,
     "metadata": {},
     "output_type": "execute_result"
    }
   ],
   "source": [
    "df['amoblado'] = df['descripcion'].apply(contar_palabras, palabras=[\"muebles\", \"amoblado\", \"mueble\"])\n",
    "\n",
    "df.amoblado.value_counts()"
   ]
  },
  {
   "cell_type": "code",
   "execution_count": 53,
   "metadata": {},
   "outputs": [
    {
     "data": {
      "text/plain": [
       "0    232973\n",
       "1      3640\n",
       "2      1666\n",
       "3        61\n",
       "4        38\n",
       "6         2\n",
       "5         1\n",
       "Name: bañera, dtype: int64"
      ]
     },
     "execution_count": 53,
     "metadata": {},
     "output_type": "execute_result"
    }
   ],
   "source": [
    "df['bañera'] = df['descripcion'].apply(contar_palabras, palabras=[\"bañera\", \"hidromasaje\", \"hidro\", \"tina\"])\n",
    "\n",
    "df.bañera.value_counts()"
   ]
  },
  {
   "cell_type": "code",
   "execution_count": 54,
   "metadata": {},
   "outputs": [
    {
     "data": {
      "text/plain": [
       "0    216239\n",
       "1     19884\n",
       "2      1993\n",
       "3       209\n",
       "4        42\n",
       "5         6\n",
       "6         4\n",
       "8         2\n",
       "9         1\n",
       "7         1\n",
       "Name: nuevo, dtype: int64"
      ]
     },
     "execution_count": 54,
     "metadata": {},
     "output_type": "execute_result"
    }
   ],
   "source": [
    "df['nuevo'] = df['descripcion'].apply(contar_palabras, palabras=[\"nuevo\", \"nueva\", \"estrenar\"])\n",
    "\n",
    "df.nuevo.value_counts()"
   ]
  },
  {
   "cell_type": "code",
   "execution_count": 55,
   "metadata": {},
   "outputs": [
    {
     "data": {
      "text/plain": [
       "0    230274\n",
       "1      6117\n",
       "2      1616\n",
       "3       287\n",
       "4        65\n",
       "5        16\n",
       "6         6\n",
       "Name: transporte, dtype: int64"
      ]
     },
     "execution_count": 55,
     "metadata": {},
     "output_type": "execute_result"
    }
   ],
   "source": [
    "df['transporte'] = df['descripcion'].apply(contar_palabras, palabras=[\"subte\", \"subterraneo\", \"subterráneo\",\n",
    "                                                                     \"metro\", \"estacion\", \"estación\", \"tren\",\n",
    "                                                                     \"subestacion\", \"subestación\", \"ferrocarril\",\n",
    "                                                                     \"metrobús\", \"metrobus\", \"trolebus\",\n",
    "                                                                     \"trolebús\", \"bus\", \"bús\"])\n",
    "\n",
    "df.transporte.value_counts()"
   ]
  },
  {
   "cell_type": "code",
   "execution_count": 61,
   "metadata": {},
   "outputs": [
    {
     "data": {
      "text/plain": [
       "0.0    217540\n",
       "1.0     20841\n",
       "Name: piscina, dtype: int64"
      ]
     },
     "execution_count": 61,
     "metadata": {},
     "output_type": "execute_result"
    }
   ],
   "source": [
    "df['pileta'] = df['descripcion'].apply(contar_palabras, palabras=[\"piscina\", \"pileta\", \"nado\"])\n",
    "                                       \n",
    "df.piscina.value_counts()"
   ]
  }
 ],
 "metadata": {
  "kernelspec": {
   "display_name": "Python 3",
   "language": "python",
   "name": "python3"
  },
  "language_info": {
   "codemirror_mode": {
    "name": "ipython",
    "version": 3
   },
   "file_extension": ".py",
   "mimetype": "text/x-python",
   "name": "python",
   "nbconvert_exporter": "python",
   "pygments_lexer": "ipython3",
   "version": "3.7.3"
  }
 },
 "nbformat": 4,
 "nbformat_minor": 4
}

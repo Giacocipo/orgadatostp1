{
 "cells": [
  {
   "cell_type": "markdown",
   "metadata": {},
   "source": [
    "### FE: Analisis de Descripciones"
   ]
  },
  {
   "cell_type": "code",
   "execution_count": 72,
   "metadata": {},
   "outputs": [],
   "source": [
    "import pandas as pd\n",
    "import numpy as np\n",
    "df = pd.read_csv(\"./train.csv\")"
   ]
  },
  {
   "cell_type": "code",
   "execution_count": 73,
   "metadata": {},
   "outputs": [],
   "source": [
    "import numpy as np"
   ]
  },
  {
   "cell_type": "markdown",
   "metadata": {},
   "source": [
    "#### Vemos que hay nulos pero son muy pocos en comparacion a todos los anuncios que hay"
   ]
  },
  {
   "cell_type": "code",
   "execution_count": 74,
   "metadata": {},
   "outputs": [
    {
     "name": "stdout",
     "output_type": "stream",
     "text": [
      "Porcentaje de Nulidad: 0.6745833333333334%\n"
     ]
    }
   ],
   "source": [
    "x = df['descripcion'].isna().sum() / df['descripcion'].size * 100\n",
    "print(\"Porcentaje de Nulidad: \"+ str(x) + \"%\")"
   ]
  },
  {
   "cell_type": "markdown",
   "metadata": {},
   "source": [
    "#### Entonces nos atrevemos a encontrar posibles valores repetidos en las descripciones que puedan ser features escondidas, éstas son las funciones a utilizar"
   ]
  },
  {
   "cell_type": "markdown",
   "metadata": {},
   "source": [
    "### OPTIMIZACION DE LAS FUNCIONES EMPLEADAS"
   ]
  },
  {
   "cell_type": "code",
   "execution_count": 75,
   "metadata": {},
   "outputs": [],
   "source": [
    "def contar_palabras(descripcion, palabras):\n",
    "    \n",
    "    contadas = 0\n",
    "    \n",
    "    for palabra in palabras:\n",
    "        spliteado = descripcion.split()\n",
    "        contadas += spliteado.count(palabra)\n",
    "        \n",
    "    return contadas"
   ]
  },
  {
   "cell_type": "code",
   "execution_count": 76,
   "metadata": {},
   "outputs": [],
   "source": [
    "def normalizar_descripciones(descripcion):\n",
    "    \n",
    "    descripcion = descripcion.replace(',', ' ')\n",
    "    descripcion = descripcion.replace('.', ' ')\n",
    "    descripcion = descripcion.replace('<', ' ')\n",
    "    descripcion = descripcion.replace('>', ' ')\n",
    "    descripcion = descripcion.replace('\\n', ' ')\n",
    "    descripcion = descripcion.replace('\\strong', ' ')\n",
    "    descripcion = descripcion.replace('\\bold', ' ')\n",
    "    descripcion = descripcion.lower()\n",
    "    \n",
    "    return descripcion"
   ]
  },
  {
   "cell_type": "markdown",
   "metadata": {},
   "source": [
    "#### Hay que remover los nulos y aplicar la normalizacion primero"
   ]
  },
  {
   "cell_type": "code",
   "execution_count": 77,
   "metadata": {},
   "outputs": [],
   "source": [
    "df['descripcion'] = df['descripcion'].fillna(value = \".\")\n",
    "df['descripcion'] = df['descripcion'].apply(normalizar_descripciones)"
   ]
  },
  {
   "cell_type": "markdown",
   "metadata": {},
   "source": [
    "### - COMIENZA ANALISIS -"
   ]
  },
  {
   "cell_type": "code",
   "execution_count": 78,
   "metadata": {},
   "outputs": [],
   "source": [
    "#df['suite'] = df['descripcion'].apply(contar_palabras, palabras=[\"suite\"])\n",
    "#df['suite'].value_counts()"
   ]
  },
  {
   "cell_type": "code",
   "execution_count": 79,
   "metadata": {},
   "outputs": [
    {
     "data": {
      "text/plain": [
       "0     216355\n",
       "1      19612\n",
       "2       3194\n",
       "3        592\n",
       "4        152\n",
       "5         53\n",
       "6         26\n",
       "8          6\n",
       "7          4\n",
       "11         2\n",
       "10         2\n",
       "23         1\n",
       "9          1\n",
       "Name: avenida, dtype: int64"
      ]
     },
     "execution_count": 79,
     "metadata": {},
     "output_type": "execute_result"
    }
   ],
   "source": [
    "df['avenida'] = df['descripcion'].apply(contar_palabras, palabras=[\"avenida\", \"av\", \"avenidas\", \"bulevar\", \n",
    "                                                                   \"boulevard\", \"paseo\", \"vía\"])\n",
    "\n",
    "df.avenida.value_counts()"
   ]
  },
  {
   "cell_type": "code",
   "execution_count": 80,
   "metadata": {},
   "outputs": [
    {
     "data": {
      "text/plain": [
       "0    223596\n",
       "1     13681\n",
       "2      2223\n",
       "3       411\n",
       "4        81\n",
       "5         7\n",
       "6         1\n",
       "Name: gim, dtype: int64"
      ]
     },
     "execution_count": 80,
     "metadata": {},
     "output_type": "execute_result"
    }
   ],
   "source": [
    "df['gim'] = df['descripcion'].apply(contar_palabras, palabras=[\"gimnasio\", \"gimnásio\", \"entrenamiento\", \n",
    "                                                                    \"gim\", \"gym\", \"fit\", \"ejercicio\", \"gimnasia\",\n",
    "                                                              \"atletismo\", \"cancha\"])\n",
    "df.gim.value_counts()"
   ]
  },
  {
   "cell_type": "code",
   "execution_count": 81,
   "metadata": {},
   "outputs": [
    {
     "data": {
      "text/plain": [
       "0.0    225006\n",
       "1.0     14994\n",
       "Name: gimnasio, dtype: int64"
      ]
     },
     "execution_count": 81,
     "metadata": {},
     "output_type": "execute_result"
    }
   ],
   "source": [
    "#Original\n",
    "df['gimnasio'].value_counts()"
   ]
  },
  {
   "cell_type": "code",
   "execution_count": 82,
   "metadata": {},
   "outputs": [],
   "source": [
    "#df['cochera'] = df['descripcion'].apply(contar_palabras, palabras=[\"cochera\", \"cocheras\", \"garage\", \n",
    "#                                                                   \"garages\", \"garaje\", \"garajes\"])\n",
    "\n",
    "#df.cochera.value_counts()"
   ]
  },
  {
   "cell_type": "code",
   "execution_count": 83,
   "metadata": {},
   "outputs": [
    {
     "data": {
      "text/plain": [
       "2.0    94167\n",
       "1.0    59464\n",
       "0.0    26926\n",
       "3.0    21678\n",
       "Name: garages, dtype: int64"
      ]
     },
     "execution_count": 83,
     "metadata": {},
     "output_type": "execute_result"
    }
   ],
   "source": [
    "#Original\n",
    "df.garages.value_counts()"
   ]
  },
  {
   "cell_type": "code",
   "execution_count": 84,
   "metadata": {},
   "outputs": [],
   "source": [
    "#df['ubicacion'] = df['descripcion'].apply(contar_palabras, palabras=[\"ubicacion\", \"ubicación\", \"locacion\", \n",
    "#                                                                   \"locación\", \"localizacion\", \"localización\",\n",
    "#                                                                    \"ubicado\", \"ubicada\", \"centro\", \"centrico\",\n",
    "#                                                                     \"centrica\", \"céntrico\", \"céntrica\"])\n",
    "\n",
    "#df.ubicacion.value_counts()"
   ]
  },
  {
   "cell_type": "code",
   "execution_count": 85,
   "metadata": {},
   "outputs": [
    {
     "data": {
      "text/plain": [
       "0     188938\n",
       "1      41476\n",
       "2       7646\n",
       "3       1403\n",
       "4        342\n",
       "5        127\n",
       "6         42\n",
       "7          8\n",
       "8          7\n",
       "9          5\n",
       "10         3\n",
       "18         1\n",
       "13         1\n",
       "12         1\n",
       "Name: balcon, dtype: int64"
      ]
     },
     "execution_count": 85,
     "metadata": {},
     "output_type": "execute_result"
    }
   ],
   "source": [
    "df['balcon'] = df['descripcion'].apply(contar_palabras, palabras=[\"balcon\", \"balcón\", \"terraza\", \n",
    "                                                                  \"palco\", \"mirador\", \"balconcillo\",\n",
    "                                                                  \"azotea\", \"solana\"])\n",
    "\n",
    "df.balcon.value_counts()"
   ]
  },
  {
   "cell_type": "code",
   "execution_count": 86,
   "metadata": {},
   "outputs": [],
   "source": [
    "#df['camaraseg'] = df['descripcion'].apply(contar_palabras, palabras=[\"camara\", \"cámara\", \"cámaras\", \"camaras\"])\n",
    "\n",
    "#df.camaraseg.value_counts()"
   ]
  },
  {
   "cell_type": "code",
   "execution_count": 87,
   "metadata": {},
   "outputs": [],
   "source": [
    "#df['parque'] = df['descripcion'].apply(contar_palabras, palabras=[\"parque\", \"plaza\", \"plazoleta\", \"glorieta\"])\n",
    "#\n",
    "#df.parque.value_counts()"
   ]
  },
  {
   "cell_type": "code",
   "execution_count": 88,
   "metadata": {},
   "outputs": [
    {
     "data": {
      "text/plain": [
       "0     234602\n",
       "1       4859\n",
       "2        445\n",
       "3         68\n",
       "4         13\n",
       "6          6\n",
       "5          5\n",
       "11         1\n",
       "8          1\n",
       "Name: amoblado, dtype: int64"
      ]
     },
     "execution_count": 88,
     "metadata": {},
     "output_type": "execute_result"
    }
   ],
   "source": [
    "df['amoblado'] = df['descripcion'].apply(contar_palabras, palabras=[\"muebles\", \"amoblado\", \"mueble\"])\n",
    "\n",
    "df.amoblado.value_counts()"
   ]
  },
  {
   "cell_type": "code",
   "execution_count": 89,
   "metadata": {},
   "outputs": [],
   "source": [
    "#df['bañera'] = df['descripcion'].apply(contar_palabras, palabras=[\"bañera\", \"hidromasaje\", \"hidro\", \"tina\"])\n",
    "\n",
    "#df.bañera.value_counts()"
   ]
  },
  {
   "cell_type": "code",
   "execution_count": 90,
   "metadata": {},
   "outputs": [],
   "source": [
    "#df['nuevo'] = df['descripcion'].apply(contar_palabras, palabras=[\"nuevo\", \"nueva\", \"estrenar\"])\n",
    "\n",
    "#df.nuevo.value_counts()"
   ]
  },
  {
   "cell_type": "code",
   "execution_count": 91,
   "metadata": {},
   "outputs": [
    {
     "data": {
      "text/plain": [
       "0    231893\n",
       "1      6117\n",
       "2      1616\n",
       "3       287\n",
       "4        65\n",
       "5        16\n",
       "6         6\n",
       "Name: transporte, dtype: int64"
      ]
     },
     "execution_count": 91,
     "metadata": {},
     "output_type": "execute_result"
    }
   ],
   "source": [
    "df['transporte'] = df['descripcion'].apply(contar_palabras, palabras=[\"subte\", \"subterraneo\", \"subterráneo\",\n",
    "                                                                     \"metro\", \"estacion\", \"estación\", \"tren\",\n",
    "                                                                     \"subestacion\", \"subestación\", \"ferrocarril\",\n",
    "                                                                     \"metrobús\", \"metrobus\", \"trolebus\",\n",
    "                                                                     \"trolebús\", \"bus\", \"bús\"])\n",
    "\n",
    "df.transporte.value_counts()"
   ]
  },
  {
   "cell_type": "code",
   "execution_count": 92,
   "metadata": {},
   "outputs": [
    {
     "data": {
      "text/plain": [
       "0.0    219028\n",
       "1.0     20972\n",
       "Name: piscina, dtype: int64"
      ]
     },
     "execution_count": 92,
     "metadata": {},
     "output_type": "execute_result"
    }
   ],
   "source": [
    "df['pileta'] = df['descripcion'].apply(contar_palabras, palabras=[\"piscina\", \"pileta\", \"nado\"])\n",
    "                                       \n",
    "df.piscina.value_counts()"
   ]
  },
  {
   "cell_type": "code",
   "execution_count": 93,
   "metadata": {},
   "outputs": [
    {
     "data": {
      "text/plain": [
       "0    227174\n",
       "1     11527\n",
       "2      1086\n",
       "3       160\n",
       "4        31\n",
       "5        18\n",
       "6         4\n",
       "Name: lujo, dtype: int64"
      ]
     },
     "execution_count": 93,
     "metadata": {},
     "output_type": "execute_result"
    }
   ],
   "source": [
    "df['lujo'] = df['descripcion'].apply(contar_palabras, palabras=[\"lujo\", \"delujo\", \"deluxe\", \n",
    "                                                                \"delúxe\", \"lujosa\", \"lujoso\", \n",
    "                                                                \"lujosas\", \"lujosos\"])\n",
    "df['lujo'].value_counts()"
   ]
  },
  {
   "cell_type": "code",
   "execution_count": 94,
   "metadata": {},
   "outputs": [],
   "source": [
    "#df['humilde'] = df['descripcion'].apply(contar_palabras, palabras=[\"humilde\", \"economico\", \"economica\", \n",
    "#                                                                \"económico\", \"económica\", \"barata\", \n",
    "#                                                                \"barato\", \"accesible\", \"baratillo\",\n",
    "#                                                                \"baratilla\", \"rebajado\", \"ganga\", \n",
    "#                                                               \"asequible\", \"módico\", \"módica\"])\n",
    "#df['humilde'].value_counts()"
   ]
  },
  {
   "cell_type": "code",
   "execution_count": 95,
   "metadata": {},
   "outputs": [
    {
     "data": {
      "text/plain": [
       "0     210572\n",
       "1      25068\n",
       "2       3402\n",
       "3        636\n",
       "4        182\n",
       "5         76\n",
       "6         38\n",
       "8         14\n",
       "7          5\n",
       "13         4\n",
       "9          2\n",
       "12         1\n",
       "Name: ventana, dtype: int64"
      ]
     },
     "execution_count": 95,
     "metadata": {},
     "output_type": "execute_result"
    }
   ],
   "source": [
    "df['ventana'] = df['descripcion'].apply(contar_palabras, palabras=[\"ventana\", \"ventanas\", \n",
    "                                                                   \"vista\", \"ventanal\"])\n",
    "\n",
    "df['ventana'].value_counts()"
   ]
  },
  {
   "cell_type": "code",
   "execution_count": 96,
   "metadata": {},
   "outputs": [],
   "source": [
    "#df['precios'] = df['descripcion'].apply(contar_palabras, palabras=[\"reciente\", \"recien\", \"recién\",\n",
    "#                                                                  \"nueva\", \"nuevo\", \"nuevas\", \"nuevos\",\n",
    "#                                                                  \"estrenar\"])\n",
    "\n",
    "#df['precios'].value_counts()"
   ]
  },
  {
   "cell_type": "code",
   "execution_count": 97,
   "metadata": {},
   "outputs": [
    {
     "data": {
      "text/plain": [
       "0    223863\n",
       "1     14939\n",
       "2       987\n",
       "3       169\n",
       "4        27\n",
       "5         9\n",
       "6         6\n",
       "Name: luz, dtype: int64"
      ]
     },
     "execution_count": 97,
     "metadata": {},
     "output_type": "execute_result"
    }
   ],
   "source": [
    "df['luz'] = df['descripcion'].apply(contar_palabras, palabras=[\"luz\", \"luminoso\", \"luminosa\",\n",
    "                                    \"claridad\", \"luminiscencia\", \"luminosidad\", \"iluminación\",\n",
    "                                                              \"iluminacion\"])\n",
    "\n",
    "df['luz'].value_counts()"
   ]
  },
  {
   "cell_type": "code",
   "execution_count": 98,
   "metadata": {},
   "outputs": [],
   "source": [
    "#df['bueno'] = df['descripcion'].apply(contar_palabras, palabras=[\"bueno\", \"buena\", \"buenas\", \"buenos\",\n",
    "#                                                                \"excelente\", \"excelentes\"])\n",
    "#\n",
    "#df['bueno'].value_counts()"
   ]
  },
  {
   "cell_type": "code",
   "execution_count": 99,
   "metadata": {},
   "outputs": [],
   "source": [
    "#df['malo'] = df['descripcion'].apply(contar_palabras, palabras=[\"malo\", \"mala\", \"feo\", \"fea\"])\n",
    "#\n",
    "#df['malo'].value_counts()"
   ]
  },
  {
   "cell_type": "code",
   "execution_count": 100,
   "metadata": {},
   "outputs": [
    {
     "data": {
      "text/plain": [
       "0     219551\n",
       "1      17844\n",
       "2       2141\n",
       "3        342\n",
       "4         82\n",
       "5         18\n",
       "6          9\n",
       "10         3\n",
       "8          3\n",
       "26         1\n",
       "16         1\n",
       "14         1\n",
       "12         1\n",
       "11         1\n",
       "9          1\n",
       "7          1\n",
       "Name: contable, dtype: int64"
      ]
     },
     "execution_count": 100,
     "metadata": {},
     "output_type": "execute_result"
    }
   ],
   "source": [
    "df['contable'] = df['descripcion'].apply(contar_palabras, palabras=[\"precio\"])\n",
    "\n",
    "df['contable'].value_counts()"
   ]
  },
  {
   "cell_type": "code",
   "execution_count": 101,
   "metadata": {},
   "outputs": [],
   "source": [
    "def mi_split (df):\n",
    "\n",
    "    X = df.drop(['precio'], axis = 1)\n",
    "    Y = df['precio']\n",
    "    x_train, x_test, y_train, y_test = train_test_split(X,Y,test_size=0.35)\n",
    "    return x_train, x_test, y_train, y_test\n",
    "\n",
    "from scipy.stats import uniform, randint\n",
    "from sklearn.metrics import auc, accuracy_score, confusion_matrix, mean_squared_error\n",
    "from sklearn.model_selection import cross_val_score, GridSearchCV, KFold\n",
    "from sklearn.model_selection import RandomizedSearchCV\n",
    "import xgboost as xgb\n",
    "from sklearn import preprocessing\n",
    "\n",
    "def minmax(serie):\n",
    "    \n",
    "    return (serie-serie.min())/(serie.max()-serie.min())\n",
    "\n",
    "def mean_target_encoding(train, nombrefeat, nombretarget):\n",
    "    \n",
    "    temp = train.groupby(nombrefeat)[nombretarget].transform(np.mean)\n",
    "    train[nombrefeat + \"_mean\"]=(temp-temp.min())/(temp.max()-temp.min())\n",
    "    \n",
    "    return train\n",
    "\n",
    "def mean_target_decoding(x_test, nombrefeat, x_train):\n",
    "    \n",
    "    nombrefeatmean = nombrefeat + \"_mean\"\n",
    "    \n",
    "    temp = x_train.loc[:,[nombrefeat,nombrefeatmean]]\n",
    "    temp = temp.set_index(nombrefeat)\n",
    "    temp = temp.drop_duplicates()\n",
    "    temp = temp.T.squeeze()\n",
    "    values = x_test[nombrefeat].map(temp)\n",
    "    x_test[nombrefeatmean] = values \n",
    "\n",
    "    return x_test\n",
    "\n",
    "def armar_set_2(train):\n",
    "    \n",
    "    #Puedo resolver de forma general las que son iguales para train y test\n",
    "    #es decir, aquellas que no filtran informacion a los de validacion\n",
    "    \n",
    "    train = train.drop(['descripcion', 'titulo', 'direccion', 'fecha', 'id'], axis = 1)\n",
    "    \n",
    "    #Adiciono servicios\n",
    "    train['servicios'] = train['piscina'] + train['gimnasio'] + train['usosmultiples']\n",
    "    \n",
    "    #\"Normalizo\" la antiguedad\n",
    "    #train['antiguedad'] = minmax(train['antiguedad'])\n",
    "    \n",
    "    #Elimino los residuos\n",
    "    train = train.drop(['piscina', 'gimnasio','usosmultiples','escuelascercanas', \n",
    "                        'centroscomercialescercanos'], axis = 1)\n",
    "    \n",
    "    #Hago el split                    \n",
    "    x_train, x_test, y_train, y_test = mi_split(train)\n",
    "        \n",
    "    x_train[\"precio\"] = y_train\n",
    "\n",
    "    \n",
    "    #Calculo los mean target\n",
    "    x_train_mean = mean_target_encoding(x_train, \"provincia\", \"precio\")\n",
    "    x_train_mean['precio'] = y_train\n",
    "    x_train_mean = mean_target_encoding(x_train_mean, \"tipodepropiedad\", \"precio\")\n",
    "    x_train_mean = mean_target_encoding(x_train_mean, \"ciudad\", \"precio\")\n",
    "    \n",
    "    #Se los asigno a los test (NO LOS CALCULO CON ELLOS!!!!!!)\n",
    "    x_test = mean_target_decoding(x_test, \"provincia\", x_train_mean)\n",
    "    x_test = mean_target_decoding(x_test, \"tipodepropiedad\", x_train_mean)\n",
    "    x_test = mean_target_decoding(x_test, \"ciudad\", x_train_mean)\n",
    "\n",
    "    backup = x_train_mean\n",
    "    \n",
    "    x_train = x_train_mean.drop([\"precio\",\"provincia\",\"tipodepropiedad\",\"ciudad\"], axis=1)\n",
    "    x_test.drop([\"provincia\",\"tipodepropiedad\", \"ciudad\"], axis=1, inplace = True)\n",
    "\n",
    "    \n",
    "    return x_train, x_test, y_train, y_test, backup"
   ]
  },
  {
   "cell_type": "code",
   "execution_count": 102,
   "metadata": {},
   "outputs": [],
   "source": [
    "from sklearn.model_selection import GridSearchCV, train_test_split\n",
    "from xgboost import XGBRegressor\n",
    "from sklearn.metrics import r2_score\n",
    "\n",
    "x_train, x_test, y_train, y_test, backup = armar_set_2(df)"
   ]
  },
  {
   "cell_type": "code",
   "execution_count": 103,
   "metadata": {},
   "outputs": [],
   "source": [
    "def report_best_scores(results, n_top=3):\n",
    "    for i in range(1, n_top + 1):\n",
    "        candidates = np.flatnonzero(results['rank_test_score'] == i)\n",
    "        for candidate in candidates:\n",
    "            print(\"Model with rank: {0}\".format(i))\n",
    "            print(\"Mean validation score: {0:.3f} (std: {1:.3f})\".format(\n",
    "                  results['mean_test_score'][candidate],\n",
    "                  results['std_test_score'][candidate]))\n",
    "            print(\"Parameters: {0}\".format(results['params'][candidate]))\n",
    "            print(\"\")"
   ]
  },
  {
   "cell_type": "code",
   "execution_count": 104,
   "metadata": {},
   "outputs": [],
   "source": [
    "from scipy.stats import uniform, randint\n",
    "from sklearn.metrics import auc, accuracy_score, confusion_matrix, mean_squared_error\n",
    "from sklearn.model_selection import cross_val_score, GridSearchCV, KFold\n",
    "from sklearn.model_selection import RandomizedSearchCV\n",
    "import xgboost as xgb"
   ]
  },
  {
   "cell_type": "code",
   "execution_count": null,
   "metadata": {},
   "outputs": [
    {
     "name": "stdout",
     "output_type": "stream",
     "text": [
      "Fitting 3 folds for each of 7 candidates, totalling 21 fits\n"
     ]
    },
    {
     "name": "stderr",
     "output_type": "stream",
     "text": [
      "[Parallel(n_jobs=1)]: Using backend SequentialBackend with 1 concurrent workers.\n",
      "/home/lorenzo/anaconda3/lib/python3.7/site-packages/xgboost/core.py:587: FutureWarning: Series.base is deprecated and will be removed in a future version\n",
      "  if getattr(data, 'base', None) is not None and \\\n",
      "/home/lorenzo/anaconda3/lib/python3.7/site-packages/xgboost/core.py:587: FutureWarning: Series.base is deprecated and will be removed in a future version\n",
      "  if getattr(data, 'base', None) is not None and \\\n",
      "/home/lorenzo/anaconda3/lib/python3.7/site-packages/xgboost/core.py:587: FutureWarning: Series.base is deprecated and will be removed in a future version\n",
      "  if getattr(data, 'base', None) is not None and \\\n",
      "/home/lorenzo/anaconda3/lib/python3.7/site-packages/xgboost/core.py:587: FutureWarning: Series.base is deprecated and will be removed in a future version\n",
      "  if getattr(data, 'base', None) is not None and \\\n",
      "/home/lorenzo/anaconda3/lib/python3.7/site-packages/xgboost/core.py:587: FutureWarning: Series.base is deprecated and will be removed in a future version\n",
      "  if getattr(data, 'base', None) is not None and \\\n",
      "/home/lorenzo/anaconda3/lib/python3.7/site-packages/xgboost/core.py:587: FutureWarning: Series.base is deprecated and will be removed in a future version\n",
      "  if getattr(data, 'base', None) is not None and \\\n",
      "/home/lorenzo/anaconda3/lib/python3.7/site-packages/xgboost/core.py:587: FutureWarning: Series.base is deprecated and will be removed in a future version\n",
      "  if getattr(data, 'base', None) is not None and \\\n",
      "/home/lorenzo/anaconda3/lib/python3.7/site-packages/xgboost/core.py:587: FutureWarning: Series.base is deprecated and will be removed in a future version\n",
      "  if getattr(data, 'base', None) is not None and \\\n",
      "/home/lorenzo/anaconda3/lib/python3.7/site-packages/xgboost/core.py:587: FutureWarning: Series.base is deprecated and will be removed in a future version\n",
      "  if getattr(data, 'base', None) is not None and \\\n",
      "/home/lorenzo/anaconda3/lib/python3.7/site-packages/xgboost/core.py:587: FutureWarning: Series.base is deprecated and will be removed in a future version\n",
      "  if getattr(data, 'base', None) is not None and \\\n",
      "/home/lorenzo/anaconda3/lib/python3.7/site-packages/xgboost/core.py:587: FutureWarning: Series.base is deprecated and will be removed in a future version\n",
      "  if getattr(data, 'base', None) is not None and \\\n",
      "/home/lorenzo/anaconda3/lib/python3.7/site-packages/xgboost/core.py:587: FutureWarning: Series.base is deprecated and will be removed in a future version\n",
      "  if getattr(data, 'base', None) is not None and \\\n",
      "/home/lorenzo/anaconda3/lib/python3.7/site-packages/xgboost/core.py:587: FutureWarning: Series.base is deprecated and will be removed in a future version\n",
      "  if getattr(data, 'base', None) is not None and \\\n",
      "/home/lorenzo/anaconda3/lib/python3.7/site-packages/xgboost/core.py:587: FutureWarning: Series.base is deprecated and will be removed in a future version\n",
      "  if getattr(data, 'base', None) is not None and \\\n",
      "/home/lorenzo/anaconda3/lib/python3.7/site-packages/xgboost/core.py:587: FutureWarning: Series.base is deprecated and will be removed in a future version\n",
      "  if getattr(data, 'base', None) is not None and \\\n",
      "/home/lorenzo/anaconda3/lib/python3.7/site-packages/xgboost/core.py:587: FutureWarning: Series.base is deprecated and will be removed in a future version\n",
      "  if getattr(data, 'base', None) is not None and \\\n",
      "/home/lorenzo/anaconda3/lib/python3.7/site-packages/xgboost/core.py:587: FutureWarning: Series.base is deprecated and will be removed in a future version\n",
      "  if getattr(data, 'base', None) is not None and \\\n",
      "/home/lorenzo/anaconda3/lib/python3.7/site-packages/xgboost/core.py:587: FutureWarning: Series.base is deprecated and will be removed in a future version\n",
      "  if getattr(data, 'base', None) is not None and \\\n",
      "/home/lorenzo/anaconda3/lib/python3.7/site-packages/xgboost/core.py:587: FutureWarning: Series.base is deprecated and will be removed in a future version\n",
      "  if getattr(data, 'base', None) is not None and \\\n",
      "/home/lorenzo/anaconda3/lib/python3.7/site-packages/xgboost/core.py:587: FutureWarning: Series.base is deprecated and will be removed in a future version\n",
      "  if getattr(data, 'base', None) is not None and \\\n",
      "/home/lorenzo/anaconda3/lib/python3.7/site-packages/xgboost/core.py:587: FutureWarning: Series.base is deprecated and will be removed in a future version\n",
      "  if getattr(data, 'base', None) is not None and \\\n",
      "[Parallel(n_jobs=1)]: Done  21 out of  21 | elapsed: 160.6min finished\n",
      "/home/lorenzo/anaconda3/lib/python3.7/site-packages/xgboost/core.py:587: FutureWarning: Series.base is deprecated and will be removed in a future version\n",
      "  if getattr(data, 'base', None) is not None and \\\n"
     ]
    }
   ],
   "source": [
    "params = {\n",
    "    \n",
    "    \"colsample_bytree\": uniform(0.3, 0.6),\n",
    "    \"gamma\": uniform(0.01, 0.015),\n",
    "    \"learning_rate\": uniform(0.02, 0.03), # default 0.1 \n",
    "    \"max_depth\": randint(10, 11), # default 3\n",
    "    \"n_estimators\": randint(1600, 1800), # default 100\n",
    "    \"subsample\": uniform(0.073, 0.074)\n",
    "}\n",
    "\n",
    "\n",
    "xgb_model = xgb.XGBRegressor(eval_metric = \"mae\", objective= \"reg:squarederror\")\n",
    "\n",
    "search = RandomizedSearchCV(xgb_model, param_distributions=params, \n",
    "                            random_state=99, n_iter=7, cv=3, verbose=1, n_jobs=1, \n",
    "                            return_train_score=True)\n",
    "\n",
    "search.fit(x_train, y_train)\n",
    "\n",
    "report_best_scores(search.cv_results_, 10)"
   ]
  },
  {
   "cell_type": "code",
   "execution_count": null,
   "metadata": {},
   "outputs": [],
   "source": [
    "xgb_model = search.best_estimator_\n",
    "xgb_model.fit(x_train, y_train)\n",
    "prediccion = xgb_model.predict(x_test)\n",
    "print(mean_absolute_error(y_test, prediccion))"
   ]
  },
  {
   "cell_type": "code",
   "execution_count": null,
   "metadata": {},
   "outputs": [],
   "source": [
    "xgb_model = search.best_estimator_"
   ]
  },
  {
   "cell_type": "markdown",
   "metadata": {},
   "source": [
    "## <mark> ACA ES GRID </mark>"
   ]
  },
  {
   "cell_type": "code",
   "execution_count": 69,
   "metadata": {
    "collapsed": true,
    "jupyter": {
     "outputs_hidden": true,
     "source_hidden": true
    }
   },
   "outputs": [
    {
     "name": "stderr",
     "output_type": "stream",
     "text": [
      "/home/lorenzo/anaconda3/lib/python3.7/site-packages/xgboost/core.py:587: FutureWarning: Series.base is deprecated and will be removed in a future version\n",
      "  if getattr(data, 'base', None) is not None and \\\n"
     ]
    },
    {
     "name": "stdout",
     "output_type": "stream",
     "text": [
      "[11:22:40] WARNING: /home/conda/feedstock_root/build_artifacts/xgboost_1572314959925/work/src/objective/regression_obj.cu:152: reg:linear is now deprecated in favor of reg:squarederror.\n"
     ]
    },
    {
     "name": "stderr",
     "output_type": "stream",
     "text": [
      "/home/lorenzo/anaconda3/lib/python3.7/site-packages/xgboost/core.py:587: FutureWarning: Series.base is deprecated and will be removed in a future version\n",
      "  if getattr(data, 'base', None) is not None and \\\n"
     ]
    },
    {
     "name": "stdout",
     "output_type": "stream",
     "text": [
      "[11:27:11] WARNING: /home/conda/feedstock_root/build_artifacts/xgboost_1572314959925/work/src/objective/regression_obj.cu:152: reg:linear is now deprecated in favor of reg:squarederror.\n"
     ]
    },
    {
     "name": "stderr",
     "output_type": "stream",
     "text": [
      "/home/lorenzo/anaconda3/lib/python3.7/site-packages/xgboost/core.py:587: FutureWarning: Series.base is deprecated and will be removed in a future version\n",
      "  if getattr(data, 'base', None) is not None and \\\n"
     ]
    },
    {
     "name": "stdout",
     "output_type": "stream",
     "text": [
      "[11:31:56] WARNING: /home/conda/feedstock_root/build_artifacts/xgboost_1572314959925/work/src/objective/regression_obj.cu:152: reg:linear is now deprecated in favor of reg:squarederror.\n"
     ]
    },
    {
     "name": "stderr",
     "output_type": "stream",
     "text": [
      "/home/lorenzo/anaconda3/lib/python3.7/site-packages/xgboost/core.py:587: FutureWarning: Series.base is deprecated and will be removed in a future version\n",
      "  if getattr(data, 'base', None) is not None and \\\n"
     ]
    },
    {
     "name": "stdout",
     "output_type": "stream",
     "text": [
      "[11:36:50] WARNING: /home/conda/feedstock_root/build_artifacts/xgboost_1572314959925/work/src/objective/regression_obj.cu:152: reg:linear is now deprecated in favor of reg:squarederror.\n"
     ]
    },
    {
     "name": "stderr",
     "output_type": "stream",
     "text": [
      "/home/lorenzo/anaconda3/lib/python3.7/site-packages/xgboost/core.py:587: FutureWarning: Series.base is deprecated and will be removed in a future version\n",
      "  if getattr(data, 'base', None) is not None and \\\n"
     ]
    },
    {
     "name": "stdout",
     "output_type": "stream",
     "text": [
      "[11:41:39] WARNING: /home/conda/feedstock_root/build_artifacts/xgboost_1572314959925/work/src/objective/regression_obj.cu:152: reg:linear is now deprecated in favor of reg:squarederror.\n"
     ]
    },
    {
     "name": "stderr",
     "output_type": "stream",
     "text": [
      "/home/lorenzo/anaconda3/lib/python3.7/site-packages/xgboost/core.py:587: FutureWarning: Series.base is deprecated and will be removed in a future version\n",
      "  if getattr(data, 'base', None) is not None and \\\n"
     ]
    },
    {
     "name": "stdout",
     "output_type": "stream",
     "text": [
      "[11:46:27] WARNING: /home/conda/feedstock_root/build_artifacts/xgboost_1572314959925/work/src/objective/regression_obj.cu:152: reg:linear is now deprecated in favor of reg:squarederror.\n"
     ]
    },
    {
     "name": "stderr",
     "output_type": "stream",
     "text": [
      "/home/lorenzo/anaconda3/lib/python3.7/site-packages/xgboost/core.py:587: FutureWarning: Series.base is deprecated and will be removed in a future version\n",
      "  if getattr(data, 'base', None) is not None and \\\n"
     ]
    },
    {
     "name": "stdout",
     "output_type": "stream",
     "text": [
      "[11:51:41] WARNING: /home/conda/feedstock_root/build_artifacts/xgboost_1572314959925/work/src/objective/regression_obj.cu:152: reg:linear is now deprecated in favor of reg:squarederror.\n"
     ]
    },
    {
     "name": "stderr",
     "output_type": "stream",
     "text": [
      "/home/lorenzo/anaconda3/lib/python3.7/site-packages/xgboost/core.py:587: FutureWarning: Series.base is deprecated and will be removed in a future version\n",
      "  if getattr(data, 'base', None) is not None and \\\n"
     ]
    },
    {
     "name": "stdout",
     "output_type": "stream",
     "text": [
      "[11:57:07] WARNING: /home/conda/feedstock_root/build_artifacts/xgboost_1572314959925/work/src/objective/regression_obj.cu:152: reg:linear is now deprecated in favor of reg:squarederror.\n"
     ]
    },
    {
     "name": "stderr",
     "output_type": "stream",
     "text": [
      "/home/lorenzo/anaconda3/lib/python3.7/site-packages/xgboost/core.py:587: FutureWarning: Series.base is deprecated and will be removed in a future version\n",
      "  if getattr(data, 'base', None) is not None and \\\n"
     ]
    },
    {
     "name": "stdout",
     "output_type": "stream",
     "text": [
      "[12:02:21] WARNING: /home/conda/feedstock_root/build_artifacts/xgboost_1572314959925/work/src/objective/regression_obj.cu:152: reg:linear is now deprecated in favor of reg:squarederror.\n"
     ]
    },
    {
     "name": "stderr",
     "output_type": "stream",
     "text": [
      "/home/lorenzo/anaconda3/lib/python3.7/site-packages/xgboost/core.py:587: FutureWarning: Series.base is deprecated and will be removed in a future version\n",
      "  if getattr(data, 'base', None) is not None and \\\n"
     ]
    },
    {
     "name": "stdout",
     "output_type": "stream",
     "text": [
      "[12:07:35] WARNING: /home/conda/feedstock_root/build_artifacts/xgboost_1572314959925/work/src/objective/regression_obj.cu:152: reg:linear is now deprecated in favor of reg:squarederror.\n"
     ]
    },
    {
     "name": "stderr",
     "output_type": "stream",
     "text": [
      "/home/lorenzo/anaconda3/lib/python3.7/site-packages/xgboost/core.py:587: FutureWarning: Series.base is deprecated and will be removed in a future version\n",
      "  if getattr(data, 'base', None) is not None and \\\n"
     ]
    },
    {
     "name": "stdout",
     "output_type": "stream",
     "text": [
      "[12:13:08] WARNING: /home/conda/feedstock_root/build_artifacts/xgboost_1572314959925/work/src/objective/regression_obj.cu:152: reg:linear is now deprecated in favor of reg:squarederror.\n"
     ]
    },
    {
     "name": "stderr",
     "output_type": "stream",
     "text": [
      "/home/lorenzo/anaconda3/lib/python3.7/site-packages/xgboost/core.py:587: FutureWarning: Series.base is deprecated and will be removed in a future version\n",
      "  if getattr(data, 'base', None) is not None and \\\n"
     ]
    },
    {
     "name": "stdout",
     "output_type": "stream",
     "text": [
      "[12:18:32] WARNING: /home/conda/feedstock_root/build_artifacts/xgboost_1572314959925/work/src/objective/regression_obj.cu:152: reg:linear is now deprecated in favor of reg:squarederror.\n"
     ]
    },
    {
     "name": "stderr",
     "output_type": "stream",
     "text": [
      "/home/lorenzo/anaconda3/lib/python3.7/site-packages/xgboost/core.py:587: FutureWarning: Series.base is deprecated and will be removed in a future version\n",
      "  if getattr(data, 'base', None) is not None and \\\n"
     ]
    },
    {
     "name": "stdout",
     "output_type": "stream",
     "text": [
      "[12:23:56] WARNING: /home/conda/feedstock_root/build_artifacts/xgboost_1572314959925/work/src/objective/regression_obj.cu:152: reg:linear is now deprecated in favor of reg:squarederror.\n"
     ]
    }
   ],
   "source": [
    "from sklearn.model_selection import GridSearchCV, train_test_split\n",
    "from xgboost import XGBRegressor\n",
    "from sklearn.metrics import r2_score\n",
    "\n",
    "\n",
    "# A parameter grid for XGBoost\n",
    "params = {'gamma':[0.015],  #Quedo 0.015\n",
    "          'subsample':[0.733], \n",
    "          'colsample_bytree': [0.5,0.6], #Quedo 0.6 \n",
    "          'max_depth': [11], #11\n",
    "          'n_estimators' : [1700,1750], #1700\n",
    "          'learning_rate' : [0.026] #Quedo 0.026\n",
    "}\n",
    "\n",
    "\n",
    "# Initialize XGB and GridSearch\n",
    "xgb = XGBRegressor(nthread=-1, eval_metric = \"mae\")\n",
    "\n",
    "grid = GridSearchCV(xgb, params, cv=3)\n",
    "grid.fit(x_train, y_train)\n",
    "\n",
    "predicciones = grid.best_estimator_.predict(x_test)"
   ]
  },
  {
   "cell_type": "code",
   "execution_count": 70,
   "metadata": {
    "collapsed": true,
    "jupyter": {
     "outputs_hidden": true,
     "source_hidden": true
    }
   },
   "outputs": [
    {
     "name": "stdout",
     "output_type": "stream",
     "text": [
      "547465.1786451009\n"
     ]
    }
   ],
   "source": [
    "from sklearn.metrics import mean_absolute_error\n",
    "\n",
    "# Print the MAE\n",
    "print(mean_absolute_error(y_test, predicciones))"
   ]
  },
  {
   "cell_type": "code",
   "execution_count": 71,
   "metadata": {
    "jupyter": {
     "source_hidden": true
    }
   },
   "outputs": [
    {
     "data": {
      "text/plain": [
       "XGBRegressor(base_score=0.5, booster='gbtree', colsample_bylevel=1,\n",
       "             colsample_bynode=1, colsample_bytree=0.5, eval_metric='mae',\n",
       "             gamma=0.015, importance_type='gain', learning_rate=0.026,\n",
       "             max_delta_step=0, max_depth=11, min_child_weight=1, missing=None,\n",
       "             n_estimators=1750, n_jobs=1, nthread=-1, objective='reg:linear',\n",
       "             random_state=0, reg_alpha=0, reg_lambda=1, scale_pos_weight=1,\n",
       "             seed=None, silent=None, subsample=0.733, verbosity=1)"
      ]
     },
     "execution_count": 71,
     "metadata": {},
     "output_type": "execute_result"
    }
   ],
   "source": [
    "grid.best_estimator_"
   ]
  },
  {
   "cell_type": "markdown",
   "metadata": {},
   "source": [
    "#### MAE : 547465.1786451009\n",
    "\n",
    "XGBRegressor(base_score=0.5, booster='gbtree', colsample_bylevel=1,\n",
    "             colsample_bynode=1, colsample_bytree=0.5, eval_metric='mae',\n",
    "             gamma=0.015, importance_type='gain', learning_rate=0.026,\n",
    "             max_delta_step=0, max_depth=11, min_child_weight=1, missing=None,\n",
    "             n_estimators=1750, n_jobs=1, nthread=-1, objective='reg:linear',\n",
    "             random_state=0, reg_alpha=0, reg_lambda=1, scale_pos_weight=1,\n",
    "             seed=None, silent=None, subsample=0.733, verbosity=1)"
   ]
  },
  {
   "cell_type": "markdown",
   "metadata": {},
   "source": [
    "#### MAE : 548968.9504166667\n",
    "\n",
    "XGBRegressor(base_score=0.5, booster='gbtree', colsample_bylevel=1,\n",
    "             colsample_bynode=1, colsample_bytree=0.6, eval_metric='mae',\n",
    "             gamma=0.015, importance_type='gain', learning_rate=0.026,\n",
    "             max_delta_step=0, max_depth=11, min_child_weight=1, missing=None,\n",
    "             n_estimators=1700, n_jobs=1, nthread=-1, objective='reg:linear',\n",
    "             random_state=0, reg_alpha=0, reg_lambda=1, scale_pos_weight=1,\n",
    "             seed=None, silent=None, subsample=0.733, verbosity=1)"
   ]
  },
  {
   "cell_type": "code",
   "execution_count": 109,
   "metadata": {},
   "outputs": [
    {
     "data": {
      "text/plain": [
       "XGBRegressor(base_score=0.5, booster='gbtree', colsample_bylevel=1,\n",
       "             colsample_bynode=1, colsample_bytree=0.5102869656029955,\n",
       "             eval_metric='mae', gamma=0.00050946256898882,\n",
       "             importance_type='gain', learning_rate=0.02886310488732638,\n",
       "             max_delta_step=0, max_depth=10, min_child_weight=1, missing=None,\n",
       "             n_estimators=1762, n_jobs=1, nthread=None,\n",
       "             objective='reg:squarederror', random_state=0, reg_alpha=0,\n",
       "             reg_lambda=1, scale_pos_weight=1, seed=None, silent=None,\n",
       "             subsample=0.1265714781762878, verbosity=1)"
      ]
     },
     "execution_count": 109,
     "metadata": {},
     "output_type": "execute_result"
    }
   ],
   "source": [
    "search.best_estimator_"
   ]
  },
  {
   "cell_type": "code",
   "execution_count": 110,
   "metadata": {},
   "outputs": [],
   "source": [
    "#Armo modelo\n",
    "\n",
    "#Search random 15:06\n",
    "#xgb_model = XGBRegressor(base_score=0.5, booster='gbtree', colsample_bylevel=1,\n",
    "#             colsample_bynode=1, colsample_bytree=0.5102869656029955,\n",
    "#             eval_metric='mae', gamma=0.00050946256898882,\n",
    "#             importance_type='gain', learning_rate=0.02886310488732638,\n",
    "#             max_delta_step=0, max_depth=10, min_child_weight=1, missing=None,\n",
    "#             n_estimators=1762, n_jobs=1, nthread=None,\n",
    "#             objective='reg:squarederror', random_state=0, reg_alpha=0,\n",
    "#             reg_lambda=1, scale_pos_weight=1, seed=None, silent=None,\n",
    "#             subsample=0.1265714781762878, verbosity=1)\n",
    "\n",
    "\n",
    "\n",
    "#XGBfeat5 \n",
    "#xgb_model = XGBRegressor(base_score=0.5, booster='gbtree', colsample_bylevel=1,\n",
    "#             colsample_bynode=1, colsample_bytree=0.6, eval_metric='mae',\n",
    "#             gamma=0.015, importance_type='gain', learning_rate=0.026,\n",
    "#             max_delta_step=0, max_depth=11, min_child_weight=1, missing=None,\n",
    "#             n_estimators=1700, n_jobs=1, nthread=-1, objective='reg:linear',\n",
    "#             random_state=0, reg_alpha=0, reg_lambda=1, scale_pos_weight=1,\n",
    "#             seed=None, silent=None, subsample=0.733, verbosity=1)\n",
    "\n",
    "#XGBfeat4 usaba ésta\n",
    "#xgb_model = XGBRegressor(base_score=0.5, booster='gbtree', colsample_bylevel=1,\n",
    "#             colsample_bynode=1, colsample_bytree=0.6, eval_metric='mae',\n",
    "#             gamma=0.015, importance_type='gain', learning_rate=0.026,\n",
    "#             max_delta_step=0, max_depth=11, min_child_weight=1, missing=None,\n",
    "#             n_estimators=1350, n_jobs=1, nthread=-1, objective='reg:linear',\n",
    "#             random_state=0, reg_alpha=0, reg_lambda=1, scale_pos_weight=1,\n",
    "#             seed=None, silent=None, subsample=0.733, verbosity=1)\n",
    "\n",
    "\n",
    "#XGBfeat3 usaba ésta\n",
    "#xgb_model = XGBRegressor(base_score=0.5, booster='gbtree', colsample_bylevel=1,\n",
    "#             colsample_bynode=1, colsample_bytree=0.7, eval_metric='mae',\n",
    "#             gamma=0.016666666666666666, importance_type='gain',\n",
    "#             learning_rate=0.022222222222222223, max_delta_step=0, max_depth=11,\n",
    "#             min_child_weight=1, missing=None, n_estimators=1100, n_jobs=1,\n",
    "#             nthread=-1, objective='reg:linear', random_state=0, reg_alpha=0,\n",
    "#             reg_lambda=1, scale_pos_weight=1, seed=None, silent=None,\n",
    "#             subsample=0.7333333333333333, verbosity=1)\n",
    "\n",
    "#XGBfeat2 usaba ésta\n",
    "#xgb_model = xgb.XGBRegressor(objective=\"reg:squarederror\",\n",
    "#                             colsample_bytree = 0.7,\n",
    "#                             gamma = 0.03333333333,\n",
    "#                             learning_rate = 0.025,\n",
    "#                             max_depth = 12,\n",
    "#                             n_estimators = 900,\n",
    "#                             subsample = 0.66666666, #Bajo un poco para que no overfittee\n",
    "#                             eval_metric = \"mae\") #Que es la que se usa en la competencia\n",
    "\n",
    "\n",
    "#Fitteo\n",
    "xgb_model.fit(x_train, y_train)\n",
    "prediccion = xgb_model.predict(x_test)"
   ]
  },
  {
   "cell_type": "code",
   "execution_count": 111,
   "metadata": {},
   "outputs": [
    {
     "name": "stdout",
     "output_type": "stream",
     "text": [
      "588916.611137207\n"
     ]
    }
   ],
   "source": [
    "#xgbfeat search random - 15:06\n",
    "#print(mean_absolute_error(y_test, prediccion))"
   ]
  },
  {
   "cell_type": "code",
   "execution_count": null,
   "metadata": {},
   "outputs": [],
   "source": [
    "#xgbfeat5\n",
    "#print(mean_absolute_error(y_test, prediccion))"
   ]
  },
  {
   "cell_type": "code",
   "execution_count": null,
   "metadata": {},
   "outputs": [],
   "source": [
    "#xhgbfeat4\n",
    "#print(mean_absolute_error(y_test, prediccion))\n",
    "#552984.8909435918"
   ]
  },
  {
   "cell_type": "code",
   "execution_count": null,
   "metadata": {},
   "outputs": [],
   "source": [
    "#xgbfeat3\n",
    "#print(mean_absolute_error(y_test, prediccion))\n",
    "#555617.3378835565"
   ]
  },
  {
   "cell_type": "markdown",
   "metadata": {},
   "source": [
    "### Armo el test"
   ]
  },
  {
   "cell_type": "code",
   "execution_count": 34,
   "metadata": {},
   "outputs": [],
   "source": [
    "x_test = pd.read_csv(\"test.csv\")"
   ]
  },
  {
   "cell_type": "code",
   "execution_count": 35,
   "metadata": {},
   "outputs": [],
   "source": [
    "df = x_test"
   ]
  },
  {
   "cell_type": "markdown",
   "metadata": {},
   "source": [
    "#### Hay que remover los nulos y aplicar la normalizacion primero"
   ]
  },
  {
   "cell_type": "code",
   "execution_count": 36,
   "metadata": {},
   "outputs": [],
   "source": [
    "df['descripcion'] = df['descripcion'].fillna(value = \".\")\n",
    "df['descripcion'] = df['descripcion'].apply(normalizar_descripciones)"
   ]
  },
  {
   "cell_type": "markdown",
   "metadata": {},
   "source": [
    "### - COMIENZA ANALISIS -"
   ]
  },
  {
   "cell_type": "code",
   "execution_count": 37,
   "metadata": {},
   "outputs": [],
   "source": [
    "#df['suite'] = df['descripcion'].apply(contar_palabras, palabras=[\"suite\"])\n",
    "#df['suite'].value_counts()"
   ]
  },
  {
   "cell_type": "code",
   "execution_count": 38,
   "metadata": {},
   "outputs": [
    {
     "data": {
      "text/plain": [
       "0    54142\n",
       "1     4831\n",
       "2      813\n",
       "3      155\n",
       "4       31\n",
       "5       14\n",
       "6        6\n",
       "7        5\n",
       "9        2\n",
       "8        1\n",
       "Name: avenida, dtype: int64"
      ]
     },
     "execution_count": 38,
     "metadata": {},
     "output_type": "execute_result"
    }
   ],
   "source": [
    "df['avenida'] = df['descripcion'].apply(contar_palabras, palabras=[\"avenida\", \"av\", \"avenidas\", \"bulevar\", \n",
    "                                                                   \"boulevard\", \"paseo\", \"vía\"])\n",
    "\n",
    "df.avenida.value_counts()"
   ]
  },
  {
   "cell_type": "code",
   "execution_count": 39,
   "metadata": {},
   "outputs": [
    {
     "data": {
      "text/plain": [
       "0    55889\n",
       "1     3406\n",
       "2      571\n",
       "3      109\n",
       "4       22\n",
       "5        3\n",
       "Name: gim, dtype: int64"
      ]
     },
     "execution_count": 39,
     "metadata": {},
     "output_type": "execute_result"
    }
   ],
   "source": [
    "df['gim'] = df['descripcion'].apply(contar_palabras, palabras=[\"gimnasio\", \"gimnásio\", \"entrenamiento\", \n",
    "                                                                    \"gim\", \"gym\", \"fit\", \"ejercicio\", \"gimnasia\",\n",
    "                                                              \"atletismo\", \"cancha\"])\n",
    "df.gim.value_counts()"
   ]
  },
  {
   "cell_type": "code",
   "execution_count": 40,
   "metadata": {},
   "outputs": [
    {
     "data": {
      "text/plain": [
       "0.0    56181\n",
       "1.0     3819\n",
       "Name: gimnasio, dtype: int64"
      ]
     },
     "execution_count": 40,
     "metadata": {},
     "output_type": "execute_result"
    }
   ],
   "source": [
    "#Original\n",
    "df['gimnasio'].value_counts()"
   ]
  },
  {
   "cell_type": "code",
   "execution_count": 41,
   "metadata": {},
   "outputs": [],
   "source": [
    "#df['cochera'] = df['descripcion'].apply(contar_palabras, palabras=[\"cochera\", \"cocheras\", \"garage\", \n",
    "#                                                                   \"garages\", \"garaje\", \"garajes\"])\n",
    "#\n",
    "#df.cochera.value_counts()"
   ]
  },
  {
   "cell_type": "code",
   "execution_count": 42,
   "metadata": {},
   "outputs": [
    {
     "data": {
      "text/plain": [
       "2.0    23538\n",
       "1.0    14864\n",
       "0.0     6779\n",
       "3.0     5496\n",
       "Name: garages, dtype: int64"
      ]
     },
     "execution_count": 42,
     "metadata": {},
     "output_type": "execute_result"
    }
   ],
   "source": [
    "#Original\n",
    "df.garages.value_counts()"
   ]
  },
  {
   "cell_type": "code",
   "execution_count": 43,
   "metadata": {},
   "outputs": [],
   "source": [
    "#df['ubicacion'] = df['descripcion'].apply(contar_palabras, palabras=[\"ubicacion\", \"ubicación\", \"locacion\", \n",
    "#                                                                   \"locación\", \"localizacion\", \"localización\",\n",
    "#                                                                    \"ubicado\", \"ubicada\", \"centro\", \"centrico\",\n",
    "#                                                                     \"centrica\", \"céntrico\", \"céntrica\"])\n",
    "\n",
    "#df.ubicacion.value_counts()"
   ]
  },
  {
   "cell_type": "code",
   "execution_count": 44,
   "metadata": {},
   "outputs": [
    {
     "data": {
      "text/plain": [
       "0     47358\n",
       "1     10213\n",
       "2      1923\n",
       "3       354\n",
       "4       103\n",
       "5        30\n",
       "6        10\n",
       "8         4\n",
       "7         2\n",
       "12        1\n",
       "10        1\n",
       "9         1\n",
       "Name: balcon, dtype: int64"
      ]
     },
     "execution_count": 44,
     "metadata": {},
     "output_type": "execute_result"
    }
   ],
   "source": [
    "df['balcon'] = df['descripcion'].apply(contar_palabras, palabras=[\"balcon\", \"balcón\", \"terraza\", \n",
    "                                                                  \"palco\", \"mirador\", \"balconcillo\",\n",
    "                                                                  \"azotea\", \"solana\"])\n",
    "\n",
    "df.balcon.value_counts()"
   ]
  },
  {
   "cell_type": "code",
   "execution_count": 45,
   "metadata": {},
   "outputs": [],
   "source": [
    "#df['camaraseg'] = df['descripcion'].apply(contar_palabras, palabras=[\"camara\", \"cámara\", \"cámaras\", \"camaras\"])\n",
    "\n",
    "#df.camaraseg.value_counts()"
   ]
  },
  {
   "cell_type": "code",
   "execution_count": 46,
   "metadata": {},
   "outputs": [],
   "source": [
    "#df['parque'] = df['descripcion'].apply(contar_palabras, palabras=[\"parque\", \"plaza\", \"plazoleta\", \"glorieta\"])\n",
    "\n",
    "#df.parque.value_counts()"
   ]
  },
  {
   "cell_type": "code",
   "execution_count": 47,
   "metadata": {},
   "outputs": [
    {
     "data": {
      "text/plain": [
       "0    58700\n",
       "1     1171\n",
       "2       97\n",
       "3       22\n",
       "4        7\n",
       "5        3\n",
       "Name: amoblado, dtype: int64"
      ]
     },
     "execution_count": 47,
     "metadata": {},
     "output_type": "execute_result"
    }
   ],
   "source": [
    "df['amoblado'] = df['descripcion'].apply(contar_palabras, palabras=[\"muebles\", \"amoblado\", \"mueble\"])\n",
    "\n",
    "df.amoblado.value_counts()"
   ]
  },
  {
   "cell_type": "code",
   "execution_count": 48,
   "metadata": {},
   "outputs": [],
   "source": [
    "#df['bañera'] = df['descripcion'].apply(contar_palabras, palabras=[\"bañera\", \"hidromasaje\", \"hidro\", \"tina\"])\n",
    "#\n",
    "#df.bañera.value_counts()"
   ]
  },
  {
   "cell_type": "code",
   "execution_count": 49,
   "metadata": {},
   "outputs": [],
   "source": [
    "#df['nuevo'] = df['descripcion'].apply(contar_palabras, palabras=[\"nuevo\", \"nueva\", \"estrenar\"])\n",
    "#\n",
    "#df.nuevo.value_counts()"
   ]
  },
  {
   "cell_type": "code",
   "execution_count": 50,
   "metadata": {},
   "outputs": [
    {
     "data": {
      "text/plain": [
       "0    57914\n",
       "1     1576\n",
       "2      415\n",
       "3       76\n",
       "4       11\n",
       "5        5\n",
       "7        2\n",
       "9        1\n",
       "Name: transporte, dtype: int64"
      ]
     },
     "execution_count": 50,
     "metadata": {},
     "output_type": "execute_result"
    }
   ],
   "source": [
    "df['transporte'] = df['descripcion'].apply(contar_palabras, palabras=[\"subte\", \"subterraneo\", \"subterráneo\",\n",
    "                                                                     \"metro\", \"estacion\", \"estación\", \"tren\",\n",
    "                                                                     \"subestacion\", \"subestación\", \"ferrocarril\",\n",
    "                                                                     \"metrobús\", \"metrobus\", \"trolebus\",\n",
    "                                                                     \"trolebús\", \"bus\", \"bús\"])\n",
    "\n",
    "df.transporte.value_counts()"
   ]
  },
  {
   "cell_type": "code",
   "execution_count": 51,
   "metadata": {},
   "outputs": [
    {
     "data": {
      "text/plain": [
       "0.0    54704\n",
       "1.0     5296\n",
       "Name: piscina, dtype: int64"
      ]
     },
     "execution_count": 51,
     "metadata": {},
     "output_type": "execute_result"
    }
   ],
   "source": [
    "df['pileta'] = df['descripcion'].apply(contar_palabras, palabras=[\"piscina\", \"pileta\", \"nado\"])\n",
    "                                       \n",
    "df.piscina.value_counts()"
   ]
  },
  {
   "cell_type": "code",
   "execution_count": 52,
   "metadata": {},
   "outputs": [
    {
     "data": {
      "text/plain": [
       "0    56745\n",
       "1     2953\n",
       "2      261\n",
       "3       33\n",
       "4        5\n",
       "8        1\n",
       "6        1\n",
       "5        1\n",
       "Name: lujo, dtype: int64"
      ]
     },
     "execution_count": 52,
     "metadata": {},
     "output_type": "execute_result"
    }
   ],
   "source": [
    "df['lujo'] = df['descripcion'].apply(contar_palabras, palabras=[\"lujo\", \"delujo\", \"deluxe\", \n",
    "                                                                \"delúxe\", \"lujosa\", \"lujoso\", \n",
    "                                                                \"lujosas\", \"lujosos\"])\n",
    "df['lujo'].value_counts()"
   ]
  },
  {
   "cell_type": "code",
   "execution_count": 53,
   "metadata": {},
   "outputs": [],
   "source": [
    "#df['humilde'] = df['descripcion'].apply(contar_palabras, palabras=[\"humilde\", \"economico\", \"economica\", \n",
    "#                                                                \"económico\", \"económica\", \"barata\", \n",
    "#                                                                \"barato\", \"accesible\", \"baratillo\",\n",
    "#                                                                \"baratilla\", \"rebajado\", \"ganga\", \n",
    "#                                                               \"asequible\", \"módico\", \"módica\"])\n",
    "#df['humilde'].value_counts()"
   ]
  },
  {
   "cell_type": "code",
   "execution_count": 54,
   "metadata": {},
   "outputs": [
    {
     "data": {
      "text/plain": [
       "0     52591\n",
       "1      6290\n",
       "2       888\n",
       "3       154\n",
       "4        42\n",
       "5        20\n",
       "6         9\n",
       "7         4\n",
       "12        1\n",
       "8         1\n",
       "Name: ventana, dtype: int64"
      ]
     },
     "execution_count": 54,
     "metadata": {},
     "output_type": "execute_result"
    }
   ],
   "source": [
    "df['ventana'] = df['descripcion'].apply(contar_palabras, palabras=[\"ventana\", \"ventanas\", \n",
    "                                                                   \"vista\", \"ventanal\"])\n",
    "\n",
    "df['ventana'].value_counts()"
   ]
  },
  {
   "cell_type": "code",
   "execution_count": 55,
   "metadata": {},
   "outputs": [],
   "source": [
    "#df['precios'] = df['descripcion'].apply(contar_palabras, palabras=[\"reciente\", \"recien\", \"recién\",\n",
    "#                                                                  \"nueva\", \"nuevo\", \"nuevas\", \"nuevos\",\n",
    "#                                                                  \"estrenar\"])\n",
    "\n",
    "#df['precios'].value_counts()"
   ]
  },
  {
   "cell_type": "code",
   "execution_count": 56,
   "metadata": {},
   "outputs": [
    {
     "data": {
      "text/plain": [
       "0    55938\n",
       "1     3745\n",
       "2      264\n",
       "3       37\n",
       "4       11\n",
       "5        5\n",
       "Name: luz, dtype: int64"
      ]
     },
     "execution_count": 56,
     "metadata": {},
     "output_type": "execute_result"
    }
   ],
   "source": [
    "df['luz'] = df['descripcion'].apply(contar_palabras, palabras=[\"luz\", \"luminoso\", \"luminosa\",\n",
    "                                    \"claridad\", \"luminiscencia\", \"luminosidad\", \"iluminación\",\n",
    "                                                              \"iluminacion\"])\n",
    "\n",
    "df['luz'].value_counts()"
   ]
  },
  {
   "cell_type": "code",
   "execution_count": 57,
   "metadata": {},
   "outputs": [],
   "source": [
    "#df['bueno'] = df['descripcion'].apply(contar_palabras, palabras=[\"bueno\", \"buena\", \"buenas\", \"buenos\",\n",
    "#                                                                \"excelente\", \"excelentes\"])\n",
    "#\n",
    "#df['bueno'].value_counts()"
   ]
  },
  {
   "cell_type": "code",
   "execution_count": 58,
   "metadata": {},
   "outputs": [],
   "source": [
    "#df['malo'] = df['descripcion'].apply(contar_palabras, palabras=[\"malo\", \"mala\", \"feo\", \"fea\"])\n",
    "#\n",
    "#df['malo'].value_counts()"
   ]
  },
  {
   "cell_type": "code",
   "execution_count": 59,
   "metadata": {},
   "outputs": [
    {
     "data": {
      "text/plain": [
       "0     54930\n",
       "1      4456\n",
       "2       509\n",
       "3        83\n",
       "4        12\n",
       "6         3\n",
       "5         3\n",
       "17        1\n",
       "15        1\n",
       "12        1\n",
       "7         1\n",
       "Name: contable, dtype: int64"
      ]
     },
     "execution_count": 59,
     "metadata": {},
     "output_type": "execute_result"
    }
   ],
   "source": [
    "df['contable'] = df['descripcion'].apply(contar_palabras, palabras=[\"precio\"])\n",
    "\n",
    "df['contable'].value_counts()"
   ]
  },
  {
   "cell_type": "code",
   "execution_count": 60,
   "metadata": {},
   "outputs": [],
   "source": [
    "x_test = df"
   ]
  },
  {
   "cell_type": "code",
   "execution_count": 61,
   "metadata": {},
   "outputs": [],
   "source": [
    "#Adiciono servicios\n",
    "x_test['servicios'] = x_test['piscina'] + x_test['gimnasio'] + x_test['usosmultiples']\n",
    "\n",
    "#\"Normalizo\" la antiguedad\n",
    "#x_train['antiguedad'] = minmax(x_train['antiguedad'])\n",
    "\n",
    "#Se los asigno a los test (NO LOS CALCULO CON ELLOS!!!!!!)\n",
    "x_test = mean_target_decoding(x_test, \"provincia\", backup)\n",
    "x_test = mean_target_decoding(x_test, \"tipodepropiedad\", backup)\n",
    "x_test = mean_target_decoding(x_test, \"ciudad\", backup)\n",
    "\n",
    "#Elimino los residuos\n",
    "x_test = x_test.drop(['piscina', 'gimnasio','usosmultiples','escuelascercanas', 'fecha',\n",
    "                  'centroscomercialescercanos', 'titulo', 'direccion', 'descripcion',\n",
    "                  'id'], axis = 1)\n",
    "\n",
    "########### LIMPIO LOS QUE HICE MEAN ################\n",
    "\n",
    "x_test.drop([\"provincia\", \"tipodepropiedad\",\"ciudad\"], axis=1, inplace = True)"
   ]
  },
  {
   "cell_type": "code",
   "execution_count": 62,
   "metadata": {},
   "outputs": [],
   "source": [
    "prediccion = xgb_model.predict(x_test)"
   ]
  },
  {
   "cell_type": "code",
   "execution_count": 63,
   "metadata": {},
   "outputs": [],
   "source": [
    "test_original = pd.read_csv(\"test.csv\")\n",
    "predicciones = test_original.loc[:, ['id','ciudad']]\n",
    "predicciones.rename(columns = {'ciudad' : 'target'}, inplace = True)\n",
    "predicciones['target'] = prediccion\n",
    "predicciones = predicciones.set_index('id')"
   ]
  },
  {
   "cell_type": "code",
   "execution_count": 64,
   "metadata": {},
   "outputs": [],
   "source": [
    "predicciones.to_csv(r'prediccionXGBfeat4.csv')"
   ]
  },
  {
   "cell_type": "code",
   "execution_count": null,
   "metadata": {},
   "outputs": [],
   "source": []
  }
 ],
 "metadata": {
  "kernelspec": {
   "display_name": "Python 3",
   "language": "python",
   "name": "python3"
  },
  "language_info": {
   "codemirror_mode": {
    "name": "ipython",
    "version": 3
   },
   "file_extension": ".py",
   "mimetype": "text/x-python",
   "name": "python",
   "nbconvert_exporter": "python",
   "pygments_lexer": "ipython3",
   "version": "3.7.3"
  }
 },
 "nbformat": 4,
 "nbformat_minor": 4
}

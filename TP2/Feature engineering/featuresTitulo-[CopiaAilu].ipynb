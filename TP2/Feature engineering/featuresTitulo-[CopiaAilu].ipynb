{
 "cells": [
  {
   "cell_type": "markdown",
   "metadata": {},
   "source": [
    "### FE: Analisis de Descripciones + titulo"
   ]
  },
  {
   "cell_type": "code",
   "execution_count": 167,
   "metadata": {
    "scrolled": true
   },
   "outputs": [],
   "source": [
    "import pandas as pd\n",
    "df = pd.read_csv(\"./train.csv\")"
   ]
  },
  {
   "cell_type": "markdown",
   "metadata": {},
   "source": [
    "#### Vemos que hay nulos pero son muy pocos en comparacion a todos los anuncios que hay"
   ]
  },
  {
   "cell_type": "code",
   "execution_count": 168,
   "metadata": {},
   "outputs": [
    {
     "name": "stdout",
     "output_type": "stream",
     "text": [
      "Porcentaje de Nulidad: 2.2445833333333334%\n"
     ]
    }
   ],
   "source": [
    "x = df['titulo'].isna().sum() / df['titulo'].size * 100\n",
    "print(\"Porcentaje de Nulidad: \"+ str(x) + \"%\")"
   ]
  },
  {
   "cell_type": "markdown",
   "metadata": {},
   "source": [
    "#### Entonces nos atrevemos a encontrar posibles valores repetidos en el titulo que puedan ser features escondidas, éstas son las funciones a utilizar"
   ]
  },
  {
   "cell_type": "markdown",
   "metadata": {},
   "source": [
    "### OPTIMIZACION DE LAS FUNCIONES EMPLEADAS"
   ]
  },
  {
   "cell_type": "code",
   "execution_count": 169,
   "metadata": {},
   "outputs": [],
   "source": [
    "def contar_palabras(titulo, palabras):\n",
    "    \n",
    "    contadas = 0\n",
    "    \n",
    "    for palabra in palabras:\n",
    "        spliteado = titulo.split()\n",
    "        contadas += spliteado.count(palabra)\n",
    "        \n",
    "    return contadas"
   ]
  },
  {
   "cell_type": "code",
   "execution_count": 170,
   "metadata": {},
   "outputs": [],
   "source": [
    "def contar_frases(columna, frases):\n",
    "    \n",
    "    contadas = 0\n",
    "    \n",
    "    for frase in frases:\n",
    "        \n",
    "        contadas += columna.count(frase)\n",
    "        \n",
    "    return contadas"
   ]
  },
  {
   "cell_type": "code",
   "execution_count": 171,
   "metadata": {},
   "outputs": [],
   "source": [
    "def contar_mayus(frase):\n",
    "    indice = 0\n",
    "    mayusculas = 0\n",
    "    frase = str(frase)\n",
    "\n",
    "    while (indice < len(frase)):\n",
    "        letra = frase[indice]\n",
    "        if (letra.isupper()):\n",
    "            mayusculas +=1\n",
    "        indice += 1\n",
    "    \n",
    "    return mayusculas"
   ]
  },
  {
   "cell_type": "code",
   "execution_count": 172,
   "metadata": {},
   "outputs": [],
   "source": [
    "df['mayusculas'] = df['descripcion'].apply(contar_mayus) + df['titulo'].apply(contar_mayus)"
   ]
  },
  {
   "cell_type": "code",
   "execution_count": 173,
   "metadata": {},
   "outputs": [],
   "source": [
    "def normalizar_descripciones(descripcion):\n",
    "    \n",
    "    descripcion = descripcion.replace(',', ' ')\n",
    "    descripcion = descripcion.replace('.', ' ')\n",
    "    descripcion = descripcion.replace('<', ' ')\n",
    "    descripcion = descripcion.replace('>', ' ')\n",
    "    descripcion = descripcion.replace('\\n', ' ')\n",
    "    descripcion = descripcion.replace('\\strong', ' ')\n",
    "    descripcion = descripcion.replace('\\bold', ' ')\n",
    "    descripcion = descripcion.lower()\n",
    "    \n",
    "    return descripcion"
   ]
  },
  {
   "cell_type": "markdown",
   "metadata": {},
   "source": [
    "#### Hay que remover los nulos y aplicar la normalizacion primero"
   ]
  },
  {
   "cell_type": "code",
   "execution_count": 174,
   "metadata": {},
   "outputs": [],
   "source": [
    "df['titulo'] = df['titulo'].fillna(value = \".\")\n",
    "df['titulo'] = df['titulo'].apply(normalizar_descripciones)\n",
    "df['descripcion'] = df['descripcion'].fillna(value = \".\")\n",
    "df['descripcion'] = df['descripcion'].apply(normalizar_descripciones)"
   ]
  },
  {
   "cell_type": "markdown",
   "metadata": {},
   "source": [
    "### - COMIENZA ANALISIS -"
   ]
  },
  {
   "cell_type": "code",
   "execution_count": 175,
   "metadata": {},
   "outputs": [
    {
     "data": {
      "text/plain": [
       "0    222721\n",
       "1     14962\n",
       "2      1964\n",
       "3       288\n",
       "4        44\n",
       "5        20\n",
       "6         1\n",
       "Name: calefaccion, dtype: int64"
      ]
     },
     "execution_count": 175,
     "metadata": {},
     "output_type": "execute_result"
    }
   ],
   "source": [
    "df['calefaccion'] = df['titulo'].apply(contar_palabras, palabras=[\"calefaccion\", \"calefacción\", \"calefaccionado\", \"aireacondicinado\",\n",
    "                    \"acondicionado\", \"estufa\",\"chimenea\"]) +df['descripcion'].apply(contar_palabras, palabras=[\"calefaccion\", \n",
    "                    \"calefacción\", \"calefaccionado\", \"aireacondicinado\", \"acondicionado\", \"estufa\",\"chimenea\"])\n",
    "\n",
    "df.calefaccion.value_counts()"
   ]
  },
  {
   "cell_type": "code",
   "execution_count": 176,
   "metadata": {},
   "outputs": [
    {
     "data": {
      "text/plain": [
       "0    239511\n",
       "1       387\n",
       "2        80\n",
       "3        18\n",
       "5         2\n",
       "4         2\n",
       "Name: suite, dtype: int64"
      ]
     },
     "execution_count": 176,
     "metadata": {},
     "output_type": "execute_result"
    }
   ],
   "source": [
    "df['suite'] = df['titulo'].apply(contar_palabras, palabras=[\"suite\"])+df['descripcion'].apply(contar_palabras, palabras=[\"suite\"])\n",
    "df['suite'].value_counts()"
   ]
  },
  {
   "cell_type": "code",
   "execution_count": 177,
   "metadata": {},
   "outputs": [
    {
     "data": {
      "text/plain": [
       "0     213324\n",
       "1      21084\n",
       "2       4459\n",
       "3        785\n",
       "4        228\n",
       "5         66\n",
       "6         36\n",
       "8          7\n",
       "7          4\n",
       "11         2\n",
       "10         2\n",
       "9          2\n",
       "23         1\n",
       "Name: avenida, dtype: int64"
      ]
     },
     "execution_count": 177,
     "metadata": {},
     "output_type": "execute_result"
    }
   ],
   "source": [
    "df['avenida'] = df['titulo'].apply(contar_palabras, palabras=[\"avenida\", \"av\", \"avenidas\", \"bulevar\", \n",
    "               \"boulevard\", \"paseo\", \"vía\"])+df['descripcion'].apply(contar_palabras, palabras=[\"avenida\", \"av\", \n",
    "                \"avenidas\", \"bulevar\",\"boulevard\", \"paseo\", \"vía\"])\n",
    "\n",
    "df.avenida.value_counts()"
   ]
  },
  {
   "cell_type": "code",
   "execution_count": 178,
   "metadata": {},
   "outputs": [
    {
     "data": {
      "text/plain": [
       "0    223555\n",
       "1     13619\n",
       "2      2301\n",
       "3       430\n",
       "4        81\n",
       "5        12\n",
       "6         2\n",
       "Name: gim, dtype: int64"
      ]
     },
     "execution_count": 178,
     "metadata": {},
     "output_type": "execute_result"
    }
   ],
   "source": [
    "df['gim'] = df['titulo'].apply(contar_palabras, palabras=[\"gimnasio\", \"gimnásio\", \"entrenamiento\", \"gim\", \"gym\", \"fit\",\n",
    "            \"ejercicio\", \"gimnasia\",\"atletismo\", \"cancha\"])+df['descripcion'].apply(contar_palabras, palabras=[\"gimnasio\",\n",
    "            \"gimnásio\", \"entrenamiento\", \"gim\", \"gym\", \"fit\",\"ejercicio\", \"gimnasia\",\"atletismo\", \"cancha\"])\n",
    "df.gim.value_counts()"
   ]
  },
  {
   "cell_type": "code",
   "execution_count": 179,
   "metadata": {},
   "outputs": [
    {
     "data": {
      "text/plain": [
       "0.0    225006\n",
       "1.0     14994\n",
       "Name: gimnasio, dtype: int64"
      ]
     },
     "execution_count": 179,
     "metadata": {},
     "output_type": "execute_result"
    }
   ],
   "source": [
    "#Original\n",
    "df['gimnasio'].value_counts()"
   ]
  },
  {
   "cell_type": "code",
   "execution_count": 180,
   "metadata": {},
   "outputs": [
    {
     "data": {
      "text/plain": [
       "0     180535\n",
       "1      56273\n",
       "2       2910\n",
       "3        232\n",
       "4         39\n",
       "6          7\n",
       "5          3\n",
       "12         1\n",
       "Name: cochera, dtype: int64"
      ]
     },
     "execution_count": 180,
     "metadata": {},
     "output_type": "execute_result"
    }
   ],
   "source": [
    "df['cochera'] = df['titulo'].apply(contar_palabras, palabras=[\"cochera\", \"cocheras\", \"garage\", \n",
    "                \"garages\", \"garaje\", \"garajes\"])+df['descripcion'].apply(contar_palabras, palabras=[\"cochera\", \n",
    "                \"cocheras\", \"garage\",\"garages\", \"garaje\", \"garajes\"])\n",
    "\n",
    "df.cochera.value_counts()"
   ]
  },
  {
   "cell_type": "code",
   "execution_count": 181,
   "metadata": {},
   "outputs": [
    {
     "data": {
      "text/plain": [
       "2.0    94167\n",
       "1.0    59464\n",
       "0.0    26926\n",
       "3.0    21678\n",
       "Name: garages, dtype: int64"
      ]
     },
     "execution_count": 181,
     "metadata": {},
     "output_type": "execute_result"
    }
   ],
   "source": [
    "#Original\n",
    "df.garages.value_counts()"
   ]
  },
  {
   "cell_type": "code",
   "execution_count": 182,
   "metadata": {},
   "outputs": [
    {
     "data": {
      "text/plain": [
       "0     160432\n",
       "1      62015\n",
       "2      14002\n",
       "3       2764\n",
       "4        601\n",
       "5        133\n",
       "6         29\n",
       "7         11\n",
       "8          8\n",
       "10         4\n",
       "13         1\n",
       "Name: ubicacion, dtype: int64"
      ]
     },
     "execution_count": 182,
     "metadata": {},
     "output_type": "execute_result"
    }
   ],
   "source": [
    "df['ubicacion'] = df['titulo'].apply(contar_palabras, palabras=[\"ubicacion\", \"ubicación\", \"locacion\", \n",
    "                \"locación\", \"localizacion\", \"localización\",\"ubicado\", \"ubicada\", \"centro\", \"centrico\",\n",
    "                \"centrica\", \"céntrico\", \"céntrica\",\"central\"])+df['descripcion'].apply(contar_palabras, palabras=[\"ubicacion\", \"ubicación\", \"locacion\", \n",
    "                \"locación\", \"localizacion\", \"localización\",\"ubicado\", \"ubicada\", \"centro\", \"centrico\",\n",
    "                \"centrica\", \"céntrico\", \"céntrica\",\"central\"])\n",
    "\n",
    "df.ubicacion.value_counts()"
   ]
  },
  {
   "cell_type": "code",
   "execution_count": 183,
   "metadata": {},
   "outputs": [
    {
     "data": {
      "text/plain": [
       "0     188223\n",
       "1      41437\n",
       "2       8167\n",
       "3       1590\n",
       "4        372\n",
       "5        141\n",
       "6         43\n",
       "7          9\n",
       "8          7\n",
       "9          5\n",
       "10         3\n",
       "18         1\n",
       "13         1\n",
       "12         1\n",
       "Name: balcon, dtype: int64"
      ]
     },
     "execution_count": 183,
     "metadata": {},
     "output_type": "execute_result"
    }
   ],
   "source": [
    "df['balcon'] = df['titulo'].apply(contar_palabras, palabras=[\"balcon\", \"balcón\", \"terraza\", \"palco\", \"mirador\", \n",
    "            \"balconcillo\",\"azotea\", \"solana\"])+df['descripcion'].apply(contar_palabras, palabras=[\"balcon\", \"balcón\", \n",
    "            \"terraza\", \"palco\", \"mirador\", \"balconcillo\",\"azotea\", \"solana\"])\n",
    "\n",
    "df.balcon.value_counts()"
   ]
  },
  {
   "cell_type": "code",
   "execution_count": 184,
   "metadata": {},
   "outputs": [
    {
     "data": {
      "text/plain": [
       "0    219632\n",
       "1     17766\n",
       "2      2224\n",
       "3       299\n",
       "4        51\n",
       "5        26\n",
       "6         2\n",
       "Name: camaraseg, dtype: int64"
      ]
     },
     "execution_count": 184,
     "metadata": {},
     "output_type": "execute_result"
    }
   ],
   "source": [
    "df['camaraseg'] = df['titulo'].apply(contar_palabras, palabras=[\"camara\", \"cámara\", \"cámaras\", \"camaras\",\"seguridad\",\n",
    "                \"guardia\",\"seguro\",\"protegido\"]) + df['descripcion'].apply(contar_palabras, palabras=[\"camara\", \"cámara\",\n",
    "                \"cámaras\", \"camaras\",\"seguridad\",\"guardia\",\"seguro\",\"protegido\"])\n",
    "\n",
    "df.camaraseg.value_counts()"
   ]
  },
  {
   "cell_type": "code",
   "execution_count": 185,
   "metadata": {},
   "outputs": [
    {
     "data": {
      "text/plain": [
       "0     134614\n",
       "1      74816\n",
       "2      23018\n",
       "3       5584\n",
       "4       1402\n",
       "5        387\n",
       "6        109\n",
       "7         35\n",
       "8         19\n",
       "9          5\n",
       "10         4\n",
       "11         3\n",
       "12         2\n",
       "14         1\n",
       "13         1\n",
       "Name: parque, dtype: int64"
      ]
     },
     "execution_count": 185,
     "metadata": {},
     "output_type": "execute_result"
    }
   ],
   "source": [
    "df['parque'] = df['titulo'].apply(contar_palabras, palabras=[\"parque\", \"plaza\", \"plazoleta\", \"glorieta\",\"jardin\",\n",
    "            \"jardín\",\"patio\"])+df['descripcion'].apply(contar_palabras, palabras=[\"parque\", \"plaza\", \"plazoleta\", \n",
    "            \"glorieta\",\"jardin\",\"jardín\",\"patio\"])\n",
    "\n",
    "df.parque.value_counts()"
   ]
  },
  {
   "cell_type": "code",
   "execution_count": 186,
   "metadata": {},
   "outputs": [
    {
     "data": {
      "text/plain": [
       "0     231733\n",
       "1       7506\n",
       "2        632\n",
       "3         99\n",
       "4         12\n",
       "5          9\n",
       "6          7\n",
       "11         1\n",
       "9          1\n",
       "Name: amoblado, dtype: int64"
      ]
     },
     "execution_count": 186,
     "metadata": {},
     "output_type": "execute_result"
    }
   ],
   "source": [
    "df['amoblado'] = df['titulo'].apply(contar_palabras, palabras=[\"muebles\", \"amoblado\", \"mueble\",\"decorado\",\n",
    "                \"listo\"]) + df['descripcion'].apply(contar_palabras, palabras=[\"muebles\", \"amoblado\", \"mueble\",\n",
    "                \"decorado\",\"listo\"])\n",
    "\n",
    "df.amoblado.value_counts()"
   ]
  },
  {
   "cell_type": "code",
   "execution_count": 187,
   "metadata": {},
   "outputs": [
    {
     "data": {
      "text/plain": [
       "0    225895\n",
       "1     11484\n",
       "2      2408\n",
       "3       153\n",
       "4        52\n",
       "5         5\n",
       "6         3\n",
       "Name: bañera, dtype: int64"
      ]
     },
     "execution_count": 187,
     "metadata": {},
     "output_type": "execute_result"
    }
   ],
   "source": [
    "df['bañera'] = df['titulo'].apply(contar_palabras, palabras=[\"bañera\", \"hidromasaje\", \"hidro\", \"tina\",\n",
    "            \"jacuzzi\",\"jacuzi\",\"yacuzi\"]) + df['descripcion'].apply(contar_palabras, palabras=[\"bañera\", \"hidromasaje\", \n",
    "            \"hidro\", \"tina\",\"jacuzzi\",\"jacuzi\",\"yacuzi\"])\n",
    "\n",
    "df.bañera.value_counts()"
   ]
  },
  {
   "cell_type": "code",
   "execution_count": 188,
   "metadata": {},
   "outputs": [
    {
     "data": {
      "text/plain": [
       "0    212177\n",
       "1     21346\n",
       "2      5628\n",
       "3       688\n",
       "4       125\n",
       "5        23\n",
       "6         9\n",
       "9         2\n",
       "8         2\n",
       "Name: estreno, dtype: int64"
      ]
     },
     "execution_count": 188,
     "metadata": {},
     "output_type": "execute_result"
    }
   ],
   "source": [
    "df['estreno'] = df['titulo'].apply(contar_palabras, palabras=[\"nuevo\", \"nueva\", \"estrenar\",\"estreno\",\n",
    "            \"innovador\"]) + df['descripcion'].apply(contar_palabras, palabras=[\"nuevo\", \"nueva\", \"estrenar\",\"estreno\",\n",
    "            \"innovador\"])\n",
    "\n",
    "df.estreno.value_counts()"
   ]
  },
  {
   "cell_type": "code",
   "execution_count": 189,
   "metadata": {},
   "outputs": [
    {
     "data": {
      "text/plain": [
       "0    231626\n",
       "1      6117\n",
       "2      1811\n",
       "3       334\n",
       "4        87\n",
       "5        18\n",
       "6         7\n",
       "Name: transporte, dtype: int64"
      ]
     },
     "execution_count": 189,
     "metadata": {},
     "output_type": "execute_result"
    }
   ],
   "source": [
    "df['transporte'] = df['titulo'].apply(contar_palabras, palabras=[\"subte\", \"subterraneo\", \"subterráneo\",\"metro\", \n",
    "                \"estacion\", \"estación\", \"tren\",\"subestacion\", \"subestación\", \"ferrocarril\",\"metrobús\", \"metrobus\", \n",
    "                \"trolebus\",\"trolebús\", \"bus\", \"bús\"]) + df['descripcion'].apply(contar_palabras, palabras=[\"subte\", \n",
    "                \"subterraneo\", \"subterráneo\",\"metro\", \"estacion\", \"estación\", \"tren\",\"subestacion\", \"subestación\", \n",
    "                \"ferrocarril\",\"metrobús\", \"metrobus\", \"trolebus\",\"trolebús\", \"bus\", \"bús\"])\n",
    "\n",
    "df.transporte.value_counts()"
   ]
  },
  {
   "cell_type": "code",
   "execution_count": 190,
   "metadata": {},
   "outputs": [
    {
     "data": {
      "text/plain": [
       "0.0    219028\n",
       "1.0     20972\n",
       "Name: piscina, dtype: int64"
      ]
     },
     "execution_count": 190,
     "metadata": {},
     "output_type": "execute_result"
    }
   ],
   "source": [
    "df['pileta'] = df['titulo'].apply(contar_palabras, palabras=[\"piscina\", \"pileta\", \"nado\"])+ df['descripcion'].apply(contar_palabras, palabras=[\"piscina\", \"pileta\", \"nado\"])\n",
    "                                       \n",
    "df.piscina.value_counts()"
   ]
  },
  {
   "cell_type": "code",
   "execution_count": 191,
   "metadata": {},
   "outputs": [
    {
     "data": {
      "text/plain": [
       "0    221551\n",
       "1     14852\n",
       "2      2908\n",
       "3       498\n",
       "4       140\n",
       "5        34\n",
       "6        10\n",
       "7         5\n",
       "9         1\n",
       "8         1\n",
       "Name: lujo, dtype: int64"
      ]
     },
     "execution_count": 191,
     "metadata": {},
     "output_type": "execute_result"
    }
   ],
   "source": [
    "df['lujo'] = df['titulo'].apply(contar_palabras, palabras=[\"lujo\", \"delujo\", \"deluxe\", \"delúxe\", \"lujosa\", \"lujoso\", \n",
    "            \"lujosas\", \"lujosos\",\"exclusivo\",\"vip\"]) + df['descripcion'].apply(contar_palabras, palabras=[\"lujo\", \n",
    "            \"delujo\",\"deluxe\", \"delúxe\", \"lujosa\", \"lujoso\", \"lujosas\", \"lujosos\",\"exclusivo\",\"vip\"])\n",
    "df['lujo'].value_counts()"
   ]
  },
  {
   "cell_type": "code",
   "execution_count": 192,
   "metadata": {},
   "outputs": [
    {
     "data": {
      "text/plain": [
       "0    221083\n",
       "1     16374\n",
       "2      2101\n",
       "3       345\n",
       "4        74\n",
       "5        16\n",
       "6         6\n",
       "7         1\n",
       "Name: humilde, dtype: int64"
      ]
     },
     "execution_count": 192,
     "metadata": {},
     "output_type": "execute_result"
    }
   ],
   "source": [
    "df['humilde'] = df['titulo'].apply(contar_palabras, palabras=[\"humilde\", \"economico\", \"economica\", \n",
    "            \"económico\", \"económica\", \"barata\", \"barato\", \"accesible\", \"baratillo\",\n",
    "            \"baratilla\", \"rebajado\", \"ganga\", \"asequible\", \"módico\", \"módica\",\"credito\",\"crédito\",\"oferta\",\"oferton\",\n",
    "            \"imperdible\"]) + df['descripcion'].apply(contar_palabras, palabras=[\"humilde\", \"economico\", \"economica\", \n",
    "            \"económico\", \"económica\", \"barata\", \"barato\", \"accesible\", \"baratillo\",\n",
    "            \"baratilla\", \"rebajado\", \"ganga\", \"asequible\", \"módico\", \"módica\",\n",
    "            \"credito\",\"crédito\",\"oferta\",\"oferton\",\"imperdible\"]) \n",
    "\n",
    "df['humilde'].value_counts()"
   ]
  },
  {
   "cell_type": "code",
   "execution_count": 193,
   "metadata": {},
   "outputs": [
    {
     "data": {
      "text/plain": [
       "0     203157\n",
       "1      28487\n",
       "2       6163\n",
       "3       1450\n",
       "4        432\n",
       "5        157\n",
       "6         77\n",
       "7         37\n",
       "8         22\n",
       "9         10\n",
       "15         4\n",
       "10         3\n",
       "12         1\n",
       "Name: ventana, dtype: int64"
      ]
     },
     "execution_count": 193,
     "metadata": {},
     "output_type": "execute_result"
    }
   ],
   "source": [
    "df['ventana'] = df['titulo'].apply(contar_palabras, palabras=[\"ventana\", \"ventanas\", \n",
    "            \"vista\", \"ventanal\",\"vistas\",\"cristal\"]) + df['descripcion'].apply(contar_palabras, palabras=[\"ventana\",\n",
    "            \"ventanas\", \"vista\", \"ventanal\",\"vistas\",\"cristal\"])\n",
    "\n",
    "df['ventana'].value_counts()"
   ]
  },
  {
   "cell_type": "code",
   "execution_count": 194,
   "metadata": {},
   "outputs": [
    {
     "data": {
      "text/plain": [
       "0     204985\n",
       "1      26102\n",
       "2       7413\n",
       "3       1100\n",
       "4        297\n",
       "5         64\n",
       "6         17\n",
       "7         10\n",
       "8          6\n",
       "9          3\n",
       "15         1\n",
       "11         1\n",
       "10         1\n",
       "Name: nuevo, dtype: int64"
      ]
     },
     "execution_count": 194,
     "metadata": {},
     "output_type": "execute_result"
    }
   ],
   "source": [
    "df['nuevo'] = df['titulo'].apply(contar_palabras, palabras=[\"reciente\", \"recien\", \"recién\", \"nueva\", \"nuevo\", \"nuevas\", \n",
    "            \"nuevos\", \"estrenar\"]) + df['descripcion'].apply(contar_palabras, palabras=[\"reciente\", \"recien\", \"recién\", \n",
    "            \"nueva\", \"nuevo\", \"nuevas\", \"nuevos\", \"estrenar\"])\n",
    "\n",
    "df['nuevo'].value_counts()"
   ]
  },
  {
   "cell_type": "code",
   "execution_count": 195,
   "metadata": {},
   "outputs": [
    {
     "data": {
      "text/plain": [
       "0    223666\n",
       "1     15024\n",
       "2      1090\n",
       "3       177\n",
       "4        28\n",
       "5         9\n",
       "6         6\n",
       "Name: luz, dtype: int64"
      ]
     },
     "execution_count": 195,
     "metadata": {},
     "output_type": "execute_result"
    }
   ],
   "source": [
    "df['luz'] = df['titulo'].apply(contar_palabras, palabras=[\"luz\", \"luminoso\", \"luminosa\",\"claridad\", \"luminiscencia\", \n",
    "        \"luminosidad\", \"iluminación\",\"iluminacion\"]) + df['descripcion'].apply(contar_palabras, palabras=[\"luz\", \n",
    "        \"luminoso\", \"luminosa\",\"claridad\", \"luminiscencia\",\"luminosidad\", \"iluminación\",\"iluminacion\"])\n",
    "\n",
    "df['luz'].value_counts()"
   ]
  },
  {
   "cell_type": "code",
   "execution_count": 196,
   "metadata": {},
   "outputs": [
    {
     "data": {
      "text/plain": [
       "0    151183\n",
       "1     66130\n",
       "2     18295\n",
       "3      3573\n",
       "4       664\n",
       "5       115\n",
       "6        31\n",
       "7         8\n",
       "9         1\n",
       "Name: bueno, dtype: int64"
      ]
     },
     "execution_count": 196,
     "metadata": {},
     "output_type": "execute_result"
    }
   ],
   "source": [
    "df['bueno'] = df['titulo'].apply(contar_palabras, palabras=[\"bueno\", \"buena\", \"buenas\", \"buenos\",\"excelente\", \n",
    "            \"excelentes\",\"increible\",\"espectacular\"]) + df['descripcion'].apply(contar_palabras, palabras=[\"bueno\", \n",
    "            \"buena\", \"buenas\", \"buenos\",\"excelente\", \"excelentes\",\"increible\",\"espectacular\"])\n",
    "\n",
    "df['bueno'].value_counts()"
   ]
  },
  {
   "cell_type": "code",
   "execution_count": 197,
   "metadata": {},
   "outputs": [],
   "source": [
    "#df['malo'] = df['titulo'].apply(contar_palabras, palabras=[\"malo\", \"mala\", \"feo\", \"fea\"])\n",
    "\n",
    "#df['malo'].value_counts()"
   ]
  },
  {
   "cell_type": "code",
   "execution_count": 198,
   "metadata": {},
   "outputs": [
    {
     "data": {
      "text/plain": [
       "0     218357\n",
       "1      18553\n",
       "2       2534\n",
       "3        410\n",
       "4        103\n",
       "5         20\n",
       "6         10\n",
       "10         3\n",
       "8          3\n",
       "26         1\n",
       "16         1\n",
       "14         1\n",
       "12         1\n",
       "11         1\n",
       "9          1\n",
       "7          1\n",
       "Name: contable, dtype: int64"
      ]
     },
     "execution_count": 198,
     "metadata": {},
     "output_type": "execute_result"
    }
   ],
   "source": [
    "df['contable'] = df['titulo'].apply(contar_palabras, palabras=[\"precio\"]) + df['descripcion'].apply(contar_palabras, palabras=[\"precio\"])\n",
    "\n",
    "df['contable'].value_counts()"
   ]
  },
  {
   "cell_type": "markdown",
   "metadata": {},
   "source": [
    "### --- Nuevos agregados ---"
   ]
  },
  {
   "cell_type": "code",
   "execution_count": 199,
   "metadata": {},
   "outputs": [
    {
     "data": {
      "text/plain": [
       "0    236181\n",
       "1      3572\n",
       "2       215\n",
       "3        30\n",
       "4         2\n",
       "Name: agente, dtype: int64"
      ]
     },
     "execution_count": 199,
     "metadata": {},
     "output_type": "execute_result"
    }
   ],
   "source": [
    "df['agente'] = df['descripcion'].apply(contar_palabras, palabras=[\"inmobiliaria\", \"asesoria\", \"asesoría\", \"lider\", \"re/max\", \"remax\"]) \n",
    "\n",
    "\n",
    "# df['titulo'].apply(contar_palabras, palabras=[\"precio\"]) + df['descripcion'].apply(contar_palabras, palabras=[\"precio\"])\n",
    "\n",
    "df['agente'].value_counts()"
   ]
  },
  {
   "cell_type": "code",
   "execution_count": 200,
   "metadata": {},
   "outputs": [
    {
     "data": {
      "text/plain": [
       "0    237062\n",
       "1      2468\n",
       "2       405\n",
       "3        37\n",
       "4        26\n",
       "6         2\n",
       "Name: garante, dtype: int64"
      ]
     },
     "execution_count": 200,
     "metadata": {},
     "output_type": "execute_result"
    }
   ],
   "source": [
    "df['garante'] = df['descripcion'].apply(contar_palabras, palabras=[\"garante\", \"garantía\", \"fiador\", \"garantizador\", \"avalista\", \"garantia\",\n",
    "                                                                   \"defensor\", \"garantías\", \"garantes\", \"codeudor\"]) \n",
    "\n",
    "\n",
    "# df['titulo'].apply(contar_palabras, palabras=[\"precio\"]) + df['descripcion'].apply(contar_palabras, palabras=[\"precio\"])\n",
    "\n",
    "df['garante'].value_counts()"
   ]
  },
  {
   "cell_type": "code",
   "execution_count": 201,
   "metadata": {},
   "outputs": [
    {
     "data": {
      "text/plain": [
       "0    220028\n",
       "1     15622\n",
       "2      3622\n",
       "3       536\n",
       "4       137\n",
       "5        49\n",
       "6         5\n",
       "7         1\n",
       "Name: finanza, dtype: int64"
      ]
     },
     "execution_count": 201,
     "metadata": {},
     "output_type": "execute_result"
    }
   ],
   "source": [
    "df['finanza'] =  df['descripcion'].apply(contar_palabras, palabras=[\"credito\", \"crédito\", \"prestamo\", \"préstamo\", \"cuotas\", \"pagos\", \"hipotecario\"\\\n",
    "                 ,\"amortizable\", \"aptocredito\", \"aptocrédito\", \"apto-credito\", \"apto-crédito\", \"aptocredito\", \"aptocréditp\", \"ahorro\"]) + \\\n",
    "                 df['titulo'].apply(contar_palabras, palabras=[\"credito\", \"crédito\", \"prestamo\", \"préstamo\", \"cuotas\", \"pagos\", \"hipotecario\" \\\n",
    "                 ,\"amortizable\", \"aptocredito\", \"aptocrédito\", \"apto-credito\", \"apto-crédito\", \"aptocredito\", \"aptocrédito\", \"ahorro\"]) \n",
    "\n",
    "\n",
    "df['finanza'].value_counts()"
   ]
  },
  {
   "cell_type": "code",
   "execution_count": 202,
   "metadata": {},
   "outputs": [
    {
     "data": {
      "text/plain": [
       "0     230374\n",
       "1       6512\n",
       "2       1921\n",
       "3        585\n",
       "4        260\n",
       "5        131\n",
       "6         83\n",
       "7         35\n",
       "11        20\n",
       "9         19\n",
       "8         19\n",
       "12        18\n",
       "10        15\n",
       "13         5\n",
       "14         3\n",
       "Name: turismo, dtype: int64"
      ]
     },
     "execution_count": 202,
     "metadata": {},
     "output_type": "execute_result"
    }
   ],
   "source": [
    "df['turismo'] =  df['descripcion'].apply(contar_palabras, palabras=[\"playa\", \"vacaciones\", \"descanso\", \"costa\", \"arena\", \"mar\", \"montaña\", \"monte\",\n",
    "                                                                   \"paisaje\", \"orilla\", \"rambla\", \"turista\", \"turistas\", \"cordillera\", \"sierra\"])\\\n",
    "                 + df['titulo'].apply(contar_palabras, palabras=[\"playa\", \"vacaciones\", \"descanso\", \"costa\", \"arena\", \"mar\", \"montaña\", \"monte\",\n",
    "                                                                   \"paisaje\", \"orilla\", \"rambla\", \"turista\", \"turistas\", \"cordillera\", \"sierra\"])\n",
    "\n",
    "\n",
    "df['turismo'].value_counts()"
   ]
  },
  {
   "cell_type": "code",
   "execution_count": 203,
   "metadata": {},
   "outputs": [
    {
     "data": {
      "text/plain": [
       "6     35353\n",
       "5     34651\n",
       "7     33986\n",
       "8     26290\n",
       "9     19953\n",
       "4     19333\n",
       "10    14335\n",
       "3     14072\n",
       "11     9735\n",
       "2      8925\n",
       "12     6459\n",
       "0      5397\n",
       "13     3942\n",
       "1      2558\n",
       "14     2243\n",
       "15     1305\n",
       "16      706\n",
       "17      370\n",
       "18      201\n",
       "19       94\n",
       "20       40\n",
       "21       20\n",
       "22        4\n",
       "26        4\n",
       "25        3\n",
       "34        3\n",
       "31        3\n",
       "29        2\n",
       "33        2\n",
       "40        1\n",
       "39        1\n",
       "38        1\n",
       "36        1\n",
       "42        1\n",
       "30        1\n",
       "28        1\n",
       "27        1\n",
       "24        1\n",
       "23        1\n",
       "44        1\n",
       "Name: longitud_titulo, dtype: int64"
      ]
     },
     "execution_count": 203,
     "metadata": {},
     "output_type": "execute_result"
    }
   ],
   "source": [
    "df['longitud_titulo'] = df['titulo'].apply(lambda x: len(x.split()))\n",
    "\n",
    "\n",
    "df['longitud_titulo'].value_counts()"
   ]
  },
  {
   "cell_type": "code",
   "execution_count": 204,
   "metadata": {
    "scrolled": true
   },
   "outputs": [
    {
     "data": {
      "text/plain": [
       "38      3066\n",
       "36      3020\n",
       "40      3019\n",
       "34      3011\n",
       "37      3006\n",
       "39      2991\n",
       "30      2988\n",
       "35      2982\n",
       "32      2979\n",
       "43      2969\n",
       "42      2963\n",
       "31      2952\n",
       "45      2927\n",
       "33      2914\n",
       "46      2912\n",
       "27      2909\n",
       "29      2901\n",
       "41      2871\n",
       "44      2845\n",
       "28      2831\n",
       "48      2818\n",
       "47      2800\n",
       "49      2778\n",
       "25      2761\n",
       "26      2759\n",
       "24      2752\n",
       "50      2740\n",
       "52      2716\n",
       "53      2697\n",
       "51      2677\n",
       "        ... \n",
       "594        1\n",
       "687        1\n",
       "499        1\n",
       "656        1\n",
       "1365       1\n",
       "783        1\n",
       "598        1\n",
       "726        1\n",
       "894        1\n",
       "654        1\n",
       "591        1\n",
       "462        1\n",
       "815        1\n",
       "845        1\n",
       "665        1\n",
       "944        1\n",
       "683        1\n",
       "811        1\n",
       "1195       1\n",
       "636        1\n",
       "663        1\n",
       "712        1\n",
       "1224       1\n",
       "888        1\n",
       "662        1\n",
       "586        1\n",
       "714        1\n",
       "716        1\n",
       "533        1\n",
       "511        1\n",
       "Name: longitud_desc, Length: 672, dtype: int64"
      ]
     },
     "execution_count": 204,
     "metadata": {},
     "output_type": "execute_result"
    }
   ],
   "source": [
    "df['longitud_desc'] =  df['descripcion'].apply(lambda x: len(x.split()))\n",
    "\n",
    "\n",
    "df['longitud_desc'].value_counts()"
   ]
  },
  {
   "cell_type": "code",
   "execution_count": 205,
   "metadata": {},
   "outputs": [
    {
     "data": {
      "text/plain": [
       "0     231676\n",
       "1       3094\n",
       "2       2046\n",
       "3       1980\n",
       "4        621\n",
       "5        220\n",
       "6        168\n",
       "7         80\n",
       "8         43\n",
       "9         28\n",
       "10        10\n",
       "12         9\n",
       "11         5\n",
       "16         5\n",
       "13         3\n",
       "14         3\n",
       "29         2\n",
       "15         2\n",
       "20         2\n",
       "19         1\n",
       "21         1\n",
       "31         1\n",
       "Name: cant_!, dtype: int64"
      ]
     },
     "execution_count": 205,
     "metadata": {},
     "output_type": "execute_result"
    }
   ],
   "source": [
    "df['cant_!'] = df['titulo'].apply(lambda x: x.count('!')) \n",
    "df['cant_!'].value_counts()"
   ]
  },
  {
   "cell_type": "code",
   "execution_count": 206,
   "metadata": {},
   "outputs": [],
   "source": [
    "df['tranquilidad'] = df['descripcion'].apply(contar_palabras, palabras=[\"armonía\", \"armonia\", \"tranquilo\", \"tranqui\", \"tranquilidad\", \\\n",
    "                                                                        \"paz\", \"calma\", \"calmo\", \"quietud\"])\\\n",
    "                 + df['titulo'].apply(contar_palabras, palabras=[\"armonía\", \"armonia\", \"tranquilo\", \"tranqui\", \"tranquilidad\", \\\n",
    "                                                                        \"paz\", \"calma\", \"calmo\", \"quietud\"])"
   ]
  },
  {
   "cell_type": "code",
   "execution_count": 207,
   "metadata": {},
   "outputs": [],
   "source": [
    "df['reparacion'] = df['descripcion'].apply(contar_palabras, palabras=[\"reparación\", \"reparacion\", \"reparando\", \"reparar\", \\\n",
    "                            \"construcción\", \"construccion\", \"construyendo\", \"construllendo\", \"mantenimiento\", \"averiado\", \"averiada\"])\\\n",
    "                 + df['titulo'].apply(contar_palabras, palabras=[\"reparación\", \"reparacion\", \"reparando\", \"reparar\", \\\n",
    "                            \"construcción\", \"construccion\", \"construyendo\", \"construllendo\", \"mantenimiento\", \"averiado\", \"averiada\"])"
   ]
  },
  {
   "cell_type": "code",
   "execution_count": 208,
   "metadata": {},
   "outputs": [],
   "source": [
    "df['mascotas'] = df['descripcion'].apply(contar_palabras, palabras=[\"mascotas\", \"mascota\", \"perros\", \"perro\", \"perra\", \\\n",
    "                                                \"gatos\", \"gato\", \"gata\", \"animal\", \"animales\"])\\\n",
    "                 + df['titulo'].apply(contar_palabras, palabras=[\"mascotas\", \"mascota\", \"perros\", \"perro\", \"perra\", \\\n",
    "                                                \"gatos\", \"gato\", \"gata\", \"animal\", \"animales\"])"
   ]
  },
  {
   "cell_type": "code",
   "execution_count": 209,
   "metadata": {},
   "outputs": [],
   "source": [
    "df['accesibilidad'] = df['descripcion'].apply(contar_palabras, palabras=[\"rampa\", \"discapacitados\", \"discapacitado\", \\\n",
    "                                                \"discapacitada\", \"lisiado\", \"lisiada\", \"silla de ruedas\", \"lastimado\", \"heridos\"])\\\n",
    "                 + df['titulo'].apply(contar_palabras, palabras=[\"rampa\", \"discapacitados\", \"discapacitado\", \\\n",
    "                                                \"discapacitada\", \"lisiado\", \"lisiada\", \"silla de ruedas\", \"lastimado\", \"heridos\"])"
   ]
  },
  {
   "cell_type": "code",
   "execution_count": 210,
   "metadata": {},
   "outputs": [],
   "source": [
    "df['normas'] =  df['descripcion'].apply(contar_palabras, palabras=[\"norma\", \"normas\", \"regla\", \"reglas\", \\\n",
    "                                                \"prohibido\", \"prohibida\", \"denegado\", \"denegada\", \"imposible\", \\\n",
    "                                                \"ilegal\", \"legal\", \"multa\", \"infraccion\", \"infracción\"])\\\n",
    "                 + df['titulo'].apply(contar_palabras, palabras=[\"norma\", \"normas\", \"regla\", \"reglas\", \\\n",
    "                                                \"prohibido\", \"prohibida\", \"denegado\", \"denegada\", \"imposible\", \\\n",
    "                                                \"ilegal\", \"legal\", \"multa\", \"infraccion\", \"infracción\"])"
   ]
  },
  {
   "cell_type": "code",
   "execution_count": 211,
   "metadata": {},
   "outputs": [],
   "source": [
    "df['beneficios'] = df['descripcion'].apply(contar_palabras, palabras=[\"gratis\", \"free\", \"incluido\", \"incluye\", \\\n",
    "                                                \"agregado\", \"gratuito\", \"gratuitamente\", \\\n",
    "                                                \"regalo\"])\\\n",
    "                 + df['titulo'].apply(contar_palabras, palabras=[\"gratis\", \"free\", \"incluido\", \"incluye\", \\\n",
    "                                                \"agregado\", \"gratuito\", \"gratuitamente\", \\\n",
    "                                                \"regalo\"])"
   ]
  },
  {
   "cell_type": "code",
   "execution_count": 212,
   "metadata": {},
   "outputs": [],
   "source": [
    "df['conexion'] = df['descripcion'].apply(contar_palabras, palabras=[\"wifi\", \"wi-fi\", \"internet\", \"conexión\", \"conexion\", \\\n",
    "                                                                   \"señal\"])\\\n",
    "                 + df['titulo'].apply(contar_palabras, palabras=[\"wifi\", \"wi-fi\", \"internet\", \"conexión\", \"conexion\", \\\n",
    "                                                                   \"señal\"])"
   ]
  },
  {
   "cell_type": "code",
   "execution_count": 213,
   "metadata": {},
   "outputs": [],
   "source": [
    "df['popularidad'] = df['descripcion'].apply(contar_palabras, palabras=[\"popular\", \"famoso\", \"famosa\", \"famosos\", \"populares\", \\\n",
    "                                                        \"conocido\", \"conocida\", \"conocidos\"])\\\n",
    "                 + df['titulo'].apply(contar_palabras, palabras=[\"popular\", \"famoso\", \"famosa\", \"famosos\", \"populares\", \\\n",
    "                                                        \"conocido\", \"conocida\", \"conocidos\"])"
   ]
  },
  {
   "cell_type": "code",
   "execution_count": 214,
   "metadata": {},
   "outputs": [],
   "source": [
    "df['aeropuerto_cercano'] = df['descripcion'].apply(contar_palabras, palabras=[\"aeropuerto\", \"aeropuertos\", \\\n",
    "                                                                             \"aeródromo\", \"aerodromo\", \"estacion\"\\\n",
    "                                                                             \"estación\"])\\\n",
    "                 + df['titulo'].apply(contar_palabras, palabras=[\"aeropuerto\", \"aeropuertos\", \\\n",
    "                                                                             \"aeródromo\", \"aerodromo\", \"estacion\"\\\n",
    "                                                                             \"estación\"])"
   ]
  },
  {
   "cell_type": "code",
   "execution_count": 215,
   "metadata": {},
   "outputs": [],
   "source": [
    "df['traslado'] = df['descripcion'].apply(contar_palabras, palabras=[\"traslado\", \"trasladar\", \"llevamos\", \\\n",
    "                                                                   \"llevar\", \"traslada\"])\\\n",
    "                 + df['titulo'].apply(contar_palabras, palabras=[\"traslado\", \"trasladar\", \"llevamos\", \\\n",
    "                                                                   \"llevar\", \"traslada\"])"
   ]
  },
  {
   "cell_type": "code",
   "execution_count": 216,
   "metadata": {},
   "outputs": [],
   "source": [
    "df['extranjero'] = df['descripcion'].apply(contar_palabras, palabras=[\"extranjero\", \"extranjera\", \"extranjeros\"])\\\n",
    "                 + df['titulo'].apply(contar_palabras, palabras=[\"extranjero\", \"extranjera\", \"extranjeros\"])"
   ]
  },
  {
   "cell_type": "code",
   "execution_count": 217,
   "metadata": {},
   "outputs": [],
   "source": [
    "df['dueño'] = df['descripcion'].apply(contar_palabras, palabras=[\"dueño\", \"dueña\", \"dueños\", \"propietario\", \"propietarios\"])\\\n",
    "                 + df['titulo'].apply(contar_palabras, palabras=[\"dueño\", \"dueña\", \"dueños\", \"propietario\", \"propietarios\"])"
   ]
  },
  {
   "cell_type": "code",
   "execution_count": 218,
   "metadata": {},
   "outputs": [],
   "source": [
    "df['monoambiente'] = df['descripcion'].apply(contar_palabras, palabras=[\"monoambiente\", \"monoambientes\"]) \\\n",
    "                     + df['descripcion'].apply(contar_frases, frases=[\"un ambiente\", \"unico ambiente\", \"único ambiente\"]) \\\n",
    "                     + df['titulo'].apply(contar_palabras, palabras=[\"monoambiente\", \"monoambientes\"]) \\\n",
    "                     + df['titulo'].apply(contar_frases, frases=[\"un ambiente\", \"unico ambiente\", \"único ambiente\"])"
   ]
  },
  {
   "cell_type": "code",
   "execution_count": 219,
   "metadata": {},
   "outputs": [],
   "source": [
    "#La renta fija es un tipo de inversión formada por todos los activos financieros en los que el emisor está \n",
    "#obligado a realizar pagos en una cantidad y en un período de tiempo previamente establecidos\n",
    "#Es decir, en la renta fija el emisor garantiza la devolución del capital invertido y una cierta rentabilidad.\n",
    "\n",
    "df['renta'] =  df['descripcion'].apply(contar_palabras, palabras=[\"renta\", \"devolucion\", \"devolución\", \\\n",
    "                                                                 \"devolver\", \"devolvemos\", \"devuelto\", \"depósito\", \\\n",
    "                                                                 \"deposito\", \"regreso\"]) \\\n",
    "              + df['descripcion'].apply(contar_frases, frases=[\"renta fija\", \"regreso del depósito\", \"regreso del deposito\"]) \\\n",
    "              + df['titulo'].apply(contar_palabras, palabras=[\"renta\", \"devolucion\", \"devolución\", \\\n",
    "                                                                 \"devolver\", \"devolvemos\", \"devuelto\", \"depósito\", \\\n",
    "                                                                 \"deposito\", \"regreso\"]) \\\n",
    "              + df['titulo'].apply(contar_frases, frases=[\"renta fija\", \"regreso del depósito\", \"regreso del deposito\"])"
   ]
  },
  {
   "cell_type": "code",
   "execution_count": 220,
   "metadata": {},
   "outputs": [],
   "source": [
    "df['oportunidad'] = df['descripcion'].apply(contar_palabras, palabras=[\"opotunidad\", \"chance\", \"imperdible\", \\\n",
    "                                                                      \"aprovecha\", \"aprovechar\"]) \\\n",
    "              + df['descripcion'].apply(contar_frases, frases=[\"ultima oportunidad\", \"última oportunidad\", \\\n",
    "                                                              \"no te lo pierdas\", \"no lo pierdas\", \"no dejes pasar\"]) \\\n",
    "              + df['titulo'].apply(contar_palabras, palabras=[\"opotunidad\", \"chance\", \"imperdible\", \\\n",
    "                                                                      \"aprovecha\", \"aprovechar\"]) \\\n",
    "              + df['titulo'].apply(contar_frases, frases=[\"ultima oportunidad\", \"última oportunidad\", \\\n",
    "                                                              \"no te lo pierdas\", \"no lo pierdas\", \"no dejes pasar\"]) "
   ]
  },
  {
   "cell_type": "code",
   "execution_count": 222,
   "metadata": {},
   "outputs": [],
   "source": [
    "df['antiguedad_prop'] = df['descripcion'].apply(contar_palabras, palabras=[\"antiguo\", \"antigua\", \"antigüedad\", \\\n",
    "                                                                          \"antiguedad\", \"viejo\", \"vieja\", \\\n",
    "                                                                          \"clásico\", \"clasico\", \"clásica\", \"clasica\"]) \\\n",
    "              + df['titulo'].apply(contar_palabras, palabras=[\"antiguo\", \"antigua\", \"antigüedad\", \\\n",
    "                                                                          \"antiguedad\", \"viejo\", \"vieja\", \\\n",
    "                                                                          \"clásico\", \"clasico\", \"clásica\", \"clasica\"]) "
   ]
  },
  {
   "cell_type": "code",
   "execution_count": 223,
   "metadata": {},
   "outputs": [],
   "source": [
    "df['niños'] = df['descripcion'].apply(contar_palabras, palabras=[\"niños\", \"niñas\", \"niño\", \"niña\", \"bebé\", \\\n",
    "                                                                  \"bebes\", \"bebe\", \"hijo\", \"hija\", \"hijos\", \"hijas\"]) \\\n",
    "              + df['titulo'].apply(contar_palabras, palabras=[\"niños\", \"niñas\", \"niño\", \"niña\", \"bebé\", \\\n",
    "                                                                  \"bebes\", \"bebe\", \"hijo\", \"hija\", \"hijos\", \"hijas\"]) "
   ]
  },
  {
   "cell_type": "code",
   "execution_count": 224,
   "metadata": {},
   "outputs": [],
   "source": [
    "df['fotos'] = df['descripcion'].apply(contar_palabras, palabras=[\"foto\", \"fotos\", \"imagenes\", \"imágenes\", \"imagen\", \\\n",
    "                                                                \"ilustrado\", \"ilustración\", \"ilustracion\", \"fotografia\", \\\n",
    "                                                                \"fotografía\", \"fotografías\", \"fotografias\"]) \\\n",
    "              + df['titulo'].apply(contar_palabras, palabras=[\"foto\", \"fotos\", \"imagenes\", \"imágenes\", \"imagen\", \\\n",
    "                                                                \"ilustrado\", \"ilustración\", \"ilustracion\", \"fotografia\", \\\n",
    "                                                                \"fotografía\", \"fotografías\", \"fotografias\"]) "
   ]
  },
  {
   "cell_type": "code",
   "execution_count": 225,
   "metadata": {},
   "outputs": [],
   "source": [
    "df['lavadero'] = df['descripcion'].apply(contar_palabras, palabras=[\"lavadero\", \"lavabo\", \"fregadero\", \"ropa\"]) \\\n",
    "              + df['titulo'].apply(contar_palabras, palabras=[\"lavadero\", \"lavabo\", \"fregadero\", \"ropa\"]) "
   ]
  },
  {
   "cell_type": "code",
   "execution_count": 226,
   "metadata": {},
   "outputs": [],
   "source": [
    "df['camas_separadas'] =  df['descripcion'].apply(contar_frases, frases=[\"camas separadas\", \"camas individuales\"]) \\\n",
    "              + df['titulo'].apply(contar_frases, frases=[\"camas separadas\", \"camas individuales\"])"
   ]
  },
  {
   "cell_type": "code",
   "execution_count": 227,
   "metadata": {},
   "outputs": [],
   "source": [
    "df['$'] = df['descripcion'].apply(contar_palabras, palabras=[\"$\"]) \\\n",
    "              + df['titulo'].apply(contar_palabras, palabras=[\"$\"])"
   ]
  },
  {
   "cell_type": "code",
   "execution_count": 228,
   "metadata": {},
   "outputs": [],
   "source": [
    "import matplotlib.pyplot as plt\n",
    "from sklearn.feature_selection import SelectKBest\n",
    "from sklearn.feature_selection import f_regression\n",
    "import numpy as np\n",
    "from sklearn.metrics import mean_absolute_error\n",
    "from sklearn.model_selection import train_test_split"
   ]
  },
  {
   "cell_type": "code",
   "execution_count": 229,
   "metadata": {},
   "outputs": [],
   "source": [
    "def mi_split (df):\n",
    "\n",
    "    X = df.drop(['precio'], axis = 1)\n",
    "    Y = df['precio']\n",
    "    x_train, x_test, y_train, y_test = train_test_split(X,Y,test_size=0.35)\n",
    "    return x_train, x_test, y_train, y_test\n",
    "\n",
    "from scipy.stats import uniform, randint\n",
    "from sklearn.metrics import auc, accuracy_score, confusion_matrix, mean_squared_error\n",
    "from sklearn.model_selection import cross_val_score, GridSearchCV, KFold\n",
    "from sklearn.model_selection import RandomizedSearchCV\n",
    "import xgboost as xgb\n",
    "from sklearn import preprocessing\n",
    "\n",
    "def minmax(serie):\n",
    "    \n",
    "    return (serie-serie.min())/(serie.max()-serie.min())\n",
    "\n",
    "def mean_target_encoding(train, nombrefeat, nombretarget):\n",
    "    \n",
    "    temp = train.groupby(nombrefeat)[nombretarget].transform(np.mean)\n",
    "    train[nombrefeat + \"_mean\"]=(temp-temp.min())/(temp.max()-temp.min())\n",
    "    \n",
    "    return train\n",
    "\n",
    "def mean_target_decoding(x_test, nombrefeat, x_train):\n",
    "    \n",
    "    nombrefeatmean = nombrefeat + \"_mean\"\n",
    "    \n",
    "    temp = x_train.loc[:,[nombrefeat,nombrefeatmean]]\n",
    "    temp = temp.set_index(nombrefeat)\n",
    "    temp = temp.drop_duplicates()\n",
    "    temp = temp.T.squeeze()\n",
    "    values = x_test[nombrefeat].map(temp)\n",
    "    x_test[nombrefeatmean] = values \n",
    "\n",
    "    return x_test\n",
    "\n",
    "def armar_set_2(train):\n",
    "    \n",
    "    #Puedo resolver de forma general las que son iguales para train y test\n",
    "    #es decir, aquellas que no filtran informacion a los de validacion\n",
    "    \n",
    "    train = train.drop(['descripcion', 'titulo', 'direccion', 'fecha', 'id'], axis = 1)\n",
    "    \n",
    "    #Adiciono servicios\n",
    "    train['servicios'] = train['piscina'] + train['gimnasio'] + train['usosmultiples']\n",
    "    \n",
    "    #\"Normalizo\" la antiguedad\n",
    "    #train['antiguedad'] = minmax(train['antiguedad'])\n",
    "    \n",
    "    #Elimino los residuos\n",
    "    train = train.drop(['piscina', 'gimnasio','usosmultiples','escuelascercanas', \n",
    "                        'centroscomercialescercanos'], axis = 1)\n",
    "    \n",
    "    #Hago el split                    \n",
    "    x_train, x_test, y_train, y_test = mi_split(train)\n",
    "        \n",
    "    x_train[\"precio\"] = y_train\n",
    "\n",
    "    \n",
    "    #Calculo los mean target\n",
    "    x_train_mean = mean_target_encoding(x_train, \"provincia\", \"precio\")\n",
    "    x_train_mean['precio'] = y_train\n",
    "    x_train_mean = mean_target_encoding(x_train_mean, \"tipodepropiedad\", \"precio\")\n",
    "    x_train_mean = mean_target_encoding(x_train_mean, \"ciudad\", \"precio\")\n",
    "    \n",
    "    #Se los asigno a los test (NO LOS CALCULO CON ELLOS!!!!!!)\n",
    "    x_test = mean_target_decoding(x_test, \"provincia\", x_train_mean)\n",
    "    x_test = mean_target_decoding(x_test, \"tipodepropiedad\", x_train_mean)\n",
    "    x_test = mean_target_decoding(x_test, \"ciudad\", x_train_mean)\n",
    "\n",
    "    backup = x_train_mean\n",
    "    \n",
    "    x_train = x_train_mean.drop([\"precio\",\"provincia\",\"tipodepropiedad\",\"ciudad\"], axis=1)\n",
    "    x_test.drop([\"provincia\",\"tipodepropiedad\", \"ciudad\"], axis=1, inplace = True)\n",
    "\n",
    "    \n",
    "    return x_train, x_test, y_train, y_test, backup"
   ]
  },
  {
   "cell_type": "code",
   "execution_count": 230,
   "metadata": {},
   "outputs": [
    {
     "name": "stderr",
     "output_type": "stream",
     "text": [
      "/home/ailen-magali/.local/lib/python3.5/site-packages/sklearn/feature_selection/univariate_selection.py:114: UserWarning: Features [9] are constant.\n",
      "  UserWarning)\n",
      "/home/ailen-magali/.local/lib/python3.5/site-packages/sklearn/feature_selection/univariate_selection.py:115: RuntimeWarning: invalid value encountered in true_divide\n",
      "  f = msb / msw\n"
     ]
    }
   ],
   "source": [
    "dfreducido = df.dropna()\n",
    "x_train, x_test, y_train, y_test, backup = armar_set_2(dfreducido)\n",
    "X,y = x_train, y_train\n",
    "selector = SelectKBest(k='all').fit(X,y)\n",
    "x_new = selector.transform(X)\n",
    "scores = selector.scores_\n",
    "columnas = x_train.columns"
   ]
  },
  {
   "cell_type": "code",
   "execution_count": 231,
   "metadata": {},
   "outputs": [
    {
     "name": "stderr",
     "output_type": "stream",
     "text": [
      "/home/ailen-magali/.local/lib/python3.5/site-packages/sklearn/feature_selection/univariate_selection.py:114: UserWarning: Features [9] are constant.\n",
      "  UserWarning)\n",
      "/home/ailen-magali/.local/lib/python3.5/site-packages/sklearn/feature_selection/univariate_selection.py:115: RuntimeWarning: invalid value encountered in true_divide\n",
      "  f = msb / msw\n"
     ]
    }
   ],
   "source": [
    "X,y = x_train, y_train\n",
    "selector = SelectKBest(k='all').fit(X,y)\n",
    "x_new = selector.transform(X)\n",
    "scores = selector.scores_\n",
    "columnas = x_train.columns"
   ]
  },
  {
   "cell_type": "code",
   "execution_count": 232,
   "metadata": {},
   "outputs": [
    {
     "data": {
      "text/plain": [
       "Text(0, 0.5, 'Score')"
      ]
     },
     "execution_count": 232,
     "metadata": {},
     "output_type": "execute_result"
    },
    {
     "data": {
      "image/png": "[encoded data removed]",
      "text/plain": [
       "<Figure size 1152x648 with 1 Axes>"
      ]
     },
     "metadata": {
      "needs_background": "light"
     },
     "output_type": "display_data"
    }
   ],
   "source": [
    "k_utilizado = np.arange(columnas.size)+1\n",
    "\n",
    "\n",
    "plt.grid()\n",
    "plt.bar(k_utilizado, scores, color = 'blue', align='center', alpha=0.9, zorder =3)\n",
    "plt.xticks(k_utilizado, columnas, rotation=90)\n",
    "fig = plt.gcf()\n",
    "fig.set_size_inches(16, 9)\n",
    "plt.hlines(1, xmin=0, xmax = 34,colors='red', linestyles='solid', label='')\n",
    "plt.title(\"Scores de las Features\")\n",
    "plt.xlabel(\"Columnas\")\n",
    "plt.ylabel(\"Score\")"
   ]
  },
  {
   "cell_type": "code",
   "execution_count": 39,
   "metadata": {},
   "outputs": [],
   "source": [
    "from sklearn.model_selection import GridSearchCV, train_test_split\n",
    "from xgboost import XGBRegressor\n",
    "from sklearn.metrics import r2_score\n",
    "\n",
    "x_train, x_test, y_train, y_test, backup = armar_set_2(df)"
   ]
  },
  {
   "cell_type": "code",
   "execution_count": 40,
   "metadata": {},
   "outputs": [
    {
     "name": "stderr",
     "output_type": "stream",
     "text": [
      "/home/ailen-magali/.local/lib/python3.5/site-packages/xgboost/core.py:587: FutureWarning: Series.base is deprecated and will be removed in a future version\n",
      "  if getattr(data, 'base', None) is not None and \\\n"
     ]
    },
    {
     "name": "stdout",
     "output_type": "stream",
     "text": [
      "[17:20:51] WARNING: /workspace/src/objective/regression_obj.cu:152: reg:linear is now deprecated in favor of reg:squarederror.\n"
     ]
    }
   ],
   "source": [
    "#Armo modelo\n",
    "\n",
    "xgb_model = XGBRegressor(base_score=0.5, booster='gbtree', colsample_bylevel=1,\n",
    "             colsample_bynode=1, colsample_bytree=0.6, eval_metric='mae',\n",
    "             gamma=0.015, importance_type='gain', learning_rate=0.024,\n",
    "             max_delta_step=0, max_depth=11, min_child_weight=1, missing=None,\n",
    "             n_estimators=3500, n_jobs=1, nthread=-1, objective='reg:linear',\n",
    "             random_state=0, reg_alpha=0, reg_lambda=1, scale_pos_weight=1,\n",
    "             seed=None, silent=None, subsample=0.733, verbosity=1)\n",
    "\n",
    "\n",
    "#Fitteo\n",
    "xgb_model.fit(x_train, y_train)\n",
    "prediccion = xgb_model.predict(x_test)\n",
    "#prediccion_anido = (prediccion + prediccion)/2"
   ]
  },
  {
   "cell_type": "code",
   "execution_count": 41,
   "metadata": {},
   "outputs": [
    {
     "name": "stdout",
     "output_type": "stream",
     "text": [
      "532445.8838632812\n"
     ]
    }
   ],
   "source": [
    "#Estimo MAE\n",
    "print(mean_absolute_error(y_test, prediccion))"
   ]
  },
  {
   "cell_type": "markdown",
   "metadata": {},
   "source": [
    "### Version anterior - MAE : 535846.370084961\n",
    "\n",
    "xgb_model = XGBRegressor(base_score=0.5, booster='gbtree', colsample_bylevel=1,\n",
    "             colsample_bynode=1, colsample_bytree=0.6, eval_metric='mae',\n",
    "             gamma=0.015, importance_type='gain', learning_rate=0.025,\n",
    "             max_delta_step=0, max_depth=11, min_child_weight=1, missing=None,\n",
    "             n_estimators=3500, n_jobs=1, nthread=-1, objective='reg:linear',\n",
    "             random_state=0, reg_alpha=0, reg_lambda=1, scale_pos_weight=1,\n",
    "             seed=None, silent=None, subsample=0.733, verbosity=1)"
   ]
  },
  {
   "cell_type": "markdown",
   "metadata": {},
   "source": [
    "### Version anterior - MAE : 537881.4975730097\n",
    "\n",
    "xgb_model = XGBRegressor(base_score=0.5, booster='gbtree', colsample_bylevel=1, colsample_bynode=1, colsample_bytree=0.6, eval_metric='mae', gamma=0.015, importance_type='gain', learning_rate=0.026, max_delta_step=0, max_depth=11, min_child_weight=1, missing=None, n_estimators=1750, n_jobs=1, nthread=-1, objective='reg:linear', random_state=0, reg_alpha=0, reg_lambda=1, scale_pos_weight=1, seed=None, silent=None, subsample=0.733, verbosity=1)"
   ]
  },
  {
   "cell_type": "markdown",
   "metadata": {},
   "source": [
    "### Armo el test"
   ]
  },
  {
   "cell_type": "code",
   "execution_count": 42,
   "metadata": {},
   "outputs": [],
   "source": [
    "x_test = pd.read_csv(\"test.csv\")"
   ]
  },
  {
   "cell_type": "code",
   "execution_count": 43,
   "metadata": {},
   "outputs": [],
   "source": [
    "df = x_test"
   ]
  },
  {
   "cell_type": "markdown",
   "metadata": {},
   "source": [
    "#### Hay que remover los nulos y aplicar la normalizacion primero"
   ]
  },
  {
   "cell_type": "code",
   "execution_count": 44,
   "metadata": {},
   "outputs": [],
   "source": [
    "df['titulo'] = df['titulo'].fillna(value = \".\")\n",
    "df['titulo'] = df['titulo'].apply(normalizar_descripciones)\n",
    "df['descripcion'] = df['descripcion'].fillna(value = \".\")\n",
    "df['descripcion'] = df['descripcion'].apply(normalizar_descripciones)"
   ]
  },
  {
   "cell_type": "markdown",
   "metadata": {},
   "source": [
    "### - COMIENZA ANALISIS -"
   ]
  },
  {
   "cell_type": "code",
   "execution_count": 45,
   "metadata": {},
   "outputs": [
    {
     "data": {
      "text/plain": [
       "0    55621\n",
       "1     3825\n",
       "2      469\n",
       "3       61\n",
       "4       17\n",
       "5        5\n",
       "6        2\n",
       "Name: calefaccion, dtype: int64"
      ]
     },
     "execution_count": 45,
     "metadata": {},
     "output_type": "execute_result"
    }
   ],
   "source": [
    "df['calefaccion'] = df['titulo'].apply(contar_palabras, palabras=[\"calefaccion\", \"calefacción\", \"calefaccionado\", \"aireacondicinado\",\n",
    "                    \"acondicionado\", \"estufa\",\"chimenea\"]) +df['descripcion'].apply(contar_palabras, palabras=[\"calefaccion\", \n",
    "                    \"calefacción\", \"calefaccionado\", \"aireacondicinado\", \"acondicionado\", \"estufa\",\"chimenea\"])\n",
    "\n",
    "df.calefaccion.value_counts()"
   ]
  },
  {
   "cell_type": "code",
   "execution_count": 46,
   "metadata": {},
   "outputs": [
    {
     "data": {
      "text/plain": [
       "0    59985\n",
       "1       15\n",
       "Name: suite, dtype: int64"
      ]
     },
     "execution_count": 46,
     "metadata": {},
     "output_type": "execute_result"
    }
   ],
   "source": [
    "df['suite'] = df['titulo'].apply(contar_palabras, palabras=[\"suite\"])\n",
    "df['suite'].value_counts()"
   ]
  },
  {
   "cell_type": "code",
   "execution_count": 47,
   "metadata": {},
   "outputs": [
    {
     "data": {
      "text/plain": [
       "0     53384\n",
       "1      5203\n",
       "2      1111\n",
       "3       220\n",
       "4        48\n",
       "5        18\n",
       "6         7\n",
       "7         5\n",
       "8         2\n",
       "10        1\n",
       "9         1\n",
       "Name: avenida, dtype: int64"
      ]
     },
     "execution_count": 47,
     "metadata": {},
     "output_type": "execute_result"
    }
   ],
   "source": [
    "df['avenida'] = df['titulo'].apply(contar_palabras, palabras=[\"avenida\", \"av\", \"avenidas\", \"bulevar\", \n",
    "               \"boulevard\", \"paseo\", \"vía\"])+df['descripcion'].apply(contar_palabras, palabras=[\"avenida\", \"av\", \n",
    "                \"avenidas\", \"bulevar\",\"boulevard\", \"paseo\", \"vía\"])\n",
    "\n",
    "df.avenida.value_counts()"
   ]
  },
  {
   "cell_type": "code",
   "execution_count": 48,
   "metadata": {},
   "outputs": [
    {
     "data": {
      "text/plain": [
       "0    55877\n",
       "1     3394\n",
       "2      589\n",
       "3      111\n",
       "4       22\n",
       "5        7\n",
       "Name: gim, dtype: int64"
      ]
     },
     "execution_count": 48,
     "metadata": {},
     "output_type": "execute_result"
    }
   ],
   "source": [
    "df['gim'] = df['titulo'].apply(contar_palabras, palabras=[\"gimnasio\", \"gimnásio\", \"entrenamiento\", \"gim\", \"gym\", \"fit\",\n",
    "            \"ejercicio\", \"gimnasia\",\"atletismo\", \"cancha\"])+df['descripcion'].apply(contar_palabras, palabras=[\"gimnasio\",\n",
    "            \"gimnásio\", \"entrenamiento\", \"gim\", \"gym\", \"fit\",\"ejercicio\", \"gimnasia\",\"atletismo\", \"cancha\"])\n",
    "df.gim.value_counts()"
   ]
  },
  {
   "cell_type": "code",
   "execution_count": 49,
   "metadata": {},
   "outputs": [
    {
     "data": {
      "text/plain": [
       "0    45221\n",
       "1    14028\n",
       "2      683\n",
       "3       56\n",
       "4       10\n",
       "6        1\n",
       "5        1\n",
       "Name: cochera, dtype: int64"
      ]
     },
     "execution_count": 49,
     "metadata": {},
     "output_type": "execute_result"
    }
   ],
   "source": [
    "df['cochera'] = df['titulo'].apply(contar_palabras, palabras=[\"cochera\", \"cocheras\", \"garage\", \n",
    "                \"garages\", \"garaje\", \"garajes\"])+df['descripcion'].apply(contar_palabras, palabras=[\"cochera\", \n",
    "                \"cocheras\", \"garage\",\"garages\", \"garaje\", \"garajes\"])\n",
    "\n",
    "df.cochera.value_counts()"
   ]
  },
  {
   "cell_type": "code",
   "execution_count": 50,
   "metadata": {},
   "outputs": [
    {
     "data": {
      "text/plain": [
       "0    40089\n",
       "1    15556\n",
       "2     3476\n",
       "3      657\n",
       "4      180\n",
       "5       28\n",
       "6        8\n",
       "8        3\n",
       "7        2\n",
       "9        1\n",
       "Name: ubicacion, dtype: int64"
      ]
     },
     "execution_count": 50,
     "metadata": {},
     "output_type": "execute_result"
    }
   ],
   "source": [
    "df['ubicacion'] = df['titulo'].apply(contar_palabras, palabras=[\"ubicacion\", \"ubicación\", \"locacion\", \n",
    "                \"locación\", \"localizacion\", \"localización\",\"ubicado\", \"ubicada\", \"centro\", \"centrico\",\n",
    "                \"centrica\", \"céntrico\", \"céntrica\",\"central\"])+df['descripcion'].apply(contar_palabras, palabras=[\"ubicacion\", \"ubicación\", \"locacion\", \n",
    "                \"locación\", \"localizacion\", \"localización\",\"ubicado\", \"ubicada\", \"centro\", \"centrico\",\n",
    "                \"centrica\", \"céntrico\", \"céntrica\",\"central\"])\n",
    "\n",
    "df.ubicacion.value_counts()"
   ]
  },
  {
   "cell_type": "code",
   "execution_count": 51,
   "metadata": {},
   "outputs": [
    {
     "data": {
      "text/plain": [
       "0     47163\n",
       "1     10224\n",
       "2      2032\n",
       "3       419\n",
       "4       108\n",
       "5        35\n",
       "6        10\n",
       "8         4\n",
       "10        2\n",
       "7         2\n",
       "12        1\n",
       "Name: balcon, dtype: int64"
      ]
     },
     "execution_count": 51,
     "metadata": {},
     "output_type": "execute_result"
    }
   ],
   "source": [
    "df['balcon'] = df['titulo'].apply(contar_palabras, palabras=[\"balcon\", \"balcón\", \"terraza\", \"palco\", \"mirador\", \n",
    "            \"balconcillo\",\"azotea\", \"solana\"])+df['descripcion'].apply(contar_palabras, palabras=[\"balcon\", \"balcón\", \n",
    "            \"terraza\", \"palco\", \"mirador\", \"balconcillo\",\"azotea\", \"solana\"])\n",
    "\n",
    "df.balcon.value_counts()"
   ]
  },
  {
   "cell_type": "code",
   "execution_count": 52,
   "metadata": {},
   "outputs": [
    {
     "data": {
      "text/plain": [
       "0    54879\n",
       "1     4450\n",
       "2      555\n",
       "3       88\n",
       "4       18\n",
       "5        9\n",
       "8        1\n",
       "Name: camaraseg, dtype: int64"
      ]
     },
     "execution_count": 52,
     "metadata": {},
     "output_type": "execute_result"
    }
   ],
   "source": [
    "df['camaraseg'] = df['titulo'].apply(contar_palabras, palabras=[\"camara\", \"cámara\", \"cámaras\", \"camaras\",\"seguridad\",\n",
    "                \"guardia\",\"seguro\",\"protegido\"]) + df['descripcion'].apply(contar_palabras, palabras=[\"camara\", \"cámara\",\n",
    "                \"cámaras\", \"camaras\",\"seguridad\",\"guardia\",\"seguro\",\"protegido\"])\n",
    "\n",
    "df.camaraseg.value_counts()"
   ]
  },
  {
   "cell_type": "code",
   "execution_count": 53,
   "metadata": {},
   "outputs": [
    {
     "data": {
      "text/plain": [
       "0     33457\n",
       "1     18895\n",
       "2      5775\n",
       "3      1403\n",
       "4       327\n",
       "5        89\n",
       "6        37\n",
       "7         7\n",
       "8         4\n",
       "9         3\n",
       "18        1\n",
       "11        1\n",
       "10        1\n",
       "Name: parque, dtype: int64"
      ]
     },
     "execution_count": 53,
     "metadata": {},
     "output_type": "execute_result"
    }
   ],
   "source": [
    "df['parque'] = df['titulo'].apply(contar_palabras, palabras=[\"parque\", \"plaza\", \"plazoleta\", \"glorieta\",\"jardin\",\n",
    "            \"jardín\",\"patio\"])+df['descripcion'].apply(contar_palabras, palabras=[\"parque\", \"plaza\", \"plazoleta\", \n",
    "            \"glorieta\",\"jardin\",\"jardín\",\"patio\"])\n",
    "\n",
    "df.parque.value_counts()"
   ]
  },
  {
   "cell_type": "code",
   "execution_count": 54,
   "metadata": {},
   "outputs": [
    {
     "data": {
      "text/plain": [
       "0    58002\n",
       "1     1803\n",
       "2      155\n",
       "3       26\n",
       "4        7\n",
       "5        6\n",
       "6        1\n",
       "Name: amoblado, dtype: int64"
      ]
     },
     "execution_count": 54,
     "metadata": {},
     "output_type": "execute_result"
    }
   ],
   "source": [
    "df['amoblado'] = df['titulo'].apply(contar_palabras, palabras=[\"muebles\", \"amoblado\", \"mueble\",\"decorado\",\n",
    "                \"listo\"]) + df['descripcion'].apply(contar_palabras, palabras=[\"muebles\", \"amoblado\", \"mueble\",\n",
    "                \"decorado\",\"listo\"])\n",
    "\n",
    "df.amoblado.value_counts()"
   ]
  },
  {
   "cell_type": "code",
   "execution_count": 55,
   "metadata": {},
   "outputs": [
    {
     "data": {
      "text/plain": [
       "0    56553\n",
       "1     2808\n",
       "2      579\n",
       "3       45\n",
       "4       12\n",
       "5        2\n",
       "6        1\n",
       "Name: bañera, dtype: int64"
      ]
     },
     "execution_count": 55,
     "metadata": {},
     "output_type": "execute_result"
    }
   ],
   "source": [
    "df['bañera'] = df['titulo'].apply(contar_palabras, palabras=[\"bañera\", \"hidromasaje\", \"hidro\", \"tina\",\n",
    "            \"jacuzzi\",\"jacuzi\",\"yacuzi\"]) + df['descripcion'].apply(contar_palabras, palabras=[\"bañera\", \"hidromasaje\", \n",
    "            \"hidro\", \"tina\",\"jacuzzi\",\"jacuzi\",\"yacuzi\"])\n",
    "\n",
    "df.bañera.value_counts()"
   ]
  },
  {
   "cell_type": "code",
   "execution_count": 56,
   "metadata": {},
   "outputs": [
    {
     "data": {
      "text/plain": [
       "0    53134\n",
       "1     5322\n",
       "2     1320\n",
       "3      187\n",
       "4       32\n",
       "5        5\n",
       "Name: estreno, dtype: int64"
      ]
     },
     "execution_count": 56,
     "metadata": {},
     "output_type": "execute_result"
    }
   ],
   "source": [
    "df['estreno'] = df['titulo'].apply(contar_palabras, palabras=[\"nuevo\", \"nueva\", \"estrenar\",\"estreno\",\n",
    "            \"innovador\"]) + df['descripcion'].apply(contar_palabras, palabras=[\"nuevo\", \"nueva\", \"estrenar\",\"estreno\",\n",
    "            \"innovador\"])\n",
    "\n",
    "df.estreno.value_counts()"
   ]
  },
  {
   "cell_type": "code",
   "execution_count": 57,
   "metadata": {},
   "outputs": [
    {
     "data": {
      "text/plain": [
       "0    57826\n",
       "1     1596\n",
       "2      466\n",
       "3       86\n",
       "4       18\n",
       "5        4\n",
       "7        2\n",
       "9        1\n",
       "6        1\n",
       "Name: transporte, dtype: int64"
      ]
     },
     "execution_count": 57,
     "metadata": {},
     "output_type": "execute_result"
    }
   ],
   "source": [
    "df['transporte'] = df['titulo'].apply(contar_palabras, palabras=[\"subte\", \"subterraneo\", \"subterráneo\",\"metro\", \n",
    "                \"estacion\", \"estación\", \"tren\",\"subestacion\", \"subestación\", \"ferrocarril\",\"metrobús\", \"metrobus\", \n",
    "                \"trolebus\",\"trolebús\", \"bus\", \"bús\"]) + df['descripcion'].apply(contar_palabras, palabras=[\"subte\", \n",
    "                \"subterraneo\", \"subterráneo\",\"metro\", \"estacion\", \"estación\", \"tren\",\"subestacion\", \"subestación\", \n",
    "                \"ferrocarril\",\"metrobús\", \"metrobus\", \"trolebus\",\"trolebús\", \"bus\", \"bús\"])\n",
    "\n",
    "df.transporte.value_counts()"
   ]
  },
  {
   "cell_type": "code",
   "execution_count": 58,
   "metadata": {},
   "outputs": [
    {
     "data": {
      "text/plain": [
       "0.0    54704\n",
       "1.0     5296\n",
       "Name: piscina, dtype: int64"
      ]
     },
     "execution_count": 58,
     "metadata": {},
     "output_type": "execute_result"
    }
   ],
   "source": [
    "df['pileta'] = df['titulo'].apply(contar_palabras, palabras=[\"piscina\", \"pileta\", \"nado\"])+ df['descripcion'].apply(contar_palabras, palabras=[\"piscina\", \"pileta\", \"nado\"])\n",
    "                                       \n",
    "df.piscina.value_counts()"
   ]
  },
  {
   "cell_type": "code",
   "execution_count": 59,
   "metadata": {},
   "outputs": [
    {
     "data": {
      "text/plain": [
       "0    55308\n",
       "1     3738\n",
       "2      791\n",
       "3      125\n",
       "4       30\n",
       "5        6\n",
       "8        2\n",
       "Name: lujo, dtype: int64"
      ]
     },
     "execution_count": 59,
     "metadata": {},
     "output_type": "execute_result"
    }
   ],
   "source": [
    "df['lujo'] = df['titulo'].apply(contar_palabras, palabras=[\"lujo\", \"delujo\", \"deluxe\", \"delúxe\", \"lujosa\", \"lujoso\", \n",
    "            \"lujosas\", \"lujosos\",\"exclusivo\",\"vip\"]) + df['descripcion'].apply(contar_palabras, palabras=[\"lujo\", \n",
    "            \"delujo\",\"deluxe\", \"delúxe\", \"lujosa\", \"lujoso\", \"lujosas\", \"lujosos\",\"exclusivo\",\"vip\"])\n",
    "df['lujo'].value_counts()"
   ]
  },
  {
   "cell_type": "code",
   "execution_count": 60,
   "metadata": {},
   "outputs": [
    {
     "data": {
      "text/plain": [
       "0    55358\n",
       "1     4006\n",
       "2      517\n",
       "3       98\n",
       "4       19\n",
       "5        2\n",
       "Name: humilde, dtype: int64"
      ]
     },
     "execution_count": 60,
     "metadata": {},
     "output_type": "execute_result"
    }
   ],
   "source": [
    "df['humilde'] = df['titulo'].apply(contar_palabras, palabras=[\"humilde\", \"economico\", \"economica\", \n",
    "            \"económico\", \"económica\", \"barata\", \"barato\", \"accesible\", \"baratillo\",\n",
    "            \"baratilla\", \"rebajado\", \"ganga\", \"asequible\", \"módico\", \"módica\",\"credito\",\"crédito\",\"oferta\",\"oferton\",\n",
    "            \"imperdible\"]) + df['descripcion'].apply(contar_palabras, palabras=[\"humilde\", \"economico\", \"economica\", \n",
    "            \"económico\", \"económica\", \"barata\", \"barato\", \"accesible\", \"baratillo\",\n",
    "            \"baratilla\", \"rebajado\", \"ganga\", \"asequible\", \"módico\", \"módica\",\n",
    "            \"credito\",\"crédito\",\"oferta\",\"oferton\",\"imperdible\"]) \n",
    "\n",
    "df['humilde'].value_counts()"
   ]
  },
  {
   "cell_type": "code",
   "execution_count": 61,
   "metadata": {},
   "outputs": [
    {
     "data": {
      "text/plain": [
       "0     50706\n",
       "1      7180\n",
       "2      1582\n",
       "3       340\n",
       "4       111\n",
       "5        41\n",
       "6        20\n",
       "7        13\n",
       "8         4\n",
       "22        1\n",
       "17        1\n",
       "14        1\n",
       "Name: ventana, dtype: int64"
      ]
     },
     "execution_count": 61,
     "metadata": {},
     "output_type": "execute_result"
    }
   ],
   "source": [
    "df['ventana'] = df['titulo'].apply(contar_palabras, palabras=[\"ventana\", \"ventanas\", \n",
    "            \"vista\", \"ventanal\",\"vistas\",\"cristal\"]) + df['descripcion'].apply(contar_palabras, palabras=[\"ventana\",\n",
    "            \"ventanas\", \"vista\", \"ventanal\",\"vistas\",\"cristal\"])\n",
    "\n",
    "df['ventana'].value_counts()"
   ]
  },
  {
   "cell_type": "code",
   "execution_count": 62,
   "metadata": {},
   "outputs": [
    {
     "data": {
      "text/plain": [
       "0     51316\n",
       "1      6521\n",
       "2      1786\n",
       "3       282\n",
       "4        61\n",
       "5        24\n",
       "6         4\n",
       "7         3\n",
       "10        2\n",
       "8         1\n",
       "Name: nuevo, dtype: int64"
      ]
     },
     "execution_count": 62,
     "metadata": {},
     "output_type": "execute_result"
    }
   ],
   "source": [
    "df['nuevo'] = df['titulo'].apply(contar_palabras, palabras=[\"reciente\", \"recien\", \"recién\", \"nueva\", \"nuevo\", \"nuevas\", \n",
    "            \"nuevos\", \"estrenar\"]) + df['descripcion'].apply(contar_palabras, palabras=[\"reciente\", \"recien\", \"recién\", \n",
    "            \"nueva\", \"nuevo\", \"nuevas\", \"nuevos\", \"estrenar\"])\n",
    "\n",
    "df['nuevo'].value_counts()"
   ]
  },
  {
   "cell_type": "code",
   "execution_count": 63,
   "metadata": {},
   "outputs": [
    {
     "data": {
      "text/plain": [
       "0    55893\n",
       "1     3762\n",
       "2      287\n",
       "3       42\n",
       "4       11\n",
       "5        5\n",
       "Name: luz, dtype: int64"
      ]
     },
     "execution_count": 63,
     "metadata": {},
     "output_type": "execute_result"
    }
   ],
   "source": [
    "df['luz'] = df['titulo'].apply(contar_palabras, palabras=[\"luz\", \"luminoso\", \"luminosa\",\"claridad\", \"luminiscencia\", \n",
    "        \"luminosidad\", \"iluminación\",\"iluminacion\"]) + df['descripcion'].apply(contar_palabras, palabras=[\"luz\", \n",
    "        \"luminoso\", \"luminosa\",\"claridad\", \"luminiscencia\",\"luminosidad\", \"iluminación\",\"iluminacion\"])\n",
    "\n",
    "df['luz'].value_counts()"
   ]
  },
  {
   "cell_type": "code",
   "execution_count": 64,
   "metadata": {},
   "outputs": [
    {
     "data": {
      "text/plain": [
       "0    37631\n",
       "1    16646\n",
       "2     4607\n",
       "3      918\n",
       "4      159\n",
       "5       27\n",
       "6        8\n",
       "7        2\n",
       "9        1\n",
       "8        1\n",
       "Name: bueno, dtype: int64"
      ]
     },
     "execution_count": 64,
     "metadata": {},
     "output_type": "execute_result"
    }
   ],
   "source": [
    "df['bueno'] = df['titulo'].apply(contar_palabras, palabras=[\"bueno\", \"buena\", \"buenas\", \"buenos\",\"excelente\", \n",
    "            \"excelentes\",\"increible\",\"espectacular\"]) + df['descripcion'].apply(contar_palabras, palabras=[\"bueno\", \n",
    "            \"buena\", \"buenas\", \"buenos\",\"excelente\", \"excelentes\",\"increible\",\"espectacular\"])\n",
    "\n",
    "df['bueno'].value_counts()"
   ]
  },
  {
   "cell_type": "code",
   "execution_count": 65,
   "metadata": {},
   "outputs": [
    {
     "data": {
      "text/plain": [
       "0     54650\n",
       "1      4595\n",
       "2       631\n",
       "3        98\n",
       "4        15\n",
       "5         4\n",
       "6         3\n",
       "17        1\n",
       "15        1\n",
       "12        1\n",
       "7         1\n",
       "Name: contable, dtype: int64"
      ]
     },
     "execution_count": 65,
     "metadata": {},
     "output_type": "execute_result"
    }
   ],
   "source": [
    "df['contable'] = df['titulo'].apply(contar_palabras, palabras=[\"precio\"]) + df['descripcion'].apply(contar_palabras, palabras=[\"precio\"])\n",
    "\n",
    "df['contable'].value_counts()"
   ]
  },
  {
   "cell_type": "code",
   "execution_count": 66,
   "metadata": {},
   "outputs": [
    {
     "data": {
      "text/plain": [
       "0    59086\n",
       "1      847\n",
       "2       59\n",
       "3        8\n",
       "Name: agente, dtype: int64"
      ]
     },
     "execution_count": 66,
     "metadata": {},
     "output_type": "execute_result"
    }
   ],
   "source": [
    "df['agente'] = df['descripcion'].apply(contar_palabras, palabras=[\"inmobiliaria\", \"asesoria\", \"asesoría\", \"lider\", \"re/max\", \"remax\"]) \n",
    "\n",
    "\n",
    "# df['titulo'].apply(contar_palabras, palabras=[\"precio\"]) + df['descripcion'].apply(contar_palabras, palabras=[\"precio\"])\n",
    "\n",
    "df['agente'].value_counts()"
   ]
  },
  {
   "cell_type": "code",
   "execution_count": 67,
   "metadata": {},
   "outputs": [
    {
     "data": {
      "text/plain": [
       "0    59274\n",
       "1      618\n",
       "2       90\n",
       "3        9\n",
       "4        6\n",
       "6        2\n",
       "5        1\n",
       "Name: garante, dtype: int64"
      ]
     },
     "execution_count": 67,
     "metadata": {},
     "output_type": "execute_result"
    }
   ],
   "source": [
    "df['garante'] = df['descripcion'].apply(contar_palabras, palabras=[\"garante\", \"garantía\", \"fiador\", \"garantizador\", \"avalista\", \"garantia\",\n",
    "                                                                   \"defensor\", \"garantías\", \"garantes\", \"codeudor\"]) \n",
    "\n",
    "\n",
    "# df['titulo'].apply(contar_palabras, palabras=[\"precio\"]) + df['descripcion'].apply(contar_palabras, palabras=[\"precio\"])\n",
    "\n",
    "df['garante'].value_counts()"
   ]
  },
  {
   "cell_type": "code",
   "execution_count": 68,
   "metadata": {},
   "outputs": [
    {
     "data": {
      "text/plain": [
       "0    55062\n",
       "1     3862\n",
       "2      893\n",
       "3      136\n",
       "4       34\n",
       "5       12\n",
       "6        1\n",
       "Name: finanza, dtype: int64"
      ]
     },
     "execution_count": 68,
     "metadata": {},
     "output_type": "execute_result"
    }
   ],
   "source": [
    "df['finanza'] =  df['descripcion'].apply(contar_palabras, palabras=[\"credito\", \"crédito\", \"prestamo\", \"préstamo\", \"cuotas\", \"pagos\", \"hipotecario\"\\\n",
    "                 ,\"amortizable\", \"aptocredito\", \"aptocrédito\", \"apto-credito\", \"apto-crédito\", \"aptocredito\", \"aptocréditp\", \"ahorro\"]) + \\\n",
    "                 df['titulo'].apply(contar_palabras, palabras=[\"credito\", \"crédito\", \"prestamo\", \"préstamo\", \"cuotas\", \"pagos\", \"hipotecario\" \\\n",
    "                 ,\"amortizable\", \"aptocredito\", \"aptocrédito\", \"apto-credito\", \"apto-crédito\", \"aptocredito\", \"aptocrédito\", \"ahorro\"]) \n",
    "\n",
    "\n",
    "df['finanza'].value_counts()"
   ]
  },
  {
   "cell_type": "code",
   "execution_count": 69,
   "metadata": {},
   "outputs": [
    {
     "data": {
      "text/plain": [
       "0     57570\n",
       "1      1635\n",
       "2       496\n",
       "3       155\n",
       "4        53\n",
       "5        44\n",
       "6        21\n",
       "7         9\n",
       "9         6\n",
       "8         5\n",
       "10        2\n",
       "16        1\n",
       "13        1\n",
       "12        1\n",
       "11        1\n",
       "Name: turismo, dtype: int64"
      ]
     },
     "execution_count": 69,
     "metadata": {},
     "output_type": "execute_result"
    }
   ],
   "source": [
    "df['turismo'] =  df['descripcion'].apply(contar_palabras, palabras=[\"playa\", \"vacaciones\", \"descanso\", \"costa\", \"arena\", \"mar\", \"montaña\", \"monte\",\n",
    "                                                                   \"paisaje\", \"orilla\", \"rambla\", \"turista\", \"turistas\", \"cordillera\", \"sierra\"])\\\n",
    "                 + df['titulo'].apply(contar_palabras, palabras=[\"playa\", \"vacaciones\", \"descanso\", \"costa\", \"arena\", \"mar\", \"montaña\", \"monte\",\n",
    "                                                                   \"paisaje\", \"orilla\", \"rambla\", \"turista\", \"turistas\", \"cordillera\", \"sierra\"])\n",
    "\n",
    "\n",
    "df['turismo'].value_counts()"
   ]
  },
  {
   "cell_type": "code",
   "execution_count": 70,
   "metadata": {},
   "outputs": [
    {
     "data": {
      "text/plain": [
       "34       801\n",
       "36       782\n",
       "33       769\n",
       "37       768\n",
       "28       767\n",
       "48       759\n",
       "43       747\n",
       "26       742\n",
       "42       731\n",
       "39       729\n",
       "38       729\n",
       "27       727\n",
       "41       720\n",
       "31       719\n",
       "30       709\n",
       "25       708\n",
       "44       707\n",
       "29       705\n",
       "40       701\n",
       "35       701\n",
       "23       692\n",
       "46       690\n",
       "52       688\n",
       "55       684\n",
       "21       682\n",
       "24       682\n",
       "32       679\n",
       "57       679\n",
       "45       678\n",
       "53       676\n",
       "        ... \n",
       "519        1\n",
       "553        1\n",
       "756        1\n",
       "818        1\n",
       "442        1\n",
       "355        1\n",
       "391        1\n",
       "371        1\n",
       "483        1\n",
       "379        1\n",
       "1227       1\n",
       "747        1\n",
       "619        1\n",
       "14108      1\n",
       "570        1\n",
       "474        1\n",
       "555        1\n",
       "532        1\n",
       "531        1\n",
       "356        1\n",
       "1043       1\n",
       "420        1\n",
       "1363       1\n",
       "516        1\n",
       "554        1\n",
       "522        1\n",
       "426        1\n",
       "394        1\n",
       "330        1\n",
       "5485       1\n",
       "Name: longitud_desc, Length: 510, dtype: int64"
      ]
     },
     "execution_count": 70,
     "metadata": {},
     "output_type": "execute_result"
    }
   ],
   "source": [
    "df['longitud_desc'] =  df['descripcion'].apply(lambda x: len(x.split()))\n",
    "\n",
    "\n",
    "df['longitud_desc'].value_counts()"
   ]
  },
  {
   "cell_type": "code",
   "execution_count": 71,
   "metadata": {},
   "outputs": [],
   "source": [
    "x_test = df"
   ]
  },
  {
   "cell_type": "code",
   "execution_count": 72,
   "metadata": {},
   "outputs": [],
   "source": [
    "#Adiciono servicios\n",
    "x_test['servicios'] = x_test['piscina'] + x_test['gimnasio'] + x_test['usosmultiples']\n",
    "\n",
    "#\"Normalizo\" la antiguedad\n",
    "#x_train['antiguedad'] = minmax(x_train['antiguedad'])\n",
    "\n",
    "#Se los asigno a los test (NO LOS CALCULO CON ELLOS!!!!!!)\n",
    "x_test = mean_target_decoding(x_test, \"provincia\", backup)\n",
    "x_test = mean_target_decoding(x_test, \"tipodepropiedad\", backup)\n",
    "x_test = mean_target_decoding(x_test, \"ciudad\", backup)\n",
    "\n",
    "#Elimino los residuos\n",
    "x_test = x_test.drop(['piscina', 'gimnasio','usosmultiples','escuelascercanas', 'fecha',\n",
    "                  'centroscomercialescercanos', 'titulo', 'direccion', 'descripcion',\n",
    "                  'id'], axis = 1)\n",
    "\n",
    "########### LIMPIO LOS QUE HICE MEAN ################\n",
    "\n",
    "x_test.drop([\"provincia\", \"tipodepropiedad\",\"ciudad\"], axis=1, inplace = True)"
   ]
  },
  {
   "cell_type": "code",
   "execution_count": 73,
   "metadata": {},
   "outputs": [],
   "source": [
    "prediccion = xgb_model.predict(x_test)"
   ]
  },
  {
   "cell_type": "code",
   "execution_count": 74,
   "metadata": {},
   "outputs": [],
   "source": [
    "test_original = pd.read_csv(\"test.csv\")\n",
    "predicciones = test_original.loc[:, ['id','ciudad']]\n",
    "predicciones.rename(columns = {'ciudad' : 'target'}, inplace = True)\n",
    "predicciones['target'] = prediccion\n",
    "predicciones = predicciones.set_index('id')"
   ]
  },
  {
   "cell_type": "code",
   "execution_count": 75,
   "metadata": {},
   "outputs": [],
   "source": [
    "predicciones.to_csv(r'prediccionXGBFEmix_optII.csv')"
   ]
  },
  {
   "cell_type": "code",
   "execution_count": null,
   "metadata": {},
   "outputs": [],
   "source": []
  }
 ],
 "metadata": {
  "kernelspec": {
   "display_name": "Python 3",
   "language": "python",
   "name": "python3"
  },
  "language_info": {
   "codemirror_mode": {
    "name": "ipython",
    "version": 3
   },
   "file_extension": ".py",
   "mimetype": "text/x-python",
   "name": "python",
   "nbconvert_exporter": "python",
   "pygments_lexer": "ipython3",
   "version": "3.5.2"
  }
 },
 "nbformat": 4,
 "nbformat_minor": 4
}

{
 "cells": [
  {
   "cell_type": "code",
   "execution_count": 1,
   "metadata": {},
   "outputs": [],
   "source": [
    "import numpy as np\n",
    "import pandas as pd\n",
    "\n",
    "train = pd.read_csv(\"train.csv\")"
   ]
  },
  {
   "cell_type": "code",
   "execution_count": 38,
   "metadata": {},
   "outputs": [
    {
     "name": "stdout",
     "output_type": "stream",
     "text": [
      "[1876666.66666667]\n"
     ]
    }
   ],
   "source": [
    "#Armo train para que prediga con metros y habitaciones nada mas\n",
    "\n",
    "trainreducido = train.loc[:,[\"id\",\"metrostotales\", \"habitaciones\", \"precio\"]]\n",
    "trainreducido = trainreducido.dropna()\n",
    "\n",
    "#Formo los features\n",
    "X = trainreducido.loc[:, [\"metrostotales\",\"habitaciones\"]]\n",
    "Y = trainreducido['precio']\n",
    "\n",
    "#Creo el KNN\n",
    "from sklearn.neighbors import KNeighborsRegressor\n",
    "neigh = KNeighborsRegressor(n_neighbors=3)\n",
    "neigh.fit(X,Y)\n",
    "\n",
    "#Hago una pruebita precaria\n",
    "print(neigh.predict([[100,2]]))\n"
   ]
  }
 ],
 "metadata": {
  "kernelspec": {
   "display_name": "Python 3",
   "language": "python",
   "name": "python3"
  },
  "language_info": {
   "codemirror_mode": {
    "name": "ipython",
    "version": 3
   },
   "file_extension": ".py",
   "mimetype": "text/x-python",
   "name": "python",
   "nbconvert_exporter": "python",
   "pygments_lexer": "ipython3",
   "version": "3.7.3"
  }
 },
 "nbformat": 4,
 "nbformat_minor": 4
}

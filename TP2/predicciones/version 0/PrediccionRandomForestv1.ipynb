{
 "cells": [
  {
   "cell_type": "code",
   "execution_count": 39,
   "metadata": {},
   "outputs": [],
   "source": [
    "import numpy as np\n",
    "import pandas as pd\n",
    "from sklearn import linear_model\n",
    "from sklearn import metrics\n",
    "from sklearn.ensemble import RandomForestRegressor\n",
    "from sklearn import preprocessing"
   ]
  },
  {
   "cell_type": "markdown",
   "metadata": {},
   "source": [
    "# Random Forest "
   ]
  },
  {
   "cell_type": "code",
   "execution_count": 40,
   "metadata": {},
   "outputs": [],
   "source": [
    "df = pd.read_csv(\"train.csv\")\n",
    "df1 = pd.read_csv(\"test.csv\")"
   ]
  },
  {
   "cell_type": "code",
   "execution_count": 41,
   "metadata": {},
   "outputs": [],
   "source": [
    "df['agregados']= df['escuelascercanas']+df['gimnasio']+df['centroscomercialescercanos']+df['piscina']+df['usosmultiples']\n",
    "train = df.drop(['id','idzona','lat','direccion','ciudad','descripcion','titulo','lng', 'escuelascercanas','gimnasio','centroscomercialescercanos','piscina','usosmultiples'],1)\n",
    "train['fecha'] = pd.to_datetime(train['fecha']).dt.year\n",
    "df1['agregados']= df1['escuelascercanas']+df1['gimnasio']+df1['centroscomercialescercanos']+df1['piscina']+df1['usosmultiples']\n",
    "test = df1.drop(['id','idzona','lat','direccion','ciudad','descripcion','titulo','lng', 'escuelascercanas','gimnasio','centroscomercialescercanos','piscina','usosmultiples'],1)\n",
    "test['fecha'] = pd.to_datetime(test['fecha']).dt.year\n",
    "#no acepta nan\n",
    "train.fillna(0, inplace=True)\n",
    "test.fillna(0, inplace=True)"
   ]
  },
  {
   "cell_type": "code",
   "execution_count": 42,
   "metadata": {},
   "outputs": [],
   "source": [
    "X = train\n",
    "y = train.iloc[:, 8].values "
   ]
  },
  {
   "cell_type": "code",
   "execution_count": 43,
   "metadata": {},
   "outputs": [],
   "source": [
    "y_train = train['precio']\n",
    "temporal = train"
   ]
  },
  {
   "cell_type": "code",
   "execution_count": 44,
   "metadata": {},
   "outputs": [],
   "source": [
    "def mean_target_encoding(train, nombrefeat, nombretarget):\n",
    "        \n",
    "    temp = train.groupby(nombrefeat)[nombretarget].transform(np.mean) #Saco promedio\n",
    "    temp = preprocessing.scale(temp) #Normalizo\n",
    "    train[nombrefeat + \"_mean\"] = temp #Dejo en el DF\n",
    "    \n",
    "    return train"
   ]
  },
  {
   "cell_type": "code",
   "execution_count": 45,
   "metadata": {},
   "outputs": [],
   "source": [
    "def mean_target_decoding(x_test, nombrefeat, x_train):\n",
    "    \n",
    "    nombrefeatmean = nombrefeat + \"_mean\"\n",
    "    \n",
    "    temp = x_train.loc[:,[nombrefeat,nombrefeatmean]]\n",
    "    temp = temp.set_index(nombrefeat)\n",
    "    temp = temp.drop_duplicates()\n",
    "    temp = temp.T.squeeze()\n",
    "    values = x_test[nombrefeat].map(temp)\n",
    "    x_test[nombrefeatmean] = values \n",
    "\n",
    "    return x_test"
   ]
  },
  {
   "cell_type": "code",
   "execution_count": 46,
   "metadata": {},
   "outputs": [],
   "source": [
    "#Calculo mean para provincia y tipo de propiedad \n",
    "x_train = mean_target_encoding(train, \"provincia\", \"precio\")\n",
    "x_train['precio'] = y_train\n",
    "x_train = mean_target_encoding(x_train, \"tipodepropiedad\", \"precio\")\n",
    "test = mean_target_decoding(test, \"provincia\", temporal)\n",
    "test = mean_target_decoding(test, \"tipodepropiedad\", temporal)"
   ]
  },
  {
   "cell_type": "code",
   "execution_count": 31,
   "metadata": {},
   "outputs": [],
   "source": [
    "#limpio los mean\n",
    "x_train.drop([\"precio\",\"provincia\", \"tipodepropiedad\"], axis=1, inplace = True)\n",
    "test.drop([\"provincia\", \"tipodepropiedad\"], axis=1, inplace = True)"
   ]
  },
  {
   "cell_type": "code",
   "execution_count": 32,
   "metadata": {},
   "outputs": [
    {
     "data": {
      "text/html": [
       "<div>\n",
       "<style scoped>\n",
       "    .dataframe tbody tr th:only-of-type {\n",
       "        vertical-align: middle;\n",
       "    }\n",
       "\n",
       "    .dataframe tbody tr th {\n",
       "        vertical-align: top;\n",
       "    }\n",
       "\n",
       "    .dataframe thead th {\n",
       "        text-align: right;\n",
       "    }\n",
       "</style>\n",
       "<table border=\"1\" class=\"dataframe\">\n",
       "  <thead>\n",
       "    <tr style=\"text-align: right;\">\n",
       "      <th></th>\n",
       "      <th>antiguedad</th>\n",
       "      <th>habitaciones</th>\n",
       "      <th>garages</th>\n",
       "      <th>banos</th>\n",
       "      <th>metroscubiertos</th>\n",
       "      <th>metrostotales</th>\n",
       "      <th>fecha</th>\n",
       "      <th>agregados</th>\n",
       "      <th>provincia_mean</th>\n",
       "      <th>tipodepropiedad_mean</th>\n",
       "    </tr>\n",
       "  </thead>\n",
       "  <tbody>\n",
       "    <tr>\n",
       "      <td>0</td>\n",
       "      <td>29.0</td>\n",
       "      <td>3.0</td>\n",
       "      <td>0.0</td>\n",
       "      <td>4.0</td>\n",
       "      <td>300.0</td>\n",
       "      <td>0.0</td>\n",
       "      <td>2013</td>\n",
       "      <td>0.0</td>\n",
       "      <td>1.374282</td>\n",
       "      <td>-0.407201</td>\n",
       "    </tr>\n",
       "    <tr>\n",
       "      <td>1</td>\n",
       "      <td>0.0</td>\n",
       "      <td>1.0</td>\n",
       "      <td>1.0</td>\n",
       "      <td>1.0</td>\n",
       "      <td>67.0</td>\n",
       "      <td>67.0</td>\n",
       "      <td>2015</td>\n",
       "      <td>0.0</td>\n",
       "      <td>-0.722759</td>\n",
       "      <td>0.714871</td>\n",
       "    </tr>\n",
       "    <tr>\n",
       "      <td>2</td>\n",
       "      <td>0.0</td>\n",
       "      <td>2.0</td>\n",
       "      <td>1.0</td>\n",
       "      <td>2.0</td>\n",
       "      <td>87.0</td>\n",
       "      <td>100.0</td>\n",
       "      <td>2015</td>\n",
       "      <td>1.0</td>\n",
       "      <td>1.374282</td>\n",
       "      <td>0.714871</td>\n",
       "    </tr>\n",
       "    <tr>\n",
       "      <td>3</td>\n",
       "      <td>2.0</td>\n",
       "      <td>2.0</td>\n",
       "      <td>2.0</td>\n",
       "      <td>2.0</td>\n",
       "      <td>86.0</td>\n",
       "      <td>86.0</td>\n",
       "      <td>2015</td>\n",
       "      <td>0.0</td>\n",
       "      <td>0.026151</td>\n",
       "      <td>0.714871</td>\n",
       "    </tr>\n",
       "    <tr>\n",
       "      <td>4</td>\n",
       "      <td>10.0</td>\n",
       "      <td>2.0</td>\n",
       "      <td>1.0</td>\n",
       "      <td>1.0</td>\n",
       "      <td>80.0</td>\n",
       "      <td>76.0</td>\n",
       "      <td>2013</td>\n",
       "      <td>2.0</td>\n",
       "      <td>0.338326</td>\n",
       "      <td>-0.407201</td>\n",
       "    </tr>\n",
       "    <tr>\n",
       "      <td>...</td>\n",
       "      <td>...</td>\n",
       "      <td>...</td>\n",
       "      <td>...</td>\n",
       "      <td>...</td>\n",
       "      <td>...</td>\n",
       "      <td>...</td>\n",
       "      <td>...</td>\n",
       "      <td>...</td>\n",
       "      <td>...</td>\n",
       "      <td>...</td>\n",
       "    </tr>\n",
       "    <tr>\n",
       "      <td>59995</td>\n",
       "      <td>20.0</td>\n",
       "      <td>4.0</td>\n",
       "      <td>3.0</td>\n",
       "      <td>3.0</td>\n",
       "      <td>291.0</td>\n",
       "      <td>0.0</td>\n",
       "      <td>2015</td>\n",
       "      <td>2.0</td>\n",
       "      <td>1.374282</td>\n",
       "      <td>-0.407201</td>\n",
       "    </tr>\n",
       "    <tr>\n",
       "      <td>59996</td>\n",
       "      <td>10.0</td>\n",
       "      <td>3.0</td>\n",
       "      <td>1.0</td>\n",
       "      <td>2.0</td>\n",
       "      <td>71.0</td>\n",
       "      <td>87.0</td>\n",
       "      <td>2016</td>\n",
       "      <td>2.0</td>\n",
       "      <td>0.338326</td>\n",
       "      <td>-0.407201</td>\n",
       "    </tr>\n",
       "    <tr>\n",
       "      <td>59997</td>\n",
       "      <td>5.0</td>\n",
       "      <td>3.0</td>\n",
       "      <td>2.0</td>\n",
       "      <td>2.0</td>\n",
       "      <td>102.0</td>\n",
       "      <td>0.0</td>\n",
       "      <td>2014</td>\n",
       "      <td>2.0</td>\n",
       "      <td>0.273025</td>\n",
       "      <td>-0.407201</td>\n",
       "    </tr>\n",
       "    <tr>\n",
       "      <td>59998</td>\n",
       "      <td>0.0</td>\n",
       "      <td>2.0</td>\n",
       "      <td>1.0</td>\n",
       "      <td>2.0</td>\n",
       "      <td>130.0</td>\n",
       "      <td>144.0</td>\n",
       "      <td>2016</td>\n",
       "      <td>2.0</td>\n",
       "      <td>-0.564878</td>\n",
       "      <td>-0.407201</td>\n",
       "    </tr>\n",
       "    <tr>\n",
       "      <td>59999</td>\n",
       "      <td>0.0</td>\n",
       "      <td>3.0</td>\n",
       "      <td>2.0</td>\n",
       "      <td>2.0</td>\n",
       "      <td>211.0</td>\n",
       "      <td>130.0</td>\n",
       "      <td>2013</td>\n",
       "      <td>2.0</td>\n",
       "      <td>-0.238298</td>\n",
       "      <td>-0.407201</td>\n",
       "    </tr>\n",
       "  </tbody>\n",
       "</table>\n",
       "<p>60000 rows × 10 columns</p>\n",
       "</div>"
      ],
      "text/plain": [
       "       antiguedad  habitaciones  garages  banos  metroscubiertos  \\\n",
       "0            29.0           3.0      0.0    4.0            300.0   \n",
       "1             0.0           1.0      1.0    1.0             67.0   \n",
       "2             0.0           2.0      1.0    2.0             87.0   \n",
       "3             2.0           2.0      2.0    2.0             86.0   \n",
       "4            10.0           2.0      1.0    1.0             80.0   \n",
       "...           ...           ...      ...    ...              ...   \n",
       "59995        20.0           4.0      3.0    3.0            291.0   \n",
       "59996        10.0           3.0      1.0    2.0             71.0   \n",
       "59997         5.0           3.0      2.0    2.0            102.0   \n",
       "59998         0.0           2.0      1.0    2.0            130.0   \n",
       "59999         0.0           3.0      2.0    2.0            211.0   \n",
       "\n",
       "       metrostotales  fecha  agregados  provincia_mean  tipodepropiedad_mean  \n",
       "0                0.0   2013        0.0        1.374282             -0.407201  \n",
       "1               67.0   2015        0.0       -0.722759              0.714871  \n",
       "2              100.0   2015        1.0        1.374282              0.714871  \n",
       "3               86.0   2015        0.0        0.026151              0.714871  \n",
       "4               76.0   2013        2.0        0.338326             -0.407201  \n",
       "...              ...    ...        ...             ...                   ...  \n",
       "59995            0.0   2015        2.0        1.374282             -0.407201  \n",
       "59996           87.0   2016        2.0        0.338326             -0.407201  \n",
       "59997            0.0   2014        2.0        0.273025             -0.407201  \n",
       "59998          144.0   2016        2.0       -0.564878             -0.407201  \n",
       "59999          130.0   2013        2.0       -0.238298             -0.407201  \n",
       "\n",
       "[60000 rows x 10 columns]"
      ]
     },
     "execution_count": 32,
     "metadata": {},
     "output_type": "execute_result"
    }
   ],
   "source": [
    "test"
   ]
  },
  {
   "cell_type": "code",
   "execution_count": 33,
   "metadata": {},
   "outputs": [
    {
     "name": "stderr",
     "output_type": "stream",
     "text": [
      "[Parallel(n_jobs=1)]: Using backend SequentialBackend with 1 concurrent workers.\n"
     ]
    },
    {
     "name": "stdout",
     "output_type": "stream",
     "text": [
      "building tree 1 of 74\n"
     ]
    },
    {
     "name": "stderr",
     "output_type": "stream",
     "text": [
      "[Parallel(n_jobs=1)]: Done   1 out of   1 | elapsed:    0.4s remaining:    0.0s\n"
     ]
    },
    {
     "name": "stdout",
     "output_type": "stream",
     "text": [
      "building tree 2 of 74\n",
      "building tree 3 of 74\n",
      "building tree 4 of 74\n",
      "building tree 5 of 74\n",
      "building tree 6 of 74\n",
      "building tree 7 of 74\n",
      "building tree 8 of 74\n",
      "building tree 9 of 74\n",
      "building tree 10 of 74\n",
      "building tree 11 of 74\n",
      "building tree 12 of 74\n",
      "building tree 13 of 74\n",
      "building tree 14 of 74\n",
      "building tree 15 of 74\n",
      "building tree 16 of 74\n",
      "building tree 17 of 74\n",
      "building tree 18 of 74\n",
      "building tree 19 of 74\n",
      "building tree 20 of 74\n",
      "building tree 21 of 74\n",
      "building tree 22 of 74\n",
      "building tree 23 of 74\n",
      "building tree 24 of 74\n",
      "building tree 25 of 74\n",
      "building tree 26 of 74\n",
      "building tree 27 of 74\n",
      "building tree 28 of 74\n",
      "building tree 29 of 74\n",
      "building tree 30 of 74\n",
      "building tree 31 of 74\n",
      "building tree 32 of 74\n",
      "building tree 33 of 74\n",
      "building tree 34 of 74\n",
      "building tree 35 of 74\n",
      "building tree 36 of 74\n",
      "building tree 37 of 74\n",
      "building tree 38 of 74\n",
      "building tree 39 of 74\n",
      "building tree 40 of 74\n",
      "building tree 41 of 74\n",
      "building tree 42 of 74\n",
      "building tree 43 of 74\n",
      "building tree 44 of 74\n",
      "building tree 45 of 74\n",
      "building tree 46 of 74\n",
      "building tree 47 of 74\n",
      "building tree 48 of 74\n",
      "building tree 49 of 74\n",
      "building tree 50 of 74\n",
      "building tree 51 of 74\n",
      "building tree 52 of 74\n",
      "building tree 53 of 74\n",
      "building tree 54 of 74\n",
      "building tree 55 of 74\n",
      "building tree 56 of 74\n",
      "building tree 57 of 74\n",
      "building tree 58 of 74\n",
      "building tree 59 of 74\n",
      "building tree 60 of 74\n",
      "building tree 61 of 74\n",
      "building tree 62 of 74\n",
      "building tree 63 of 74\n",
      "building tree 64 of 74\n",
      "building tree 65 of 74\n",
      "building tree 66 of 74\n",
      "building tree 67 of 74\n",
      "building tree 68 of 74\n",
      "building tree 69 of 74\n",
      "building tree 70 of 74\n",
      "building tree 71 of 74\n",
      "building tree 72 of 74\n",
      "building tree 73 of 74\n",
      "building tree 74 of 74\n"
     ]
    },
    {
     "name": "stderr",
     "output_type": "stream",
     "text": [
      "[Parallel(n_jobs=1)]: Done  74 out of  74 | elapsed:   27.6s finished\n"
     ]
    },
    {
     "data": {
      "text/plain": [
       "RandomForestRegressor(bootstrap=False, criterion='mse', max_depth=42,\n",
       "                      max_features='sqrt', max_leaf_nodes=None,\n",
       "                      min_impurity_decrease=0.0, min_impurity_split=None,\n",
       "                      min_samples_leaf=4, min_samples_split=10,\n",
       "                      min_weight_fraction_leaf=0.0, n_estimators=74,\n",
       "                      n_jobs=None, oob_score=False, random_state=None,\n",
       "                      verbose=2, warm_start=False)"
      ]
     },
     "execution_count": 33,
     "metadata": {},
     "output_type": "execute_result"
    }
   ],
   "source": [
    "# Crear el modelo \n",
    "forest = RandomForestRegressor(n_estimators= 74, min_samples_split=10,min_samples_leaf=4,max_features= \"sqrt\",max_depth=42,bootstrap = False, verbose=2)\n",
    "#Lo entreno \n",
    "forest.fit(x_train, y_train)"
   ]
  },
  {
   "cell_type": "code",
   "execution_count": 34,
   "metadata": {},
   "outputs": [
    {
     "name": "stderr",
     "output_type": "stream",
     "text": [
      "[Parallel(n_jobs=1)]: Using backend SequentialBackend with 1 concurrent workers.\n",
      "[Parallel(n_jobs=1)]: Done   1 out of   1 | elapsed:    0.0s remaining:    0.0s\n",
      "[Parallel(n_jobs=1)]: Done  74 out of  74 | elapsed:    1.2s finished\n"
     ]
    }
   ],
   "source": [
    "#Prediccion\n",
    "prediccion =forest.predict(test)"
   ]
  },
  {
   "cell_type": "code",
   "execution_count": 35,
   "metadata": {},
   "outputs": [],
   "source": [
    "test_original = pd.read_csv(\"test.csv\")\n",
    "predicciones = test_original.loc[:, ['id','ciudad']]\n",
    "predicciones.rename(columns = {'ciudad' : 'target'}, inplace = True)\n",
    "predicciones['target'] = prediccion\n",
    "predicciones = predicciones.set_index('id')"
   ]
  },
  {
   "cell_type": "code",
   "execution_count": 37,
   "metadata": {},
   "outputs": [],
   "source": [
    "predicciones.to_csv(r'prediccionRF1.csv')"
   ]
  },
  {
   "cell_type": "code",
   "execution_count": null,
   "metadata": {},
   "outputs": [],
   "source": []
  }
 ],
 "metadata": {
  "kernelspec": {
   "display_name": "Python 3",
   "language": "python",
   "name": "python3"
  },
  "language_info": {
   "codemirror_mode": {
    "name": "ipython",
    "version": 3
   },
   "file_extension": ".py",
   "mimetype": "text/x-python",
   "name": "python",
   "nbconvert_exporter": "python",
   "pygments_lexer": "ipython3",
   "version": "3.7.3"
  }
 },
 "nbformat": 4,
 "nbformat_minor": 2
}

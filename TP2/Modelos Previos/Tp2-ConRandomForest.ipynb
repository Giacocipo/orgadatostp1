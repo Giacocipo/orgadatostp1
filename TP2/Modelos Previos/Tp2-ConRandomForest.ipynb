{
 "cells": [
  {
   "cell_type": "code",
   "execution_count": 241,
   "metadata": {},
   "outputs": [],
   "source": [
    "import numpy as np\n",
    "import pandas as pd\n",
    "from sklearn import linear_model\n",
    "from sklearn import metrics\n",
    "from sklearn.ensemble import RandomForestRegressor\n",
    "from sklearn import preprocessing"
   ]
  },
  {
   "cell_type": "markdown",
   "metadata": {},
   "source": [
    "# Metodo Random Forest"
   ]
  },
  {
   "cell_type": "code",
   "execution_count": 277,
   "metadata": {},
   "outputs": [],
   "source": [
    "df = pd.read_csv(\"./train.csv\")\n"
   ]
  },
  {
   "cell_type": "code",
   "execution_count": 278,
   "metadata": {},
   "outputs": [],
   "source": [
    "def mean_target_encoding(train, nombrefeat, nombretarget):\n",
    "        \n",
    "    temp = train.groupby(nombrefeat)[nombretarget].transform(np.mean) #Saco promedio\n",
    "    temp = preprocessing.scale(temp) #Normalizo\n",
    "    train[nombrefeat + \"_mean\"] = temp #Dejo en el DF\n",
    "    \n",
    "    return train\n"
   ]
  },
  {
   "cell_type": "code",
   "execution_count": 279,
   "metadata": {},
   "outputs": [],
   "source": [
    "def mean_target_decoding(x_test, nombrefeat, x_train):\n",
    "    \n",
    "    nombrefeatmean = nombrefeat + \"_mean\"\n",
    "    \n",
    "    temp = x_train.loc[:,[nombrefeat,nombrefeatmean]]\n",
    "    temp = temp.set_index(nombrefeat)\n",
    "    temp = temp.drop_duplicates()\n",
    "    temp = temp.T.squeeze()\n",
    "    values = x_test[nombrefeat].map(temp)\n",
    "    x_test[nombrefeatmean] = values \n",
    "\n",
    "    return x_test"
   ]
  },
  {
   "cell_type": "code",
   "execution_count": 284,
   "metadata": {},
   "outputs": [
    {
     "name": "stderr",
     "output_type": "stream",
     "text": [
      "/home/belu/anaconda3/lib/python3.7/site-packages/ipykernel_launcher.py:5: SettingWithCopyWarning: \n",
      "A value is trying to be set on a copy of a slice from a DataFrame.\n",
      "Try using .loc[row_indexer,col_indexer] = value instead\n",
      "\n",
      "See the caveats in the documentation: http://pandas.pydata.org/pandas-docs/stable/user_guide/indexing.html#returning-a-view-versus-a-copy\n",
      "  \"\"\"\n",
      "/home/belu/anaconda3/lib/python3.7/site-packages/ipykernel_launcher.py:5: SettingWithCopyWarning: \n",
      "A value is trying to be set on a copy of a slice from a DataFrame.\n",
      "Try using .loc[row_indexer,col_indexer] = value instead\n",
      "\n",
      "See the caveats in the documentation: http://pandas.pydata.org/pandas-docs/stable/user_guide/indexing.html#returning-a-view-versus-a-copy\n",
      "  \"\"\"\n",
      "/home/belu/anaconda3/lib/python3.7/site-packages/ipykernel_launcher.py:10: SettingWithCopyWarning: \n",
      "A value is trying to be set on a copy of a slice from a DataFrame.\n",
      "Try using .loc[row_indexer,col_indexer] = value instead\n",
      "\n",
      "See the caveats in the documentation: http://pandas.pydata.org/pandas-docs/stable/user_guide/indexing.html#returning-a-view-versus-a-copy\n",
      "  # Remove the CWD from sys.path while we load stuff.\n"
     ]
    }
   ],
   "source": [
    "df['agregados']= df['escuelascercanas']+df['gimnasio']+df['centroscomercialescercanos']+df['piscina']+df['usosmultiples']\n",
    "train = df.drop(['id','idzona','lat','direccion','descripcion','titulo','lng', 'escuelascercanas','gimnasio','centroscomercialescercanos','piscina','usosmultiples'],1)\n",
    "train['fecha'] = pd.to_datetime(train['fecha']).dt.year\n",
    "train.fillna(0, inplace=True)\n",
    "X = train\n",
    "y = train['precio']\n",
    "\n",
    "from sklearn.model_selection import train_test_split\n",
    "#Separo los datos de \"train\" en entrenamiento y prueba para probar los algoritmos\n",
    "X_train, X_test, y_train, y_test = train_test_split(X, y, test_size=0.8, random_state=42)\n",
    "\n",
    "#X_train = mean_target_encoding(X_train, \"tipodepropiedad\", \"precio\")\n",
    "X_train = mean_target_encoding(X_train, \"provincia\", \"precio\")\n",
    "X_train = mean_target_encoding(X_train, \"ciudad\", \"precio\")\n",
    "\n",
    "X_test = mean_target_decoding(X_test, \"provincia\", X_train)\n",
    "#X_test = mean_target_decoding(X_test, \"tipodepropiedad\", X_train)\n",
    "X_test = mean_target_decoding(X_test, \"ciudad\", X_train)\n",
    "\n",
    "X_train = X_train.drop(['precio','tipodepropiedad','provincia','ciudad'],1) \n",
    "X_train.fillna(0, inplace=True)\n",
    "X_test = X_test.drop(['precio','tipodepropiedad','provincia','ciudad'],1) \n",
    "X_test.fillna(0, inplace=True)"
   ]
  },
  {
   "cell_type": "raw",
   "metadata": {},
   "source": [
    "arams = {\"objective\":\"reg:linear\",'colsample_bytree': 0.3,\n",
    "          'learning_rate': 0.1, 'max_depth': 5, 'alpha': 10}\n",
    "\n",
    "cv_results = RandomForestRegressor.cv(dtrain=data_dmatrix, params=params, nfold=3,\n",
    "                    num_boost_round=50, early_stopping_rounds=10,\n",
    "                    metrics=\"mae\", as_pandas=True, seed=123)"
   ]
  },
  {
   "cell_type": "raw",
   "metadata": {},
   "source": [
    "from sklearn.model_selection import GridSearchCV# Create the parameter grid based on the results of random search \n",
    "param_grid = {\n",
    "    'bootstrap': [True,False],\n",
    "    'max_depth': [42, 30],\n",
    "    'min_samples_leaf': [4],\n",
    "    'min_samples_split': [8, 10],\n",
    "    'n_estimators': [74, 84, 100],\n",
    "    'random_state':[42]\n",
    "}# Create a based model\n",
    "rf = RandomForestRegressor()# Instantiate the grid search model\n",
    "grid_search = GridSearchCV(estimator = rf, param_grid = param_grid, cv = 3, verbose = 2)\n",
    "print(grid_search)"
   ]
  },
  {
   "cell_type": "raw",
   "metadata": {},
   "source": [
    "# Fit the grid search to the data\n",
    "grid_search.fit(X_train, y_train)\n"
   ]
  },
  {
   "cell_type": "code",
   "execution_count": 285,
   "metadata": {},
   "outputs": [
    {
     "ename": "NameError",
     "evalue": "name 'rf_random' is not defined",
     "output_type": "error",
     "traceback": [
      "\u001b[0;31m---------------------------------------------------------------------------\u001b[0m",
      "\u001b[0;31mNameError\u001b[0m                                 Traceback (most recent call last)",
      "\u001b[0;32m<ipython-input-285-ea266b0743c6>\u001b[0m in \u001b[0;36m<module>\u001b[0;34m\u001b[0m\n\u001b[0;32m----> 1\u001b[0;31m \u001b[0mrf_random\u001b[0m\u001b[0;34m.\u001b[0m\u001b[0mbest_params_\u001b[0m\u001b[0;34m\u001b[0m\u001b[0;34m\u001b[0m\u001b[0m\n\u001b[0m",
      "\u001b[0;31mNameError\u001b[0m: name 'rf_random' is not defined"
     ]
    }
   ],
   "source": [
    "rf_random.best_params_"
   ]
  },
  {
   "cell_type": "code",
   "execution_count": 288,
   "metadata": {},
   "outputs": [
    {
     "name": "stderr",
     "output_type": "stream",
     "text": [
      "[Parallel(n_jobs=1)]: Using backend SequentialBackend with 1 concurrent workers.\n",
      "[Parallel(n_jobs=1)]: Done   1 out of   1 | elapsed:    0.1s remaining:    0.0s\n"
     ]
    },
    {
     "name": "stdout",
     "output_type": "stream",
     "text": [
      "building tree 1 of 74\n",
      "building tree 2 of 74\n",
      "building tree 3 of 74\n",
      "building tree 4 of 74\n",
      "building tree 5 of 74\n",
      "building tree 6 of 74\n",
      "building tree 7 of 74\n",
      "building tree 8 of 74\n",
      "building tree 9 of 74\n",
      "building tree 10 of 74\n",
      "building tree 11 of 74\n",
      "building tree 12 of 74\n",
      "building tree 13 of 74\n",
      "building tree 14 of 74\n",
      "building tree 15 of 74\n",
      "building tree 16 of 74\n",
      "building tree 17 of 74\n",
      "building tree 18 of 74\n",
      "building tree 19 of 74\n",
      "building tree 20 of 74\n",
      "building tree 21 of 74\n",
      "building tree 22 of 74\n",
      "building tree 23 of 74\n",
      "building tree 24 of 74\n",
      "building tree 25 of 74\n",
      "building tree 26 of 74\n",
      "building tree 27 of 74\n",
      "building tree 28 of 74\n",
      "building tree 29 of 74\n",
      "building tree 30 of 74\n",
      "building tree 31 of 74\n",
      "building tree 32 of 74\n",
      "building tree 33 of 74\n",
      "building tree 34 of 74\n",
      "building tree 35 of 74\n",
      "building tree 36 of 74\n",
      "building tree 37 of 74\n",
      "building tree 38 of 74\n",
      "building tree 39 of 74\n",
      "building tree 40 of 74\n",
      "building tree 41 of 74\n",
      "building tree 42 of 74\n",
      "building tree 43 of 74\n",
      "building tree 44 of 74\n",
      "building tree 45 of 74\n",
      "building tree 46 of 74\n",
      "building tree 47 of 74\n",
      "building tree 48 of 74\n",
      "building tree 49 of 74\n",
      "building tree 50 of 74\n",
      "building tree 51 of 74\n",
      "building tree 52 of 74\n",
      "building tree 53 of 74\n",
      "building tree 54 of 74\n",
      "building tree 55 of 74\n",
      "building tree 56 of 74\n",
      "building tree 57 of 74\n",
      "building tree 58 of 74\n",
      "building tree 59 of 74\n",
      "building tree 60 of 74\n",
      "building tree 61 of 74\n",
      "building tree 62 of 74\n",
      "building tree 63 of 74\n",
      "building tree 64 of 74\n",
      "building tree 65 of 74\n",
      "building tree 66 of 74\n",
      "building tree 67 of 74\n",
      "building tree 68 of 74\n",
      "building tree 69 of 74\n",
      "building tree 70 of 74\n",
      "building tree 71 of 74\n",
      "building tree 72 of 74\n",
      "building tree 73 of 74\n",
      "building tree 74 of 74\n"
     ]
    },
    {
     "name": "stderr",
     "output_type": "stream",
     "text": [
      "[Parallel(n_jobs=1)]: Done  74 out of  74 | elapsed:    5.5s finished\n"
     ]
    },
    {
     "data": {
      "text/plain": [
       "RandomForestRegressor(bootstrap=False, criterion='mse', max_depth=42,\n",
       "                      max_features='sqrt', max_leaf_nodes=None,\n",
       "                      min_impurity_decrease=0.0, min_impurity_split=None,\n",
       "                      min_samples_leaf=4, min_samples_split=10,\n",
       "                      min_weight_fraction_leaf=0.0, n_estimators=74,\n",
       "                      n_jobs=None, oob_score=False, random_state=None,\n",
       "                      verbose=2, warm_start=False)"
      ]
     },
     "execution_count": 288,
     "metadata": {},
     "output_type": "execute_result"
    }
   ],
   "source": [
    "# Crear el modelo \n",
    "forest = RandomForestRegressor(n_estimators= 74, min_samples_split=10,min_samples_leaf=4,max_features= \"sqrt\",max_depth=42,bootstrap = False, verbose=2)\n",
    "#Lo entreno \n",
    "forest.fit(X_train, y_train)"
   ]
  },
  {
   "cell_type": "code",
   "execution_count": 289,
   "metadata": {},
   "outputs": [
    {
     "name": "stderr",
     "output_type": "stream",
     "text": [
      "[Parallel(n_jobs=1)]: Using backend SequentialBackend with 1 concurrent workers.\n",
      "[Parallel(n_jobs=1)]: Done   1 out of   1 | elapsed:    0.0s remaining:    0.0s\n"
     ]
    },
    {
     "name": "stdout",
     "output_type": "stream",
     "text": [
      "MAE:  657315.953644291\n"
     ]
    },
    {
     "name": "stderr",
     "output_type": "stream",
     "text": [
      "[Parallel(n_jobs=1)]: Done  74 out of  74 | elapsed:    2.7s finished\n"
     ]
    }
   ],
   "source": [
    "Y_pred_forest = forest.predict(X_test)\n",
    "print('MAE: ', metrics.mean_absolute_error(y_test, Y_pred_forest))"
   ]
  },
  {
   "cell_type": "raw",
   "metadata": {},
   "source": [
    "Mejor MAE\n",
    "MAE:  811430.3824317729\n",
    "MAE: 657315.953644291\n",
    "\n",
    "Mejores parametros: \n",
    "{'n_estimators': 74,\n",
    " 'min_samples_split': 10,\n",
    " 'min_samples_leaf': 4,\n",
    " 'max_features': 'sqrt',\n",
    " 'max_depth': 42,\n",
    " 'bootstrap': False}"
   ]
  },
  {
   "cell_type": "markdown",
   "metadata": {},
   "source": [
    "## Regresion lineal"
   ]
  },
  {
   "cell_type": "code",
   "execution_count": 272,
   "metadata": {},
   "outputs": [
    {
     "name": "stdout",
     "output_type": "stream",
     "text": [
      "DATOS DEL MODELO REGRESIÓN LINEAL MULTIPLE\n",
      "Valor de las pendientes o coeficientes \"a\":\n",
      "[ -9584.4278303  -21140.02357942 -37512.45253943 176662.74685424\n",
      "   7233.12815357   3265.68949201 142396.62910729  42918.16491669\n",
      " 211416.20126535 220162.62182318 831383.3917511 ]\n",
      "Valor de la intersección o coeficiente \"b\":\n",
      "-286182697.55872494\n"
     ]
    }
   ],
   "source": [
    " #Defino el algoritmo a utilizar\n",
    "regresion_lineal = linear_model.LinearRegression()\n",
    "#Entreno el modelo\n",
    "regresion_lineal.fit(X_train, y_train)\n",
    "\n",
    "    \n",
    "#Realizo una predicción\n",
    "Y_pred_resgresion = regresion_lineal.predict(X_test)\n",
    "\n",
    "print('DATOS DEL MODELO REGRESIÓN LINEAL MULTIPLE')\n",
    "print('Valor de las pendientes o coeficientes \"a\":')\n",
    "print(regresion_lineal.coef_)\n",
    "print('Valor de la intersección o coeficiente \"b\":')\n",
    "print(regresion_lineal.intercept_)\n"
   ]
  },
  {
   "cell_type": "code",
   "execution_count": 273,
   "metadata": {},
   "outputs": [
    {
     "name": "stdout",
     "output_type": "stream",
     "text": [
      "Precisión del modelo:\n",
      "0.5098635284794366\n"
     ]
    }
   ],
   "source": [
    "print('Precisión del modelo:')\n",
    "print(regresion_lineal.score(X_train, y_train))"
   ]
  },
  {
   "cell_type": "code",
   "execution_count": 274,
   "metadata": {},
   "outputs": [
    {
     "name": "stdout",
     "output_type": "stream",
     "text": [
      "MAE:  1012544.7831299728\n"
     ]
    }
   ],
   "source": [
    "print('MAE: ', metrics.mean_absolute_error(y_test, Y_pred_resgresion))"
   ]
  },
  {
   "cell_type": "markdown",
   "metadata": {},
   "source": [
    "## Regresion + forest"
   ]
  },
  {
   "cell_type": "code",
   "execution_count": 275,
   "metadata": {},
   "outputs": [
    {
     "data": {
      "text/plain": [
       "array([3026722.11909799, 2123115.93241471, 5752193.19206432, ...,\n",
       "       2518846.16075811, 3225861.17448787, 1695116.70936667])"
      ]
     },
     "execution_count": 275,
     "metadata": {},
     "output_type": "execute_result"
    }
   ],
   "source": [
    "solucion = ( Y_pred_resgresion+Y_pred_forest)/2\n",
    "solucion"
   ]
  },
  {
   "cell_type": "code",
   "execution_count": 276,
   "metadata": {},
   "outputs": [
    {
     "name": "stdout",
     "output_type": "stream",
     "text": [
      "MAE:  830775.062637502\n"
     ]
    }
   ],
   "source": [
    "print('MAE: ', metrics.mean_absolute_error(y_test, solucion))"
   ]
  },
  {
   "cell_type": "code",
   "execution_count": null,
   "metadata": {},
   "outputs": [],
   "source": [
    "#El mae da muy bajo, revisar que no se este filtrando info con el mean de los feature"
   ]
  }
 ],
 "metadata": {
  "kernelspec": {
   "display_name": "Python 3",
   "language": "python",
   "name": "python3"
  },
  "language_info": {
   "codemirror_mode": {
    "name": "ipython",
    "version": 3
   },
   "file_extension": ".py",
   "mimetype": "text/x-python",
   "name": "python",
   "nbconvert_exporter": "python",
   "pygments_lexer": "ipython3",
   "version": "3.7.3"
  }
 },
 "nbformat": 4,
 "nbformat_minor": 2
}

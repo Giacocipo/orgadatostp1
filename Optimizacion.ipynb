{
 "cells": [
  {
   "cell_type": "code",
   "execution_count": 97,
   "metadata": {},
   "outputs": [
    {
     "name": "stdout",
     "output_type": "stream",
     "text": [
      "<class 'pandas.core.frame.DataFrame'>\n",
      "RangeIndex: 240000 entries, 0 to 239999\n",
      "Data columns (total 23 columns):\n",
      "id                            240000 non-null int64\n",
      "titulo                        234613 non-null object\n",
      "descripcion                   238381 non-null object\n",
      "tipodepropiedad               239954 non-null object\n",
      "direccion                     186928 non-null object\n",
      "ciudad                        239628 non-null object\n",
      "provincia                     239845 non-null object\n",
      "antiguedad                    196445 non-null float64\n",
      "habitaciones                  217529 non-null float64\n",
      "garages                       202235 non-null float64\n",
      "banos                         213779 non-null float64\n",
      "metroscubiertos               222600 non-null float64\n",
      "metrostotales                 188533 non-null float64\n",
      "idzona                        211379 non-null float64\n",
      "lat                           116512 non-null float64\n",
      "lng                           116512 non-null float64\n",
      "fecha                         240000 non-null object\n",
      "gimnasio                      240000 non-null float64\n",
      "usosmultiples                 240000 non-null float64\n",
      "piscina                       240000 non-null float64\n",
      "escuelascercanas              240000 non-null float64\n",
      "centroscomercialescercanos    240000 non-null float64\n",
      "precio                        240000 non-null float64\n",
      "dtypes: float64(15), int64(1), object(7)\n",
      "memory usage: 42.1+ MB\n"
     ]
    }
   ],
   "source": [
    "import numpy as np\n",
    "import pandas as pd\n",
    "import matplotlib.pyplot as plt\n",
    "\n",
    "df = pd.read_csv(\"train.csv\")\n",
    "df.info()"
   ]
  },
  {
   "cell_type": "code",
   "execution_count": 104,
   "metadata": {},
   "outputs": [
    {
     "data": {
      "text/plain": [
       "0    133406\n",
       "1    106594\n",
       "Name: escuelascercanas, dtype: int64"
      ]
     },
     "execution_count": 104,
     "metadata": {},
     "output_type": "execute_result"
    }
   ],
   "source": [
    "df.escuelascercanas.value_counts()"
   ]
  },
  {
   "cell_type": "code",
   "execution_count": 103,
   "metadata": {},
   "outputs": [
    {
     "data": {
      "text/plain": [
       "False    219028\n",
       "True      20972\n",
       "Name: piscina, dtype: int64"
      ]
     },
     "execution_count": 103,
     "metadata": {},
     "output_type": "execute_result"
    }
   ],
   "source": [
    "df.piscina.value_counts()"
   ]
  },
  {
   "cell_type": "code",
   "execution_count": 101,
   "metadata": {},
   "outputs": [
    {
     "data": {
      "text/plain": [
       "0    144832\n",
       "1     95168\n",
       "Name: centroscomercialescercanos, dtype: int64"
      ]
     },
     "execution_count": 101,
     "metadata": {},
     "output_type": "execute_result"
    }
   ],
   "source": [
    "df.centroscomercialescercanos.value_counts() "
   ]
  },
  {
   "cell_type": "code",
   "execution_count": 102,
   "metadata": {},
   "outputs": [
    {
     "data": {
      "text/plain": [
       "False    225006\n",
       "True      14994\n",
       "Name: gimnasio, dtype: int64"
      ]
     },
     "execution_count": 102,
     "metadata": {},
     "output_type": "execute_result"
    }
   ],
   "source": [
    "df.gimnasio.value_counts()"
   ]
  },
  {
   "cell_type": "code",
   "execution_count": 84,
   "metadata": {},
   "outputs": [
    {
     "data": {
      "text/plain": [
       "0.0    226778\n",
       "1.0     13222\n",
       "Name: usosmultiples, dtype: int64"
      ]
     },
     "execution_count": 84,
     "metadata": {},
     "output_type": "execute_result"
    }
   ],
   "source": [
    "df.usosmultiples.value_counts()"
   ]
  },
  {
   "cell_type": "code",
   "execution_count": 96,
   "metadata": {},
   "outputs": [
    {
     "data": {
      "text/plain": [
       "1500000.0     3041\n",
       "2500000.0     3036\n",
       "1200000.0     2909\n",
       "3500000.0     2726\n",
       "1300000.0     2480\n",
       "2200000.0     2420\n",
       "1100000.0     2394\n",
       "1800000.0     2290\n",
       "1600000.0     2217\n",
       "850000.0      2192\n",
       "750000.0      2163\n",
       "1250000.0     2159\n",
       "2300000.0     2108\n",
       "1350000.0     2103\n",
       "650000.0      2061\n",
       "3200000.0     2054\n",
       "4500000.0     2040\n",
       "2000000.0     1904\n",
       "950000.0      1867\n",
       "1650000.0     1865\n",
       "2800000.0     1863\n",
       "1400000.0     1850\n",
       "550000.0      1820\n",
       "2100000.0     1802\n",
       "3000000.0     1791\n",
       "1700000.0     1763\n",
       "1850000.0     1760\n",
       "2600000.0     1735\n",
       "1150000.0     1722\n",
       "1750000.0     1702\n",
       "              ... \n",
       "10807000.0       1\n",
       "468778.0         1\n",
       "675411.0         1\n",
       "468768.0         1\n",
       "7500250.0        1\n",
       "10815000.0       1\n",
       "3752490.0        1\n",
       "469105.0         1\n",
       "338144.0         1\n",
       "1352990.0        1\n",
       "938630.0         1\n",
       "10822700.0       1\n",
       "2705670.0        1\n",
       "1877000.0        1\n",
       "407500.0         1\n",
       "1352610.0        1\n",
       "676300.0         1\n",
       "2705184.0        1\n",
       "938426.0         1\n",
       "1876500.0        1\n",
       "1352560.0        1\n",
       "469208.0         1\n",
       "1352520.0        1\n",
       "469200.0         1\n",
       "5410000.0        1\n",
       "2704600.0        1\n",
       "1352250.0        1\n",
       "938260.0         1\n",
       "2704460.0        1\n",
       "2327000.0        1\n",
       "Name: precio, Length: 15520, dtype: int64"
      ]
     },
     "execution_count": 96,
     "metadata": {},
     "output_type": "execute_result"
    }
   ],
   "source": [
    "df.precio.value_counts()"
   ]
  },
  {
   "cell_type": "code",
   "execution_count": 109,
   "metadata": {},
   "outputs": [
    {
     "name": "stdout",
     "output_type": "stream",
     "text": [
      "<class 'pandas.core.frame.DataFrame'>\n",
      "RangeIndex: 240000 entries, 0 to 239999\n",
      "Data columns (total 23 columns):\n",
      "id                            240000 non-null int64\n",
      "titulo                        234613 non-null object\n",
      "descripcion                   238381 non-null object\n",
      "tipodepropiedad               239954 non-null object\n",
      "direccion                     186928 non-null object\n",
      "ciudad                        239628 non-null object\n",
      "provincia                     239845 non-null object\n",
      "antiguedad                    196445 non-null float64\n",
      "habitaciones                  217529 non-null float64\n",
      "garages                       202235 non-null float64\n",
      "banos                         213779 non-null float64\n",
      "metroscubiertos               222600 non-null float64\n",
      "metrostotales                 188533 non-null float64\n",
      "idzona                        211379 non-null float64\n",
      "lat                           116512 non-null float64\n",
      "lng                           116512 non-null float64\n",
      "fecha                         240000 non-null datetime64[ns]\n",
      "gimnasio                      240000 non-null bool\n",
      "usosmultiples                 240000 non-null bool\n",
      "piscina                       240000 non-null bool\n",
      "escuelascercanas              240000 non-null bool\n",
      "centroscomercialescercanos    240000 non-null bool\n",
      "precio                        240000 non-null int64\n",
      "dtypes: bool(5), datetime64[ns](1), float64(9), int64(2), object(6)\n",
      "memory usage: 34.1+ MB\n"
     ]
    }
   ],
   "source": [
    "#NUMERICOS ENTEROS QUE ERAN INNECESARIAMENTE FLOAT\n",
    "#------------------------------------------------#\n",
    "\n",
    "#NUMERICOS QUE SOLO SON CERO O UNO\n",
    "df['usosmultiples'] = df.usosmultiples.astype('bool')\n",
    "df['piscina'] = df.piscina.astype('bool')\n",
    "df['gimnasio'] = df.gimnasio.astype('bool')\n",
    "df['escuelascercanas'] = df.escuelascercanas.astype('bool')\n",
    "df['centroscomercialescercanos'] = df.centroscomercialescercanos.astype('bool')\n",
    "\n",
    "\n",
    "#FECHA DE PUBLICACION A DATETIME\n",
    "df['fecha'] = pd.to_datetime(df.fecha)\n",
    "\n",
    "\n",
    "# A estos hay que limpiarles los inf y los NaN antes de convertir a int\n",
    "\n",
    "#df['antiguedad'] = df.antiguedad.astype('int64')\n",
    "#df['garages'] = df.garages.astype('int64')\n",
    "#df['habitaciones'] = df.habitaciones.astype('int64')\n",
    "#df['metrostotales'] = df.metrostotales.astype('int64')\n",
    "#df['metroscubiertos'] = df.metroscubiertos.astype('int64')\n",
    "#df['idzona'] = df.idzona.astype('int64')\n",
    "\n",
    "df.info()"
   ]
  },
  {
   "cell_type": "code",
   "execution_count": null,
   "metadata": {},
   "outputs": [],
   "source": []
  }
 ],
 "metadata": {
  "kernelspec": {
   "display_name": "Python 2",
   "language": "python",
   "name": "python2"
  },
  "language_info": {
   "codemirror_mode": {
    "name": "ipython",
    "version": 2
   },
   "file_extension": ".py",
   "mimetype": "text/x-python",
   "name": "python",
   "nbconvert_exporter": "python",
   "pygments_lexer": "ipython2",
   "version": "2.7.15+"
  }
 },
 "nbformat": 4,
 "nbformat_minor": 2
}

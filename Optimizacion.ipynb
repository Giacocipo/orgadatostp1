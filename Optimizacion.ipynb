{
 "cells": [
  {
   "cell_type": "code",
   "execution_count": 23,
   "metadata": {},
   "outputs": [],
   "source": [
    "import numpy as np\n",
    "import pandas as pd\n",
    "import matplotlib.pyplot as plt\n",
    "\n",
    "df = pd.read_csv(\"train.csv\")"
   ]
  },
  {
   "cell_type": "code",
   "execution_count": 48,
   "metadata": {},
   "outputs": [
    {
     "data": {
      "text/html": [
       "<div>\n",
       "<style scoped>\n",
       "    .dataframe tbody tr th:only-of-type {\n",
       "        vertical-align: middle;\n",
       "    }\n",
       "\n",
       "    .dataframe tbody tr th {\n",
       "        vertical-align: top;\n",
       "    }\n",
       "\n",
       "    .dataframe thead th {\n",
       "        text-align: right;\n",
       "    }\n",
       "</style>\n",
       "<table border=\"1\" class=\"dataframe\">\n",
       "  <thead>\n",
       "    <tr style=\"text-align: right;\">\n",
       "      <th></th>\n",
       "      <th>id</th>\n",
       "      <th>titulo</th>\n",
       "      <th>descripcion</th>\n",
       "      <th>tipodepropiedad</th>\n",
       "      <th>direccion</th>\n",
       "      <th>ciudad</th>\n",
       "      <th>provincia</th>\n",
       "      <th>antiguedad</th>\n",
       "      <th>habitaciones</th>\n",
       "      <th>garages</th>\n",
       "      <th>...</th>\n",
       "      <th>idzona</th>\n",
       "      <th>lat</th>\n",
       "      <th>lng</th>\n",
       "      <th>fecha</th>\n",
       "      <th>gimnasio</th>\n",
       "      <th>usosmultiples</th>\n",
       "      <th>piscina</th>\n",
       "      <th>escuelascercanas</th>\n",
       "      <th>centroscomercialescercanos</th>\n",
       "      <th>precio</th>\n",
       "    </tr>\n",
       "  </thead>\n",
       "  <tbody>\n",
       "    <tr>\n",
       "      <th>0</th>\n",
       "      <td>254099</td>\n",
       "      <td>depto. tipo a-402</td>\n",
       "      <td>depto. interior de 80.15m2, consta de sala com...</td>\n",
       "      <td>Apartamento</td>\n",
       "      <td>Avenida Division del Norte 2005</td>\n",
       "      <td>Benito Juárez</td>\n",
       "      <td>Distrito Federal</td>\n",
       "      <td>NaN</td>\n",
       "      <td>2.0</td>\n",
       "      <td>1.0</td>\n",
       "      <td>...</td>\n",
       "      <td>23533.0</td>\n",
       "      <td>0.000000</td>\n",
       "      <td>0.000000</td>\n",
       "      <td>2015-08-23</td>\n",
       "      <td>False</td>\n",
       "      <td>False</td>\n",
       "      <td>False</td>\n",
       "      <td>False</td>\n",
       "      <td>False</td>\n",
       "      <td>2273000.0</td>\n",
       "    </tr>\n",
       "    <tr>\n",
       "      <th>1</th>\n",
       "      <td>53461</td>\n",
       "      <td>condominio horizontal en venta</td>\n",
       "      <td>&lt;p&gt;entre sonora y guerrero, atr&amp;aacute;s del h...</td>\n",
       "      <td>Casa en condominio</td>\n",
       "      <td>AV. MEXICO</td>\n",
       "      <td>La Magdalena Contreras</td>\n",
       "      <td>Distrito Federal</td>\n",
       "      <td>10.0</td>\n",
       "      <td>3.0</td>\n",
       "      <td>2.0</td>\n",
       "      <td>...</td>\n",
       "      <td>24514.0</td>\n",
       "      <td>19.310204</td>\n",
       "      <td>-99.227654</td>\n",
       "      <td>2013-06-28</td>\n",
       "      <td>False</td>\n",
       "      <td>False</td>\n",
       "      <td>False</td>\n",
       "      <td>True</td>\n",
       "      <td>True</td>\n",
       "      <td>3600000.0</td>\n",
       "    </tr>\n",
       "    <tr>\n",
       "      <th>2</th>\n",
       "      <td>247984</td>\n",
       "      <td>casa en venta urbi 3 recamaras tonala</td>\n",
       "      <td>descripcion \\nla mejor ubicacion residencial e...</td>\n",
       "      <td>Casa</td>\n",
       "      <td>Urbi Tonala</td>\n",
       "      <td>Tonalá</td>\n",
       "      <td>Jalisco</td>\n",
       "      <td>5.0</td>\n",
       "      <td>3.0</td>\n",
       "      <td>2.0</td>\n",
       "      <td>...</td>\n",
       "      <td>48551.0</td>\n",
       "      <td>0.000000</td>\n",
       "      <td>0.000000</td>\n",
       "      <td>2015-10-17</td>\n",
       "      <td>False</td>\n",
       "      <td>False</td>\n",
       "      <td>False</td>\n",
       "      <td>False</td>\n",
       "      <td>False</td>\n",
       "      <td>1200000.0</td>\n",
       "    </tr>\n",
       "    <tr>\n",
       "      <th>3</th>\n",
       "      <td>209067</td>\n",
       "      <td>casa sola en toluca zinacantepec con credito i...</td>\n",
       "      <td>casa en privada con caseta de vigilancia casas...</td>\n",
       "      <td>Casa</td>\n",
       "      <td>IGNACIO MANUEL ALTAMIRANO 128</td>\n",
       "      <td>Zinacantepec</td>\n",
       "      <td>Edo. de México</td>\n",
       "      <td>1.0</td>\n",
       "      <td>2.0</td>\n",
       "      <td>1.0</td>\n",
       "      <td>...</td>\n",
       "      <td>53666.0</td>\n",
       "      <td>19.301889</td>\n",
       "      <td>-99.688019</td>\n",
       "      <td>2012-03-09</td>\n",
       "      <td>False</td>\n",
       "      <td>False</td>\n",
       "      <td>False</td>\n",
       "      <td>True</td>\n",
       "      <td>True</td>\n",
       "      <td>650000.0</td>\n",
       "    </tr>\n",
       "    <tr>\n",
       "      <th>4</th>\n",
       "      <td>185997</td>\n",
       "      <td>paseos del sol</td>\n",
       "      <td>bonito departamento en excelentes condiciones ...</td>\n",
       "      <td>Apartamento</td>\n",
       "      <td>PASEOS DEL SOL</td>\n",
       "      <td>Zapopan</td>\n",
       "      <td>Jalisco</td>\n",
       "      <td>10.0</td>\n",
       "      <td>2.0</td>\n",
       "      <td>1.0</td>\n",
       "      <td>...</td>\n",
       "      <td>47835.0</td>\n",
       "      <td>0.000000</td>\n",
       "      <td>0.000000</td>\n",
       "      <td>2016-06-07</td>\n",
       "      <td>False</td>\n",
       "      <td>False</td>\n",
       "      <td>False</td>\n",
       "      <td>False</td>\n",
       "      <td>False</td>\n",
       "      <td>1150000.0</td>\n",
       "    </tr>\n",
       "  </tbody>\n",
       "</table>\n",
       "<p>5 rows × 23 columns</p>\n",
       "</div>"
      ],
      "text/plain": [
       "       id                                             titulo  \\\n",
       "0  254099                                  depto. tipo a-402   \n",
       "1   53461                     condominio horizontal en venta   \n",
       "2  247984              casa en venta urbi 3 recamaras tonala   \n",
       "3  209067  casa sola en toluca zinacantepec con credito i...   \n",
       "4  185997                                     paseos del sol   \n",
       "\n",
       "                                         descripcion     tipodepropiedad  \\\n",
       "0  depto. interior de 80.15m2, consta de sala com...         Apartamento   \n",
       "1  <p>entre sonora y guerrero, atr&aacute;s del h...  Casa en condominio   \n",
       "2  descripcion \\nla mejor ubicacion residencial e...                Casa   \n",
       "3  casa en privada con caseta de vigilancia casas...                Casa   \n",
       "4  bonito departamento en excelentes condiciones ...         Apartamento   \n",
       "\n",
       "                         direccion                  ciudad         provincia  \\\n",
       "0  Avenida Division del Norte 2005           Benito Juárez  Distrito Federal   \n",
       "1                       AV. MEXICO  La Magdalena Contreras  Distrito Federal   \n",
       "2                      Urbi Tonala                  Tonalá           Jalisco   \n",
       "3    IGNACIO MANUEL ALTAMIRANO 128            Zinacantepec    Edo. de México   \n",
       "4                  PASEOS DEL SOL                  Zapopan           Jalisco   \n",
       "\n",
       "   antiguedad  habitaciones  garages  ...   idzona        lat        lng  \\\n",
       "0         NaN           2.0      1.0  ...  23533.0   0.000000   0.000000   \n",
       "1        10.0           3.0      2.0  ...  24514.0  19.310204 -99.227654   \n",
       "2         5.0           3.0      2.0  ...  48551.0   0.000000   0.000000   \n",
       "3         1.0           2.0      1.0  ...  53666.0  19.301889 -99.688019   \n",
       "4        10.0           2.0      1.0  ...  47835.0   0.000000   0.000000   \n",
       "\n",
       "       fecha  gimnasio  usosmultiples piscina  escuelascercanas  \\\n",
       "0 2015-08-23     False          False   False             False   \n",
       "1 2013-06-28     False          False   False              True   \n",
       "2 2015-10-17     False          False   False             False   \n",
       "3 2012-03-09     False          False   False              True   \n",
       "4 2016-06-07     False          False   False             False   \n",
       "\n",
       "   centroscomercialescercanos     precio  \n",
       "0                       False  2273000.0  \n",
       "1                        True  3600000.0  \n",
       "2                       False  1200000.0  \n",
       "3                        True   650000.0  \n",
       "4                       False  1150000.0  \n",
       "\n",
       "[5 rows x 23 columns]"
      ]
     },
     "execution_count": 48,
     "metadata": {},
     "output_type": "execute_result"
    }
   ],
   "source": [
    "df.head()"
   ]
  },
  {
   "cell_type": "code",
   "execution_count": 24,
   "metadata": {},
   "outputs": [
    {
     "name": "stdout",
     "output_type": "stream",
     "text": [
      "<class 'pandas.core.frame.DataFrame'>\n",
      "RangeIndex: 240000 entries, 0 to 239999\n",
      "Data columns (total 23 columns):\n",
      "id                            240000 non-null int64\n",
      "titulo                        234613 non-null object\n",
      "descripcion                   238381 non-null object\n",
      "tipodepropiedad               239954 non-null object\n",
      "direccion                     186928 non-null object\n",
      "ciudad                        239628 non-null object\n",
      "provincia                     239845 non-null object\n",
      "antiguedad                    196445 non-null float64\n",
      "habitaciones                  217529 non-null float64\n",
      "garages                       202235 non-null float64\n",
      "banos                         213779 non-null float64\n",
      "metroscubiertos               222600 non-null float64\n",
      "metrostotales                 188533 non-null float64\n",
      "idzona                        211379 non-null float64\n",
      "lat                           116512 non-null float64\n",
      "lng                           116512 non-null float64\n",
      "fecha                         240000 non-null object\n",
      "gimnasio                      240000 non-null float64\n",
      "usosmultiples                 240000 non-null float64\n",
      "piscina                       240000 non-null float64\n",
      "escuelascercanas              240000 non-null float64\n",
      "centroscomercialescercanos    240000 non-null float64\n",
      "precio                        240000 non-null float64\n",
      "dtypes: float64(15), int64(1), object(7)\n",
      "memory usage: 42.1+ MB\n"
     ]
    }
   ],
   "source": [
    "df.info()"
   ]
  },
  {
   "cell_type": "code",
   "execution_count": 25,
   "metadata": {},
   "outputs": [
    {
     "data": {
      "text/plain": [
       "0.0    133406\n",
       "1.0    106594\n",
       "Name: escuelascercanas, dtype: int64"
      ]
     },
     "execution_count": 25,
     "metadata": {},
     "output_type": "execute_result"
    }
   ],
   "source": [
    "df['escuelascercanas'].value_counts()"
   ]
  },
  {
   "cell_type": "code",
   "execution_count": 26,
   "metadata": {},
   "outputs": [
    {
     "data": {
      "text/plain": [
       "0.0    219028\n",
       "1.0     20972\n",
       "Name: piscina, dtype: int64"
      ]
     },
     "execution_count": 26,
     "metadata": {},
     "output_type": "execute_result"
    }
   ],
   "source": [
    "df['piscina'].value_counts()"
   ]
  },
  {
   "cell_type": "code",
   "execution_count": 27,
   "metadata": {},
   "outputs": [
    {
     "data": {
      "text/plain": [
       "0.0    144832\n",
       "1.0     95168\n",
       "Name: centroscomercialescercanos, dtype: int64"
      ]
     },
     "execution_count": 27,
     "metadata": {},
     "output_type": "execute_result"
    }
   ],
   "source": [
    "df['centroscomercialescercanos'].value_counts() "
   ]
  },
  {
   "cell_type": "code",
   "execution_count": 28,
   "metadata": {},
   "outputs": [
    {
     "data": {
      "text/plain": [
       "0.0    225006\n",
       "1.0     14994\n",
       "Name: gimnasio, dtype: int64"
      ]
     },
     "execution_count": 28,
     "metadata": {},
     "output_type": "execute_result"
    }
   ],
   "source": [
    "df['gimnasio'].value_counts()"
   ]
  },
  {
   "cell_type": "code",
   "execution_count": 29,
   "metadata": {},
   "outputs": [
    {
     "data": {
      "text/plain": [
       "0.0    226778\n",
       "1.0     13222\n",
       "Name: usosmultiples, dtype: int64"
      ]
     },
     "execution_count": 29,
     "metadata": {},
     "output_type": "execute_result"
    }
   ],
   "source": [
    "df['usosmultiples'].value_counts()"
   ]
  },
  {
   "cell_type": "code",
   "execution_count": 30,
   "metadata": {},
   "outputs": [
    {
     "data": {
      "text/plain": [
       "1500000.0     3041\n",
       "2500000.0     3036\n",
       "1200000.0     2909\n",
       "3500000.0     2726\n",
       "1300000.0     2480\n",
       "2200000.0     2420\n",
       "1100000.0     2394\n",
       "1800000.0     2290\n",
       "1600000.0     2217\n",
       "850000.0      2192\n",
       "750000.0      2163\n",
       "1250000.0     2159\n",
       "2300000.0     2108\n",
       "1350000.0     2103\n",
       "650000.0      2061\n",
       "3200000.0     2054\n",
       "4500000.0     2040\n",
       "2000000.0     1904\n",
       "950000.0      1867\n",
       "1650000.0     1865\n",
       "2800000.0     1863\n",
       "1400000.0     1850\n",
       "550000.0      1820\n",
       "2100000.0     1802\n",
       "3000000.0     1791\n",
       "1700000.0     1763\n",
       "1850000.0     1760\n",
       "2600000.0     1735\n",
       "1150000.0     1722\n",
       "1750000.0     1702\n",
       "              ... \n",
       "10807000.0       1\n",
       "468778.0         1\n",
       "675411.0         1\n",
       "468768.0         1\n",
       "7500250.0        1\n",
       "10815000.0       1\n",
       "3752490.0        1\n",
       "469105.0         1\n",
       "338144.0         1\n",
       "1352990.0        1\n",
       "938630.0         1\n",
       "10822700.0       1\n",
       "2705670.0        1\n",
       "1877000.0        1\n",
       "407500.0         1\n",
       "1352610.0        1\n",
       "676300.0         1\n",
       "2705184.0        1\n",
       "938426.0         1\n",
       "1876500.0        1\n",
       "1352560.0        1\n",
       "469208.0         1\n",
       "1352520.0        1\n",
       "469200.0         1\n",
       "5410000.0        1\n",
       "2704600.0        1\n",
       "1352250.0        1\n",
       "938260.0         1\n",
       "2704460.0        1\n",
       "2327000.0        1\n",
       "Name: precio, Length: 15520, dtype: int64"
      ]
     },
     "execution_count": 30,
     "metadata": {},
     "output_type": "execute_result"
    }
   ],
   "source": [
    "df['precio'].value_counts()"
   ]
  },
  {
   "cell_type": "code",
   "execution_count": 31,
   "metadata": {},
   "outputs": [
    {
     "name": "stdout",
     "output_type": "stream",
     "text": [
      "<class 'pandas.core.frame.DataFrame'>\n",
      "RangeIndex: 240000 entries, 0 to 239999\n",
      "Data columns (total 23 columns):\n",
      "id                            240000 non-null int64\n",
      "titulo                        234613 non-null object\n",
      "descripcion                   238381 non-null object\n",
      "tipodepropiedad               239954 non-null object\n",
      "direccion                     186928 non-null object\n",
      "ciudad                        239628 non-null object\n",
      "provincia                     239845 non-null object\n",
      "antiguedad                    196445 non-null float64\n",
      "habitaciones                  217529 non-null float64\n",
      "garages                       202235 non-null float64\n",
      "banos                         213779 non-null float64\n",
      "metroscubiertos               222600 non-null float64\n",
      "metrostotales                 188533 non-null float64\n",
      "idzona                        211379 non-null float64\n",
      "lat                           116512 non-null float64\n",
      "lng                           116512 non-null float64\n",
      "fecha                         240000 non-null datetime64[ns]\n",
      "gimnasio                      240000 non-null bool\n",
      "usosmultiples                 240000 non-null bool\n",
      "piscina                       240000 non-null bool\n",
      "escuelascercanas              240000 non-null bool\n",
      "centroscomercialescercanos    240000 non-null bool\n",
      "precio                        240000 non-null float64\n",
      "dtypes: bool(5), datetime64[ns](1), float64(10), int64(1), object(6)\n",
      "memory usage: 34.1+ MB\n"
     ]
    }
   ],
   "source": [
    "#NUMERICOS ENTEROS QUE ERAN INNECESARIAMENTE FLOAT\n",
    "#------------------------------------------------#\n",
    "\n",
    "#NUMERICOS QUE SOLO SON CERO O UNO\n",
    "df['usosmultiples'] = df['usosmultiples'].astype('bool')\n",
    "df['piscina'] = df['piscina'].astype('bool')\n",
    "df['gimnasio'] = df['gimnasio'].astype('bool')\n",
    "df['escuelascercanas'] = df['escuelascercanas'].astype('bool')\n",
    "df['centroscomercialescercanos'] = df['centroscomercialescercanos'].astype('bool')\n",
    "\n",
    "\n",
    "#FECHA DE PUBLICACION A DATETIME\n",
    "df['fecha'] = pd.to_datetime(df['fecha'])\n",
    "\n",
    "\n",
    "# A estos hay que limpiarles los inf y los NaN antes de convertir a int\n",
    "\n",
    "#df['antiguedad'] = df.antiguedad.astype('int64')\n",
    "#df['garages'] = df.garages.astype('int64')\n",
    "#df['habitaciones'] = df.habitaciones.astype('int64')\n",
    "#df['metrostotales'] = df.metrostotales.astype('int64')\n",
    "#df['metroscubiertos'] = df.metroscubiertos.astype('int64')\n",
    "#df['idzona'] = df.idzona.astype('int64')\n",
    "\n",
    "df.info()"
   ]
  },
  {
   "cell_type": "code",
   "execution_count": 32,
   "metadata": {},
   "outputs": [],
   "source": [
    "# A estos hay que limpiarles los inf y los NaN antes de convertir a int\n",
    "\n",
    "#df['antiguedad'] = df.antiguedad.astype('int64')\n",
    "#df['garages'] = df.garages.astype('int64')\n",
    "#df['habitaciones'] = df.habitaciones.astype('int64')\n",
    "#df['metrostotales'] = df.metrostotales.astype('int64')\n",
    "#df['metroscubiertos'] = df.metroscubiertos.astype('int64')\n",
    "#df['idzona'] = df.idzona.astype('int64')"
   ]
  },
  {
   "cell_type": "code",
   "execution_count": 33,
   "metadata": {
    "scrolled": true
   },
   "outputs": [
    {
     "data": {
      "text/plain": [
       "0.0     50335\n",
       "5.0     33268\n",
       "10.0    28844\n",
       "20.0    19904\n",
       "1.0     12353\n",
       "4.0      7944\n",
       "3.0      5616\n",
       "2.0      5059\n",
       "15.0     3965\n",
       "6.0      3169\n",
       "30.0     3055\n",
       "8.0      2418\n",
       "25.0     2297\n",
       "7.0      2046\n",
       "12.0     1492\n",
       "11.0     1434\n",
       "40.0     1347\n",
       "50.0     1193\n",
       "9.0      1065\n",
       "35.0      938\n",
       "18.0      908\n",
       "21.0      742\n",
       "16.0      700\n",
       "14.0      616\n",
       "13.0      577\n",
       "17.0      529\n",
       "22.0      448\n",
       "28.0      396\n",
       "26.0      369\n",
       "45.0      329\n",
       "        ...  \n",
       "47.0       40\n",
       "55.0       38\n",
       "48.0       36\n",
       "46.0       31\n",
       "70.0       29\n",
       "41.0       27\n",
       "80.0       27\n",
       "53.0       17\n",
       "49.0       17\n",
       "65.0       17\n",
       "52.0       11\n",
       "58.0       10\n",
       "54.0        9\n",
       "75.0        6\n",
       "66.0        5\n",
       "59.0        5\n",
       "69.0        5\n",
       "67.0        4\n",
       "57.0        4\n",
       "63.0        4\n",
       "62.0        3\n",
       "56.0        3\n",
       "74.0        2\n",
       "68.0        2\n",
       "79.0        2\n",
       "61.0        2\n",
       "76.0        2\n",
       "71.0        1\n",
       "77.0        1\n",
       "64.0        1\n",
       "Name: antiguedad, Length: 78, dtype: int64"
      ]
     },
     "execution_count": 33,
     "metadata": {},
     "output_type": "execute_result"
    }
   ],
   "source": [
    "df['antiguedad'].value_counts()"
   ]
  },
  {
   "cell_type": "code",
   "execution_count": 34,
   "metadata": {},
   "outputs": [
    {
     "data": {
      "text/plain": [
       "240000"
      ]
     },
     "execution_count": 34,
     "metadata": {},
     "output_type": "execute_result"
    }
   ],
   "source": [
    "len(df)"
   ]
  },
  {
   "cell_type": "code",
   "execution_count": 35,
   "metadata": {},
   "outputs": [
    {
     "data": {
      "text/plain": [
       "id                                 0\n",
       "titulo                          5387\n",
       "descripcion                     1619\n",
       "tipodepropiedad                   46\n",
       "direccion                      53072\n",
       "ciudad                           372\n",
       "provincia                        155\n",
       "antiguedad                     43555\n",
       "habitaciones                   22471\n",
       "garages                        37765\n",
       "banos                          26221\n",
       "metroscubiertos                17400\n",
       "metrostotales                  51467\n",
       "idzona                         28621\n",
       "lat                           123488\n",
       "lng                           123488\n",
       "fecha                              0\n",
       "gimnasio                           0\n",
       "usosmultiples                      0\n",
       "piscina                            0\n",
       "escuelascercanas                   0\n",
       "centroscomercialescercanos         0\n",
       "precio                             0\n",
       "dtype: int64"
      ]
     },
     "execution_count": 35,
     "metadata": {},
     "output_type": "execute_result"
    }
   ],
   "source": [
    "#Vemos cuántos NaN hay por columna, sabiendo que el total es 240000\n",
    "df.isnull().sum()"
   ]
  },
  {
   "cell_type": "code",
   "execution_count": 36,
   "metadata": {},
   "outputs": [],
   "source": [
    "#Reemplazo los NaN por 0\n",
    "df.loc[(df['lat']).isnull(),['lat']]=0\n",
    "df.loc[(df['lng']).isnull(),['lng']]=0"
   ]
  },
  {
   "cell_type": "code",
   "execution_count": 37,
   "metadata": {},
   "outputs": [
    {
     "data": {
      "text/plain": [
       "0"
      ]
     },
     "execution_count": 37,
     "metadata": {},
     "output_type": "execute_result"
    }
   ],
   "source": [
    "df['lat'].isnull().sum()"
   ]
  },
  {
   "cell_type": "code",
   "execution_count": 38,
   "metadata": {},
   "outputs": [
    {
     "data": {
      "text/plain": [
       "0"
      ]
     },
     "execution_count": 38,
     "metadata": {},
     "output_type": "execute_result"
    }
   ],
   "source": [
    "df['lng'].isnull().sum()"
   ]
  },
  {
   "cell_type": "code",
   "execution_count": 39,
   "metadata": {},
   "outputs": [
    {
     "data": {
      "text/plain": [
       "0.000000     123936\n",
       "23.063781         8\n",
       "23.054936         7\n",
       "19.314000         6\n",
       "19.392000         6\n",
       "19.391000         6\n",
       "19.617000         6\n",
       "19.393000         6\n",
       "19.358000         6\n",
       "19.489000         6\n",
       "23.053672         6\n",
       "19.558000         6\n",
       "19.457000         6\n",
       "19.410000         6\n",
       "32.454473         5\n",
       "23.068835         5\n",
       "19.300000         5\n",
       "19.332000         5\n",
       "19.503000         5\n",
       "19.369000         5\n",
       "19.485000         5\n",
       "19.388000         5\n",
       "19.344000         5\n",
       "19.350000         5\n",
       "19.387000         5\n",
       "19.437000         5\n",
       "19.397000         5\n",
       "19.478000         5\n",
       "19.444000         5\n",
       "19.494000         5\n",
       "              ...  \n",
       "17.094446         1\n",
       "20.997915         1\n",
       "19.591669         1\n",
       "19.417518         1\n",
       "19.727337         1\n",
       "19.476194         1\n",
       "19.359454         1\n",
       "19.287115         1\n",
       "18.987497         1\n",
       "19.495689         1\n",
       "20.662757         1\n",
       "19.492759         1\n",
       "20.743466         1\n",
       "21.160287         1\n",
       "19.433077         1\n",
       "19.359921         1\n",
       "19.361805         1\n",
       "20.642669         1\n",
       "24.009796         1\n",
       "32.485229         1\n",
       "32.445024         1\n",
       "20.658414         1\n",
       "23.284804         1\n",
       "22.645698         1\n",
       "21.025559         1\n",
       "25.675224         1\n",
       "18.151347         1\n",
       "18.779346         1\n",
       "21.963000         1\n",
       "19.505390         1\n",
       "Name: lat, Length: 112147, dtype: int64"
      ]
     },
     "execution_count": 39,
     "metadata": {},
     "output_type": "execute_result"
    }
   ],
   "source": [
    "df['lat'].value_counts()"
   ]
  },
  {
   "cell_type": "code",
   "execution_count": 40,
   "metadata": {},
   "outputs": [
    {
     "data": {
      "text/plain": [
       " 0.000000      123937\n",
       "-99.225000         12\n",
       "-99.218984          9\n",
       "-99.139000          8\n",
       "-99.213000          8\n",
       "-99.230000          8\n",
       "-99.143540          7\n",
       "-99.156000          7\n",
       "-99.125000          7\n",
       "-99.191000          7\n",
       "-99.227000          7\n",
       "-99.177446          7\n",
       "-99.234000          7\n",
       "-99.200000          7\n",
       "-99.144000          7\n",
       "-99.183676          7\n",
       "-99.163000          7\n",
       "-99.175000          6\n",
       "-99.171909          6\n",
       "-99.055727          6\n",
       "-99.153000          6\n",
       "-99.195000          6\n",
       "-99.202366          6\n",
       "-99.133163          6\n",
       "-99.170000          6\n",
       "-99.258000          6\n",
       "-99.226000          6\n",
       "-99.165000          6\n",
       "-99.211000          6\n",
       "-99.161000          6\n",
       "                ...  \n",
       "-100.976336         1\n",
       "-103.439241         1\n",
       "-103.464754         1\n",
       "-96.191890          1\n",
       "-99.303276          1\n",
       "-116.761322         1\n",
       "-106.117890         1\n",
       "-99.007759          1\n",
       "-98.941038          1\n",
       "-100.369562         1\n",
       "-102.311859         1\n",
       "-99.156190          1\n",
       "-99.136433          1\n",
       "-100.102952         1\n",
       "-100.428454         1\n",
       "-103.461922         1\n",
       "-99.285294          1\n",
       "-100.240945         1\n",
       "-98.213833          1\n",
       "-99.191613          1\n",
       "-99.185678          1\n",
       "-101.557630         1\n",
       "-103.387854         1\n",
       "-100.316000         1\n",
       "-102.308277         1\n",
       "-103.449196         1\n",
       "-100.443135         1\n",
       "-106.103384         1\n",
       "-99.168257          1\n",
       "-99.131383          1\n",
       "Name: lng, Length: 112326, dtype: int64"
      ]
     },
     "execution_count": 40,
     "metadata": {},
     "output_type": "execute_result"
    }
   ],
   "source": [
    "df['lng'].value_counts()"
   ]
  },
  {
   "cell_type": "code",
   "execution_count": 46,
   "metadata": {},
   "outputs": [],
   "source": [
    "#Ahora cambio el tipo de dato de las columnas 'lat' y 'lng'\n",
    "df['lat'] = df['lat'].astype(np.float32)\n",
    "df['lng'] = df['lng'].astype(np.float32)"
   ]
  },
  {
   "cell_type": "code",
   "execution_count": 47,
   "metadata": {},
   "outputs": [
    {
     "data": {
      "text/plain": [
       "casa en venta                                                                        468\n",
       "departamento en venta                                                                289\n",
       "casa en venta en chihuahua                                                           268\n",
       "casa en venta en querétaro                                                           238\n",
       "departamento en venta en benito juárez                                               221\n",
       "departamento en venta en miguel hidalgo                                              177\n",
       "casa en venta en mérida                                                              167\n",
       "casa en venta                                                                        132\n",
       "casa en venta en torreón                                                             119\n",
       "casa en venta en mérida, yucatán                                                     115\n",
       "casa en venta en monterrey                                                           115\n",
       "casa en venta en puebla                                                              112\n",
       "casa en venta en juárez                                                              111\n",
       "casa en venta en tepic                                                               107\n",
       "casa en venta en juriquilla                                                          106\n",
       "casa en venta en san andrés cholula                                                  105\n",
       "casa en venta en tijuana                                                             104\n",
       "venta de casa en aguascalientes                                                       98\n",
       "terreno en venta                                                                      97\n",
       "departamento                                                                          89\n",
       "casa en condominio en venta en querétaro                                              86\n",
       "venta de departamento en benito juárez                                                84\n",
       "departamento en venta en cuauhtémoc                                                   84\n",
       "venta de casa en naucalpan                                                            84\n",
       "casa en venta en corregidora                                                          83\n",
       "casa en venta, monterrey, nuevo león                                                  80\n",
       "casa en venta en zapopan                                                              80\n",
       "departamento en venta en interlomas                                                   80\n",
       "venta de casa en cuautitlan izcalli                                                   79\n",
       "venta de casa en tlalnepantla                                                         78\n",
       "                                                                                    ... \n",
       "casa en fracc san fernanda,  por carretera a mazatlán, moderna, nueva...               1\n",
       "departamentos de lujo en venta por del centro, la corregidora cerrada                  1\n",
       "casa en zapopan 3 recamars santa margarita residen                                     1\n",
       "departamento en venta en fovissste (josé maría morelos y pavón)                        1\n",
       "quinta las elviras                                                                     1\n",
       "casa en esquina fracc. floresta                                                        1\n",
       "casa en venta en san juan totoltepec, naucalpan                                        1\n",
       "casa en venta en el refugio. casa de ensueño hermosísima. recamara primer planta       1\n",
       "casa en residencial los laureles                                                       1\n",
       "ultima casa!                                                                           1\n",
       "cad residencia calle cerrada fraccionamiento paseos del ajusco, del. tlalpan           1\n",
       "casa colonial en exclusivo lugar de chimalistac                                        1\n",
       "casa en venta en rinconada vallarta, rincón de los limones #72                         1\n",
       "preventa valle imperial, construimos la casa de tus sueños                             1\n",
       "casa de 3 recamaras con vestidor y baño cada una en cumbres del cimatario              1\n",
       "casa con comercio muy acreditado                                                       1\n",
       "edificio comercial de 3 pisos. ubicado en cimatario (televisa)                         1\n",
       "bonito departamento listo para ocupar                                                  1\n",
       "terreno independencia                                                                  1\n",
       "estrene casa nueva san andres totoltepec                                               1\n",
       "nueva en  en cumbres , aprovecha, 3 recamaras!                                         1\n",
       "gran oportunidad de inversión! ,casa en alberto j. pani, cd. satélite, naucalpan       1\n",
       "depto de recuperación, vasco de quiroga, santa fe !!!                                  1\n",
       " departamentos nuevos  en venta en san manuel                                          1\n",
       "hermoso departamento exterior con 2 habitaciones                                       1\n",
       "sendero de las moras, terreno en venta, tlajomulco                                     1\n",
       "casa en venta residencia jardines de versalles,                                        1\n",
       "bonita casa en venta fraccto puerta del sol xalisco nayarit                            1\n",
       "remate hipotecario, hacienda el roble, san nicolas de los garza(ac-3430)               1\n",
       "hermosa casa en club privado haciendas de ticuman                                      1\n",
       "Name: titulo, Length: 186191, dtype: int64"
      ]
     },
     "execution_count": 47,
     "metadata": {},
     "output_type": "execute_result"
    }
   ],
   "source": [
    "df['titulo'].value_counts()"
   ]
  },
  {
   "cell_type": "code",
   "execution_count": 63,
   "metadata": {},
   "outputs": [],
   "source": [
    "#Elimino los NaN\n",
    "df.loc[(df['titulo']).isnull(), ['titulo']] = ''\n",
    "df['titulo'] = df['titulo'].astype(str)"
   ]
  },
  {
   "cell_type": "code",
   "execution_count": 64,
   "metadata": {},
   "outputs": [
    {
     "data": {
      "text/plain": [
       "2.0    87683\n",
       "1.0    58173\n",
       "3.0    49365\n",
       "4.0    18558\n",
       "Name: banos, dtype: int64"
      ]
     },
     "execution_count": 64,
     "metadata": {},
     "output_type": "execute_result"
    }
   ],
   "source": [
    "df['banos'].value_counts()"
   ]
  },
  {
   "cell_type": "code",
   "execution_count": 66,
   "metadata": {},
   "outputs": [],
   "source": [
    "#Lo paso a tipo category porque tenemos 4 valores distintos \n",
    "df.loc[(df['banos']).isnull(), ['banos']] = 0\n",
    "df['banos'] = df['banos'].astype('category')"
   ]
  },
  {
   "cell_type": "code",
   "execution_count": 68,
   "metadata": {},
   "outputs": [
    {
     "data": {
      "text/plain": [
       "2.0    94167\n",
       "1.0    59464\n",
       "0.0    26926\n",
       "3.0    21678\n",
       "Name: garages, dtype: int64"
      ]
     },
     "execution_count": 68,
     "metadata": {},
     "output_type": "execute_result"
    }
   ],
   "source": [
    "df['garages'].value_counts()"
   ]
  },
  {
   "cell_type": "code",
   "execution_count": 69,
   "metadata": {},
   "outputs": [],
   "source": [
    "#Lo paso a tipo category porque tenemos 4 valores distintos \n",
    "df.loc[(df['garages']).isnull(), ['garages']] = 0\n",
    "df['garages'] = df['garages'].astype('category')"
   ]
  },
  {
   "cell_type": "code",
   "execution_count": 70,
   "metadata": {},
   "outputs": [
    {
     "data": {
      "text/plain": [
       "-                                                               660\n",
       ".                                                               476\n",
       "1                                                               212\n",
       "Calle                                                           194\n",
       "Norte de Mérida                                                 136\n",
       "x #x                                                            122\n",
       "0                                                               113\n",
       "domicilio conocido                                              105\n",
       "Calle 18 No.344 x 11 y 13 Col. Camara de Comercio Norte          94\n",
       "calle                                                            94\n",
       "Juriquilla                                                       84\n",
       "El Refugio                                                       78\n",
       "x                                                                77\n",
       "Metepec                                                          77\n",
       "CENTRO                                                           75\n",
       "JURIQUILLA                                                       74\n",
       "...                                                              70\n",
       "Sin nombre                                                       70\n",
       "EL REFUGIO                                                       68\n",
       "Bosque Real                                                      68\n",
       "Chihuahua, CHIH, México                                          67\n",
       "CALLE                                                            66\n",
       "S/N                                                              65\n",
       "Cumbres del Lago                                                 64\n",
       "Norte                                                            64\n",
       "--                                                               64\n",
       "S/D                                                              62\n",
       "Centro                                                           62\n",
       "cancun                                                           58\n",
       "Hidalgo                                                          55\n",
       "                                                               ... \n",
       "Avenida federalistas 909 casa14 Real del Bosque                   1\n",
       "Col Bosque Real                                                   1\n",
       "LOMA LINDA QRO-005                                                1\n",
       "Pico de Verapaz 507                                               1\n",
       "JARDIN DE LAS FLORES 251 -252                                     1\n",
       "RIO CANDELARIA 161                                                1\n",
       "Privada Badajo 5a. sección                                        1\n",
       "Salvador Diaz Miron esquina Circuito Interior                     1\n",
       "Ignacio Ramirez 1163                                              1\n",
       "palma y tamaulipas                                                1\n",
       "Infonavit norte                                                   1\n",
       "FG69                                                              1\n",
       "Av. Juan Palomar y Arias 930, Jardines Universidad, zapopan,      1\n",
       "Jose Manuel Othon 48                                              1\n",
       "Paseo de la Asunción No.101 La Joya Metepec Estado de México      1\n",
       "16a. Av. Norte Poniente 898                                       1\n",
       "COLONIA FUERTE DE LORETO                                          1\n",
       "DEBH0921                                                          1\n",
       "calle 21 # 117-C entre 24 y 24-A itzimná                          1\n",
       "CALLE TOLSA                                                       1\n",
       "Playa Encantada 28                                                1\n",
       "Norte 32 145                                                      1\n",
       "Calle Torrecillas #203                                            1\n",
       "av. radial aquiles serdan #297 ed. B  dpt. #304                   1\n",
       "Av. Río Nilo #3360                                                1\n",
       "Sm 44 calle Eclipse mz 15 Cancun Q.Roo                            1\n",
       "Las Torres 10                                                     1\n",
       "Calle: Pima Bajo   Col: Carlos Zapata Vela  Del: Iztacalco        1\n",
       "SANTA LUCIA 255                                                   1\n",
       "SANTA ROSA INTERIOR 27                                            1\n",
       "Name: direccion, Length: 140269, dtype: int64"
      ]
     },
     "execution_count": 70,
     "metadata": {},
     "output_type": "execute_result"
    }
   ],
   "source": [
    "df['direccion'].value_counts()"
   ]
  },
  {
   "cell_type": "code",
   "execution_count": 72,
   "metadata": {},
   "outputs": [],
   "source": [
    "df.loc[(df['direccion']).isnull(), ['direccion']] = 'S/D'\n",
    "df.loc[(df['direccion']) == 'S/N', ['direccion']] = 'S/D'\n",
    "df.loc[(df['direccion']) == 'Sin nombre', ['direccion']] = 'S/D'\n",
    "df.loc[(df['direccion']) == 0, ['direccion']] = 'S/D'\n",
    "df.loc[(df['direccion']) == '--', ['direccion']] = 'S/D'\n",
    "df.loc[(df['direccion']) == '...', ['direccion']] = 'S/D'\n",
    "df.loc[(df['direccion']) == '-', ['direccion']] = 'S/D'\n",
    "df.loc[(df['direccion']) == '.', ['direccion']] = 'S/D'\n",
    "df.loc[(df['direccion']) == 'x #x', ['direccion']] = 'S/D'\n",
    "df.loc[(df['direcion']) == '--', ['direccion']] = 'S/D'"
   ]
  },
  {
   "cell_type": "code",
   "execution_count": 73,
   "metadata": {},
   "outputs": [
    {
     "data": {
      "text/plain": [
       "S/D                                                             54661\n",
       "1                                                                 212\n",
       "Calle                                                             194\n",
       "Norte de Mérida                                                   136\n",
       "0                                                                 113\n",
       "domicilio conocido                                                105\n",
       "calle                                                              94\n",
       "Calle 18 No.344 x 11 y 13 Col. Camara de Comercio Norte            94\n",
       "Juriquilla                                                         84\n",
       "El Refugio                                                         78\n",
       "Metepec                                                            77\n",
       "x                                                                  77\n",
       "CENTRO                                                             75\n",
       "JURIQUILLA                                                         74\n",
       "Bosque Real                                                        68\n",
       "EL REFUGIO                                                         68\n",
       "Chihuahua, CHIH, México                                            67\n",
       "CALLE                                                              66\n",
       "Norte                                                              64\n",
       "Cumbres del Lago                                                   64\n",
       "Centro                                                             62\n",
       "cancun                                                             58\n",
       "Emiliano Zapata                                                    55\n",
       "Hidalgo                                                            55\n",
       "X                                                                  54\n",
       "Santa Fe                                                           53\n",
       "Cuauhtemoc                                                         52\n",
       "San Andrés Cholula                                                 51\n",
       "Monterrey                                                          50\n",
       "Independencia                                                      46\n",
       "                                                                ...  \n",
       "Paseo de la Asunción No.101 La Joya Metepec Estado de México        1\n",
       "LOMA LINDA QRO-005                                                  1\n",
       "Pico de Verapaz 507                                                 1\n",
       "JARDIN DE LAS FLORES 251 -252                                       1\n",
       "RIO CANDELARIA 161                                                  1\n",
       "Privada Badajo 5a. sección                                          1\n",
       "Salvador Diaz Miron esquina Circuito Interior                       1\n",
       "Ignacio Ramirez 1163                                                1\n",
       "palma y tamaulipas                                                  1\n",
       "Infonavit norte                                                     1\n",
       "FG69                                                                1\n",
       "Av. Juan Palomar y Arias 930, Jardines Universidad, zapopan,        1\n",
       "Jose Manuel Othon 48                                                1\n",
       "Avenida federalistas 909 casa14 Real del Bosque                     1\n",
       "COLONIA FUERTE DE LORETO                                            1\n",
       "Veracruz 204                                                        1\n",
       "DEBH0921                                                            1\n",
       "calle 21 # 117-C entre 24 y 24-A itzimná                            1\n",
       "CALLE TOLSA                                                         1\n",
       "Playa Encantada 28                                                  1\n",
       "Norte 32 145                                                        1\n",
       "Calle Torrecillas #203                                              1\n",
       "av. radial aquiles serdan #297 ed. B  dpt. #304                     1\n",
       "Av. Río Nilo #3360                                                  1\n",
       "Sm 44 calle Eclipse mz 15 Cancun Q.Roo                              1\n",
       "Las Torres 10                                                       1\n",
       "Calle: Pima Bajo   Col: Carlos Zapata Vela  Del: Iztacalco          1\n",
       "SANTA LUCIA 255                                                     1\n",
       "16a. Av. Norte Poniente 898                                         1\n",
       "SANTA ROSA INTERIOR 27                                              1\n",
       "Name: direccion, Length: 140262, dtype: int64"
      ]
     },
     "execution_count": 73,
     "metadata": {},
     "output_type": "execute_result"
    }
   ],
   "source": [
    "df['direccion'].value_counts()"
   ]
  }
 ],
 "metadata": {
  "kernelspec": {
   "display_name": "Python 3",
   "language": "python",
   "name": "python3"
  },
  "language_info": {
   "codemirror_mode": {
    "name": "ipython",
    "version": 3
   },
   "file_extension": ".py",
   "mimetype": "text/x-python",
   "name": "python",
   "nbconvert_exporter": "python",
   "pygments_lexer": "ipython3",
   "version": "3.5.2"
  }
 },
 "nbformat": 4,
 "nbformat_minor": 2
}

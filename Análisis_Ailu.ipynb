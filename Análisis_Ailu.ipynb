{
 "cells": [
  {
   "cell_type": "code",
   "execution_count": 2,
   "metadata": {},
   "outputs": [],
   "source": [
    "import numpy as np\n",
    "import pandas as pd\n",
    "import matplotlib.pyplot as plt\n",
    "import seaborn as sns\n",
    "\n",
    "df = pd.read_csv(\"/home/ailen-magali/train.csv\")"
   ]
  },
  {
   "cell_type": "code",
   "execution_count": 3,
   "metadata": {},
   "outputs": [
    {
     "data": {
      "text/html": [
       "<div>\n",
       "<style scoped>\n",
       "    .dataframe tbody tr th:only-of-type {\n",
       "        vertical-align: middle;\n",
       "    }\n",
       "\n",
       "    .dataframe tbody tr th {\n",
       "        vertical-align: top;\n",
       "    }\n",
       "\n",
       "    .dataframe thead th {\n",
       "        text-align: right;\n",
       "    }\n",
       "</style>\n",
       "<table border=\"1\" class=\"dataframe\">\n",
       "  <thead>\n",
       "    <tr style=\"text-align: right;\">\n",
       "      <th></th>\n",
       "      <th>0</th>\n",
       "      <th>1</th>\n",
       "      <th>2</th>\n",
       "      <th>3</th>\n",
       "      <th>4</th>\n",
       "    </tr>\n",
       "  </thead>\n",
       "  <tbody>\n",
       "    <tr>\n",
       "      <th>id</th>\n",
       "      <td>254099</td>\n",
       "      <td>53461</td>\n",
       "      <td>247984</td>\n",
       "      <td>209067</td>\n",
       "      <td>185997</td>\n",
       "    </tr>\n",
       "    <tr>\n",
       "      <th>titulo</th>\n",
       "      <td>depto. tipo a-402</td>\n",
       "      <td>condominio horizontal en venta</td>\n",
       "      <td>casa en venta urbi 3 recamaras tonala</td>\n",
       "      <td>casa sola en toluca zinacantepec con credito i...</td>\n",
       "      <td>paseos del sol</td>\n",
       "    </tr>\n",
       "    <tr>\n",
       "      <th>descripcion</th>\n",
       "      <td>depto. interior de 80.15m2, consta de sala com...</td>\n",
       "      <td>&lt;p&gt;entre sonora y guerrero, atr&amp;aacute;s del h...</td>\n",
       "      <td>descripcion \\nla mejor ubicacion residencial e...</td>\n",
       "      <td>casa en privada con caseta de vigilancia casas...</td>\n",
       "      <td>bonito departamento en excelentes condiciones ...</td>\n",
       "    </tr>\n",
       "    <tr>\n",
       "      <th>tipodepropiedad</th>\n",
       "      <td>Apartamento</td>\n",
       "      <td>Casa en condominio</td>\n",
       "      <td>Casa</td>\n",
       "      <td>Casa</td>\n",
       "      <td>Apartamento</td>\n",
       "    </tr>\n",
       "    <tr>\n",
       "      <th>direccion</th>\n",
       "      <td>Avenida Division del Norte 2005</td>\n",
       "      <td>AV. MEXICO</td>\n",
       "      <td>Urbi Tonala</td>\n",
       "      <td>IGNACIO MANUEL ALTAMIRANO 128</td>\n",
       "      <td>PASEOS DEL SOL</td>\n",
       "    </tr>\n",
       "    <tr>\n",
       "      <th>ciudad</th>\n",
       "      <td>Benito Juárez</td>\n",
       "      <td>La Magdalena Contreras</td>\n",
       "      <td>Tonalá</td>\n",
       "      <td>Zinacantepec</td>\n",
       "      <td>Zapopan</td>\n",
       "    </tr>\n",
       "    <tr>\n",
       "      <th>provincia</th>\n",
       "      <td>Distrito Federal</td>\n",
       "      <td>Distrito Federal</td>\n",
       "      <td>Jalisco</td>\n",
       "      <td>Edo. de México</td>\n",
       "      <td>Jalisco</td>\n",
       "    </tr>\n",
       "    <tr>\n",
       "      <th>antiguedad</th>\n",
       "      <td>NaN</td>\n",
       "      <td>10</td>\n",
       "      <td>5</td>\n",
       "      <td>1</td>\n",
       "      <td>10</td>\n",
       "    </tr>\n",
       "    <tr>\n",
       "      <th>habitaciones</th>\n",
       "      <td>2</td>\n",
       "      <td>3</td>\n",
       "      <td>3</td>\n",
       "      <td>2</td>\n",
       "      <td>2</td>\n",
       "    </tr>\n",
       "    <tr>\n",
       "      <th>garages</th>\n",
       "      <td>1</td>\n",
       "      <td>2</td>\n",
       "      <td>2</td>\n",
       "      <td>1</td>\n",
       "      <td>1</td>\n",
       "    </tr>\n",
       "    <tr>\n",
       "      <th>banos</th>\n",
       "      <td>2</td>\n",
       "      <td>2</td>\n",
       "      <td>2</td>\n",
       "      <td>1</td>\n",
       "      <td>1</td>\n",
       "    </tr>\n",
       "    <tr>\n",
       "      <th>metroscubiertos</th>\n",
       "      <td>80</td>\n",
       "      <td>268</td>\n",
       "      <td>144</td>\n",
       "      <td>63</td>\n",
       "      <td>95</td>\n",
       "    </tr>\n",
       "    <tr>\n",
       "      <th>metrostotales</th>\n",
       "      <td>80</td>\n",
       "      <td>180</td>\n",
       "      <td>166</td>\n",
       "      <td>67</td>\n",
       "      <td>95</td>\n",
       "    </tr>\n",
       "    <tr>\n",
       "      <th>idzona</th>\n",
       "      <td>23533</td>\n",
       "      <td>24514</td>\n",
       "      <td>48551</td>\n",
       "      <td>53666</td>\n",
       "      <td>47835</td>\n",
       "    </tr>\n",
       "    <tr>\n",
       "      <th>lat</th>\n",
       "      <td>NaN</td>\n",
       "      <td>19.3102</td>\n",
       "      <td>NaN</td>\n",
       "      <td>19.3019</td>\n",
       "      <td>NaN</td>\n",
       "    </tr>\n",
       "    <tr>\n",
       "      <th>lng</th>\n",
       "      <td>NaN</td>\n",
       "      <td>-99.2277</td>\n",
       "      <td>NaN</td>\n",
       "      <td>-99.688</td>\n",
       "      <td>NaN</td>\n",
       "    </tr>\n",
       "    <tr>\n",
       "      <th>fecha</th>\n",
       "      <td>2015-08-23 00:00:00</td>\n",
       "      <td>2013-06-28 00:00:00</td>\n",
       "      <td>2015-10-17 00:00:00</td>\n",
       "      <td>2012-03-09 00:00:00</td>\n",
       "      <td>2016-06-07 00:00:00</td>\n",
       "    </tr>\n",
       "    <tr>\n",
       "      <th>gimnasio</th>\n",
       "      <td>0</td>\n",
       "      <td>0</td>\n",
       "      <td>0</td>\n",
       "      <td>0</td>\n",
       "      <td>0</td>\n",
       "    </tr>\n",
       "    <tr>\n",
       "      <th>usosmultiples</th>\n",
       "      <td>0</td>\n",
       "      <td>0</td>\n",
       "      <td>0</td>\n",
       "      <td>0</td>\n",
       "      <td>0</td>\n",
       "    </tr>\n",
       "    <tr>\n",
       "      <th>piscina</th>\n",
       "      <td>0</td>\n",
       "      <td>0</td>\n",
       "      <td>0</td>\n",
       "      <td>0</td>\n",
       "      <td>0</td>\n",
       "    </tr>\n",
       "    <tr>\n",
       "      <th>escuelascercanas</th>\n",
       "      <td>0</td>\n",
       "      <td>1</td>\n",
       "      <td>0</td>\n",
       "      <td>1</td>\n",
       "      <td>0</td>\n",
       "    </tr>\n",
       "    <tr>\n",
       "      <th>centroscomercialescercanos</th>\n",
       "      <td>0</td>\n",
       "      <td>1</td>\n",
       "      <td>0</td>\n",
       "      <td>1</td>\n",
       "      <td>0</td>\n",
       "    </tr>\n",
       "    <tr>\n",
       "      <th>precio</th>\n",
       "      <td>2.273e+06</td>\n",
       "      <td>3.6e+06</td>\n",
       "      <td>1.2e+06</td>\n",
       "      <td>650000</td>\n",
       "      <td>1.15e+06</td>\n",
       "    </tr>\n",
       "  </tbody>\n",
       "</table>\n",
       "</div>"
      ],
      "text/plain": [
       "                                                                            0  \\\n",
       "id                                                                     254099   \n",
       "titulo                                                      depto. tipo a-402   \n",
       "descripcion                 depto. interior de 80.15m2, consta de sala com...   \n",
       "tipodepropiedad                                                   Apartamento   \n",
       "direccion                                     Avenida Division del Norte 2005   \n",
       "ciudad                                                          Benito Juárez   \n",
       "provincia                                                    Distrito Federal   \n",
       "antiguedad                                                                NaN   \n",
       "habitaciones                                                                2   \n",
       "garages                                                                     1   \n",
       "banos                                                                       2   \n",
       "metroscubiertos                                                            80   \n",
       "metrostotales                                                              80   \n",
       "idzona                                                                  23533   \n",
       "lat                                                                       NaN   \n",
       "lng                                                                       NaN   \n",
       "fecha                                                     2015-08-23 00:00:00   \n",
       "gimnasio                                                                    0   \n",
       "usosmultiples                                                               0   \n",
       "piscina                                                                     0   \n",
       "escuelascercanas                                                            0   \n",
       "centroscomercialescercanos                                                  0   \n",
       "precio                                                              2.273e+06   \n",
       "\n",
       "                                                                            1  \\\n",
       "id                                                                      53461   \n",
       "titulo                                         condominio horizontal en venta   \n",
       "descripcion                 <p>entre sonora y guerrero, atr&aacute;s del h...   \n",
       "tipodepropiedad                                            Casa en condominio   \n",
       "direccion                                                          AV. MEXICO   \n",
       "ciudad                                                 La Magdalena Contreras   \n",
       "provincia                                                    Distrito Federal   \n",
       "antiguedad                                                                 10   \n",
       "habitaciones                                                                3   \n",
       "garages                                                                     2   \n",
       "banos                                                                       2   \n",
       "metroscubiertos                                                           268   \n",
       "metrostotales                                                             180   \n",
       "idzona                                                                  24514   \n",
       "lat                                                                   19.3102   \n",
       "lng                                                                  -99.2277   \n",
       "fecha                                                     2013-06-28 00:00:00   \n",
       "gimnasio                                                                    0   \n",
       "usosmultiples                                                               0   \n",
       "piscina                                                                     0   \n",
       "escuelascercanas                                                            1   \n",
       "centroscomercialescercanos                                                  1   \n",
       "precio                                                                3.6e+06   \n",
       "\n",
       "                                                                            2  \\\n",
       "id                                                                     247984   \n",
       "titulo                                  casa en venta urbi 3 recamaras tonala   \n",
       "descripcion                 descripcion \\nla mejor ubicacion residencial e...   \n",
       "tipodepropiedad                                                          Casa   \n",
       "direccion                                                         Urbi Tonala   \n",
       "ciudad                                                                 Tonalá   \n",
       "provincia                                                             Jalisco   \n",
       "antiguedad                                                                  5   \n",
       "habitaciones                                                                3   \n",
       "garages                                                                     2   \n",
       "banos                                                                       2   \n",
       "metroscubiertos                                                           144   \n",
       "metrostotales                                                             166   \n",
       "idzona                                                                  48551   \n",
       "lat                                                                       NaN   \n",
       "lng                                                                       NaN   \n",
       "fecha                                                     2015-10-17 00:00:00   \n",
       "gimnasio                                                                    0   \n",
       "usosmultiples                                                               0   \n",
       "piscina                                                                     0   \n",
       "escuelascercanas                                                            0   \n",
       "centroscomercialescercanos                                                  0   \n",
       "precio                                                                1.2e+06   \n",
       "\n",
       "                                                                            3  \\\n",
       "id                                                                     209067   \n",
       "titulo                      casa sola en toluca zinacantepec con credito i...   \n",
       "descripcion                 casa en privada con caseta de vigilancia casas...   \n",
       "tipodepropiedad                                                          Casa   \n",
       "direccion                                       IGNACIO MANUEL ALTAMIRANO 128   \n",
       "ciudad                                                           Zinacantepec   \n",
       "provincia                                                      Edo. de México   \n",
       "antiguedad                                                                  1   \n",
       "habitaciones                                                                2   \n",
       "garages                                                                     1   \n",
       "banos                                                                       1   \n",
       "metroscubiertos                                                            63   \n",
       "metrostotales                                                              67   \n",
       "idzona                                                                  53666   \n",
       "lat                                                                   19.3019   \n",
       "lng                                                                   -99.688   \n",
       "fecha                                                     2012-03-09 00:00:00   \n",
       "gimnasio                                                                    0   \n",
       "usosmultiples                                                               0   \n",
       "piscina                                                                     0   \n",
       "escuelascercanas                                                            1   \n",
       "centroscomercialescercanos                                                  1   \n",
       "precio                                                                 650000   \n",
       "\n",
       "                                                                            4  \n",
       "id                                                                     185997  \n",
       "titulo                                                         paseos del sol  \n",
       "descripcion                 bonito departamento en excelentes condiciones ...  \n",
       "tipodepropiedad                                                   Apartamento  \n",
       "direccion                                                     PASEOS DEL SOL   \n",
       "ciudad                                                                Zapopan  \n",
       "provincia                                                             Jalisco  \n",
       "antiguedad                                                                 10  \n",
       "habitaciones                                                                2  \n",
       "garages                                                                     1  \n",
       "banos                                                                       1  \n",
       "metroscubiertos                                                            95  \n",
       "metrostotales                                                              95  \n",
       "idzona                                                                  47835  \n",
       "lat                                                                       NaN  \n",
       "lng                                                                       NaN  \n",
       "fecha                                                     2016-06-07 00:00:00  \n",
       "gimnasio                                                                    0  \n",
       "usosmultiples                                                               0  \n",
       "piscina                                                                     0  \n",
       "escuelascercanas                                                            0  \n",
       "centroscomercialescercanos                                                  0  \n",
       "precio                                                               1.15e+06  "
      ]
     },
     "execution_count": 3,
     "metadata": {},
     "output_type": "execute_result"
    }
   ],
   "source": [
    "df.head().T"
   ]
  },
  {
   "cell_type": "code",
   "execution_count": 4,
   "metadata": {},
   "outputs": [
    {
     "name": "stdout",
     "output_type": "stream",
     "text": [
      "<class 'pandas.core.frame.DataFrame'>\n",
      "RangeIndex: 240000 entries, 0 to 239999\n",
      "Data columns (total 23 columns):\n",
      "id                            240000 non-null int64\n",
      "titulo                        234613 non-null object\n",
      "descripcion                   238381 non-null object\n",
      "tipodepropiedad               239954 non-null object\n",
      "direccion                     186928 non-null object\n",
      "ciudad                        239628 non-null object\n",
      "provincia                     239845 non-null object\n",
      "antiguedad                    196445 non-null float64\n",
      "habitaciones                  217529 non-null float64\n",
      "garages                       202235 non-null float64\n",
      "banos                         213779 non-null float64\n",
      "metroscubiertos               222600 non-null float64\n",
      "metrostotales                 188533 non-null float64\n",
      "idzona                        211379 non-null float64\n",
      "lat                           116512 non-null float64\n",
      "lng                           116512 non-null float64\n",
      "fecha                         240000 non-null object\n",
      "gimnasio                      240000 non-null float64\n",
      "usosmultiples                 240000 non-null float64\n",
      "piscina                       240000 non-null float64\n",
      "escuelascercanas              240000 non-null float64\n",
      "centroscomercialescercanos    240000 non-null float64\n",
      "precio                        240000 non-null float64\n",
      "dtypes: float64(15), int64(1), object(7)\n",
      "memory usage: 42.1+ MB\n"
     ]
    }
   ],
   "source": [
    "df.info()"
   ]
  },
  {
   "cell_type": "code",
   "execution_count": 5,
   "metadata": {},
   "outputs": [
    {
     "data": {
      "text/plain": [
       "0.0    133406\n",
       "1.0    106594\n",
       "Name: escuelascercanas, dtype: int64"
      ]
     },
     "execution_count": 5,
     "metadata": {},
     "output_type": "execute_result"
    }
   ],
   "source": [
    "df['escuelascercanas'].value_counts()"
   ]
  },
  {
   "cell_type": "code",
   "execution_count": 6,
   "metadata": {},
   "outputs": [
    {
     "data": {
      "text/plain": [
       "0.0    219028\n",
       "1.0     20972\n",
       "Name: piscina, dtype: int64"
      ]
     },
     "execution_count": 6,
     "metadata": {},
     "output_type": "execute_result"
    }
   ],
   "source": [
    "df['piscina'].value_counts()"
   ]
  },
  {
   "cell_type": "code",
   "execution_count": 7,
   "metadata": {},
   "outputs": [
    {
     "data": {
      "text/plain": [
       "0.0    144832\n",
       "1.0     95168\n",
       "Name: centroscomercialescercanos, dtype: int64"
      ]
     },
     "execution_count": 7,
     "metadata": {},
     "output_type": "execute_result"
    }
   ],
   "source": [
    "df['centroscomercialescercanos'].value_counts() "
   ]
  },
  {
   "cell_type": "code",
   "execution_count": 8,
   "metadata": {},
   "outputs": [
    {
     "data": {
      "text/plain": [
       "0.0    225006\n",
       "1.0     14994\n",
       "Name: gimnasio, dtype: int64"
      ]
     },
     "execution_count": 8,
     "metadata": {},
     "output_type": "execute_result"
    }
   ],
   "source": [
    "df['gimnasio'].value_counts()"
   ]
  },
  {
   "cell_type": "code",
   "execution_count": 9,
   "metadata": {},
   "outputs": [
    {
     "data": {
      "text/plain": [
       "0.0    226778\n",
       "1.0     13222\n",
       "Name: usosmultiples, dtype: int64"
      ]
     },
     "execution_count": 9,
     "metadata": {},
     "output_type": "execute_result"
    }
   ],
   "source": [
    "df['usosmultiples'].value_counts()"
   ]
  },
  {
   "cell_type": "code",
   "execution_count": 10,
   "metadata": {},
   "outputs": [
    {
     "data": {
      "text/plain": [
       "1500000.0     3041\n",
       "2500000.0     3036\n",
       "1200000.0     2909\n",
       "3500000.0     2726\n",
       "1300000.0     2480\n",
       "2200000.0     2420\n",
       "1100000.0     2394\n",
       "1800000.0     2290\n",
       "1600000.0     2217\n",
       "850000.0      2192\n",
       "750000.0      2163\n",
       "1250000.0     2159\n",
       "2300000.0     2108\n",
       "1350000.0     2103\n",
       "650000.0      2061\n",
       "3200000.0     2054\n",
       "4500000.0     2040\n",
       "2000000.0     1904\n",
       "950000.0      1867\n",
       "1650000.0     1865\n",
       "2800000.0     1863\n",
       "1400000.0     1850\n",
       "550000.0      1820\n",
       "2100000.0     1802\n",
       "3000000.0     1791\n",
       "1700000.0     1763\n",
       "1850000.0     1760\n",
       "2600000.0     1735\n",
       "1150000.0     1722\n",
       "1750000.0     1702\n",
       "              ... \n",
       "10807000.0       1\n",
       "468778.0         1\n",
       "675411.0         1\n",
       "468768.0         1\n",
       "7500250.0        1\n",
       "10815000.0       1\n",
       "3752490.0        1\n",
       "469105.0         1\n",
       "338144.0         1\n",
       "1352990.0        1\n",
       "938630.0         1\n",
       "10822700.0       1\n",
       "2705670.0        1\n",
       "1877000.0        1\n",
       "407500.0         1\n",
       "1352610.0        1\n",
       "676300.0         1\n",
       "2705184.0        1\n",
       "938426.0         1\n",
       "1876500.0        1\n",
       "1352560.0        1\n",
       "469208.0         1\n",
       "1352520.0        1\n",
       "469200.0         1\n",
       "5410000.0        1\n",
       "2704600.0        1\n",
       "1352250.0        1\n",
       "938260.0         1\n",
       "2704460.0        1\n",
       "2327000.0        1\n",
       "Name: precio, Length: 15520, dtype: int64"
      ]
     },
     "execution_count": 10,
     "metadata": {},
     "output_type": "execute_result"
    }
   ],
   "source": [
    "df['precio'].value_counts()"
   ]
  },
  {
   "cell_type": "code",
   "execution_count": 11,
   "metadata": {},
   "outputs": [
    {
     "name": "stdout",
     "output_type": "stream",
     "text": [
      "<class 'pandas.core.frame.DataFrame'>\n",
      "RangeIndex: 240000 entries, 0 to 239999\n",
      "Data columns (total 23 columns):\n",
      "id                            240000 non-null int64\n",
      "titulo                        234613 non-null object\n",
      "descripcion                   238381 non-null object\n",
      "tipodepropiedad               239954 non-null object\n",
      "direccion                     186928 non-null object\n",
      "ciudad                        239628 non-null object\n",
      "provincia                     239845 non-null object\n",
      "antiguedad                    196445 non-null float64\n",
      "habitaciones                  217529 non-null float64\n",
      "garages                       202235 non-null float64\n",
      "banos                         213779 non-null float64\n",
      "metroscubiertos               222600 non-null float64\n",
      "metrostotales                 188533 non-null float64\n",
      "idzona                        211379 non-null float64\n",
      "lat                           116512 non-null float64\n",
      "lng                           116512 non-null float64\n",
      "fecha                         240000 non-null datetime64[ns]\n",
      "gimnasio                      240000 non-null int8\n",
      "usosmultiples                 240000 non-null int8\n",
      "piscina                       240000 non-null int8\n",
      "escuelascercanas              240000 non-null int8\n",
      "centroscomercialescercanos    240000 non-null int8\n",
      "precio                        240000 non-null float64\n",
      "dtypes: datetime64[ns](1), float64(10), int64(1), int8(5), object(6)\n",
      "memory usage: 34.1+ MB\n"
     ]
    }
   ],
   "source": [
    "#NUMERICOS ENTEROS QUE ERAN INNECESARIAMENTE FLOAT\n",
    "#------------------------------------------------#\n",
    "\n",
    "#NUMERICOS QUE SOLO SON CERO O UNO\n",
    "df['usosmultiples'] = df['usosmultiples'].astype(np.int8)\n",
    "df['piscina'] = df['piscina'].astype(np.int8)\n",
    "df['gimnasio'] = df['gimnasio'].astype(np.int8)\n",
    "df['escuelascercanas'] = df['escuelascercanas'].astype(np.int8)\n",
    "df['centroscomercialescercanos'] = df['centroscomercialescercanos'].astype(np.int8)\n",
    "\n",
    "\n",
    "#FECHA DE PUBLICACION A DATETIME\n",
    "df['fecha'] = pd.to_datetime(df['fecha'])\n",
    "\n",
    "\n",
    "# A estos hay que limpiarles los inf y los NaN antes de convertir a int\n",
    "\n",
    "#df['antiguedad'] = df.antiguedad.astype('int64')\n",
    "#df['garages'] = df.garages.astype('int64')\n",
    "#df['habitaciones'] = df.habitaciones.astype('int64')\n",
    "#df['metrostotales'] = df.metrostotales.astype('int64')\n",
    "#df['metroscubiertos'] = df.metroscubiertos.astype('int64')\n",
    "#df['idzona'] = df.idzona.astype('int64')\n",
    "\n",
    "df.info()"
   ]
  },
  {
   "cell_type": "code",
   "execution_count": 12,
   "metadata": {},
   "outputs": [],
   "source": [
    "# A estos hay que limpiarles los inf y los NaN antes de convertir a int\n",
    "\n",
    "#df['antiguedad'] = df.antiguedad.astype('int64')\n",
    "#df['garages'] = df.garages.astype('int64')\n",
    "#df['habitaciones'] = df.habitaciones.astype('int64')\n",
    "#df['metrostotales'] = df.metrostotales.astype('int64')\n",
    "#df['metroscubiertos'] = df.metroscubiertos.astype('int64')\n",
    "#df['idzona'] = df.idzona.astype('int64')"
   ]
  },
  {
   "cell_type": "code",
   "execution_count": 13,
   "metadata": {
    "scrolled": true
   },
   "outputs": [
    {
     "data": {
      "text/plain": [
       "0.0     50335\n",
       "5.0     33268\n",
       "10.0    28844\n",
       "20.0    19904\n",
       "1.0     12353\n",
       "4.0      7944\n",
       "3.0      5616\n",
       "2.0      5059\n",
       "15.0     3965\n",
       "6.0      3169\n",
       "30.0     3055\n",
       "8.0      2418\n",
       "25.0     2297\n",
       "7.0      2046\n",
       "12.0     1492\n",
       "11.0     1434\n",
       "40.0     1347\n",
       "50.0     1193\n",
       "9.0      1065\n",
       "35.0      938\n",
       "18.0      908\n",
       "21.0      742\n",
       "16.0      700\n",
       "14.0      616\n",
       "13.0      577\n",
       "17.0      529\n",
       "22.0      448\n",
       "28.0      396\n",
       "26.0      369\n",
       "45.0      329\n",
       "        ...  \n",
       "47.0       40\n",
       "55.0       38\n",
       "48.0       36\n",
       "46.0       31\n",
       "70.0       29\n",
       "41.0       27\n",
       "80.0       27\n",
       "53.0       17\n",
       "49.0       17\n",
       "65.0       17\n",
       "52.0       11\n",
       "58.0       10\n",
       "54.0        9\n",
       "75.0        6\n",
       "66.0        5\n",
       "59.0        5\n",
       "69.0        5\n",
       "67.0        4\n",
       "57.0        4\n",
       "63.0        4\n",
       "62.0        3\n",
       "56.0        3\n",
       "74.0        2\n",
       "68.0        2\n",
       "79.0        2\n",
       "61.0        2\n",
       "76.0        2\n",
       "71.0        1\n",
       "77.0        1\n",
       "64.0        1\n",
       "Name: antiguedad, Length: 78, dtype: int64"
      ]
     },
     "execution_count": 13,
     "metadata": {},
     "output_type": "execute_result"
    }
   ],
   "source": [
    "df['antiguedad'].value_counts()"
   ]
  },
  {
   "cell_type": "code",
   "execution_count": 14,
   "metadata": {},
   "outputs": [
    {
     "data": {
      "text/plain": [
       "240000"
      ]
     },
     "execution_count": 14,
     "metadata": {},
     "output_type": "execute_result"
    }
   ],
   "source": [
    "len(df)"
   ]
  },
  {
   "cell_type": "code",
   "execution_count": 15,
   "metadata": {},
   "outputs": [
    {
     "data": {
      "text/plain": [
       "id                                 0\n",
       "titulo                          5387\n",
       "descripcion                     1619\n",
       "tipodepropiedad                   46\n",
       "direccion                      53072\n",
       "ciudad                           372\n",
       "provincia                        155\n",
       "antiguedad                     43555\n",
       "habitaciones                   22471\n",
       "garages                        37765\n",
       "banos                          26221\n",
       "metroscubiertos                17400\n",
       "metrostotales                  51467\n",
       "idzona                         28621\n",
       "lat                           123488\n",
       "lng                           123488\n",
       "fecha                              0\n",
       "gimnasio                           0\n",
       "usosmultiples                      0\n",
       "piscina                            0\n",
       "escuelascercanas                   0\n",
       "centroscomercialescercanos         0\n",
       "precio                             0\n",
       "dtype: int64"
      ]
     },
     "execution_count": 15,
     "metadata": {},
     "output_type": "execute_result"
    }
   ],
   "source": [
    "#Vemos cuántos NaN hay por columna, sabiendo que el total es 240000\n",
    "df.isnull().sum()"
   ]
  },
  {
   "cell_type": "code",
   "execution_count": 16,
   "metadata": {},
   "outputs": [],
   "source": [
    "#Reemplazo los NaN por 0\n",
    "df.loc[(df['lat']).isnull(),['lat']]=0\n",
    "df.loc[(df['lng']).isnull(),['lng']]=0"
   ]
  },
  {
   "cell_type": "code",
   "execution_count": 17,
   "metadata": {},
   "outputs": [
    {
     "data": {
      "text/plain": [
       "0"
      ]
     },
     "execution_count": 17,
     "metadata": {},
     "output_type": "execute_result"
    }
   ],
   "source": [
    "df['lat'].isnull().sum()"
   ]
  },
  {
   "cell_type": "code",
   "execution_count": 18,
   "metadata": {},
   "outputs": [
    {
     "data": {
      "text/plain": [
       "0"
      ]
     },
     "execution_count": 18,
     "metadata": {},
     "output_type": "execute_result"
    }
   ],
   "source": [
    "df['lng'].isnull().sum()"
   ]
  },
  {
   "cell_type": "code",
   "execution_count": 19,
   "metadata": {},
   "outputs": [
    {
     "data": {
      "text/plain": [
       "0.000000     123936\n",
       "23.063781         8\n",
       "23.054936         7\n",
       "19.314000         6\n",
       "19.392000         6\n",
       "19.391000         6\n",
       "19.617000         6\n",
       "19.393000         6\n",
       "19.358000         6\n",
       "19.489000         6\n",
       "23.053672         6\n",
       "19.558000         6\n",
       "19.457000         6\n",
       "19.410000         6\n",
       "32.454473         5\n",
       "23.068835         5\n",
       "19.300000         5\n",
       "19.332000         5\n",
       "19.503000         5\n",
       "19.369000         5\n",
       "19.485000         5\n",
       "19.388000         5\n",
       "19.344000         5\n",
       "19.350000         5\n",
       "19.387000         5\n",
       "19.437000         5\n",
       "19.397000         5\n",
       "19.478000         5\n",
       "19.444000         5\n",
       "19.494000         5\n",
       "              ...  \n",
       "17.094446         1\n",
       "20.997915         1\n",
       "19.591669         1\n",
       "19.417518         1\n",
       "19.727337         1\n",
       "19.476194         1\n",
       "19.359454         1\n",
       "19.287115         1\n",
       "18.987497         1\n",
       "19.495689         1\n",
       "20.662757         1\n",
       "19.492759         1\n",
       "20.743466         1\n",
       "21.160287         1\n",
       "19.433077         1\n",
       "19.359921         1\n",
       "19.361805         1\n",
       "20.642669         1\n",
       "24.009796         1\n",
       "32.485229         1\n",
       "32.445024         1\n",
       "20.658414         1\n",
       "23.284804         1\n",
       "22.645698         1\n",
       "21.025559         1\n",
       "25.675224         1\n",
       "18.151347         1\n",
       "18.779346         1\n",
       "21.963000         1\n",
       "19.505390         1\n",
       "Name: lat, Length: 112147, dtype: int64"
      ]
     },
     "execution_count": 19,
     "metadata": {},
     "output_type": "execute_result"
    }
   ],
   "source": [
    "df['lat'].value_counts()"
   ]
  },
  {
   "cell_type": "code",
   "execution_count": 20,
   "metadata": {},
   "outputs": [
    {
     "data": {
      "text/plain": [
       " 0.000000      123937\n",
       "-99.225000         12\n",
       "-99.218984          9\n",
       "-99.139000          8\n",
       "-99.213000          8\n",
       "-99.230000          8\n",
       "-99.143540          7\n",
       "-99.156000          7\n",
       "-99.125000          7\n",
       "-99.191000          7\n",
       "-99.227000          7\n",
       "-99.177446          7\n",
       "-99.234000          7\n",
       "-99.200000          7\n",
       "-99.144000          7\n",
       "-99.183676          7\n",
       "-99.163000          7\n",
       "-99.175000          6\n",
       "-99.171909          6\n",
       "-99.055727          6\n",
       "-99.153000          6\n",
       "-99.195000          6\n",
       "-99.202366          6\n",
       "-99.133163          6\n",
       "-99.170000          6\n",
       "-99.258000          6\n",
       "-99.226000          6\n",
       "-99.165000          6\n",
       "-99.211000          6\n",
       "-99.161000          6\n",
       "                ...  \n",
       "-100.976336         1\n",
       "-103.439241         1\n",
       "-103.464754         1\n",
       "-96.191890          1\n",
       "-99.303276          1\n",
       "-116.761322         1\n",
       "-106.117890         1\n",
       "-99.007759          1\n",
       "-98.941038          1\n",
       "-100.369562         1\n",
       "-102.311859         1\n",
       "-99.156190          1\n",
       "-99.136433          1\n",
       "-100.102952         1\n",
       "-100.428454         1\n",
       "-103.461922         1\n",
       "-99.285294          1\n",
       "-100.240945         1\n",
       "-98.213833          1\n",
       "-99.191613          1\n",
       "-99.185678          1\n",
       "-101.557630         1\n",
       "-103.387854         1\n",
       "-100.316000         1\n",
       "-102.308277         1\n",
       "-103.449196         1\n",
       "-100.443135         1\n",
       "-106.103384         1\n",
       "-99.168257          1\n",
       "-99.131383          1\n",
       "Name: lng, Length: 112326, dtype: int64"
      ]
     },
     "execution_count": 20,
     "metadata": {},
     "output_type": "execute_result"
    }
   ],
   "source": [
    "df['lng'].value_counts()"
   ]
  },
  {
   "cell_type": "code",
   "execution_count": 21,
   "metadata": {},
   "outputs": [],
   "source": [
    "#Ahora cambio el tipo de dato de las columnas 'lat' y 'lng'\n",
    "df['lat'] = df['lat'].astype(np.float32)\n",
    "df['lng'] = df['lng'].astype(np.float32)"
   ]
  },
  {
   "cell_type": "code",
   "execution_count": 22,
   "metadata": {},
   "outputs": [
    {
     "data": {
      "text/plain": [
       "casa en venta                                                              468\n",
       "departamento en venta                                                      289\n",
       "casa en venta en chihuahua                                                 268\n",
       "casa en venta en querétaro                                                 238\n",
       "departamento en venta en benito juárez                                     221\n",
       "departamento en venta en miguel hidalgo                                    177\n",
       "casa en venta en mérida                                                    167\n",
       "casa en venta                                                              132\n",
       "casa en venta en torreón                                                   119\n",
       "casa en venta en monterrey                                                 115\n",
       "casa en venta en mérida, yucatán                                           115\n",
       "casa en venta en puebla                                                    112\n",
       "casa en venta en juárez                                                    111\n",
       "casa en venta en tepic                                                     107\n",
       "casa en venta en juriquilla                                                106\n",
       "casa en venta en san andrés cholula                                        105\n",
       "casa en venta en tijuana                                                   104\n",
       "venta de casa en aguascalientes                                             98\n",
       "terreno en venta                                                            97\n",
       "departamento                                                                89\n",
       "casa en condominio en venta en querétaro                                    86\n",
       "departamento en venta en cuauhtémoc                                         84\n",
       "venta de departamento en benito juárez                                      84\n",
       "venta de casa en naucalpan                                                  84\n",
       "casa en venta en corregidora                                                83\n",
       "casa en venta en zapopan                                                    80\n",
       "departamento en venta en interlomas                                         80\n",
       "casa en venta, monterrey, nuevo león                                        80\n",
       "venta de casa en cuautitlan izcalli                                         79\n",
       "venta de casa en tlalnepantla                                               78\n",
       "                                                                          ... \n",
       "hermoso departamento penthouse lindavista                                    1\n",
       "casa en venta en fraccionamiento costa de oro                                1\n",
       "casa de lujo en contry la silla t-318 mt2 c-418 mt2                          1\n",
       "hermosa residencia bosques de santa rosa                                     1\n",
       " casa en privada con todos los acabados                                      1\n",
       "casa con accesoria de  bancario en tlalnepantla!!! ganala!!!                 1\n",
       "casa en venta en col. molino de rosas.                                       1\n",
       "remate en 16 de enero, tecozautla, hidalgo                                   1\n",
       "edificio en venta en col. obrera via:49207                                   1\n",
       "terreno / lote en venta, cuauhtémoc, ciudad de méxico, distrito federal      1\n",
       "¡un departamento ideal!                                                      1\n",
       "col. méxico norte, exclusiva residencia de 3 recámaras, para estrenar        1\n",
       "hermoso departamento en boca towers af286d                                   1\n",
       "casa nuevaen portal de las lomas                                             1\n",
       "casa en privado con vigilancia cerca de walmart estadio                      1\n",
       "hermosa casa en venta matancillas refugio                                    1\n",
       "bosques del valle i casa en venta  robsandir oh 0514                         1\n",
       "casa sola casi nueva                                                         1\n",
       "amplia casa en azcapotzalco                                                  1\n",
       "local comercial en blvd. 16 de septiembre                                    1\n",
       "oficina venta corregidora, qro                                               1\n",
       "venta de casa en san matias tepetomatitlan                                   1\n",
       "casa en girasoles                                                            1\n",
       "vendo casa en condominio en cancún gran ubicación!                           1\n",
       "algarrobos                                                                   1\n",
       "cad condominio hemisphere,  dorado                                           1\n",
       "parque residencial 1ª secc coacalco edo. mexico                              1\n",
       "casa en venta en villa coapa  pesos                                          1\n",
       "excelente casa nueva dos niveles                                             1\n",
       "bodega de recuperación bancaria en malinalco ecatepec edo. mex.              1\n",
       "Name: titulo, Length: 186191, dtype: int64"
      ]
     },
     "execution_count": 22,
     "metadata": {},
     "output_type": "execute_result"
    }
   ],
   "source": [
    "df['titulo'].value_counts()"
   ]
  },
  {
   "cell_type": "code",
   "execution_count": 23,
   "metadata": {},
   "outputs": [],
   "source": [
    "#Elimino los NaN\n",
    "df.loc[(df['titulo']).isnull(), ['titulo']] = ''\n",
    "df['titulo'] = df['titulo'].astype(str)"
   ]
  },
  {
   "cell_type": "code",
   "execution_count": 24,
   "metadata": {},
   "outputs": [
    {
     "data": {
      "text/plain": [
       "2.0    87683\n",
       "1.0    58173\n",
       "3.0    49365\n",
       "4.0    18558\n",
       "Name: banos, dtype: int64"
      ]
     },
     "execution_count": 24,
     "metadata": {},
     "output_type": "execute_result"
    }
   ],
   "source": [
    "df['banos'].value_counts()"
   ]
  },
  {
   "cell_type": "code",
   "execution_count": null,
   "metadata": {},
   "outputs": [],
   "source": [
    "#Lo paso a tipo category porque tenemos 4 valores distintos \n",
    "df.loc[(df['banos']).isnull(), ['banos']] = 0\n",
    "df['banos'] = df['banos'].astype('category')"
   ]
  },
  {
   "cell_type": "code",
   "execution_count": null,
   "metadata": {},
   "outputs": [
    {
     "data": {
      "text/plain": [
       "2.0    94167\n",
       "1.0    59464\n",
       "0.0    26926\n",
       "3.0    21678\n",
       "Name: garages, dtype: int64"
      ]
     },
     "execution_count": 26,
     "metadata": {},
     "output_type": "execute_result"
    }
   ],
   "source": [
    "df['garages'].value_counts()"
   ]
  },
  {
   "cell_type": "code",
   "execution_count": null,
   "metadata": {},
   "outputs": [],
   "source": [
    "#Lo paso a tipo category porque tenemos 4 valores distintos \n",
    "df.loc[(df['garages']).isnull(), ['garages']] = 0\n",
    "df['garages'] = df['garages'].astype('category')"
   ]
  },
  {
   "cell_type": "code",
   "execution_count": null,
   "metadata": {},
   "outputs": [
    {
     "data": {
      "text/plain": [
       "-                                                                          660\n",
       ".                                                                          476\n",
       "1                                                                          212\n",
       "Calle                                                                      194\n",
       "Norte de Mérida                                                            136\n",
       "x #x                                                                       122\n",
       "0                                                                          113\n",
       "domicilio conocido                                                         105\n",
       "calle                                                                       94\n",
       "Calle 18 No.344 x 11 y 13 Col. Camara de Comercio Norte                     94\n",
       "Juriquilla                                                                  84\n",
       "El Refugio                                                                  78\n",
       "Metepec                                                                     77\n",
       "x                                                                           77\n",
       "CENTRO                                                                      75\n",
       "JURIQUILLA                                                                  74\n",
       "Sin nombre                                                                  70\n",
       "...                                                                         70\n",
       "EL REFUGIO                                                                  68\n",
       "Bosque Real                                                                 68\n",
       "Chihuahua, CHIH, México                                                     67\n",
       "CALLE                                                                       66\n",
       "S/N                                                                         65\n",
       "--                                                                          64\n",
       "Cumbres del Lago                                                            64\n",
       "Norte                                                                       64\n",
       "S/D                                                                         62\n",
       "Centro                                                                      62\n",
       "cancun                                                                      58\n",
       "Hidalgo                                                                     55\n",
       "                                                                          ... \n",
       "Av. del Riego                                                                1\n",
       "Av. 2 No. 616 con Esquina Calle 12 Col terminal                              1\n",
       "Serpentario # 4160                                                           1\n",
       "Calle Quetzalcóatl, modulo 4                                                 1\n",
       "Jardines de Mazaltepec Lote 60                                               1\n",
       "Hamburgo 146  Zona Rosa                                                      1\n",
       "Perpetua, San José Insurgentes                                               1\n",
       "Julian Adame                                                                 1\n",
       "CRUZ DE CRISTO, SANTA CRUZ DEL MONTE NAUCALPAN DE JUAREZ EDO. DE MÉXICO      1\n",
       "Sánchez Azcona, Narvarte Poniente,Benito Juarez                              1\n",
       "Venta de casa en condominio de Cuernavac                                     1\n",
       "Juana Ines de la Cruz 144                                                    1\n",
       "Coacalco de Berriozabal.                                                     1\n",
       "AURORA N°6 COL. LOS PASTORES, NAUCALPAN EDO. DE MÉX.                         1\n",
       "ruinas del paseo de palenque                                                 1\n",
       "Santa Lucia, Colinas del Sur, Alvaro Obregon                                 1\n",
       "RESPALDO DE SAN LORENZO                                                      1\n",
       "Sorbona                                                                      1\n",
       "Presidente Carranza, Barrio Santa Catarina, Coyoacán                         1\n",
       "loma larga                                                                   1\n",
       "Progreso 80                                                                  1\n",
       "COSMOS 2641                                                                  1\n",
       " CALLE 1505 #45                                                              1\n",
       "RETORNO DE JAZMINES S/N                                                      1\n",
       "Presidente Adolfo López Mateos 36                                            1\n",
       "Del Ocre                                                                     1\n",
       "dolores del rio                                                              1\n",
       "Av. Heroica Escuela naval                                                    1\n",
       "DONATELLO                                                                    1\n",
       "santa ana zapotitlan                                                         1\n",
       "Name: direccion, Length: 140269, dtype: int64"
      ]
     },
     "execution_count": 28,
     "metadata": {},
     "output_type": "execute_result"
    }
   ],
   "source": [
    "df['direccion'].value_counts()"
   ]
  },
  {
   "cell_type": "code",
   "execution_count": null,
   "metadata": {},
   "outputs": [],
   "source": [
    "#Limpio las direcciones que no son calles\n",
    "\n",
    "df.loc[(df['direccion']).isnull(), ['direccion']] = 'S/D'\n",
    "df.loc[(df['direccion']) == 'S/N', ['direccion']] = 'S/D'\n",
    "df.loc[(df['direccion']) == 'Sin nombre', ['direccion']] = 'S/D'\n",
    "df.loc[(df['direccion']) == '0', ['direccion']] = 'S/D'\n",
    "df.loc[(df['direccion']) == '--', ['direccion']] = 'S/D'\n",
    "df.loc[(df['direccion']) == '...', ['direccion']] = 'S/D'\n",
    "df.loc[(df['direccion']) == '-', ['direccion']] = 'S/D'\n",
    "df.loc[(df['direccion']) == '.', ['direccion']] = 'S/D'\n",
    "df.loc[(df['direccion']) == 'x #x', ['direccion']] = 'S/D'\n",
    "df.loc[(df['direccion']) == 'x', ['direccion']] = 'S/D'\n",
    "df.loc[(df['direccion']) == 'calle', ['direccion']] = 'S/D'\n",
    "df.loc[(df['direccion']) == 'Calle', ['direccion']] = 'S/D'\n",
    "df.loc[(df['direccion']) == '1', ['direccion']] = 'S/D'\n",
    "df.loc[(df['direccion']) == 'X', ['direccion']] = 'S/D'"
   ]
  },
  {
   "cell_type": "code",
   "execution_count": null,
   "metadata": {},
   "outputs": [],
   "source": [
    "df['direccion'] = df['direccion'].astype('str')"
   ]
  },
  {
   "cell_type": "markdown",
   "metadata": {},
   "source": [
    "Servicios vs precio"
   ]
  },
  {
   "cell_type": "code",
   "execution_count": null,
   "metadata": {},
   "outputs": [],
   "source": [
    "df['categoria_servicio'] = df['gimnasio'] + df['usosmultiples'] + df['piscina'] + df['escuelascercanas'] + df['centroscomercialescercanos']"
   ]
  },
  {
   "cell_type": "code",
   "execution_count": null,
   "metadata": {},
   "outputs": [
    {
     "data": {
      "text/html": [
       "<div>\n",
       "<style scoped>\n",
       "    .dataframe tbody tr th:only-of-type {\n",
       "        vertical-align: middle;\n",
       "    }\n",
       "\n",
       "    .dataframe tbody tr th {\n",
       "        vertical-align: top;\n",
       "    }\n",
       "\n",
       "    .dataframe thead th {\n",
       "        text-align: right;\n",
       "    }\n",
       "</style>\n",
       "<table border=\"1\" class=\"dataframe\">\n",
       "  <thead>\n",
       "    <tr style=\"text-align: right;\">\n",
       "      <th></th>\n",
       "      <th>categoria_servicio</th>\n",
       "      <th>precio</th>\n",
       "    </tr>\n",
       "  </thead>\n",
       "  <tbody>\n",
       "    <tr>\n",
       "      <th>0</th>\n",
       "      <td>0</td>\n",
       "      <td>2.463855e+06</td>\n",
       "    </tr>\n",
       "    <tr>\n",
       "      <th>1</th>\n",
       "      <td>1</td>\n",
       "      <td>2.418452e+06</td>\n",
       "    </tr>\n",
       "    <tr>\n",
       "      <th>2</th>\n",
       "      <td>2</td>\n",
       "      <td>2.386840e+06</td>\n",
       "    </tr>\n",
       "    <tr>\n",
       "      <th>3</th>\n",
       "      <td>3</td>\n",
       "      <td>3.108522e+06</td>\n",
       "    </tr>\n",
       "    <tr>\n",
       "      <th>4</th>\n",
       "      <td>4</td>\n",
       "      <td>3.737360e+06</td>\n",
       "    </tr>\n",
       "    <tr>\n",
       "      <th>5</th>\n",
       "      <td>5</td>\n",
       "      <td>4.491317e+06</td>\n",
       "    </tr>\n",
       "  </tbody>\n",
       "</table>\n",
       "</div>"
      ],
      "text/plain": [
       "   categoria_servicio        precio\n",
       "0                   0  2.463855e+06\n",
       "1                   1  2.418452e+06\n",
       "2                   2  2.386840e+06\n",
       "3                   3  3.108522e+06\n",
       "4                   4  3.737360e+06\n",
       "5                   5  4.491317e+06"
      ]
     },
     "execution_count": 32,
     "metadata": {},
     "output_type": "execute_result"
    }
   ],
   "source": [
    "serviciovsprecio_df1 = df.loc[:,['categoria_servicio', 'precio']]\n",
    "serviciovsprecio_df = serviciovsprecio_df1.groupby('categoria_servicio')['precio'].agg('mean').reset_index()\n",
    "serviciovsprecio_df['categoria_servicio'] = serviciovsprecio_df['categoria_servicio'].astype(np.int8)\n",
    "serviciovsprecio_df"
   ]
  },
  {
   "cell_type": "code",
   "execution_count": null,
   "metadata": {},
   "outputs": [
    {
     "data": {
      "text/plain": [
       "categoria_servicio    5.000000e+00\n",
       "precio                4.491317e+06\n",
       "dtype: float64"
      ]
     },
     "execution_count": 33,
     "metadata": {},
     "output_type": "execute_result"
    }
   ],
   "source": [
    "serviciovsprecio_df.max()"
   ]
  },
  {
   "cell_type": "code",
   "execution_count": null,
   "metadata": {
    "scrolled": true
   },
   "outputs": [
    {
     "data": {
      "text/plain": [
       "categoria_servicio    0.000000e+00\n",
       "precio                2.386840e+06\n",
       "dtype: float64"
      ]
     },
     "execution_count": 34,
     "metadata": {},
     "output_type": "execute_result"
    }
   ],
   "source": [
    "serviciovsprecio_df.min()"
   ]
  },
  {
   "cell_type": "code",
   "execution_count": null,
   "metadata": {
    "scrolled": true
   },
   "outputs": [
    {
     "data": {
      "image/png": "[encoded data removed]",
      "text/plain": [
       "<Figure size 720x720 with 1 Axes>"
      ]
     },
     "metadata": {
      "needs_background": "light"
     },
     "output_type": "display_data"
    }
   ],
   "source": [
    "fig, ax1 = plt.subplots() # prepara un gráfico de matplotlib\n",
    "serviciovsprecio_df.plot(\"precio\", \"categoria_servicio\", kind=\"scatter\", ax=ax1, figsize=(10,10), color='purple')\n",
    "\n",
    "# realiza ajustes al gráfico con matplotlib:\n",
    "ax1.grid()\n",
    "ax1.set_xlabel(\"Precio\", fontsize=15)\n",
    "ax1.set_ylabel(\"Categoría del servicio\", fontsize=15)\n",
    "ax1.tick_params(labelsize=10, pad=10)\n",
    "fig.suptitle('Precio de las propiedades según la categoría de los servicios', fontsize=20)\n",
    "\n",
    "plt.savefig('/home/ailen-magali/Documentos/precio_por_categorias.png', bbox_inches = 'tight', pad_inches = 0.1)"
   ]
  },
  {
   "cell_type": "markdown",
   "metadata": {},
   "source": [
    "Precio dependiendo de la latitud y la longitud"
   ]
  },
  {
   "cell_type": "code",
   "execution_count": null,
   "metadata": {},
   "outputs": [],
   "source": [
    "df1 = df[['lng', 'lat', 'precio']]\n",
    "df2 = df1.loc[(df1['lng'] != 0) & (df1['lat'] != 0)]\n",
    "\n",
    "df3 = df2.loc[(df2['lat'] < 50) & (df2['lat'] > 13)\n",
    "                                &(df2['lng'] < -80) & (df2['lng'] > -120)]\n",
    "\n",
    "x = df3['lng']*10000\n",
    "y = df3['lat']*10000\n",
    "size = df3['precio']/10000\n",
    "colors = df3['precio']"
   ]
  },
  {
   "cell_type": "code",
   "execution_count": null,
   "metadata": {
    "scrolled": true
   },
   "outputs": [],
   "source": [
    "plt.figure(figsize=(25,15))\n",
    "plt.ylabel('Latitud', fontsize=15)\n",
    "plt.xlabel('Longitud', fontsize=15)\n",
    "plt.scatter(x, y, s=size, c=colors, cmap='coolwarm')\n",
    "plt.colorbar()\n",
    "\n",
    "plt.title('Precio por coordenadas', fontsize=20)\n",
    "\n",
    "plt.savefig('/home/ailen-magali/Documentos/precio_por_coordenadas.png', bbox_inches = 'tight', pad_inches = 0.1)\n",
    "\n",
    "plt.show()\n",
    "plt.clf()\n"
   ]
  },
  {
   "cell_type": "code",
   "execution_count": null,
   "metadata": {},
   "outputs": [],
   "source": [
    "df['año'] = pd.DatetimeIndex(df['fecha']).year.astype(np.int16)\n",
    "df_anio_precio = df[['año', 'precio']]"
   ]
  },
  {
   "cell_type": "markdown",
   "metadata": {},
   "source": [
    "Precio por fecha de publicación"
   ]
  },
  {
   "cell_type": "code",
   "execution_count": null,
   "metadata": {},
   "outputs": [],
   "source": [
    "plt.figure(figsize=(10,10))\n",
    "g = sns.boxplot(x=\"año\", y=\"precio\", data=df_anio_precio, palette=\"husl\", fliersize=1)\n",
    "g.set_title(\"Precio de las propiedades según año de publicación\", fontsize=25)\n",
    "g.set_xlabel(\"Precio\", fontsize=20)\n",
    "g.set_ylabel(\"Año publicación\", fontsize=20)\n",
    "\n",
    "plt.savefig('/home/ailen-magali/Documentos/precio_por_año.png', bbox_inches = 'tight', pad_inches = 0.1)"
   ]
  }
 ],
 "metadata": {
  "kernelspec": {
   "display_name": "Python 3",
   "language": "python",
   "name": "python3"
  },
  "language_info": {
   "codemirror_mode": {
    "name": "ipython",
    "version": 3
   },
   "file_extension": ".py",
   "mimetype": "text/x-python",
   "name": "python",
   "nbconvert_exporter": "python",
   "pygments_lexer": "ipython3",
   "version": "3.5.2"
  }
 },
 "nbformat": 4,
 "nbformat_minor": 2
}

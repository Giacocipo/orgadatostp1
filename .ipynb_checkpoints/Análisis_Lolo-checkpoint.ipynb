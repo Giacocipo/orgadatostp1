{
 "cells": [
  {
   "cell_type": "code",
   "execution_count": 29,
   "metadata": {},
   "outputs": [],
   "source": [
    "import numpy as np\n",
    "import pandas as pd\n",
    "import matplotlib.pyplot as plt\n",
    "\n",
    "df = pd.read_csv(\"train.csv\")"
   ]
  },
  {
   "cell_type": "code",
   "execution_count": 30,
   "metadata": {},
   "outputs": [
    {
     "data": {
      "text/html": [
       "<div>\n",
       "<style scoped>\n",
       "    .dataframe tbody tr th:only-of-type {\n",
       "        vertical-align: middle;\n",
       "    }\n",
       "\n",
       "    .dataframe tbody tr th {\n",
       "        vertical-align: top;\n",
       "    }\n",
       "\n",
       "    .dataframe thead th {\n",
       "        text-align: right;\n",
       "    }\n",
       "</style>\n",
       "<table border=\"1\" class=\"dataframe\">\n",
       "  <thead>\n",
       "    <tr style=\"text-align: right;\">\n",
       "      <th></th>\n",
       "      <th>id</th>\n",
       "      <th>titulo</th>\n",
       "      <th>descripcion</th>\n",
       "      <th>tipodepropiedad</th>\n",
       "      <th>direccion</th>\n",
       "      <th>ciudad</th>\n",
       "      <th>provincia</th>\n",
       "      <th>antiguedad</th>\n",
       "      <th>habitaciones</th>\n",
       "      <th>garages</th>\n",
       "      <th>...</th>\n",
       "      <th>idzona</th>\n",
       "      <th>lat</th>\n",
       "      <th>lng</th>\n",
       "      <th>fecha</th>\n",
       "      <th>gimnasio</th>\n",
       "      <th>usosmultiples</th>\n",
       "      <th>piscina</th>\n",
       "      <th>escuelascercanas</th>\n",
       "      <th>centroscomercialescercanos</th>\n",
       "      <th>precio</th>\n",
       "    </tr>\n",
       "  </thead>\n",
       "  <tbody>\n",
       "    <tr>\n",
       "      <th>0</th>\n",
       "      <td>254099</td>\n",
       "      <td>depto. tipo a-402</td>\n",
       "      <td>depto. interior de 80.15m2, consta de sala com...</td>\n",
       "      <td>Apartamento</td>\n",
       "      <td>Avenida Division del Norte 2005</td>\n",
       "      <td>Benito Juárez</td>\n",
       "      <td>Distrito Federal</td>\n",
       "      <td>NaN</td>\n",
       "      <td>2.0</td>\n",
       "      <td>1.0</td>\n",
       "      <td>...</td>\n",
       "      <td>23533.0</td>\n",
       "      <td>NaN</td>\n",
       "      <td>NaN</td>\n",
       "      <td>2015-08-23 00:00:00</td>\n",
       "      <td>0.0</td>\n",
       "      <td>0.0</td>\n",
       "      <td>0.0</td>\n",
       "      <td>0.0</td>\n",
       "      <td>0.0</td>\n",
       "      <td>2273000.0</td>\n",
       "    </tr>\n",
       "    <tr>\n",
       "      <th>1</th>\n",
       "      <td>53461</td>\n",
       "      <td>condominio horizontal en venta</td>\n",
       "      <td>&lt;p&gt;entre sonora y guerrero, atr&amp;aacute;s del h...</td>\n",
       "      <td>Casa en condominio</td>\n",
       "      <td>AV. MEXICO</td>\n",
       "      <td>La Magdalena Contreras</td>\n",
       "      <td>Distrito Federal</td>\n",
       "      <td>10.0</td>\n",
       "      <td>3.0</td>\n",
       "      <td>2.0</td>\n",
       "      <td>...</td>\n",
       "      <td>24514.0</td>\n",
       "      <td>19.310205</td>\n",
       "      <td>-99.227655</td>\n",
       "      <td>2013-06-28 00:00:00</td>\n",
       "      <td>0.0</td>\n",
       "      <td>0.0</td>\n",
       "      <td>0.0</td>\n",
       "      <td>1.0</td>\n",
       "      <td>1.0</td>\n",
       "      <td>3600000.0</td>\n",
       "    </tr>\n",
       "    <tr>\n",
       "      <th>2</th>\n",
       "      <td>247984</td>\n",
       "      <td>casa en venta urbi 3 recamaras tonala</td>\n",
       "      <td>descripcion \\nla mejor ubicacion residencial e...</td>\n",
       "      <td>Casa</td>\n",
       "      <td>Urbi Tonala</td>\n",
       "      <td>Tonalá</td>\n",
       "      <td>Jalisco</td>\n",
       "      <td>5.0</td>\n",
       "      <td>3.0</td>\n",
       "      <td>2.0</td>\n",
       "      <td>...</td>\n",
       "      <td>48551.0</td>\n",
       "      <td>NaN</td>\n",
       "      <td>NaN</td>\n",
       "      <td>2015-10-17 00:00:00</td>\n",
       "      <td>0.0</td>\n",
       "      <td>0.0</td>\n",
       "      <td>0.0</td>\n",
       "      <td>0.0</td>\n",
       "      <td>0.0</td>\n",
       "      <td>1200000.0</td>\n",
       "    </tr>\n",
       "    <tr>\n",
       "      <th>3</th>\n",
       "      <td>209067</td>\n",
       "      <td>casa sola en toluca zinacantepec con credito i...</td>\n",
       "      <td>casa en privada con caseta de vigilancia casas...</td>\n",
       "      <td>Casa</td>\n",
       "      <td>IGNACIO MANUEL ALTAMIRANO 128</td>\n",
       "      <td>Zinacantepec</td>\n",
       "      <td>Edo. de México</td>\n",
       "      <td>1.0</td>\n",
       "      <td>2.0</td>\n",
       "      <td>1.0</td>\n",
       "      <td>...</td>\n",
       "      <td>53666.0</td>\n",
       "      <td>19.301890</td>\n",
       "      <td>-99.688015</td>\n",
       "      <td>2012-03-09 00:00:00</td>\n",
       "      <td>0.0</td>\n",
       "      <td>0.0</td>\n",
       "      <td>0.0</td>\n",
       "      <td>1.0</td>\n",
       "      <td>1.0</td>\n",
       "      <td>650000.0</td>\n",
       "    </tr>\n",
       "    <tr>\n",
       "      <th>4</th>\n",
       "      <td>185997</td>\n",
       "      <td>paseos del sol</td>\n",
       "      <td>bonito departamento en excelentes condiciones ...</td>\n",
       "      <td>Apartamento</td>\n",
       "      <td>PASEOS DEL SOL</td>\n",
       "      <td>Zapopan</td>\n",
       "      <td>Jalisco</td>\n",
       "      <td>10.0</td>\n",
       "      <td>2.0</td>\n",
       "      <td>1.0</td>\n",
       "      <td>...</td>\n",
       "      <td>47835.0</td>\n",
       "      <td>NaN</td>\n",
       "      <td>NaN</td>\n",
       "      <td>2016-06-07 00:00:00</td>\n",
       "      <td>0.0</td>\n",
       "      <td>0.0</td>\n",
       "      <td>0.0</td>\n",
       "      <td>0.0</td>\n",
       "      <td>0.0</td>\n",
       "      <td>1150000.0</td>\n",
       "    </tr>\n",
       "  </tbody>\n",
       "</table>\n",
       "<p>5 rows × 23 columns</p>\n",
       "</div>"
      ],
      "text/plain": [
       "       id                                             titulo  \\\n",
       "0  254099                                  depto. tipo a-402   \n",
       "1   53461                     condominio horizontal en venta   \n",
       "2  247984              casa en venta urbi 3 recamaras tonala   \n",
       "3  209067  casa sola en toluca zinacantepec con credito i...   \n",
       "4  185997                                     paseos del sol   \n",
       "\n",
       "                                         descripcion     tipodepropiedad  \\\n",
       "0  depto. interior de 80.15m2, consta de sala com...         Apartamento   \n",
       "1  <p>entre sonora y guerrero, atr&aacute;s del h...  Casa en condominio   \n",
       "2  descripcion \\nla mejor ubicacion residencial e...                Casa   \n",
       "3  casa en privada con caseta de vigilancia casas...                Casa   \n",
       "4  bonito departamento en excelentes condiciones ...         Apartamento   \n",
       "\n",
       "                         direccion                  ciudad         provincia  \\\n",
       "0  Avenida Division del Norte 2005           Benito Juárez  Distrito Federal   \n",
       "1                       AV. MEXICO  La Magdalena Contreras  Distrito Federal   \n",
       "2                      Urbi Tonala                  Tonalá           Jalisco   \n",
       "3    IGNACIO MANUEL ALTAMIRANO 128            Zinacantepec    Edo. de México   \n",
       "4                  PASEOS DEL SOL                  Zapopan           Jalisco   \n",
       "\n",
       "   antiguedad  habitaciones  garages  ...   idzona        lat        lng  \\\n",
       "0         NaN           2.0      1.0  ...  23533.0        NaN        NaN   \n",
       "1        10.0           3.0      2.0  ...  24514.0  19.310205 -99.227655   \n",
       "2         5.0           3.0      2.0  ...  48551.0        NaN        NaN   \n",
       "3         1.0           2.0      1.0  ...  53666.0  19.301890 -99.688015   \n",
       "4        10.0           2.0      1.0  ...  47835.0        NaN        NaN   \n",
       "\n",
       "                 fecha  gimnasio  usosmultiples piscina  escuelascercanas  \\\n",
       "0  2015-08-23 00:00:00       0.0            0.0     0.0               0.0   \n",
       "1  2013-06-28 00:00:00       0.0            0.0     0.0               1.0   \n",
       "2  2015-10-17 00:00:00       0.0            0.0     0.0               0.0   \n",
       "3  2012-03-09 00:00:00       0.0            0.0     0.0               1.0   \n",
       "4  2016-06-07 00:00:00       0.0            0.0     0.0               0.0   \n",
       "\n",
       "   centroscomercialescercanos     precio  \n",
       "0                         0.0  2273000.0  \n",
       "1                         1.0  3600000.0  \n",
       "2                         0.0  1200000.0  \n",
       "3                         1.0   650000.0  \n",
       "4                         0.0  1150000.0  \n",
       "\n",
       "[5 rows x 23 columns]"
      ]
     },
     "execution_count": 30,
     "metadata": {},
     "output_type": "execute_result"
    }
   ],
   "source": [
    "df.head()"
   ]
  },
  {
   "cell_type": "code",
   "execution_count": 124,
   "metadata": {},
   "outputs": [
    {
     "name": "stdout",
     "output_type": "stream",
     "text": [
      "<class 'pandas.core.frame.DataFrame'>\n",
      "RangeIndex: 240000 entries, 0 to 239999\n",
      "Data columns (total 23 columns):\n",
      "id                            240000 non-null int64\n",
      "titulo                        234613 non-null object\n",
      "descripcion                   238381 non-null object\n",
      "tipodepropiedad               239954 non-null object\n",
      "direccion                     186928 non-null object\n",
      "ciudad                        239628 non-null object\n",
      "provincia                     239845 non-null object\n",
      "antiguedad                    196445 non-null float64\n",
      "habitaciones                  217529 non-null float64\n",
      "garages                       202235 non-null float64\n",
      "banos                         213779 non-null float64\n",
      "metroscubiertos               222600 non-null float64\n",
      "metrostotales                 188533 non-null float64\n",
      "idzona                        211379 non-null float64\n",
      "lat                           116512 non-null float64\n",
      "lng                           116512 non-null float64\n",
      "fecha                         240000 non-null object\n",
      "gimnasio                      240000 non-null float64\n",
      "usosmultiples                 240000 non-null float64\n",
      "piscina                       240000 non-null float64\n",
      "escuelascercanas              240000 non-null float64\n",
      "centroscomercialescercanos    240000 non-null float64\n",
      "precio                        240000 non-null float64\n",
      "dtypes: float64(15), int64(1), object(7)\n",
      "memory usage: 42.1+ MB\n"
     ]
    }
   ],
   "source": [
    "df.info()"
   ]
  },
  {
   "cell_type": "code",
   "execution_count": 125,
   "metadata": {},
   "outputs": [
    {
     "data": {
      "text/plain": [
       "0.0    133406\n",
       "1.0    106594\n",
       "Name: escuelascercanas, dtype: int64"
      ]
     },
     "execution_count": 125,
     "metadata": {},
     "output_type": "execute_result"
    }
   ],
   "source": [
    "df['escuelascercanas'].value_counts()"
   ]
  },
  {
   "cell_type": "code",
   "execution_count": 126,
   "metadata": {},
   "outputs": [
    {
     "data": {
      "text/plain": [
       "0.0    219028\n",
       "1.0     20972\n",
       "Name: piscina, dtype: int64"
      ]
     },
     "execution_count": 126,
     "metadata": {},
     "output_type": "execute_result"
    }
   ],
   "source": [
    "df['piscina'].value_counts()"
   ]
  },
  {
   "cell_type": "code",
   "execution_count": 127,
   "metadata": {},
   "outputs": [
    {
     "data": {
      "text/plain": [
       "0.0    144832\n",
       "1.0     95168\n",
       "Name: centroscomercialescercanos, dtype: int64"
      ]
     },
     "execution_count": 127,
     "metadata": {},
     "output_type": "execute_result"
    }
   ],
   "source": [
    "df['centroscomercialescercanos'].value_counts() "
   ]
  },
  {
   "cell_type": "code",
   "execution_count": 128,
   "metadata": {},
   "outputs": [
    {
     "data": {
      "text/plain": [
       "0.0    225006\n",
       "1.0     14994\n",
       "Name: gimnasio, dtype: int64"
      ]
     },
     "execution_count": 128,
     "metadata": {},
     "output_type": "execute_result"
    }
   ],
   "source": [
    "df['gimnasio'].value_counts()"
   ]
  },
  {
   "cell_type": "code",
   "execution_count": 129,
   "metadata": {},
   "outputs": [
    {
     "data": {
      "text/plain": [
       "0.0    226778\n",
       "1.0     13222\n",
       "Name: usosmultiples, dtype: int64"
      ]
     },
     "execution_count": 129,
     "metadata": {},
     "output_type": "execute_result"
    }
   ],
   "source": [
    "df['usosmultiples'].value_counts()"
   ]
  },
  {
   "cell_type": "code",
   "execution_count": 130,
   "metadata": {},
   "outputs": [
    {
     "data": {
      "text/plain": [
       "1500000.0     3041\n",
       "2500000.0     3036\n",
       "1200000.0     2909\n",
       "3500000.0     2726\n",
       "1300000.0     2480\n",
       "2200000.0     2420\n",
       "1100000.0     2394\n",
       "1800000.0     2290\n",
       "1600000.0     2217\n",
       "850000.0      2192\n",
       "750000.0      2163\n",
       "1250000.0     2159\n",
       "2300000.0     2108\n",
       "1350000.0     2103\n",
       "650000.0      2061\n",
       "3200000.0     2054\n",
       "4500000.0     2040\n",
       "2000000.0     1904\n",
       "950000.0      1867\n",
       "1650000.0     1865\n",
       "2800000.0     1863\n",
       "1400000.0     1850\n",
       "550000.0      1820\n",
       "2100000.0     1802\n",
       "3000000.0     1791\n",
       "1700000.0     1763\n",
       "1850000.0     1760\n",
       "2600000.0     1735\n",
       "1150000.0     1722\n",
       "1750000.0     1702\n",
       "              ... \n",
       "10807000.0       1\n",
       "468778.0         1\n",
       "675411.0         1\n",
       "468768.0         1\n",
       "7500250.0        1\n",
       "10815000.0       1\n",
       "3752490.0        1\n",
       "469105.0         1\n",
       "338144.0         1\n",
       "1352990.0        1\n",
       "938630.0         1\n",
       "10822700.0       1\n",
       "2705670.0        1\n",
       "1877000.0        1\n",
       "407500.0         1\n",
       "1352610.0        1\n",
       "676300.0         1\n",
       "2705184.0        1\n",
       "938426.0         1\n",
       "1876500.0        1\n",
       "1352560.0        1\n",
       "469208.0         1\n",
       "1352520.0        1\n",
       "469200.0         1\n",
       "5410000.0        1\n",
       "2704600.0        1\n",
       "1352250.0        1\n",
       "938260.0         1\n",
       "2704460.0        1\n",
       "2327000.0        1\n",
       "Name: precio, Length: 15520, dtype: int64"
      ]
     },
     "execution_count": 130,
     "metadata": {},
     "output_type": "execute_result"
    }
   ],
   "source": [
    "df['precio'].value_counts()"
   ]
  },
  {
   "cell_type": "code",
   "execution_count": 131,
   "metadata": {},
   "outputs": [
    {
     "name": "stdout",
     "output_type": "stream",
     "text": [
      "<class 'pandas.core.frame.DataFrame'>\n",
      "RangeIndex: 240000 entries, 0 to 239999\n",
      "Data columns (total 23 columns):\n",
      "id                            240000 non-null int64\n",
      "titulo                        234613 non-null object\n",
      "descripcion                   238381 non-null object\n",
      "tipodepropiedad               239954 non-null object\n",
      "direccion                     186928 non-null object\n",
      "ciudad                        239628 non-null object\n",
      "provincia                     239845 non-null object\n",
      "antiguedad                    196445 non-null float64\n",
      "habitaciones                  217529 non-null float64\n",
      "garages                       202235 non-null float64\n",
      "banos                         213779 non-null float64\n",
      "metroscubiertos               222600 non-null float64\n",
      "metrostotales                 188533 non-null float64\n",
      "idzona                        211379 non-null float64\n",
      "lat                           116512 non-null float64\n",
      "lng                           116512 non-null float64\n",
      "fecha                         240000 non-null datetime64[ns]\n",
      "gimnasio                      240000 non-null int8\n",
      "usosmultiples                 240000 non-null int8\n",
      "piscina                       240000 non-null int8\n",
      "escuelascercanas              240000 non-null int8\n",
      "centroscomercialescercanos    240000 non-null int8\n",
      "precio                        240000 non-null float64\n",
      "dtypes: datetime64[ns](1), float64(10), int64(1), int8(5), object(6)\n",
      "memory usage: 34.1+ MB\n"
     ]
    }
   ],
   "source": [
    "#NUMERICOS ENTEROS QUE ERAN INNECESARIAMENTE FLOAT\n",
    "#------------------------------------------------#\n",
    "\n",
    "#NUMERICOS QUE SOLO SON CERO O UNO\n",
    "df['usosmultiples'] = df['usosmultiples'].astype(np.int8)\n",
    "df['piscina'] = df['piscina'].astype(np.int8)\n",
    "df['gimnasio'] = df['gimnasio'].astype(np.int8)\n",
    "df['escuelascercanas'] = df['escuelascercanas'].astype(np.int8)\n",
    "df['centroscomercialescercanos'] = df['centroscomercialescercanos'].astype(np.int8)\n",
    "\n",
    "\n",
    "#FECHA DE PUBLICACION A DATETIME\n",
    "df['fecha'] = pd.to_datetime(df['fecha'])\n",
    "\n",
    "\n",
    "# A estos hay que limpiarles los inf y los NaN antes de convertir a int\n",
    "\n",
    "#df['antiguedad'] = df.antiguedad.astype('int64')\n",
    "#df['garages'] = df.garages.astype('int64')\n",
    "#df['habitaciones'] = df.habitaciones.astype('int64')\n",
    "#df['metrostotales'] = df.metrostotales.astype('int64')\n",
    "#df['metroscubiertos'] = df.metroscubiertos.astype('int64')\n",
    "#df['idzona'] = df.idzona.astype('int64')\n",
    "\n",
    "df.info()"
   ]
  },
  {
   "cell_type": "code",
   "execution_count": 22,
   "metadata": {},
   "outputs": [
    {
     "data": {
      "text/plain": [
       "0"
      ]
     },
     "execution_count": 22,
     "metadata": {},
     "output_type": "execute_result"
    }
   ],
   "source": [
    "# A estos hay que limpiarles los inf y los NaN antes de convertir a int\n",
    "#df['antiguedad'] = df.antiguedad.astype('int64')\n",
    "#df['garages'] = df.garages.astype('int64')\n",
    "#df['habitaciones'] = df.habitaciones.astype('int64')\n",
    "#df['metrostotales'] = df.metrostotales.astype('int64')\n",
    "#df['metroscubiertos'] = df.metroscubiertos.astype('int64')\n",
    "#df['idzona'] = df.idzona.astype('int64')"
   ]
  },
  {
   "cell_type": "code",
   "execution_count": 16,
   "metadata": {},
   "outputs": [
    {
     "data": {
      "text/plain": [
       "id                             0.000000\n",
       "titulo                         2.244583\n",
       "descripcion                    0.674583\n",
       "tipodepropiedad                0.019167\n",
       "direccion                     22.113333\n",
       "ciudad                         0.155000\n",
       "provincia                      0.064583\n",
       "antiguedad                    18.147917\n",
       "habitaciones                   9.362917\n",
       "garages                       15.735417\n",
       "banos                         10.925417\n",
       "metroscubiertos                7.250000\n",
       "metrostotales                 21.444583\n",
       "idzona                        11.925417\n",
       "lat                           51.453333\n",
       "lng                           51.453333\n",
       "fecha                          0.000000\n",
       "gimnasio                       0.000000\n",
       "usosmultiples                  0.000000\n",
       "piscina                        0.000000\n",
       "escuelascercanas               0.000000\n",
       "centroscomercialescercanos     0.000000\n",
       "precio                         0.000000\n",
       "dtype: float64"
      ]
     },
     "execution_count": 16,
     "metadata": {},
     "output_type": "execute_result"
    }
   ],
   "source": [
    "# Porcentaje de NaN's por columna, sabiendo que existen 240.000 filas\n",
    "df.isnull().sum() / 240000 * 100"
   ]
  },
  {
   "cell_type": "code",
   "execution_count": 20,
   "metadata": {},
   "outputs": [
    {
     "data": {
      "text/plain": [
       "provincia        0.064583\n",
       "ciudad           0.155000\n",
       "habitaciones     9.362917\n",
       "garages         15.735417\n",
       "dtype: float64"
      ]
     },
     "execution_count": 20,
     "metadata": {},
     "output_type": "execute_result"
    }
   ],
   "source": [
    "dropdown_categories = df.loc[:,['provincia','ciudad','habitaciones','garages','tipo_de_propiedad']]\n",
    "dropdown_categories.isnull().sum() / 240000 * 100"
   ]
  },
  {
   "cell_type": "code",
   "execution_count": 113,
   "metadata": {},
   "outputs": [
    {
     "data": {
      "text/html": [
       "<div>\n",
       "<style scoped>\n",
       "    .dataframe tbody tr th:only-of-type {\n",
       "        vertical-align: middle;\n",
       "    }\n",
       "\n",
       "    .dataframe tbody tr th {\n",
       "        vertical-align: top;\n",
       "    }\n",
       "\n",
       "    .dataframe thead th {\n",
       "        text-align: right;\n",
       "    }\n",
       "</style>\n",
       "<table border=\"1\" class=\"dataframe\">\n",
       "  <thead>\n",
       "    <tr style=\"text-align: right;\">\n",
       "      <th></th>\n",
       "      <th>anio</th>\n",
       "      <th>titulo</th>\n",
       "      <th>direccion</th>\n",
       "      <th>antiguedad</th>\n",
       "      <th>habitaciones</th>\n",
       "      <th>garages</th>\n",
       "      <th>banos</th>\n",
       "      <th>metrostotales</th>\n",
       "      <th>lat</th>\n",
       "      <th>lng</th>\n",
       "      <th>totales</th>\n",
       "    </tr>\n",
       "  </thead>\n",
       "  <tbody>\n",
       "    <tr>\n",
       "      <th>0</th>\n",
       "      <td>2012</td>\n",
       "      <td>0.113325</td>\n",
       "      <td>0.106059</td>\n",
       "      <td>0.002550</td>\n",
       "      <td>0.089658</td>\n",
       "      <td>0.087788</td>\n",
       "      <td>0.103467</td>\n",
       "      <td>0.290728</td>\n",
       "      <td>0.599091</td>\n",
       "      <td>0.599091</td>\n",
       "      <td>23534</td>\n",
       "    </tr>\n",
       "    <tr>\n",
       "      <th>1</th>\n",
       "      <td>2013</td>\n",
       "      <td>0.019516</td>\n",
       "      <td>0.258573</td>\n",
       "      <td>0.014711</td>\n",
       "      <td>0.088100</td>\n",
       "      <td>0.081189</td>\n",
       "      <td>0.101231</td>\n",
       "      <td>0.257421</td>\n",
       "      <td>0.346837</td>\n",
       "      <td>0.346837</td>\n",
       "      <td>30386</td>\n",
       "    </tr>\n",
       "    <tr>\n",
       "      <th>2</th>\n",
       "      <td>2014</td>\n",
       "      <td>0.026274</td>\n",
       "      <td>0.265158</td>\n",
       "      <td>0.239254</td>\n",
       "      <td>0.103865</td>\n",
       "      <td>0.131593</td>\n",
       "      <td>0.110815</td>\n",
       "      <td>0.219092</td>\n",
       "      <td>0.586784</td>\n",
       "      <td>0.586784</td>\n",
       "      <td>40572</td>\n",
       "    </tr>\n",
       "    <tr>\n",
       "      <th>3</th>\n",
       "      <td>2015</td>\n",
       "      <td>0.012260</td>\n",
       "      <td>0.295162</td>\n",
       "      <td>0.283058</td>\n",
       "      <td>0.091296</td>\n",
       "      <td>0.151817</td>\n",
       "      <td>0.109540</td>\n",
       "      <td>0.192656</td>\n",
       "      <td>0.587216</td>\n",
       "      <td>0.587216</td>\n",
       "      <td>51470</td>\n",
       "    </tr>\n",
       "    <tr>\n",
       "      <th>4</th>\n",
       "      <td>2016</td>\n",
       "      <td>0.004573</td>\n",
       "      <td>0.178322</td>\n",
       "      <td>0.199621</td>\n",
       "      <td>0.093271</td>\n",
       "      <td>0.213520</td>\n",
       "      <td>0.112465</td>\n",
       "      <td>0.191391</td>\n",
       "      <td>0.476605</td>\n",
       "      <td>0.476605</td>\n",
       "      <td>94038</td>\n",
       "    </tr>\n",
       "  </tbody>\n",
       "</table>\n",
       "</div>"
      ],
      "text/plain": [
       "   anio    titulo  direccion  antiguedad  habitaciones   garages     banos  \\\n",
       "0  2012  0.113325   0.106059    0.002550      0.089658  0.087788  0.103467   \n",
       "1  2013  0.019516   0.258573    0.014711      0.088100  0.081189  0.101231   \n",
       "2  2014  0.026274   0.265158    0.239254      0.103865  0.131593  0.110815   \n",
       "3  2015  0.012260   0.295162    0.283058      0.091296  0.151817  0.109540   \n",
       "4  2016  0.004573   0.178322    0.199621      0.093271  0.213520  0.112465   \n",
       "\n",
       "   metrostotales       lat       lng  totales  \n",
       "0       0.290728  0.599091  0.599091    23534  \n",
       "1       0.257421  0.346837  0.346837    30386  \n",
       "2       0.219092  0.586784  0.586784    40572  \n",
       "3       0.192656  0.587216  0.587216    51470  \n",
       "4       0.191391  0.476605  0.476605    94038  "
      ]
     },
     "execution_count": 113,
     "metadata": {},
     "output_type": "execute_result"
    }
   ],
   "source": [
    "# Voy a estudiar el % de completitud de las categorias de interes a lo largo del tiempo\n",
    "df['fecha'] = pd.to_datetime(df['fecha'])\n",
    "\n",
    "nulos_por_anio = df.drop(['descripcion','tipodepropiedad','ciudad','provincia','metroscubiertos'\n",
    "                          ,'gimnasio','usosmultiples','piscina','escuelascercanas'\n",
    "                          ,'centroscomercialescercanos','precio', 'idzona', 'id', 'fecha'],1)\n",
    "\n",
    "nulos_por_anio['anio'] = df['fecha'].dt.year\n",
    "nulos_por_anio.head()\n",
    "\n",
    "def contar_nulos(serie):\n",
    "    \n",
    "    serie = serie.apply(lambda x: 1 if pd.isnull(x) else 0)#.apply(hacer_dos)\n",
    "    return np.sum(serie)\n",
    "    \n",
    "nulos_por_anio_cat = nulos_por_anio.groupby('anio').agg(contar_nulos).reset_index()\n",
    "totales_por_anio = nulos_por_anio.groupby('anio')['lat'].agg(len).reset_index()\n",
    "totales_por_anio = totales_por_anio.rename(columns={'lat' : 'totales'})\n",
    "\n",
    "pct_nulos_por_anio_cat = pd.merge(nulos_por_anio_cat, totales_por_anio, on = 'anio', how = 'inner')\n",
    "\n",
    "def sacar_porcentaje(serie):\n",
    "    \n",
    "    copia_anios = serie['anio']\n",
    "    copia_totales = serie['totales']\n",
    "    serie_porcentual = serie / copia_totales\n",
    "    \n",
    "    serie_porcentual['anio'] = copia_anios\n",
    "    serie_porcentual['totales'] = copia_totales\n",
    "    \n",
    "    return serie_porcentual\n",
    "\n",
    "pct_nulos_por_anio_cat = pct_nulos_por_anio_cat.apply(sacar_porcentaje, axis = 1)\n",
    "pct_nulos_por_anio_cat['anio'] = pct_nulos_por_anio_cat['anio'].astype(np.int32)\n",
    "pct_nulos_por_anio_cat['totales'] = pct_nulos_por_anio_cat['totales'].astype(np.int32)\n",
    "pct_nulos_por_anio_cat.head()\n",
    "#nulos_por_anio_cat.head()\n",
    "\n",
    "\n",
    "#nulos_por_anio.groupby('anio').\n",
    "#nulos_por_anio.isnull().sum() / 240000 * 100\n",
    "#df2['direccion'] = df['direccion']\n",
    "#df2['metros_totales'] = df['metros_totales']\n",
    "#df2['year'] = df['fecha']#.dt.year \n"
   ]
  },
  {
   "cell_type": "code",
   "execution_count": 77,
   "metadata": {},
   "outputs": [
    {
     "data": {
      "text/plain": [
       "id                    0\n",
       "titulo             5387\n",
       "direccion         53072\n",
       "antiguedad        43555\n",
       "habitaciones      22471\n",
       "garages           37765\n",
       "banos             26221\n",
       "metrostotales     51467\n",
       "lat              123488\n",
       "lng              123488\n",
       "fecha                 0\n",
       "anio                  0\n",
       "dtype: int64"
      ]
     },
     "execution_count": 77,
     "metadata": {},
     "output_type": "execute_result"
    }
   ],
   "source": [
    "nulos_por_anio.isnull().sum()"
   ]
  },
  {
   "cell_type": "code",
   "execution_count": null,
   "metadata": {},
   "outputs": [],
   "source": []
  }
 ],
 "metadata": {
  "kernelspec": {
   "display_name": "Python 2",
   "language": "python",
   "name": "python2"
  },
  "language_info": {
   "codemirror_mode": {
    "name": "ipython",
    "version": 2
   },
   "file_extension": ".py",
   "mimetype": "text/x-python",
   "name": "python",
   "nbconvert_exporter": "python",
   "pygments_lexer": "ipython2",
   "version": "2.7.15+"
  }
 },
 "nbformat": 4,
 "nbformat_minor": 2
}
